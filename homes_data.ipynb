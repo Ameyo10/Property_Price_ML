{
 "cells": [
  {
   "cell_type": "code",
   "execution_count": null,
   "id": "1d0d07d1-89cb-4fd4-a0fb-7fb39148a425",
   "metadata": {},
   "outputs": [],
   "source": [
    "import numpy as np\n",
    "import pandas as pd\n",
    "import matplotlib.pyplot as plt\n",
    "\n",
    "%matplotlib inline\n",
    "import seaborn as sns\n",
    "sns.set()\n",
    "import plotly.express as px\n",
    "import plotly.graph_objects as pgo\n",
    "pd.set_option('display.max_columns',80)"
   ]
  },
  {
   "cell_type": "code",
   "execution_count": null,
   "id": "65056676-e0cc-40c3-9e53-5be3cf08b3c1",
   "metadata": {},
   "outputs": [],
   "source": [
    "sample=pd.read_csv('./data/sample_submission.csv')\n",
    "train=pd.read_csv('./train.csv')\n",
    "\n",
    "\n",
    "# train.info()\n",
    "# df=pd.read_csv('./csv_data/homes/test.csv')\n",
    "train.drop(columns=['PoolQC'],inplace=True)"
   ]
  },
  {
   "cell_type": "code",
   "execution_count": null,
   "id": "ea5a1b27-e196-4937-a70c-936134b9ee75",
   "metadata": {},
   "outputs": [],
   "source": [
    "# numeric_df = train.select_dtypes(include=[\"number\"])\n",
    "# corr_matrix = numeric_df.corr()\n",
    "# print(corr_matrix[\"SalePrice\"].sort_values(ascending=False).head(10))\n",
    "numeric_col=train.select_dtypes(include=['number']).columns[0:]\n",
    "catergle_col=train.select_dtypes(include=['object']).columns[0:]"
   ]
  },
  {
   "cell_type": "code",
   "execution_count": null,
   "id": "e3aefbd4-a897-414b-9f89-343a2d0cb709",
   "metadata": {},
   "outputs": [],
   "source": [
    "numeric_mean=train[numeric_col].mean()\n",
    "\n",
    "train[numeric_col]=train[numeric_col].fillna(numeric_mean)\n",
    "train[catergle_col]=train[catergle_col].fillna('NA')"
   ]
  },
  {
   "cell_type": "code",
   "execution_count": null,
   "id": "e9cc081a-2c7d-446f-9184-0f8a421e6635",
   "metadata": {},
   "outputs": [
    {
     "name": "stdout",
     "output_type": "stream",
     "text": [
      "{'OverallQual': 0.7909816005838053, 'YearBuilt': 0.5228973328794967, 'YearRemodAdd': 0.5071009671113866, 'TotalBsmtSF': 0.6135805515591943, '1stFlrSF': 0.6058521846919153, 'GrLivArea': 0.7086244776126515, 'FullBath': 0.5606637627484453, 'TotRmsAbvGrd': 0.5337231555820284, 'GarageCars': 0.6404091972583519, 'GarageArea': 0.6234314389183622}\n"
     ]
    }
   ],
   "source": [
    "dummies=pd.get_dummies( train[categrcol],drop_first=True).join(train[numeric])\n",
    "corr_with =dummies.corr()\n",
    "salePrice_corr=corr_with['SalePrice']\n",
    "# salePrice_corr.sort_values(ascending=False).head(10)\n",
    "imp_feature={}\n",
    "for feature , corr in salePrice_corr.items():\n",
    "    if corr > 0.5 and feature !='SalePrice':\n",
    "        imp_feature[feature]=corr\n",
    "print(imp_feature)"
   ]
  },
  {
   "cell_type": "code",
   "execution_count": null,
   "id": "385e4c64-1408-4b92-b953-69c40d3b03a0",
   "metadata": {},
   "outputs": [],
   "source": []
  },
  {
   "cell_type": "code",
   "execution_count": null,
   "id": "52b727ba-066b-4129-b1f7-f456bd43803d",
   "metadata": {},
   "outputs": [
    {
     "data": {
      "text/plain": [
       "Id              0\n",
       "MSSubClass      0\n",
       "GarageType      0\n",
       "FireplaceQu     0\n",
       "Fireplaces      0\n",
       "Functional      0\n",
       "TotRmsAbvGrd    0\n",
       "KitchenQual     0\n",
       "KitchenAbvGr    0\n",
       "BedroomAbvGr    0\n",
       "HalfBath        0\n",
       "FullBath        0\n",
       "BsmtHalfBath    0\n",
       "BsmtFullBath    0\n",
       "GrLivArea       0\n",
       "LowQualFinSF    0\n",
       "2ndFlrSF        0\n",
       "1stFlrSF        0\n",
       "Electrical      0\n",
       "GarageYrBlt     0\n",
       "dtype: int64"
      ]
     },
     "execution_count": 239,
     "metadata": {},
     "output_type": "execute_result"
    }
   ],
   "source": [
    "train.isna().sum().sort_values(ascending=False).head(20)\n"
   ]
  },
  {
   "cell_type": "code",
   "execution_count": null,
   "id": "25d54c00-e028-4ceb-8627-4b51591cc3d9",
   "metadata": {},
   "outputs": [
    {
     "name": "stdout",
     "output_type": "stream",
     "text": [
      "<class 'pandas.core.frame.DataFrame'>\n",
      "RangeIndex: 1460 entries, 0 to 1459\n",
      "Data columns (total 80 columns):\n",
      " #   Column         Non-Null Count  Dtype  \n",
      "---  ------         --------------  -----  \n",
      " 0   Id             1460 non-null   int64  \n",
      " 1   MSSubClass     1460 non-null   int64  \n",
      " 2   MSZoning       1460 non-null   object \n",
      " 3   LotFrontage    1460 non-null   float64\n",
      " 4   LotArea        1460 non-null   int64  \n",
      " 5   Street         1460 non-null   object \n",
      " 6   Alley          1460 non-null   object \n",
      " 7   LotShape       1460 non-null   object \n",
      " 8   LandContour    1460 non-null   object \n",
      " 9   Utilities      1460 non-null   object \n",
      " 10  LotConfig      1460 non-null   object \n",
      " 11  LandSlope      1460 non-null   object \n",
      " 12  Neighborhood   1460 non-null   object \n",
      " 13  Condition1     1460 non-null   object \n",
      " 14  Condition2     1460 non-null   object \n",
      " 15  BldgType       1460 non-null   object \n",
      " 16  HouseStyle     1460 non-null   object \n",
      " 17  OverallQual    1460 non-null   int64  \n",
      " 18  OverallCond    1460 non-null   int64  \n",
      " 19  YearBuilt      1460 non-null   int64  \n",
      " 20  YearRemodAdd   1460 non-null   int64  \n",
      " 21  RoofStyle      1460 non-null   object \n",
      " 22  RoofMatl       1460 non-null   object \n",
      " 23  Exterior1st    1460 non-null   object \n",
      " 24  Exterior2nd    1460 non-null   object \n",
      " 25  MasVnrType     1460 non-null   object \n",
      " 26  MasVnrArea     1460 non-null   float64\n",
      " 27  ExterQual      1460 non-null   object \n",
      " 28  ExterCond      1460 non-null   object \n",
      " 29  Foundation     1460 non-null   object \n",
      " 30  BsmtQual       1460 non-null   object \n",
      " 31  BsmtCond       1460 non-null   object \n",
      " 32  BsmtExposure   1460 non-null   object \n",
      " 33  BsmtFinType1   1460 non-null   object \n",
      " 34  BsmtFinSF1     1460 non-null   int64  \n",
      " 35  BsmtFinType2   1460 non-null   object \n",
      " 36  BsmtFinSF2     1460 non-null   int64  \n",
      " 37  BsmtUnfSF      1460 non-null   int64  \n",
      " 38  TotalBsmtSF    1460 non-null   int64  \n",
      " 39  Heating        1460 non-null   object \n",
      " 40  HeatingQC      1460 non-null   object \n",
      " 41  CentralAir     1460 non-null   object \n",
      " 42  Electrical     1460 non-null   object \n",
      " 43  1stFlrSF       1460 non-null   int64  \n",
      " 44  2ndFlrSF       1460 non-null   int64  \n",
      " 45  LowQualFinSF   1460 non-null   int64  \n",
      " 46  GrLivArea      1460 non-null   int64  \n",
      " 47  BsmtFullBath   1460 non-null   int64  \n",
      " 48  BsmtHalfBath   1460 non-null   int64  \n",
      " 49  FullBath       1460 non-null   int64  \n",
      " 50  HalfBath       1460 non-null   int64  \n",
      " 51  BedroomAbvGr   1460 non-null   int64  \n",
      " 52  KitchenAbvGr   1460 non-null   int64  \n",
      " 53  KitchenQual    1460 non-null   object \n",
      " 54  TotRmsAbvGrd   1460 non-null   int64  \n",
      " 55  Functional     1460 non-null   object \n",
      " 56  Fireplaces     1460 non-null   int64  \n",
      " 57  FireplaceQu    1460 non-null   object \n",
      " 58  GarageType     1460 non-null   object \n",
      " 59  GarageYrBlt    1460 non-null   float64\n",
      " 60  GarageFinish   1460 non-null   object \n",
      " 61  GarageCars     1460 non-null   int64  \n",
      " 62  GarageArea     1460 non-null   int64  \n",
      " 63  GarageQual     1460 non-null   object \n",
      " 64  GarageCond     1460 non-null   object \n",
      " 65  PavedDrive     1460 non-null   object \n",
      " 66  WoodDeckSF     1460 non-null   int64  \n",
      " 67  OpenPorchSF    1460 non-null   int64  \n",
      " 68  EnclosedPorch  1460 non-null   int64  \n",
      " 69  3SsnPorch      1460 non-null   int64  \n",
      " 70  ScreenPorch    1460 non-null   int64  \n",
      " 71  PoolArea       1460 non-null   int64  \n",
      " 72  Fence          1460 non-null   object \n",
      " 73  MiscFeature    1460 non-null   object \n",
      " 74  MiscVal        1460 non-null   int64  \n",
      " 75  MoSold         1460 non-null   int64  \n",
      " 76  YrSold         1460 non-null   int64  \n",
      " 77  SaleType       1460 non-null   object \n",
      " 78  SaleCondition  1460 non-null   object \n",
      " 79  SalePrice      1460 non-null   int64  \n",
      "dtypes: float64(3), int64(35), object(42)\n",
      "memory usage: 912.6+ KB\n"
     ]
    }
   ],
   "source": [
    "train.info()"
   ]
  },
  {
   "cell_type": "code",
   "execution_count": null,
   "id": "3e77bba0-74fe-441a-893f-88a2d4774c05",
   "metadata": {},
   "outputs": [],
   "source": []
  },
  {
   "cell_type": "code",
   "execution_count": null,
   "id": "97221464-ae82-429c-9f6b-3be19a9276ba",
   "metadata": {},
   "outputs": [],
   "source": []
  },
  {
   "cell_type": "code",
   "execution_count": null,
   "id": "6ec41399-48b5-45a7-86db-7c7536ef4b66",
   "metadata": {},
   "outputs": [],
   "source": []
  },
  {
   "cell_type": "code",
   "execution_count": null,
   "id": "2fd7d259-0d27-4b21-a14f-387e348f9834",
   "metadata": {},
   "outputs": [],
   "source": []
  },
  {
   "cell_type": "code",
   "execution_count": null,
   "id": "f6c7c394-a13d-410e-abbf-cccef9f73ee6",
   "metadata": {},
   "outputs": [
    {
     "name": "stdout",
     "output_type": "stream",
     "text": [
      "<class 'pandas.core.frame.DataFrame'>\n",
      "RangeIndex: 1460 entries, 0 to 1459\n",
      "Data columns (total 80 columns):\n",
      " #   Column         Non-Null Count  Dtype  \n",
      "---  ------         --------------  -----  \n",
      " 0   Id             1460 non-null   int64  \n",
      " 1   MSSubClass     1460 non-null   int64  \n",
      " 2   MSZoning       1460 non-null   object \n",
      " 3   LotFrontage    1460 non-null   float64\n",
      " 4   LotArea        1460 non-null   int64  \n",
      " 5   Street         1460 non-null   object \n",
      " 6   Alley          1460 non-null   object \n",
      " 7   LotShape       1460 non-null   object \n",
      " 8   LandContour    1460 non-null   object \n",
      " 9   Utilities      1460 non-null   object \n",
      " 10  LotConfig      1460 non-null   object \n",
      " 11  LandSlope      1460 non-null   object \n",
      " 12  Neighborhood   1460 non-null   object \n",
      " 13  Condition1     1460 non-null   object \n",
      " 14  Condition2     1460 non-null   object \n",
      " 15  BldgType       1460 non-null   object \n",
      " 16  HouseStyle     1460 non-null   object \n",
      " 17  OverallQual    1460 non-null   int64  \n",
      " 18  OverallCond    1460 non-null   int64  \n",
      " 19  YearBuilt      1460 non-null   int64  \n",
      " 20  YearRemodAdd   1460 non-null   int64  \n",
      " 21  RoofStyle      1460 non-null   object \n",
      " 22  RoofMatl       1460 non-null   object \n",
      " 23  Exterior1st    1460 non-null   object \n",
      " 24  Exterior2nd    1460 non-null   object \n",
      " 25  MasVnrType     1460 non-null   object \n",
      " 26  MasVnrArea     1460 non-null   float64\n",
      " 27  ExterQual      1460 non-null   object \n",
      " 28  ExterCond      1460 non-null   object \n",
      " 29  Foundation     1460 non-null   object \n",
      " 30  BsmtQual       1460 non-null   object \n",
      " 31  BsmtCond       1460 non-null   object \n",
      " 32  BsmtExposure   1460 non-null   object \n",
      " 33  BsmtFinType1   1460 non-null   object \n",
      " 34  BsmtFinSF1     1460 non-null   int64  \n",
      " 35  BsmtFinType2   1460 non-null   object \n",
      " 36  BsmtFinSF2     1460 non-null   int64  \n",
      " 37  BsmtUnfSF      1460 non-null   int64  \n",
      " 38  TotalBsmtSF    1460 non-null   int64  \n",
      " 39  Heating        1460 non-null   object \n",
      " 40  HeatingQC      1460 non-null   object \n",
      " 41  CentralAir     1460 non-null   object \n",
      " 42  Electrical     1460 non-null   object \n",
      " 43  1stFlrSF       1460 non-null   int64  \n",
      " 44  2ndFlrSF       1460 non-null   int64  \n",
      " 45  LowQualFinSF   1460 non-null   int64  \n",
      " 46  GrLivArea      1460 non-null   int64  \n",
      " 47  BsmtFullBath   1460 non-null   int64  \n",
      " 48  BsmtHalfBath   1460 non-null   int64  \n",
      " 49  FullBath       1460 non-null   int64  \n",
      " 50  HalfBath       1460 non-null   int64  \n",
      " 51  BedroomAbvGr   1460 non-null   int64  \n",
      " 52  KitchenAbvGr   1460 non-null   int64  \n",
      " 53  KitchenQual    1460 non-null   object \n",
      " 54  TotRmsAbvGrd   1460 non-null   int64  \n",
      " 55  Functional     1460 non-null   object \n",
      " 56  Fireplaces     1460 non-null   int64  \n",
      " 57  FireplaceQu    1460 non-null   object \n",
      " 58  GarageType     1460 non-null   object \n",
      " 59  GarageYrBlt    1460 non-null   float64\n",
      " 60  GarageFinish   1460 non-null   object \n",
      " 61  GarageCars     1460 non-null   int64  \n",
      " 62  GarageArea     1460 non-null   int64  \n",
      " 63  GarageQual     1460 non-null   object \n",
      " 64  GarageCond     1460 non-null   object \n",
      " 65  PavedDrive     1460 non-null   object \n",
      " 66  WoodDeckSF     1460 non-null   int64  \n",
      " 67  OpenPorchSF    1460 non-null   int64  \n",
      " 68  EnclosedPorch  1460 non-null   int64  \n",
      " 69  3SsnPorch      1460 non-null   int64  \n",
      " 70  ScreenPorch    1460 non-null   int64  \n",
      " 71  PoolArea       1460 non-null   int64  \n",
      " 72  Fence          1460 non-null   object \n",
      " 73  MiscFeature    1460 non-null   object \n",
      " 74  MiscVal        1460 non-null   int64  \n",
      " 75  MoSold         1460 non-null   int64  \n",
      " 76  YrSold         1460 non-null   int64  \n",
      " 77  SaleType       1460 non-null   object \n",
      " 78  SaleCondition  1460 non-null   object \n",
      " 79  SalePrice      1460 non-null   int64  \n",
      "dtypes: float64(3), int64(35), object(42)\n",
      "memory usage: 912.6+ KB\n"
     ]
    }
   ],
   "source": [
    "train.isna().sum().sort_values(ascending=False).head(20)\n",
    "train.info()"
   ]
  },
  {
   "cell_type": "code",
   "execution_count": null,
   "id": "69047f42-e31b-4f26-a428-9563fa26b3f6",
   "metadata": {},
   "outputs": [
    {
     "name": "stdout",
     "output_type": "stream",
     "text": [
      "<class 'pandas.core.frame.DataFrame'>\n",
      "RangeIndex: 1460 entries, 0 to 1459\n",
      "Data columns (total 80 columns):\n",
      " #   Column         Non-Null Count  Dtype  \n",
      "---  ------         --------------  -----  \n",
      " 0   Id             1460 non-null   int64  \n",
      " 1   MSSubClass     1460 non-null   int64  \n",
      " 2   MSZoning       1460 non-null   object \n",
      " 3   LotFrontage    1460 non-null   float64\n",
      " 4   LotArea        1460 non-null   int64  \n",
      " 5   Street         1460 non-null   object \n",
      " 6   Alley          1460 non-null   object \n",
      " 7   LotShape       1460 non-null   object \n",
      " 8   LandContour    1460 non-null   object \n",
      " 9   Utilities      1460 non-null   object \n",
      " 10  LotConfig      1460 non-null   object \n",
      " 11  LandSlope      1460 non-null   object \n",
      " 12  Neighborhood   1460 non-null   object \n",
      " 13  Condition1     1460 non-null   object \n",
      " 14  Condition2     1460 non-null   object \n",
      " 15  BldgType       1460 non-null   object \n",
      " 16  HouseStyle     1460 non-null   object \n",
      " 17  OverallQual    1460 non-null   int64  \n",
      " 18  OverallCond    1460 non-null   int64  \n",
      " 19  YearBuilt      1460 non-null   int64  \n",
      " 20  YearRemodAdd   1460 non-null   int64  \n",
      " 21  RoofStyle      1460 non-null   object \n",
      " 22  RoofMatl       1460 non-null   object \n",
      " 23  Exterior1st    1460 non-null   object \n",
      " 24  Exterior2nd    1460 non-null   object \n",
      " 25  MasVnrType     1460 non-null   object \n",
      " 26  MasVnrArea     1460 non-null   float64\n",
      " 27  ExterQual      1460 non-null   object \n",
      " 28  ExterCond      1460 non-null   object \n",
      " 29  Foundation     1460 non-null   object \n",
      " 30  BsmtQual       1460 non-null   object \n",
      " 31  BsmtCond       1460 non-null   object \n",
      " 32  BsmtExposure   1460 non-null   object \n",
      " 33  BsmtFinType1   1460 non-null   object \n",
      " 34  BsmtFinSF1     1460 non-null   int64  \n",
      " 35  BsmtFinType2   1460 non-null   object \n",
      " 36  BsmtFinSF2     1460 non-null   int64  \n",
      " 37  BsmtUnfSF      1460 non-null   int64  \n",
      " 38  TotalBsmtSF    1460 non-null   int64  \n",
      " 39  Heating        1460 non-null   object \n",
      " 40  HeatingQC      1460 non-null   object \n",
      " 41  CentralAir     1460 non-null   object \n",
      " 42  Electrical     1460 non-null   object \n",
      " 43  1stFlrSF       1460 non-null   int64  \n",
      " 44  2ndFlrSF       1460 non-null   int64  \n",
      " 45  LowQualFinSF   1460 non-null   int64  \n",
      " 46  GrLivArea      1460 non-null   int64  \n",
      " 47  BsmtFullBath   1460 non-null   int64  \n",
      " 48  BsmtHalfBath   1460 non-null   int64  \n",
      " 49  FullBath       1460 non-null   int64  \n",
      " 50  HalfBath       1460 non-null   int64  \n",
      " 51  BedroomAbvGr   1460 non-null   int64  \n",
      " 52  KitchenAbvGr   1460 non-null   int64  \n",
      " 53  KitchenQual    1460 non-null   object \n",
      " 54  TotRmsAbvGrd   1460 non-null   int64  \n",
      " 55  Functional     1460 non-null   object \n",
      " 56  Fireplaces     1460 non-null   int64  \n",
      " 57  FireplaceQu    1460 non-null   object \n",
      " 58  GarageType     1460 non-null   object \n",
      " 59  GarageYrBlt    1460 non-null   float64\n",
      " 60  GarageFinish   1460 non-null   object \n",
      " 61  GarageCars     1460 non-null   int64  \n",
      " 62  GarageArea     1460 non-null   int64  \n",
      " 63  GarageQual     1460 non-null   object \n",
      " 64  GarageCond     1460 non-null   object \n",
      " 65  PavedDrive     1460 non-null   object \n",
      " 66  WoodDeckSF     1460 non-null   int64  \n",
      " 67  OpenPorchSF    1460 non-null   int64  \n",
      " 68  EnclosedPorch  1460 non-null   int64  \n",
      " 69  3SsnPorch      1460 non-null   int64  \n",
      " 70  ScreenPorch    1460 non-null   int64  \n",
      " 71  PoolArea       1460 non-null   int64  \n",
      " 72  Fence          1460 non-null   object \n",
      " 73  MiscFeature    1460 non-null   object \n",
      " 74  MiscVal        1460 non-null   int64  \n",
      " 75  MoSold         1460 non-null   int64  \n",
      " 76  YrSold         1460 non-null   int64  \n",
      " 77  SaleType       1460 non-null   object \n",
      " 78  SaleCondition  1460 non-null   object \n",
      " 79  SalePrice      1460 non-null   int64  \n",
      "dtypes: float64(3), int64(35), object(42)\n",
      "memory usage: 912.6+ KB\n"
     ]
    }
   ],
   "source": [
    "train.info()"
   ]
  },
  {
   "cell_type": "code",
   "execution_count": null,
   "id": "5cf78062-ac2f-4ccb-a70d-5492c077743c",
   "metadata": {},
   "outputs": [
    {
     "data": {
      "text/html": [
       "<div>\n",
       "<style scoped>\n",
       "    .dataframe tbody tr th:only-of-type {\n",
       "        vertical-align: middle;\n",
       "    }\n",
       "\n",
       "    .dataframe tbody tr th {\n",
       "        vertical-align: top;\n",
       "    }\n",
       "\n",
       "    .dataframe thead th {\n",
       "        text-align: right;\n",
       "    }\n",
       "</style>\n",
       "<table border=\"1\" class=\"dataframe\">\n",
       "  <thead>\n",
       "    <tr style=\"text-align: right;\">\n",
       "      <th></th>\n",
       "      <th>Id</th>\n",
       "      <th>MSSubClass</th>\n",
       "      <th>MSZoning</th>\n",
       "      <th>LotFrontage</th>\n",
       "      <th>LotArea</th>\n",
       "      <th>Street</th>\n",
       "      <th>Alley</th>\n",
       "      <th>LotShape</th>\n",
       "      <th>LandContour</th>\n",
       "      <th>Utilities</th>\n",
       "      <th>LotConfig</th>\n",
       "      <th>LandSlope</th>\n",
       "      <th>Neighborhood</th>\n",
       "      <th>Condition1</th>\n",
       "      <th>Condition2</th>\n",
       "      <th>BldgType</th>\n",
       "      <th>HouseStyle</th>\n",
       "      <th>OverallQual</th>\n",
       "      <th>OverallCond</th>\n",
       "      <th>YearBuilt</th>\n",
       "      <th>YearRemodAdd</th>\n",
       "      <th>RoofStyle</th>\n",
       "      <th>RoofMatl</th>\n",
       "      <th>Exterior1st</th>\n",
       "      <th>Exterior2nd</th>\n",
       "      <th>MasVnrType</th>\n",
       "      <th>MasVnrArea</th>\n",
       "      <th>ExterQual</th>\n",
       "      <th>ExterCond</th>\n",
       "      <th>Foundation</th>\n",
       "      <th>BsmtQual</th>\n",
       "      <th>BsmtCond</th>\n",
       "      <th>BsmtExposure</th>\n",
       "      <th>BsmtFinType1</th>\n",
       "      <th>BsmtFinSF1</th>\n",
       "      <th>BsmtFinType2</th>\n",
       "      <th>BsmtFinSF2</th>\n",
       "      <th>BsmtUnfSF</th>\n",
       "      <th>TotalBsmtSF</th>\n",
       "      <th>Heating</th>\n",
       "      <th>HeatingQC</th>\n",
       "      <th>CentralAir</th>\n",
       "      <th>Electrical</th>\n",
       "      <th>1stFlrSF</th>\n",
       "      <th>2ndFlrSF</th>\n",
       "      <th>LowQualFinSF</th>\n",
       "      <th>GrLivArea</th>\n",
       "      <th>BsmtFullBath</th>\n",
       "      <th>BsmtHalfBath</th>\n",
       "      <th>FullBath</th>\n",
       "      <th>HalfBath</th>\n",
       "      <th>BedroomAbvGr</th>\n",
       "      <th>KitchenAbvGr</th>\n",
       "      <th>KitchenQual</th>\n",
       "      <th>TotRmsAbvGrd</th>\n",
       "      <th>Functional</th>\n",
       "      <th>Fireplaces</th>\n",
       "      <th>FireplaceQu</th>\n",
       "      <th>GarageType</th>\n",
       "      <th>GarageYrBlt</th>\n",
       "      <th>GarageFinish</th>\n",
       "      <th>GarageCars</th>\n",
       "      <th>GarageArea</th>\n",
       "      <th>GarageQual</th>\n",
       "      <th>GarageCond</th>\n",
       "      <th>PavedDrive</th>\n",
       "      <th>WoodDeckSF</th>\n",
       "      <th>OpenPorchSF</th>\n",
       "      <th>EnclosedPorch</th>\n",
       "      <th>3SsnPorch</th>\n",
       "      <th>ScreenPorch</th>\n",
       "      <th>PoolArea</th>\n",
       "      <th>Fence</th>\n",
       "      <th>MiscFeature</th>\n",
       "      <th>MiscVal</th>\n",
       "      <th>MoSold</th>\n",
       "      <th>YrSold</th>\n",
       "      <th>SaleType</th>\n",
       "      <th>SaleCondition</th>\n",
       "      <th>SalePrice</th>\n",
       "    </tr>\n",
       "  </thead>\n",
       "  <tbody>\n",
       "    <tr>\n",
       "      <th>0</th>\n",
       "      <td>1</td>\n",
       "      <td>60</td>\n",
       "      <td>RL</td>\n",
       "      <td>65.0</td>\n",
       "      <td>8450</td>\n",
       "      <td>Pave</td>\n",
       "      <td>NA</td>\n",
       "      <td>Reg</td>\n",
       "      <td>Lvl</td>\n",
       "      <td>AllPub</td>\n",
       "      <td>Inside</td>\n",
       "      <td>Gtl</td>\n",
       "      <td>CollgCr</td>\n",
       "      <td>Norm</td>\n",
       "      <td>Norm</td>\n",
       "      <td>1Fam</td>\n",
       "      <td>2Story</td>\n",
       "      <td>7</td>\n",
       "      <td>5</td>\n",
       "      <td>2003</td>\n",
       "      <td>2003</td>\n",
       "      <td>Gable</td>\n",
       "      <td>CompShg</td>\n",
       "      <td>VinylSd</td>\n",
       "      <td>VinylSd</td>\n",
       "      <td>BrkFace</td>\n",
       "      <td>196.0</td>\n",
       "      <td>Gd</td>\n",
       "      <td>TA</td>\n",
       "      <td>PConc</td>\n",
       "      <td>Gd</td>\n",
       "      <td>TA</td>\n",
       "      <td>No</td>\n",
       "      <td>GLQ</td>\n",
       "      <td>706</td>\n",
       "      <td>Unf</td>\n",
       "      <td>0</td>\n",
       "      <td>150</td>\n",
       "      <td>856</td>\n",
       "      <td>GasA</td>\n",
       "      <td>Ex</td>\n",
       "      <td>Y</td>\n",
       "      <td>SBrkr</td>\n",
       "      <td>856</td>\n",
       "      <td>854</td>\n",
       "      <td>0</td>\n",
       "      <td>1710</td>\n",
       "      <td>1</td>\n",
       "      <td>0</td>\n",
       "      <td>2</td>\n",
       "      <td>1</td>\n",
       "      <td>3</td>\n",
       "      <td>1</td>\n",
       "      <td>Gd</td>\n",
       "      <td>8</td>\n",
       "      <td>Typ</td>\n",
       "      <td>0</td>\n",
       "      <td>NA</td>\n",
       "      <td>Attchd</td>\n",
       "      <td>2003.0</td>\n",
       "      <td>RFn</td>\n",
       "      <td>2</td>\n",
       "      <td>548</td>\n",
       "      <td>TA</td>\n",
       "      <td>TA</td>\n",
       "      <td>Y</td>\n",
       "      <td>0</td>\n",
       "      <td>61</td>\n",
       "      <td>0</td>\n",
       "      <td>0</td>\n",
       "      <td>0</td>\n",
       "      <td>0</td>\n",
       "      <td>NA</td>\n",
       "      <td>NA</td>\n",
       "      <td>0</td>\n",
       "      <td>2</td>\n",
       "      <td>2008</td>\n",
       "      <td>WD</td>\n",
       "      <td>Normal</td>\n",
       "      <td>208500</td>\n",
       "    </tr>\n",
       "    <tr>\n",
       "      <th>1</th>\n",
       "      <td>2</td>\n",
       "      <td>20</td>\n",
       "      <td>RL</td>\n",
       "      <td>80.0</td>\n",
       "      <td>9600</td>\n",
       "      <td>Pave</td>\n",
       "      <td>NA</td>\n",
       "      <td>Reg</td>\n",
       "      <td>Lvl</td>\n",
       "      <td>AllPub</td>\n",
       "      <td>FR2</td>\n",
       "      <td>Gtl</td>\n",
       "      <td>Veenker</td>\n",
       "      <td>Feedr</td>\n",
       "      <td>Norm</td>\n",
       "      <td>1Fam</td>\n",
       "      <td>1Story</td>\n",
       "      <td>6</td>\n",
       "      <td>8</td>\n",
       "      <td>1976</td>\n",
       "      <td>1976</td>\n",
       "      <td>Gable</td>\n",
       "      <td>CompShg</td>\n",
       "      <td>MetalSd</td>\n",
       "      <td>MetalSd</td>\n",
       "      <td>NA</td>\n",
       "      <td>0.0</td>\n",
       "      <td>TA</td>\n",
       "      <td>TA</td>\n",
       "      <td>CBlock</td>\n",
       "      <td>Gd</td>\n",
       "      <td>TA</td>\n",
       "      <td>Gd</td>\n",
       "      <td>ALQ</td>\n",
       "      <td>978</td>\n",
       "      <td>Unf</td>\n",
       "      <td>0</td>\n",
       "      <td>284</td>\n",
       "      <td>1262</td>\n",
       "      <td>GasA</td>\n",
       "      <td>Ex</td>\n",
       "      <td>Y</td>\n",
       "      <td>SBrkr</td>\n",
       "      <td>1262</td>\n",
       "      <td>0</td>\n",
       "      <td>0</td>\n",
       "      <td>1262</td>\n",
       "      <td>0</td>\n",
       "      <td>1</td>\n",
       "      <td>2</td>\n",
       "      <td>0</td>\n",
       "      <td>3</td>\n",
       "      <td>1</td>\n",
       "      <td>TA</td>\n",
       "      <td>6</td>\n",
       "      <td>Typ</td>\n",
       "      <td>1</td>\n",
       "      <td>TA</td>\n",
       "      <td>Attchd</td>\n",
       "      <td>1976.0</td>\n",
       "      <td>RFn</td>\n",
       "      <td>2</td>\n",
       "      <td>460</td>\n",
       "      <td>TA</td>\n",
       "      <td>TA</td>\n",
       "      <td>Y</td>\n",
       "      <td>298</td>\n",
       "      <td>0</td>\n",
       "      <td>0</td>\n",
       "      <td>0</td>\n",
       "      <td>0</td>\n",
       "      <td>0</td>\n",
       "      <td>NA</td>\n",
       "      <td>NA</td>\n",
       "      <td>0</td>\n",
       "      <td>5</td>\n",
       "      <td>2007</td>\n",
       "      <td>WD</td>\n",
       "      <td>Normal</td>\n",
       "      <td>181500</td>\n",
       "    </tr>\n",
       "    <tr>\n",
       "      <th>2</th>\n",
       "      <td>3</td>\n",
       "      <td>60</td>\n",
       "      <td>RL</td>\n",
       "      <td>68.0</td>\n",
       "      <td>11250</td>\n",
       "      <td>Pave</td>\n",
       "      <td>NA</td>\n",
       "      <td>IR1</td>\n",
       "      <td>Lvl</td>\n",
       "      <td>AllPub</td>\n",
       "      <td>Inside</td>\n",
       "      <td>Gtl</td>\n",
       "      <td>CollgCr</td>\n",
       "      <td>Norm</td>\n",
       "      <td>Norm</td>\n",
       "      <td>1Fam</td>\n",
       "      <td>2Story</td>\n",
       "      <td>7</td>\n",
       "      <td>5</td>\n",
       "      <td>2001</td>\n",
       "      <td>2002</td>\n",
       "      <td>Gable</td>\n",
       "      <td>CompShg</td>\n",
       "      <td>VinylSd</td>\n",
       "      <td>VinylSd</td>\n",
       "      <td>BrkFace</td>\n",
       "      <td>162.0</td>\n",
       "      <td>Gd</td>\n",
       "      <td>TA</td>\n",
       "      <td>PConc</td>\n",
       "      <td>Gd</td>\n",
       "      <td>TA</td>\n",
       "      <td>Mn</td>\n",
       "      <td>GLQ</td>\n",
       "      <td>486</td>\n",
       "      <td>Unf</td>\n",
       "      <td>0</td>\n",
       "      <td>434</td>\n",
       "      <td>920</td>\n",
       "      <td>GasA</td>\n",
       "      <td>Ex</td>\n",
       "      <td>Y</td>\n",
       "      <td>SBrkr</td>\n",
       "      <td>920</td>\n",
       "      <td>866</td>\n",
       "      <td>0</td>\n",
       "      <td>1786</td>\n",
       "      <td>1</td>\n",
       "      <td>0</td>\n",
       "      <td>2</td>\n",
       "      <td>1</td>\n",
       "      <td>3</td>\n",
       "      <td>1</td>\n",
       "      <td>Gd</td>\n",
       "      <td>6</td>\n",
       "      <td>Typ</td>\n",
       "      <td>1</td>\n",
       "      <td>TA</td>\n",
       "      <td>Attchd</td>\n",
       "      <td>2001.0</td>\n",
       "      <td>RFn</td>\n",
       "      <td>2</td>\n",
       "      <td>608</td>\n",
       "      <td>TA</td>\n",
       "      <td>TA</td>\n",
       "      <td>Y</td>\n",
       "      <td>0</td>\n",
       "      <td>42</td>\n",
       "      <td>0</td>\n",
       "      <td>0</td>\n",
       "      <td>0</td>\n",
       "      <td>0</td>\n",
       "      <td>NA</td>\n",
       "      <td>NA</td>\n",
       "      <td>0</td>\n",
       "      <td>9</td>\n",
       "      <td>2008</td>\n",
       "      <td>WD</td>\n",
       "      <td>Normal</td>\n",
       "      <td>223500</td>\n",
       "    </tr>\n",
       "    <tr>\n",
       "      <th>3</th>\n",
       "      <td>4</td>\n",
       "      <td>70</td>\n",
       "      <td>RL</td>\n",
       "      <td>60.0</td>\n",
       "      <td>9550</td>\n",
       "      <td>Pave</td>\n",
       "      <td>NA</td>\n",
       "      <td>IR1</td>\n",
       "      <td>Lvl</td>\n",
       "      <td>AllPub</td>\n",
       "      <td>Corner</td>\n",
       "      <td>Gtl</td>\n",
       "      <td>Crawfor</td>\n",
       "      <td>Norm</td>\n",
       "      <td>Norm</td>\n",
       "      <td>1Fam</td>\n",
       "      <td>2Story</td>\n",
       "      <td>7</td>\n",
       "      <td>5</td>\n",
       "      <td>1915</td>\n",
       "      <td>1970</td>\n",
       "      <td>Gable</td>\n",
       "      <td>CompShg</td>\n",
       "      <td>Wd Sdng</td>\n",
       "      <td>Wd Shng</td>\n",
       "      <td>NA</td>\n",
       "      <td>0.0</td>\n",
       "      <td>TA</td>\n",
       "      <td>TA</td>\n",
       "      <td>BrkTil</td>\n",
       "      <td>TA</td>\n",
       "      <td>Gd</td>\n",
       "      <td>No</td>\n",
       "      <td>ALQ</td>\n",
       "      <td>216</td>\n",
       "      <td>Unf</td>\n",
       "      <td>0</td>\n",
       "      <td>540</td>\n",
       "      <td>756</td>\n",
       "      <td>GasA</td>\n",
       "      <td>Gd</td>\n",
       "      <td>Y</td>\n",
       "      <td>SBrkr</td>\n",
       "      <td>961</td>\n",
       "      <td>756</td>\n",
       "      <td>0</td>\n",
       "      <td>1717</td>\n",
       "      <td>1</td>\n",
       "      <td>0</td>\n",
       "      <td>1</td>\n",
       "      <td>0</td>\n",
       "      <td>3</td>\n",
       "      <td>1</td>\n",
       "      <td>Gd</td>\n",
       "      <td>7</td>\n",
       "      <td>Typ</td>\n",
       "      <td>1</td>\n",
       "      <td>Gd</td>\n",
       "      <td>Detchd</td>\n",
       "      <td>1998.0</td>\n",
       "      <td>Unf</td>\n",
       "      <td>3</td>\n",
       "      <td>642</td>\n",
       "      <td>TA</td>\n",
       "      <td>TA</td>\n",
       "      <td>Y</td>\n",
       "      <td>0</td>\n",
       "      <td>35</td>\n",
       "      <td>272</td>\n",
       "      <td>0</td>\n",
       "      <td>0</td>\n",
       "      <td>0</td>\n",
       "      <td>NA</td>\n",
       "      <td>NA</td>\n",
       "      <td>0</td>\n",
       "      <td>2</td>\n",
       "      <td>2006</td>\n",
       "      <td>WD</td>\n",
       "      <td>Abnorml</td>\n",
       "      <td>140000</td>\n",
       "    </tr>\n",
       "    <tr>\n",
       "      <th>4</th>\n",
       "      <td>5</td>\n",
       "      <td>60</td>\n",
       "      <td>RL</td>\n",
       "      <td>84.0</td>\n",
       "      <td>14260</td>\n",
       "      <td>Pave</td>\n",
       "      <td>NA</td>\n",
       "      <td>IR1</td>\n",
       "      <td>Lvl</td>\n",
       "      <td>AllPub</td>\n",
       "      <td>FR2</td>\n",
       "      <td>Gtl</td>\n",
       "      <td>NoRidge</td>\n",
       "      <td>Norm</td>\n",
       "      <td>Norm</td>\n",
       "      <td>1Fam</td>\n",
       "      <td>2Story</td>\n",
       "      <td>8</td>\n",
       "      <td>5</td>\n",
       "      <td>2000</td>\n",
       "      <td>2000</td>\n",
       "      <td>Gable</td>\n",
       "      <td>CompShg</td>\n",
       "      <td>VinylSd</td>\n",
       "      <td>VinylSd</td>\n",
       "      <td>BrkFace</td>\n",
       "      <td>350.0</td>\n",
       "      <td>Gd</td>\n",
       "      <td>TA</td>\n",
       "      <td>PConc</td>\n",
       "      <td>Gd</td>\n",
       "      <td>TA</td>\n",
       "      <td>Av</td>\n",
       "      <td>GLQ</td>\n",
       "      <td>655</td>\n",
       "      <td>Unf</td>\n",
       "      <td>0</td>\n",
       "      <td>490</td>\n",
       "      <td>1145</td>\n",
       "      <td>GasA</td>\n",
       "      <td>Ex</td>\n",
       "      <td>Y</td>\n",
       "      <td>SBrkr</td>\n",
       "      <td>1145</td>\n",
       "      <td>1053</td>\n",
       "      <td>0</td>\n",
       "      <td>2198</td>\n",
       "      <td>1</td>\n",
       "      <td>0</td>\n",
       "      <td>2</td>\n",
       "      <td>1</td>\n",
       "      <td>4</td>\n",
       "      <td>1</td>\n",
       "      <td>Gd</td>\n",
       "      <td>9</td>\n",
       "      <td>Typ</td>\n",
       "      <td>1</td>\n",
       "      <td>TA</td>\n",
       "      <td>Attchd</td>\n",
       "      <td>2000.0</td>\n",
       "      <td>RFn</td>\n",
       "      <td>3</td>\n",
       "      <td>836</td>\n",
       "      <td>TA</td>\n",
       "      <td>TA</td>\n",
       "      <td>Y</td>\n",
       "      <td>192</td>\n",
       "      <td>84</td>\n",
       "      <td>0</td>\n",
       "      <td>0</td>\n",
       "      <td>0</td>\n",
       "      <td>0</td>\n",
       "      <td>NA</td>\n",
       "      <td>NA</td>\n",
       "      <td>0</td>\n",
       "      <td>12</td>\n",
       "      <td>2008</td>\n",
       "      <td>WD</td>\n",
       "      <td>Normal</td>\n",
       "      <td>250000</td>\n",
       "    </tr>\n",
       "  </tbody>\n",
       "</table>\n",
       "</div>"
      ],
      "text/plain": [
       "   Id  MSSubClass MSZoning  LotFrontage  LotArea Street Alley LotShape  \\\n",
       "0   1          60       RL         65.0     8450   Pave    NA      Reg   \n",
       "1   2          20       RL         80.0     9600   Pave    NA      Reg   \n",
       "2   3          60       RL         68.0    11250   Pave    NA      IR1   \n",
       "3   4          70       RL         60.0     9550   Pave    NA      IR1   \n",
       "4   5          60       RL         84.0    14260   Pave    NA      IR1   \n",
       "\n",
       "  LandContour Utilities LotConfig LandSlope Neighborhood Condition1  \\\n",
       "0         Lvl    AllPub    Inside       Gtl      CollgCr       Norm   \n",
       "1         Lvl    AllPub       FR2       Gtl      Veenker      Feedr   \n",
       "2         Lvl    AllPub    Inside       Gtl      CollgCr       Norm   \n",
       "3         Lvl    AllPub    Corner       Gtl      Crawfor       Norm   \n",
       "4         Lvl    AllPub       FR2       Gtl      NoRidge       Norm   \n",
       "\n",
       "  Condition2 BldgType HouseStyle  OverallQual  OverallCond  YearBuilt  \\\n",
       "0       Norm     1Fam     2Story            7            5       2003   \n",
       "1       Norm     1Fam     1Story            6            8       1976   \n",
       "2       Norm     1Fam     2Story            7            5       2001   \n",
       "3       Norm     1Fam     2Story            7            5       1915   \n",
       "4       Norm     1Fam     2Story            8            5       2000   \n",
       "\n",
       "   YearRemodAdd RoofStyle RoofMatl Exterior1st Exterior2nd MasVnrType  \\\n",
       "0          2003     Gable  CompShg     VinylSd     VinylSd    BrkFace   \n",
       "1          1976     Gable  CompShg     MetalSd     MetalSd         NA   \n",
       "2          2002     Gable  CompShg     VinylSd     VinylSd    BrkFace   \n",
       "3          1970     Gable  CompShg     Wd Sdng     Wd Shng         NA   \n",
       "4          2000     Gable  CompShg     VinylSd     VinylSd    BrkFace   \n",
       "\n",
       "   MasVnrArea ExterQual ExterCond Foundation BsmtQual BsmtCond BsmtExposure  \\\n",
       "0       196.0        Gd        TA      PConc       Gd       TA           No   \n",
       "1         0.0        TA        TA     CBlock       Gd       TA           Gd   \n",
       "2       162.0        Gd        TA      PConc       Gd       TA           Mn   \n",
       "3         0.0        TA        TA     BrkTil       TA       Gd           No   \n",
       "4       350.0        Gd        TA      PConc       Gd       TA           Av   \n",
       "\n",
       "  BsmtFinType1  BsmtFinSF1 BsmtFinType2  BsmtFinSF2  BsmtUnfSF  TotalBsmtSF  \\\n",
       "0          GLQ         706          Unf           0        150          856   \n",
       "1          ALQ         978          Unf           0        284         1262   \n",
       "2          GLQ         486          Unf           0        434          920   \n",
       "3          ALQ         216          Unf           0        540          756   \n",
       "4          GLQ         655          Unf           0        490         1145   \n",
       "\n",
       "  Heating HeatingQC CentralAir Electrical  1stFlrSF  2ndFlrSF  LowQualFinSF  \\\n",
       "0    GasA        Ex          Y      SBrkr       856       854             0   \n",
       "1    GasA        Ex          Y      SBrkr      1262         0             0   \n",
       "2    GasA        Ex          Y      SBrkr       920       866             0   \n",
       "3    GasA        Gd          Y      SBrkr       961       756             0   \n",
       "4    GasA        Ex          Y      SBrkr      1145      1053             0   \n",
       "\n",
       "   GrLivArea  BsmtFullBath  BsmtHalfBath  FullBath  HalfBath  BedroomAbvGr  \\\n",
       "0       1710             1             0         2         1             3   \n",
       "1       1262             0             1         2         0             3   \n",
       "2       1786             1             0         2         1             3   \n",
       "3       1717             1             0         1         0             3   \n",
       "4       2198             1             0         2         1             4   \n",
       "\n",
       "   KitchenAbvGr KitchenQual  TotRmsAbvGrd Functional  Fireplaces FireplaceQu  \\\n",
       "0             1          Gd             8        Typ           0          NA   \n",
       "1             1          TA             6        Typ           1          TA   \n",
       "2             1          Gd             6        Typ           1          TA   \n",
       "3             1          Gd             7        Typ           1          Gd   \n",
       "4             1          Gd             9        Typ           1          TA   \n",
       "\n",
       "  GarageType  GarageYrBlt GarageFinish  GarageCars  GarageArea GarageQual  \\\n",
       "0     Attchd       2003.0          RFn           2         548         TA   \n",
       "1     Attchd       1976.0          RFn           2         460         TA   \n",
       "2     Attchd       2001.0          RFn           2         608         TA   \n",
       "3     Detchd       1998.0          Unf           3         642         TA   \n",
       "4     Attchd       2000.0          RFn           3         836         TA   \n",
       "\n",
       "  GarageCond PavedDrive  WoodDeckSF  OpenPorchSF  EnclosedPorch  3SsnPorch  \\\n",
       "0         TA          Y           0           61              0          0   \n",
       "1         TA          Y         298            0              0          0   \n",
       "2         TA          Y           0           42              0          0   \n",
       "3         TA          Y           0           35            272          0   \n",
       "4         TA          Y         192           84              0          0   \n",
       "\n",
       "   ScreenPorch  PoolArea Fence MiscFeature  MiscVal  MoSold  YrSold SaleType  \\\n",
       "0            0         0    NA          NA        0       2    2008       WD   \n",
       "1            0         0    NA          NA        0       5    2007       WD   \n",
       "2            0         0    NA          NA        0       9    2008       WD   \n",
       "3            0         0    NA          NA        0       2    2006       WD   \n",
       "4            0         0    NA          NA        0      12    2008       WD   \n",
       "\n",
       "  SaleCondition  SalePrice  \n",
       "0        Normal     208500  \n",
       "1        Normal     181500  \n",
       "2        Normal     223500  \n",
       "3       Abnorml     140000  \n",
       "4        Normal     250000  "
      ]
     },
     "execution_count": 243,
     "metadata": {},
     "output_type": "execute_result"
    }
   ],
   "source": [
    "train.head()"
   ]
  },
  {
   "cell_type": "code",
   "execution_count": null,
   "id": "aad33471-4e14-440a-9f7f-9fbbfa72dd9b",
   "metadata": {},
   "outputs": [
    {
     "data": {
      "text/html": [
       "<div>\n",
       "<style scoped>\n",
       "    .dataframe tbody tr th:only-of-type {\n",
       "        vertical-align: middle;\n",
       "    }\n",
       "\n",
       "    .dataframe tbody tr th {\n",
       "        vertical-align: top;\n",
       "    }\n",
       "\n",
       "    .dataframe thead th {\n",
       "        text-align: right;\n",
       "    }\n",
       "</style>\n",
       "<table border=\"1\" class=\"dataframe\">\n",
       "  <thead>\n",
       "    <tr style=\"text-align: right;\">\n",
       "      <th></th>\n",
       "      <th>Id</th>\n",
       "      <th>MSSubClass</th>\n",
       "      <th>MSZoning</th>\n",
       "      <th>LotFrontage</th>\n",
       "      <th>LotArea</th>\n",
       "      <th>Street</th>\n",
       "      <th>Alley</th>\n",
       "      <th>LotShape</th>\n",
       "      <th>LandContour</th>\n",
       "      <th>Utilities</th>\n",
       "      <th>LotConfig</th>\n",
       "      <th>LandSlope</th>\n",
       "      <th>Neighborhood</th>\n",
       "      <th>Condition1</th>\n",
       "      <th>Condition2</th>\n",
       "      <th>BldgType</th>\n",
       "      <th>HouseStyle</th>\n",
       "      <th>OverallQual</th>\n",
       "      <th>OverallCond</th>\n",
       "      <th>YearBuilt</th>\n",
       "      <th>YearRemodAdd</th>\n",
       "      <th>RoofStyle</th>\n",
       "      <th>RoofMatl</th>\n",
       "      <th>Exterior1st</th>\n",
       "      <th>Exterior2nd</th>\n",
       "      <th>MasVnrType</th>\n",
       "      <th>MasVnrArea</th>\n",
       "      <th>ExterQual</th>\n",
       "      <th>ExterCond</th>\n",
       "      <th>Foundation</th>\n",
       "      <th>BsmtQual</th>\n",
       "      <th>BsmtCond</th>\n",
       "      <th>BsmtExposure</th>\n",
       "      <th>BsmtFinType1</th>\n",
       "      <th>BsmtFinSF1</th>\n",
       "      <th>BsmtFinType2</th>\n",
       "      <th>BsmtFinSF2</th>\n",
       "      <th>BsmtUnfSF</th>\n",
       "      <th>TotalBsmtSF</th>\n",
       "      <th>Heating</th>\n",
       "      <th>HeatingQC</th>\n",
       "      <th>CentralAir</th>\n",
       "      <th>Electrical</th>\n",
       "      <th>1stFlrSF</th>\n",
       "      <th>2ndFlrSF</th>\n",
       "      <th>LowQualFinSF</th>\n",
       "      <th>GrLivArea</th>\n",
       "      <th>BsmtFullBath</th>\n",
       "      <th>BsmtHalfBath</th>\n",
       "      <th>FullBath</th>\n",
       "      <th>HalfBath</th>\n",
       "      <th>BedroomAbvGr</th>\n",
       "      <th>KitchenAbvGr</th>\n",
       "      <th>KitchenQual</th>\n",
       "      <th>TotRmsAbvGrd</th>\n",
       "      <th>Functional</th>\n",
       "      <th>Fireplaces</th>\n",
       "      <th>FireplaceQu</th>\n",
       "      <th>GarageType</th>\n",
       "      <th>GarageYrBlt</th>\n",
       "      <th>GarageFinish</th>\n",
       "      <th>GarageCars</th>\n",
       "      <th>GarageArea</th>\n",
       "      <th>GarageQual</th>\n",
       "      <th>GarageCond</th>\n",
       "      <th>PavedDrive</th>\n",
       "      <th>WoodDeckSF</th>\n",
       "      <th>OpenPorchSF</th>\n",
       "      <th>EnclosedPorch</th>\n",
       "      <th>3SsnPorch</th>\n",
       "      <th>ScreenPorch</th>\n",
       "      <th>PoolArea</th>\n",
       "      <th>Fence</th>\n",
       "      <th>MiscFeature</th>\n",
       "      <th>MiscVal</th>\n",
       "      <th>MoSold</th>\n",
       "      <th>YrSold</th>\n",
       "      <th>SaleType</th>\n",
       "      <th>SaleCondition</th>\n",
       "      <th>SalePrice</th>\n",
       "    </tr>\n",
       "  </thead>\n",
       "  <tbody>\n",
       "    <tr>\n",
       "      <th>1450</th>\n",
       "      <td>1451</td>\n",
       "      <td>90</td>\n",
       "      <td>RL</td>\n",
       "      <td>60.0</td>\n",
       "      <td>9000</td>\n",
       "      <td>Pave</td>\n",
       "      <td>NA</td>\n",
       "      <td>Reg</td>\n",
       "      <td>Lvl</td>\n",
       "      <td>AllPub</td>\n",
       "      <td>FR2</td>\n",
       "      <td>Gtl</td>\n",
       "      <td>NAmes</td>\n",
       "      <td>Norm</td>\n",
       "      <td>Norm</td>\n",
       "      <td>Duplex</td>\n",
       "      <td>2Story</td>\n",
       "      <td>5</td>\n",
       "      <td>5</td>\n",
       "      <td>1974</td>\n",
       "      <td>1974</td>\n",
       "      <td>Gable</td>\n",
       "      <td>CompShg</td>\n",
       "      <td>VinylSd</td>\n",
       "      <td>VinylSd</td>\n",
       "      <td>NA</td>\n",
       "      <td>0.0</td>\n",
       "      <td>TA</td>\n",
       "      <td>TA</td>\n",
       "      <td>CBlock</td>\n",
       "      <td>Gd</td>\n",
       "      <td>TA</td>\n",
       "      <td>No</td>\n",
       "      <td>Unf</td>\n",
       "      <td>0</td>\n",
       "      <td>Unf</td>\n",
       "      <td>0</td>\n",
       "      <td>896</td>\n",
       "      <td>896</td>\n",
       "      <td>GasA</td>\n",
       "      <td>TA</td>\n",
       "      <td>Y</td>\n",
       "      <td>SBrkr</td>\n",
       "      <td>896</td>\n",
       "      <td>896</td>\n",
       "      <td>0</td>\n",
       "      <td>1792</td>\n",
       "      <td>0</td>\n",
       "      <td>0</td>\n",
       "      <td>2</td>\n",
       "      <td>2</td>\n",
       "      <td>4</td>\n",
       "      <td>2</td>\n",
       "      <td>TA</td>\n",
       "      <td>8</td>\n",
       "      <td>Typ</td>\n",
       "      <td>0</td>\n",
       "      <td>NA</td>\n",
       "      <td>NA</td>\n",
       "      <td>1978.506164</td>\n",
       "      <td>NA</td>\n",
       "      <td>0</td>\n",
       "      <td>0</td>\n",
       "      <td>NA</td>\n",
       "      <td>NA</td>\n",
       "      <td>Y</td>\n",
       "      <td>32</td>\n",
       "      <td>45</td>\n",
       "      <td>0</td>\n",
       "      <td>0</td>\n",
       "      <td>0</td>\n",
       "      <td>0</td>\n",
       "      <td>NA</td>\n",
       "      <td>NA</td>\n",
       "      <td>0</td>\n",
       "      <td>9</td>\n",
       "      <td>2009</td>\n",
       "      <td>WD</td>\n",
       "      <td>Normal</td>\n",
       "      <td>136000</td>\n",
       "    </tr>\n",
       "    <tr>\n",
       "      <th>1451</th>\n",
       "      <td>1452</td>\n",
       "      <td>20</td>\n",
       "      <td>RL</td>\n",
       "      <td>78.0</td>\n",
       "      <td>9262</td>\n",
       "      <td>Pave</td>\n",
       "      <td>NA</td>\n",
       "      <td>Reg</td>\n",
       "      <td>Lvl</td>\n",
       "      <td>AllPub</td>\n",
       "      <td>Inside</td>\n",
       "      <td>Gtl</td>\n",
       "      <td>Somerst</td>\n",
       "      <td>Norm</td>\n",
       "      <td>Norm</td>\n",
       "      <td>1Fam</td>\n",
       "      <td>1Story</td>\n",
       "      <td>8</td>\n",
       "      <td>5</td>\n",
       "      <td>2008</td>\n",
       "      <td>2009</td>\n",
       "      <td>Gable</td>\n",
       "      <td>CompShg</td>\n",
       "      <td>CemntBd</td>\n",
       "      <td>CmentBd</td>\n",
       "      <td>Stone</td>\n",
       "      <td>194.0</td>\n",
       "      <td>Gd</td>\n",
       "      <td>TA</td>\n",
       "      <td>PConc</td>\n",
       "      <td>Gd</td>\n",
       "      <td>TA</td>\n",
       "      <td>No</td>\n",
       "      <td>Unf</td>\n",
       "      <td>0</td>\n",
       "      <td>Unf</td>\n",
       "      <td>0</td>\n",
       "      <td>1573</td>\n",
       "      <td>1573</td>\n",
       "      <td>GasA</td>\n",
       "      <td>Ex</td>\n",
       "      <td>Y</td>\n",
       "      <td>SBrkr</td>\n",
       "      <td>1578</td>\n",
       "      <td>0</td>\n",
       "      <td>0</td>\n",
       "      <td>1578</td>\n",
       "      <td>0</td>\n",
       "      <td>0</td>\n",
       "      <td>2</td>\n",
       "      <td>0</td>\n",
       "      <td>3</td>\n",
       "      <td>1</td>\n",
       "      <td>Ex</td>\n",
       "      <td>7</td>\n",
       "      <td>Typ</td>\n",
       "      <td>1</td>\n",
       "      <td>Gd</td>\n",
       "      <td>Attchd</td>\n",
       "      <td>2008.000000</td>\n",
       "      <td>Fin</td>\n",
       "      <td>3</td>\n",
       "      <td>840</td>\n",
       "      <td>TA</td>\n",
       "      <td>TA</td>\n",
       "      <td>Y</td>\n",
       "      <td>0</td>\n",
       "      <td>36</td>\n",
       "      <td>0</td>\n",
       "      <td>0</td>\n",
       "      <td>0</td>\n",
       "      <td>0</td>\n",
       "      <td>NA</td>\n",
       "      <td>NA</td>\n",
       "      <td>0</td>\n",
       "      <td>5</td>\n",
       "      <td>2009</td>\n",
       "      <td>New</td>\n",
       "      <td>Partial</td>\n",
       "      <td>287090</td>\n",
       "    </tr>\n",
       "    <tr>\n",
       "      <th>1452</th>\n",
       "      <td>1453</td>\n",
       "      <td>180</td>\n",
       "      <td>RM</td>\n",
       "      <td>35.0</td>\n",
       "      <td>3675</td>\n",
       "      <td>Pave</td>\n",
       "      <td>NA</td>\n",
       "      <td>Reg</td>\n",
       "      <td>Lvl</td>\n",
       "      <td>AllPub</td>\n",
       "      <td>Inside</td>\n",
       "      <td>Gtl</td>\n",
       "      <td>Edwards</td>\n",
       "      <td>Norm</td>\n",
       "      <td>Norm</td>\n",
       "      <td>TwnhsE</td>\n",
       "      <td>SLvl</td>\n",
       "      <td>5</td>\n",
       "      <td>5</td>\n",
       "      <td>2005</td>\n",
       "      <td>2005</td>\n",
       "      <td>Gable</td>\n",
       "      <td>CompShg</td>\n",
       "      <td>VinylSd</td>\n",
       "      <td>VinylSd</td>\n",
       "      <td>BrkFace</td>\n",
       "      <td>80.0</td>\n",
       "      <td>TA</td>\n",
       "      <td>TA</td>\n",
       "      <td>PConc</td>\n",
       "      <td>Gd</td>\n",
       "      <td>TA</td>\n",
       "      <td>Gd</td>\n",
       "      <td>GLQ</td>\n",
       "      <td>547</td>\n",
       "      <td>Unf</td>\n",
       "      <td>0</td>\n",
       "      <td>0</td>\n",
       "      <td>547</td>\n",
       "      <td>GasA</td>\n",
       "      <td>Gd</td>\n",
       "      <td>Y</td>\n",
       "      <td>SBrkr</td>\n",
       "      <td>1072</td>\n",
       "      <td>0</td>\n",
       "      <td>0</td>\n",
       "      <td>1072</td>\n",
       "      <td>1</td>\n",
       "      <td>0</td>\n",
       "      <td>1</td>\n",
       "      <td>0</td>\n",
       "      <td>2</td>\n",
       "      <td>1</td>\n",
       "      <td>TA</td>\n",
       "      <td>5</td>\n",
       "      <td>Typ</td>\n",
       "      <td>0</td>\n",
       "      <td>NA</td>\n",
       "      <td>Basment</td>\n",
       "      <td>2005.000000</td>\n",
       "      <td>Fin</td>\n",
       "      <td>2</td>\n",
       "      <td>525</td>\n",
       "      <td>TA</td>\n",
       "      <td>TA</td>\n",
       "      <td>Y</td>\n",
       "      <td>0</td>\n",
       "      <td>28</td>\n",
       "      <td>0</td>\n",
       "      <td>0</td>\n",
       "      <td>0</td>\n",
       "      <td>0</td>\n",
       "      <td>NA</td>\n",
       "      <td>NA</td>\n",
       "      <td>0</td>\n",
       "      <td>5</td>\n",
       "      <td>2006</td>\n",
       "      <td>WD</td>\n",
       "      <td>Normal</td>\n",
       "      <td>145000</td>\n",
       "    </tr>\n",
       "    <tr>\n",
       "      <th>1453</th>\n",
       "      <td>1454</td>\n",
       "      <td>20</td>\n",
       "      <td>RL</td>\n",
       "      <td>90.0</td>\n",
       "      <td>17217</td>\n",
       "      <td>Pave</td>\n",
       "      <td>NA</td>\n",
       "      <td>Reg</td>\n",
       "      <td>Lvl</td>\n",
       "      <td>AllPub</td>\n",
       "      <td>Inside</td>\n",
       "      <td>Gtl</td>\n",
       "      <td>Mitchel</td>\n",
       "      <td>Norm</td>\n",
       "      <td>Norm</td>\n",
       "      <td>1Fam</td>\n",
       "      <td>1Story</td>\n",
       "      <td>5</td>\n",
       "      <td>5</td>\n",
       "      <td>2006</td>\n",
       "      <td>2006</td>\n",
       "      <td>Gable</td>\n",
       "      <td>CompShg</td>\n",
       "      <td>VinylSd</td>\n",
       "      <td>VinylSd</td>\n",
       "      <td>NA</td>\n",
       "      <td>0.0</td>\n",
       "      <td>TA</td>\n",
       "      <td>TA</td>\n",
       "      <td>PConc</td>\n",
       "      <td>Gd</td>\n",
       "      <td>TA</td>\n",
       "      <td>No</td>\n",
       "      <td>Unf</td>\n",
       "      <td>0</td>\n",
       "      <td>Unf</td>\n",
       "      <td>0</td>\n",
       "      <td>1140</td>\n",
       "      <td>1140</td>\n",
       "      <td>GasA</td>\n",
       "      <td>Ex</td>\n",
       "      <td>Y</td>\n",
       "      <td>SBrkr</td>\n",
       "      <td>1140</td>\n",
       "      <td>0</td>\n",
       "      <td>0</td>\n",
       "      <td>1140</td>\n",
       "      <td>0</td>\n",
       "      <td>0</td>\n",
       "      <td>1</td>\n",
       "      <td>0</td>\n",
       "      <td>3</td>\n",
       "      <td>1</td>\n",
       "      <td>TA</td>\n",
       "      <td>6</td>\n",
       "      <td>Typ</td>\n",
       "      <td>0</td>\n",
       "      <td>NA</td>\n",
       "      <td>NA</td>\n",
       "      <td>1978.506164</td>\n",
       "      <td>NA</td>\n",
       "      <td>0</td>\n",
       "      <td>0</td>\n",
       "      <td>NA</td>\n",
       "      <td>NA</td>\n",
       "      <td>Y</td>\n",
       "      <td>36</td>\n",
       "      <td>56</td>\n",
       "      <td>0</td>\n",
       "      <td>0</td>\n",
       "      <td>0</td>\n",
       "      <td>0</td>\n",
       "      <td>NA</td>\n",
       "      <td>NA</td>\n",
       "      <td>0</td>\n",
       "      <td>7</td>\n",
       "      <td>2006</td>\n",
       "      <td>WD</td>\n",
       "      <td>Abnorml</td>\n",
       "      <td>84500</td>\n",
       "    </tr>\n",
       "    <tr>\n",
       "      <th>1454</th>\n",
       "      <td>1455</td>\n",
       "      <td>20</td>\n",
       "      <td>FV</td>\n",
       "      <td>62.0</td>\n",
       "      <td>7500</td>\n",
       "      <td>Pave</td>\n",
       "      <td>Pave</td>\n",
       "      <td>Reg</td>\n",
       "      <td>Lvl</td>\n",
       "      <td>AllPub</td>\n",
       "      <td>Inside</td>\n",
       "      <td>Gtl</td>\n",
       "      <td>Somerst</td>\n",
       "      <td>Norm</td>\n",
       "      <td>Norm</td>\n",
       "      <td>1Fam</td>\n",
       "      <td>1Story</td>\n",
       "      <td>7</td>\n",
       "      <td>5</td>\n",
       "      <td>2004</td>\n",
       "      <td>2005</td>\n",
       "      <td>Gable</td>\n",
       "      <td>CompShg</td>\n",
       "      <td>VinylSd</td>\n",
       "      <td>VinylSd</td>\n",
       "      <td>NA</td>\n",
       "      <td>0.0</td>\n",
       "      <td>Gd</td>\n",
       "      <td>TA</td>\n",
       "      <td>PConc</td>\n",
       "      <td>Gd</td>\n",
       "      <td>TA</td>\n",
       "      <td>No</td>\n",
       "      <td>GLQ</td>\n",
       "      <td>410</td>\n",
       "      <td>Unf</td>\n",
       "      <td>0</td>\n",
       "      <td>811</td>\n",
       "      <td>1221</td>\n",
       "      <td>GasA</td>\n",
       "      <td>Ex</td>\n",
       "      <td>Y</td>\n",
       "      <td>SBrkr</td>\n",
       "      <td>1221</td>\n",
       "      <td>0</td>\n",
       "      <td>0</td>\n",
       "      <td>1221</td>\n",
       "      <td>1</td>\n",
       "      <td>0</td>\n",
       "      <td>2</td>\n",
       "      <td>0</td>\n",
       "      <td>2</td>\n",
       "      <td>1</td>\n",
       "      <td>Gd</td>\n",
       "      <td>6</td>\n",
       "      <td>Typ</td>\n",
       "      <td>0</td>\n",
       "      <td>NA</td>\n",
       "      <td>Attchd</td>\n",
       "      <td>2004.000000</td>\n",
       "      <td>RFn</td>\n",
       "      <td>2</td>\n",
       "      <td>400</td>\n",
       "      <td>TA</td>\n",
       "      <td>TA</td>\n",
       "      <td>Y</td>\n",
       "      <td>0</td>\n",
       "      <td>113</td>\n",
       "      <td>0</td>\n",
       "      <td>0</td>\n",
       "      <td>0</td>\n",
       "      <td>0</td>\n",
       "      <td>NA</td>\n",
       "      <td>NA</td>\n",
       "      <td>0</td>\n",
       "      <td>10</td>\n",
       "      <td>2009</td>\n",
       "      <td>WD</td>\n",
       "      <td>Normal</td>\n",
       "      <td>185000</td>\n",
       "    </tr>\n",
       "    <tr>\n",
       "      <th>1455</th>\n",
       "      <td>1456</td>\n",
       "      <td>60</td>\n",
       "      <td>RL</td>\n",
       "      <td>62.0</td>\n",
       "      <td>7917</td>\n",
       "      <td>Pave</td>\n",
       "      <td>NA</td>\n",
       "      <td>Reg</td>\n",
       "      <td>Lvl</td>\n",
       "      <td>AllPub</td>\n",
       "      <td>Inside</td>\n",
       "      <td>Gtl</td>\n",
       "      <td>Gilbert</td>\n",
       "      <td>Norm</td>\n",
       "      <td>Norm</td>\n",
       "      <td>1Fam</td>\n",
       "      <td>2Story</td>\n",
       "      <td>6</td>\n",
       "      <td>5</td>\n",
       "      <td>1999</td>\n",
       "      <td>2000</td>\n",
       "      <td>Gable</td>\n",
       "      <td>CompShg</td>\n",
       "      <td>VinylSd</td>\n",
       "      <td>VinylSd</td>\n",
       "      <td>NA</td>\n",
       "      <td>0.0</td>\n",
       "      <td>TA</td>\n",
       "      <td>TA</td>\n",
       "      <td>PConc</td>\n",
       "      <td>Gd</td>\n",
       "      <td>TA</td>\n",
       "      <td>No</td>\n",
       "      <td>Unf</td>\n",
       "      <td>0</td>\n",
       "      <td>Unf</td>\n",
       "      <td>0</td>\n",
       "      <td>953</td>\n",
       "      <td>953</td>\n",
       "      <td>GasA</td>\n",
       "      <td>Ex</td>\n",
       "      <td>Y</td>\n",
       "      <td>SBrkr</td>\n",
       "      <td>953</td>\n",
       "      <td>694</td>\n",
       "      <td>0</td>\n",
       "      <td>1647</td>\n",
       "      <td>0</td>\n",
       "      <td>0</td>\n",
       "      <td>2</td>\n",
       "      <td>1</td>\n",
       "      <td>3</td>\n",
       "      <td>1</td>\n",
       "      <td>TA</td>\n",
       "      <td>7</td>\n",
       "      <td>Typ</td>\n",
       "      <td>1</td>\n",
       "      <td>TA</td>\n",
       "      <td>Attchd</td>\n",
       "      <td>1999.000000</td>\n",
       "      <td>RFn</td>\n",
       "      <td>2</td>\n",
       "      <td>460</td>\n",
       "      <td>TA</td>\n",
       "      <td>TA</td>\n",
       "      <td>Y</td>\n",
       "      <td>0</td>\n",
       "      <td>40</td>\n",
       "      <td>0</td>\n",
       "      <td>0</td>\n",
       "      <td>0</td>\n",
       "      <td>0</td>\n",
       "      <td>NA</td>\n",
       "      <td>NA</td>\n",
       "      <td>0</td>\n",
       "      <td>8</td>\n",
       "      <td>2007</td>\n",
       "      <td>WD</td>\n",
       "      <td>Normal</td>\n",
       "      <td>175000</td>\n",
       "    </tr>\n",
       "    <tr>\n",
       "      <th>1456</th>\n",
       "      <td>1457</td>\n",
       "      <td>20</td>\n",
       "      <td>RL</td>\n",
       "      <td>85.0</td>\n",
       "      <td>13175</td>\n",
       "      <td>Pave</td>\n",
       "      <td>NA</td>\n",
       "      <td>Reg</td>\n",
       "      <td>Lvl</td>\n",
       "      <td>AllPub</td>\n",
       "      <td>Inside</td>\n",
       "      <td>Gtl</td>\n",
       "      <td>NWAmes</td>\n",
       "      <td>Norm</td>\n",
       "      <td>Norm</td>\n",
       "      <td>1Fam</td>\n",
       "      <td>1Story</td>\n",
       "      <td>6</td>\n",
       "      <td>6</td>\n",
       "      <td>1978</td>\n",
       "      <td>1988</td>\n",
       "      <td>Gable</td>\n",
       "      <td>CompShg</td>\n",
       "      <td>Plywood</td>\n",
       "      <td>Plywood</td>\n",
       "      <td>Stone</td>\n",
       "      <td>119.0</td>\n",
       "      <td>TA</td>\n",
       "      <td>TA</td>\n",
       "      <td>CBlock</td>\n",
       "      <td>Gd</td>\n",
       "      <td>TA</td>\n",
       "      <td>No</td>\n",
       "      <td>ALQ</td>\n",
       "      <td>790</td>\n",
       "      <td>Rec</td>\n",
       "      <td>163</td>\n",
       "      <td>589</td>\n",
       "      <td>1542</td>\n",
       "      <td>GasA</td>\n",
       "      <td>TA</td>\n",
       "      <td>Y</td>\n",
       "      <td>SBrkr</td>\n",
       "      <td>2073</td>\n",
       "      <td>0</td>\n",
       "      <td>0</td>\n",
       "      <td>2073</td>\n",
       "      <td>1</td>\n",
       "      <td>0</td>\n",
       "      <td>2</td>\n",
       "      <td>0</td>\n",
       "      <td>3</td>\n",
       "      <td>1</td>\n",
       "      <td>TA</td>\n",
       "      <td>7</td>\n",
       "      <td>Min1</td>\n",
       "      <td>2</td>\n",
       "      <td>TA</td>\n",
       "      <td>Attchd</td>\n",
       "      <td>1978.000000</td>\n",
       "      <td>Unf</td>\n",
       "      <td>2</td>\n",
       "      <td>500</td>\n",
       "      <td>TA</td>\n",
       "      <td>TA</td>\n",
       "      <td>Y</td>\n",
       "      <td>349</td>\n",
       "      <td>0</td>\n",
       "      <td>0</td>\n",
       "      <td>0</td>\n",
       "      <td>0</td>\n",
       "      <td>0</td>\n",
       "      <td>MnPrv</td>\n",
       "      <td>NA</td>\n",
       "      <td>0</td>\n",
       "      <td>2</td>\n",
       "      <td>2010</td>\n",
       "      <td>WD</td>\n",
       "      <td>Normal</td>\n",
       "      <td>210000</td>\n",
       "    </tr>\n",
       "    <tr>\n",
       "      <th>1457</th>\n",
       "      <td>1458</td>\n",
       "      <td>70</td>\n",
       "      <td>RL</td>\n",
       "      <td>66.0</td>\n",
       "      <td>9042</td>\n",
       "      <td>Pave</td>\n",
       "      <td>NA</td>\n",
       "      <td>Reg</td>\n",
       "      <td>Lvl</td>\n",
       "      <td>AllPub</td>\n",
       "      <td>Inside</td>\n",
       "      <td>Gtl</td>\n",
       "      <td>Crawfor</td>\n",
       "      <td>Norm</td>\n",
       "      <td>Norm</td>\n",
       "      <td>1Fam</td>\n",
       "      <td>2Story</td>\n",
       "      <td>7</td>\n",
       "      <td>9</td>\n",
       "      <td>1941</td>\n",
       "      <td>2006</td>\n",
       "      <td>Gable</td>\n",
       "      <td>CompShg</td>\n",
       "      <td>CemntBd</td>\n",
       "      <td>CmentBd</td>\n",
       "      <td>NA</td>\n",
       "      <td>0.0</td>\n",
       "      <td>Ex</td>\n",
       "      <td>Gd</td>\n",
       "      <td>Stone</td>\n",
       "      <td>TA</td>\n",
       "      <td>Gd</td>\n",
       "      <td>No</td>\n",
       "      <td>GLQ</td>\n",
       "      <td>275</td>\n",
       "      <td>Unf</td>\n",
       "      <td>0</td>\n",
       "      <td>877</td>\n",
       "      <td>1152</td>\n",
       "      <td>GasA</td>\n",
       "      <td>Ex</td>\n",
       "      <td>Y</td>\n",
       "      <td>SBrkr</td>\n",
       "      <td>1188</td>\n",
       "      <td>1152</td>\n",
       "      <td>0</td>\n",
       "      <td>2340</td>\n",
       "      <td>0</td>\n",
       "      <td>0</td>\n",
       "      <td>2</td>\n",
       "      <td>0</td>\n",
       "      <td>4</td>\n",
       "      <td>1</td>\n",
       "      <td>Gd</td>\n",
       "      <td>9</td>\n",
       "      <td>Typ</td>\n",
       "      <td>2</td>\n",
       "      <td>Gd</td>\n",
       "      <td>Attchd</td>\n",
       "      <td>1941.000000</td>\n",
       "      <td>RFn</td>\n",
       "      <td>1</td>\n",
       "      <td>252</td>\n",
       "      <td>TA</td>\n",
       "      <td>TA</td>\n",
       "      <td>Y</td>\n",
       "      <td>0</td>\n",
       "      <td>60</td>\n",
       "      <td>0</td>\n",
       "      <td>0</td>\n",
       "      <td>0</td>\n",
       "      <td>0</td>\n",
       "      <td>GdPrv</td>\n",
       "      <td>Shed</td>\n",
       "      <td>2500</td>\n",
       "      <td>5</td>\n",
       "      <td>2010</td>\n",
       "      <td>WD</td>\n",
       "      <td>Normal</td>\n",
       "      <td>266500</td>\n",
       "    </tr>\n",
       "    <tr>\n",
       "      <th>1458</th>\n",
       "      <td>1459</td>\n",
       "      <td>20</td>\n",
       "      <td>RL</td>\n",
       "      <td>68.0</td>\n",
       "      <td>9717</td>\n",
       "      <td>Pave</td>\n",
       "      <td>NA</td>\n",
       "      <td>Reg</td>\n",
       "      <td>Lvl</td>\n",
       "      <td>AllPub</td>\n",
       "      <td>Inside</td>\n",
       "      <td>Gtl</td>\n",
       "      <td>NAmes</td>\n",
       "      <td>Norm</td>\n",
       "      <td>Norm</td>\n",
       "      <td>1Fam</td>\n",
       "      <td>1Story</td>\n",
       "      <td>5</td>\n",
       "      <td>6</td>\n",
       "      <td>1950</td>\n",
       "      <td>1996</td>\n",
       "      <td>Hip</td>\n",
       "      <td>CompShg</td>\n",
       "      <td>MetalSd</td>\n",
       "      <td>MetalSd</td>\n",
       "      <td>NA</td>\n",
       "      <td>0.0</td>\n",
       "      <td>TA</td>\n",
       "      <td>TA</td>\n",
       "      <td>CBlock</td>\n",
       "      <td>TA</td>\n",
       "      <td>TA</td>\n",
       "      <td>Mn</td>\n",
       "      <td>GLQ</td>\n",
       "      <td>49</td>\n",
       "      <td>Rec</td>\n",
       "      <td>1029</td>\n",
       "      <td>0</td>\n",
       "      <td>1078</td>\n",
       "      <td>GasA</td>\n",
       "      <td>Gd</td>\n",
       "      <td>Y</td>\n",
       "      <td>FuseA</td>\n",
       "      <td>1078</td>\n",
       "      <td>0</td>\n",
       "      <td>0</td>\n",
       "      <td>1078</td>\n",
       "      <td>1</td>\n",
       "      <td>0</td>\n",
       "      <td>1</td>\n",
       "      <td>0</td>\n",
       "      <td>2</td>\n",
       "      <td>1</td>\n",
       "      <td>Gd</td>\n",
       "      <td>5</td>\n",
       "      <td>Typ</td>\n",
       "      <td>0</td>\n",
       "      <td>NA</td>\n",
       "      <td>Attchd</td>\n",
       "      <td>1950.000000</td>\n",
       "      <td>Unf</td>\n",
       "      <td>1</td>\n",
       "      <td>240</td>\n",
       "      <td>TA</td>\n",
       "      <td>TA</td>\n",
       "      <td>Y</td>\n",
       "      <td>366</td>\n",
       "      <td>0</td>\n",
       "      <td>112</td>\n",
       "      <td>0</td>\n",
       "      <td>0</td>\n",
       "      <td>0</td>\n",
       "      <td>NA</td>\n",
       "      <td>NA</td>\n",
       "      <td>0</td>\n",
       "      <td>4</td>\n",
       "      <td>2010</td>\n",
       "      <td>WD</td>\n",
       "      <td>Normal</td>\n",
       "      <td>142125</td>\n",
       "    </tr>\n",
       "    <tr>\n",
       "      <th>1459</th>\n",
       "      <td>1460</td>\n",
       "      <td>20</td>\n",
       "      <td>RL</td>\n",
       "      <td>75.0</td>\n",
       "      <td>9937</td>\n",
       "      <td>Pave</td>\n",
       "      <td>NA</td>\n",
       "      <td>Reg</td>\n",
       "      <td>Lvl</td>\n",
       "      <td>AllPub</td>\n",
       "      <td>Inside</td>\n",
       "      <td>Gtl</td>\n",
       "      <td>Edwards</td>\n",
       "      <td>Norm</td>\n",
       "      <td>Norm</td>\n",
       "      <td>1Fam</td>\n",
       "      <td>1Story</td>\n",
       "      <td>5</td>\n",
       "      <td>6</td>\n",
       "      <td>1965</td>\n",
       "      <td>1965</td>\n",
       "      <td>Gable</td>\n",
       "      <td>CompShg</td>\n",
       "      <td>HdBoard</td>\n",
       "      <td>HdBoard</td>\n",
       "      <td>NA</td>\n",
       "      <td>0.0</td>\n",
       "      <td>Gd</td>\n",
       "      <td>TA</td>\n",
       "      <td>CBlock</td>\n",
       "      <td>TA</td>\n",
       "      <td>TA</td>\n",
       "      <td>No</td>\n",
       "      <td>BLQ</td>\n",
       "      <td>830</td>\n",
       "      <td>LwQ</td>\n",
       "      <td>290</td>\n",
       "      <td>136</td>\n",
       "      <td>1256</td>\n",
       "      <td>GasA</td>\n",
       "      <td>Gd</td>\n",
       "      <td>Y</td>\n",
       "      <td>SBrkr</td>\n",
       "      <td>1256</td>\n",
       "      <td>0</td>\n",
       "      <td>0</td>\n",
       "      <td>1256</td>\n",
       "      <td>1</td>\n",
       "      <td>0</td>\n",
       "      <td>1</td>\n",
       "      <td>1</td>\n",
       "      <td>3</td>\n",
       "      <td>1</td>\n",
       "      <td>TA</td>\n",
       "      <td>6</td>\n",
       "      <td>Typ</td>\n",
       "      <td>0</td>\n",
       "      <td>NA</td>\n",
       "      <td>Attchd</td>\n",
       "      <td>1965.000000</td>\n",
       "      <td>Fin</td>\n",
       "      <td>1</td>\n",
       "      <td>276</td>\n",
       "      <td>TA</td>\n",
       "      <td>TA</td>\n",
       "      <td>Y</td>\n",
       "      <td>736</td>\n",
       "      <td>68</td>\n",
       "      <td>0</td>\n",
       "      <td>0</td>\n",
       "      <td>0</td>\n",
       "      <td>0</td>\n",
       "      <td>NA</td>\n",
       "      <td>NA</td>\n",
       "      <td>0</td>\n",
       "      <td>6</td>\n",
       "      <td>2008</td>\n",
       "      <td>WD</td>\n",
       "      <td>Normal</td>\n",
       "      <td>147500</td>\n",
       "    </tr>\n",
       "  </tbody>\n",
       "</table>\n",
       "</div>"
      ],
      "text/plain": [
       "        Id  MSSubClass MSZoning  LotFrontage  LotArea Street Alley LotShape  \\\n",
       "1450  1451          90       RL         60.0     9000   Pave    NA      Reg   \n",
       "1451  1452          20       RL         78.0     9262   Pave    NA      Reg   \n",
       "1452  1453         180       RM         35.0     3675   Pave    NA      Reg   \n",
       "1453  1454          20       RL         90.0    17217   Pave    NA      Reg   \n",
       "1454  1455          20       FV         62.0     7500   Pave  Pave      Reg   \n",
       "1455  1456          60       RL         62.0     7917   Pave    NA      Reg   \n",
       "1456  1457          20       RL         85.0    13175   Pave    NA      Reg   \n",
       "1457  1458          70       RL         66.0     9042   Pave    NA      Reg   \n",
       "1458  1459          20       RL         68.0     9717   Pave    NA      Reg   \n",
       "1459  1460          20       RL         75.0     9937   Pave    NA      Reg   \n",
       "\n",
       "     LandContour Utilities LotConfig LandSlope Neighborhood Condition1  \\\n",
       "1450         Lvl    AllPub       FR2       Gtl        NAmes       Norm   \n",
       "1451         Lvl    AllPub    Inside       Gtl      Somerst       Norm   \n",
       "1452         Lvl    AllPub    Inside       Gtl      Edwards       Norm   \n",
       "1453         Lvl    AllPub    Inside       Gtl      Mitchel       Norm   \n",
       "1454         Lvl    AllPub    Inside       Gtl      Somerst       Norm   \n",
       "1455         Lvl    AllPub    Inside       Gtl      Gilbert       Norm   \n",
       "1456         Lvl    AllPub    Inside       Gtl       NWAmes       Norm   \n",
       "1457         Lvl    AllPub    Inside       Gtl      Crawfor       Norm   \n",
       "1458         Lvl    AllPub    Inside       Gtl        NAmes       Norm   \n",
       "1459         Lvl    AllPub    Inside       Gtl      Edwards       Norm   \n",
       "\n",
       "     Condition2 BldgType HouseStyle  OverallQual  OverallCond  YearBuilt  \\\n",
       "1450       Norm   Duplex     2Story            5            5       1974   \n",
       "1451       Norm     1Fam     1Story            8            5       2008   \n",
       "1452       Norm   TwnhsE       SLvl            5            5       2005   \n",
       "1453       Norm     1Fam     1Story            5            5       2006   \n",
       "1454       Norm     1Fam     1Story            7            5       2004   \n",
       "1455       Norm     1Fam     2Story            6            5       1999   \n",
       "1456       Norm     1Fam     1Story            6            6       1978   \n",
       "1457       Norm     1Fam     2Story            7            9       1941   \n",
       "1458       Norm     1Fam     1Story            5            6       1950   \n",
       "1459       Norm     1Fam     1Story            5            6       1965   \n",
       "\n",
       "      YearRemodAdd RoofStyle RoofMatl Exterior1st Exterior2nd MasVnrType  \\\n",
       "1450          1974     Gable  CompShg     VinylSd     VinylSd         NA   \n",
       "1451          2009     Gable  CompShg     CemntBd     CmentBd      Stone   \n",
       "1452          2005     Gable  CompShg     VinylSd     VinylSd    BrkFace   \n",
       "1453          2006     Gable  CompShg     VinylSd     VinylSd         NA   \n",
       "1454          2005     Gable  CompShg     VinylSd     VinylSd         NA   \n",
       "1455          2000     Gable  CompShg     VinylSd     VinylSd         NA   \n",
       "1456          1988     Gable  CompShg     Plywood     Plywood      Stone   \n",
       "1457          2006     Gable  CompShg     CemntBd     CmentBd         NA   \n",
       "1458          1996       Hip  CompShg     MetalSd     MetalSd         NA   \n",
       "1459          1965     Gable  CompShg     HdBoard     HdBoard         NA   \n",
       "\n",
       "      MasVnrArea ExterQual ExterCond Foundation BsmtQual BsmtCond  \\\n",
       "1450         0.0        TA        TA     CBlock       Gd       TA   \n",
       "1451       194.0        Gd        TA      PConc       Gd       TA   \n",
       "1452        80.0        TA        TA      PConc       Gd       TA   \n",
       "1453         0.0        TA        TA      PConc       Gd       TA   \n",
       "1454         0.0        Gd        TA      PConc       Gd       TA   \n",
       "1455         0.0        TA        TA      PConc       Gd       TA   \n",
       "1456       119.0        TA        TA     CBlock       Gd       TA   \n",
       "1457         0.0        Ex        Gd      Stone       TA       Gd   \n",
       "1458         0.0        TA        TA     CBlock       TA       TA   \n",
       "1459         0.0        Gd        TA     CBlock       TA       TA   \n",
       "\n",
       "     BsmtExposure BsmtFinType1  BsmtFinSF1 BsmtFinType2  BsmtFinSF2  \\\n",
       "1450           No          Unf           0          Unf           0   \n",
       "1451           No          Unf           0          Unf           0   \n",
       "1452           Gd          GLQ         547          Unf           0   \n",
       "1453           No          Unf           0          Unf           0   \n",
       "1454           No          GLQ         410          Unf           0   \n",
       "1455           No          Unf           0          Unf           0   \n",
       "1456           No          ALQ         790          Rec         163   \n",
       "1457           No          GLQ         275          Unf           0   \n",
       "1458           Mn          GLQ          49          Rec        1029   \n",
       "1459           No          BLQ         830          LwQ         290   \n",
       "\n",
       "      BsmtUnfSF  TotalBsmtSF Heating HeatingQC CentralAir Electrical  \\\n",
       "1450        896          896    GasA        TA          Y      SBrkr   \n",
       "1451       1573         1573    GasA        Ex          Y      SBrkr   \n",
       "1452          0          547    GasA        Gd          Y      SBrkr   \n",
       "1453       1140         1140    GasA        Ex          Y      SBrkr   \n",
       "1454        811         1221    GasA        Ex          Y      SBrkr   \n",
       "1455        953          953    GasA        Ex          Y      SBrkr   \n",
       "1456        589         1542    GasA        TA          Y      SBrkr   \n",
       "1457        877         1152    GasA        Ex          Y      SBrkr   \n",
       "1458          0         1078    GasA        Gd          Y      FuseA   \n",
       "1459        136         1256    GasA        Gd          Y      SBrkr   \n",
       "\n",
       "      1stFlrSF  2ndFlrSF  LowQualFinSF  GrLivArea  BsmtFullBath  BsmtHalfBath  \\\n",
       "1450       896       896             0       1792             0             0   \n",
       "1451      1578         0             0       1578             0             0   \n",
       "1452      1072         0             0       1072             1             0   \n",
       "1453      1140         0             0       1140             0             0   \n",
       "1454      1221         0             0       1221             1             0   \n",
       "1455       953       694             0       1647             0             0   \n",
       "1456      2073         0             0       2073             1             0   \n",
       "1457      1188      1152             0       2340             0             0   \n",
       "1458      1078         0             0       1078             1             0   \n",
       "1459      1256         0             0       1256             1             0   \n",
       "\n",
       "      FullBath  HalfBath  BedroomAbvGr  KitchenAbvGr KitchenQual  \\\n",
       "1450         2         2             4             2          TA   \n",
       "1451         2         0             3             1          Ex   \n",
       "1452         1         0             2             1          TA   \n",
       "1453         1         0             3             1          TA   \n",
       "1454         2         0             2             1          Gd   \n",
       "1455         2         1             3             1          TA   \n",
       "1456         2         0             3             1          TA   \n",
       "1457         2         0             4             1          Gd   \n",
       "1458         1         0             2             1          Gd   \n",
       "1459         1         1             3             1          TA   \n",
       "\n",
       "      TotRmsAbvGrd Functional  Fireplaces FireplaceQu GarageType  GarageYrBlt  \\\n",
       "1450             8        Typ           0          NA         NA  1978.506164   \n",
       "1451             7        Typ           1          Gd     Attchd  2008.000000   \n",
       "1452             5        Typ           0          NA    Basment  2005.000000   \n",
       "1453             6        Typ           0          NA         NA  1978.506164   \n",
       "1454             6        Typ           0          NA     Attchd  2004.000000   \n",
       "1455             7        Typ           1          TA     Attchd  1999.000000   \n",
       "1456             7       Min1           2          TA     Attchd  1978.000000   \n",
       "1457             9        Typ           2          Gd     Attchd  1941.000000   \n",
       "1458             5        Typ           0          NA     Attchd  1950.000000   \n",
       "1459             6        Typ           0          NA     Attchd  1965.000000   \n",
       "\n",
       "     GarageFinish  GarageCars  GarageArea GarageQual GarageCond PavedDrive  \\\n",
       "1450           NA           0           0         NA         NA          Y   \n",
       "1451          Fin           3         840         TA         TA          Y   \n",
       "1452          Fin           2         525         TA         TA          Y   \n",
       "1453           NA           0           0         NA         NA          Y   \n",
       "1454          RFn           2         400         TA         TA          Y   \n",
       "1455          RFn           2         460         TA         TA          Y   \n",
       "1456          Unf           2         500         TA         TA          Y   \n",
       "1457          RFn           1         252         TA         TA          Y   \n",
       "1458          Unf           1         240         TA         TA          Y   \n",
       "1459          Fin           1         276         TA         TA          Y   \n",
       "\n",
       "      WoodDeckSF  OpenPorchSF  EnclosedPorch  3SsnPorch  ScreenPorch  \\\n",
       "1450          32           45              0          0            0   \n",
       "1451           0           36              0          0            0   \n",
       "1452           0           28              0          0            0   \n",
       "1453          36           56              0          0            0   \n",
       "1454           0          113              0          0            0   \n",
       "1455           0           40              0          0            0   \n",
       "1456         349            0              0          0            0   \n",
       "1457           0           60              0          0            0   \n",
       "1458         366            0            112          0            0   \n",
       "1459         736           68              0          0            0   \n",
       "\n",
       "      PoolArea  Fence MiscFeature  MiscVal  MoSold  YrSold SaleType  \\\n",
       "1450         0     NA          NA        0       9    2009       WD   \n",
       "1451         0     NA          NA        0       5    2009      New   \n",
       "1452         0     NA          NA        0       5    2006       WD   \n",
       "1453         0     NA          NA        0       7    2006       WD   \n",
       "1454         0     NA          NA        0      10    2009       WD   \n",
       "1455         0     NA          NA        0       8    2007       WD   \n",
       "1456         0  MnPrv          NA        0       2    2010       WD   \n",
       "1457         0  GdPrv        Shed     2500       5    2010       WD   \n",
       "1458         0     NA          NA        0       4    2010       WD   \n",
       "1459         0     NA          NA        0       6    2008       WD   \n",
       "\n",
       "     SaleCondition  SalePrice  \n",
       "1450        Normal     136000  \n",
       "1451       Partial     287090  \n",
       "1452        Normal     145000  \n",
       "1453       Abnorml      84500  \n",
       "1454        Normal     185000  \n",
       "1455        Normal     175000  \n",
       "1456        Normal     210000  \n",
       "1457        Normal     266500  \n",
       "1458        Normal     142125  \n",
       "1459        Normal     147500  "
      ]
     },
     "execution_count": 244,
     "metadata": {},
     "output_type": "execute_result"
    }
   ],
   "source": [
    "train.tail(10)\n",
    "\n"
   ]
  },
  {
   "cell_type": "code",
   "execution_count": null,
   "id": "17ee8934-e2a2-4c6a-985c-4c7a0ed14df9",
   "metadata": {},
   "outputs": [
    {
     "data": {
      "text/html": [
       "<div>\n",
       "<style scoped>\n",
       "    .dataframe tbody tr th:only-of-type {\n",
       "        vertical-align: middle;\n",
       "    }\n",
       "\n",
       "    .dataframe tbody tr th {\n",
       "        vertical-align: top;\n",
       "    }\n",
       "\n",
       "    .dataframe thead th {\n",
       "        text-align: right;\n",
       "    }\n",
       "</style>\n",
       "<table border=\"1\" class=\"dataframe\">\n",
       "  <thead>\n",
       "    <tr style=\"text-align: right;\">\n",
       "      <th></th>\n",
       "      <th>Id</th>\n",
       "      <th>MSSubClass</th>\n",
       "      <th>MSZoning</th>\n",
       "      <th>LotFrontage</th>\n",
       "      <th>LotArea</th>\n",
       "      <th>Street</th>\n",
       "      <th>Alley</th>\n",
       "      <th>LotShape</th>\n",
       "      <th>LandContour</th>\n",
       "      <th>Utilities</th>\n",
       "      <th>LotConfig</th>\n",
       "      <th>LandSlope</th>\n",
       "      <th>Neighborhood</th>\n",
       "      <th>Condition1</th>\n",
       "      <th>Condition2</th>\n",
       "      <th>BldgType</th>\n",
       "      <th>HouseStyle</th>\n",
       "      <th>OverallQual</th>\n",
       "      <th>OverallCond</th>\n",
       "      <th>YearBuilt</th>\n",
       "      <th>YearRemodAdd</th>\n",
       "      <th>RoofStyle</th>\n",
       "      <th>RoofMatl</th>\n",
       "      <th>Exterior1st</th>\n",
       "      <th>Exterior2nd</th>\n",
       "      <th>MasVnrType</th>\n",
       "      <th>MasVnrArea</th>\n",
       "      <th>ExterQual</th>\n",
       "      <th>ExterCond</th>\n",
       "      <th>Foundation</th>\n",
       "      <th>BsmtQual</th>\n",
       "      <th>BsmtCond</th>\n",
       "      <th>BsmtExposure</th>\n",
       "      <th>BsmtFinType1</th>\n",
       "      <th>BsmtFinSF1</th>\n",
       "      <th>BsmtFinType2</th>\n",
       "      <th>BsmtFinSF2</th>\n",
       "      <th>BsmtUnfSF</th>\n",
       "      <th>TotalBsmtSF</th>\n",
       "      <th>Heating</th>\n",
       "      <th>HeatingQC</th>\n",
       "      <th>CentralAir</th>\n",
       "      <th>Electrical</th>\n",
       "      <th>1stFlrSF</th>\n",
       "      <th>2ndFlrSF</th>\n",
       "      <th>LowQualFinSF</th>\n",
       "      <th>GrLivArea</th>\n",
       "      <th>BsmtFullBath</th>\n",
       "      <th>BsmtHalfBath</th>\n",
       "      <th>FullBath</th>\n",
       "      <th>HalfBath</th>\n",
       "      <th>BedroomAbvGr</th>\n",
       "      <th>KitchenAbvGr</th>\n",
       "      <th>KitchenQual</th>\n",
       "      <th>TotRmsAbvGrd</th>\n",
       "      <th>Functional</th>\n",
       "      <th>Fireplaces</th>\n",
       "      <th>FireplaceQu</th>\n",
       "      <th>GarageType</th>\n",
       "      <th>GarageYrBlt</th>\n",
       "      <th>GarageFinish</th>\n",
       "      <th>GarageCars</th>\n",
       "      <th>GarageArea</th>\n",
       "      <th>GarageQual</th>\n",
       "      <th>GarageCond</th>\n",
       "      <th>PavedDrive</th>\n",
       "      <th>WoodDeckSF</th>\n",
       "      <th>OpenPorchSF</th>\n",
       "      <th>EnclosedPorch</th>\n",
       "      <th>3SsnPorch</th>\n",
       "      <th>ScreenPorch</th>\n",
       "      <th>PoolArea</th>\n",
       "      <th>Fence</th>\n",
       "      <th>MiscFeature</th>\n",
       "      <th>MiscVal</th>\n",
       "      <th>MoSold</th>\n",
       "      <th>YrSold</th>\n",
       "      <th>SaleType</th>\n",
       "      <th>SaleCondition</th>\n",
       "      <th>SalePrice</th>\n",
       "    </tr>\n",
       "  </thead>\n",
       "  <tbody>\n",
       "    <tr>\n",
       "      <th>1109</th>\n",
       "      <td>1110</td>\n",
       "      <td>20</td>\n",
       "      <td>RL</td>\n",
       "      <td>107.000000</td>\n",
       "      <td>11362</td>\n",
       "      <td>Pave</td>\n",
       "      <td>NA</td>\n",
       "      <td>IR1</td>\n",
       "      <td>Lvl</td>\n",
       "      <td>AllPub</td>\n",
       "      <td>Inside</td>\n",
       "      <td>Gtl</td>\n",
       "      <td>NridgHt</td>\n",
       "      <td>Norm</td>\n",
       "      <td>Norm</td>\n",
       "      <td>1Fam</td>\n",
       "      <td>1Story</td>\n",
       "      <td>8</td>\n",
       "      <td>5</td>\n",
       "      <td>2004</td>\n",
       "      <td>2005</td>\n",
       "      <td>Gable</td>\n",
       "      <td>CompShg</td>\n",
       "      <td>MetalSd</td>\n",
       "      <td>MetalSd</td>\n",
       "      <td>Stone</td>\n",
       "      <td>42.0</td>\n",
       "      <td>Gd</td>\n",
       "      <td>TA</td>\n",
       "      <td>PConc</td>\n",
       "      <td>Ex</td>\n",
       "      <td>TA</td>\n",
       "      <td>Mn</td>\n",
       "      <td>GLQ</td>\n",
       "      <td>1039</td>\n",
       "      <td>Unf</td>\n",
       "      <td>0</td>\n",
       "      <td>797</td>\n",
       "      <td>1836</td>\n",
       "      <td>GasA</td>\n",
       "      <td>Ex</td>\n",
       "      <td>Y</td>\n",
       "      <td>SBrkr</td>\n",
       "      <td>1836</td>\n",
       "      <td>0</td>\n",
       "      <td>0</td>\n",
       "      <td>1836</td>\n",
       "      <td>1</td>\n",
       "      <td>0</td>\n",
       "      <td>2</td>\n",
       "      <td>0</td>\n",
       "      <td>3</td>\n",
       "      <td>1</td>\n",
       "      <td>Gd</td>\n",
       "      <td>7</td>\n",
       "      <td>Typ</td>\n",
       "      <td>1</td>\n",
       "      <td>Gd</td>\n",
       "      <td>Attchd</td>\n",
       "      <td>2004.0</td>\n",
       "      <td>Fin</td>\n",
       "      <td>3</td>\n",
       "      <td>862</td>\n",
       "      <td>TA</td>\n",
       "      <td>TA</td>\n",
       "      <td>Y</td>\n",
       "      <td>125</td>\n",
       "      <td>185</td>\n",
       "      <td>0</td>\n",
       "      <td>0</td>\n",
       "      <td>0</td>\n",
       "      <td>0</td>\n",
       "      <td>NA</td>\n",
       "      <td>NA</td>\n",
       "      <td>0</td>\n",
       "      <td>3</td>\n",
       "      <td>2009</td>\n",
       "      <td>WD</td>\n",
       "      <td>Normal</td>\n",
       "      <td>280000</td>\n",
       "    </tr>\n",
       "    <tr>\n",
       "      <th>422</th>\n",
       "      <td>423</td>\n",
       "      <td>20</td>\n",
       "      <td>RL</td>\n",
       "      <td>100.000000</td>\n",
       "      <td>21750</td>\n",
       "      <td>Pave</td>\n",
       "      <td>NA</td>\n",
       "      <td>Reg</td>\n",
       "      <td>HLS</td>\n",
       "      <td>AllPub</td>\n",
       "      <td>Inside</td>\n",
       "      <td>Mod</td>\n",
       "      <td>Mitchel</td>\n",
       "      <td>Artery</td>\n",
       "      <td>Norm</td>\n",
       "      <td>1Fam</td>\n",
       "      <td>1Story</td>\n",
       "      <td>5</td>\n",
       "      <td>5</td>\n",
       "      <td>1954</td>\n",
       "      <td>1954</td>\n",
       "      <td>Hip</td>\n",
       "      <td>CompShg</td>\n",
       "      <td>HdBoard</td>\n",
       "      <td>HdBoard</td>\n",
       "      <td>NA</td>\n",
       "      <td>0.0</td>\n",
       "      <td>TA</td>\n",
       "      <td>TA</td>\n",
       "      <td>CBlock</td>\n",
       "      <td>TA</td>\n",
       "      <td>TA</td>\n",
       "      <td>No</td>\n",
       "      <td>Unf</td>\n",
       "      <td>0</td>\n",
       "      <td>Unf</td>\n",
       "      <td>0</td>\n",
       "      <td>988</td>\n",
       "      <td>988</td>\n",
       "      <td>GasA</td>\n",
       "      <td>Ex</td>\n",
       "      <td>Y</td>\n",
       "      <td>FuseA</td>\n",
       "      <td>988</td>\n",
       "      <td>0</td>\n",
       "      <td>0</td>\n",
       "      <td>988</td>\n",
       "      <td>0</td>\n",
       "      <td>0</td>\n",
       "      <td>1</td>\n",
       "      <td>0</td>\n",
       "      <td>2</td>\n",
       "      <td>1</td>\n",
       "      <td>TA</td>\n",
       "      <td>4</td>\n",
       "      <td>Typ</td>\n",
       "      <td>0</td>\n",
       "      <td>NA</td>\n",
       "      <td>Attchd</td>\n",
       "      <td>1954.0</td>\n",
       "      <td>RFn</td>\n",
       "      <td>2</td>\n",
       "      <td>520</td>\n",
       "      <td>TA</td>\n",
       "      <td>TA</td>\n",
       "      <td>N</td>\n",
       "      <td>0</td>\n",
       "      <td>0</td>\n",
       "      <td>0</td>\n",
       "      <td>0</td>\n",
       "      <td>0</td>\n",
       "      <td>0</td>\n",
       "      <td>NA</td>\n",
       "      <td>NA</td>\n",
       "      <td>0</td>\n",
       "      <td>2</td>\n",
       "      <td>2008</td>\n",
       "      <td>WD</td>\n",
       "      <td>Normal</td>\n",
       "      <td>113000</td>\n",
       "    </tr>\n",
       "    <tr>\n",
       "      <th>126</th>\n",
       "      <td>127</td>\n",
       "      <td>120</td>\n",
       "      <td>RL</td>\n",
       "      <td>70.049958</td>\n",
       "      <td>4928</td>\n",
       "      <td>Pave</td>\n",
       "      <td>NA</td>\n",
       "      <td>IR1</td>\n",
       "      <td>Lvl</td>\n",
       "      <td>AllPub</td>\n",
       "      <td>Inside</td>\n",
       "      <td>Gtl</td>\n",
       "      <td>NPkVill</td>\n",
       "      <td>Norm</td>\n",
       "      <td>Norm</td>\n",
       "      <td>TwnhsE</td>\n",
       "      <td>1Story</td>\n",
       "      <td>6</td>\n",
       "      <td>5</td>\n",
       "      <td>1976</td>\n",
       "      <td>1976</td>\n",
       "      <td>Gable</td>\n",
       "      <td>CompShg</td>\n",
       "      <td>Plywood</td>\n",
       "      <td>Plywood</td>\n",
       "      <td>NA</td>\n",
       "      <td>0.0</td>\n",
       "      <td>TA</td>\n",
       "      <td>TA</td>\n",
       "      <td>CBlock</td>\n",
       "      <td>Gd</td>\n",
       "      <td>TA</td>\n",
       "      <td>No</td>\n",
       "      <td>ALQ</td>\n",
       "      <td>120</td>\n",
       "      <td>Unf</td>\n",
       "      <td>0</td>\n",
       "      <td>958</td>\n",
       "      <td>1078</td>\n",
       "      <td>GasA</td>\n",
       "      <td>TA</td>\n",
       "      <td>Y</td>\n",
       "      <td>SBrkr</td>\n",
       "      <td>958</td>\n",
       "      <td>0</td>\n",
       "      <td>0</td>\n",
       "      <td>958</td>\n",
       "      <td>0</td>\n",
       "      <td>0</td>\n",
       "      <td>2</td>\n",
       "      <td>0</td>\n",
       "      <td>2</td>\n",
       "      <td>1</td>\n",
       "      <td>TA</td>\n",
       "      <td>5</td>\n",
       "      <td>Typ</td>\n",
       "      <td>1</td>\n",
       "      <td>TA</td>\n",
       "      <td>Attchd</td>\n",
       "      <td>1977.0</td>\n",
       "      <td>RFn</td>\n",
       "      <td>2</td>\n",
       "      <td>440</td>\n",
       "      <td>TA</td>\n",
       "      <td>TA</td>\n",
       "      <td>Y</td>\n",
       "      <td>0</td>\n",
       "      <td>205</td>\n",
       "      <td>0</td>\n",
       "      <td>0</td>\n",
       "      <td>0</td>\n",
       "      <td>0</td>\n",
       "      <td>NA</td>\n",
       "      <td>NA</td>\n",
       "      <td>0</td>\n",
       "      <td>2</td>\n",
       "      <td>2007</td>\n",
       "      <td>WD</td>\n",
       "      <td>Normal</td>\n",
       "      <td>128000</td>\n",
       "    </tr>\n",
       "    <tr>\n",
       "      <th>382</th>\n",
       "      <td>383</td>\n",
       "      <td>60</td>\n",
       "      <td>RL</td>\n",
       "      <td>79.000000</td>\n",
       "      <td>9245</td>\n",
       "      <td>Pave</td>\n",
       "      <td>NA</td>\n",
       "      <td>IR1</td>\n",
       "      <td>Lvl</td>\n",
       "      <td>AllPub</td>\n",
       "      <td>Inside</td>\n",
       "      <td>Gtl</td>\n",
       "      <td>CollgCr</td>\n",
       "      <td>Norm</td>\n",
       "      <td>Norm</td>\n",
       "      <td>1Fam</td>\n",
       "      <td>2Story</td>\n",
       "      <td>7</td>\n",
       "      <td>5</td>\n",
       "      <td>2006</td>\n",
       "      <td>2006</td>\n",
       "      <td>Gable</td>\n",
       "      <td>CompShg</td>\n",
       "      <td>VinylSd</td>\n",
       "      <td>VinylSd</td>\n",
       "      <td>NA</td>\n",
       "      <td>0.0</td>\n",
       "      <td>Gd</td>\n",
       "      <td>TA</td>\n",
       "      <td>PConc</td>\n",
       "      <td>Gd</td>\n",
       "      <td>TA</td>\n",
       "      <td>Av</td>\n",
       "      <td>Unf</td>\n",
       "      <td>0</td>\n",
       "      <td>Unf</td>\n",
       "      <td>0</td>\n",
       "      <td>939</td>\n",
       "      <td>939</td>\n",
       "      <td>GasA</td>\n",
       "      <td>Ex</td>\n",
       "      <td>Y</td>\n",
       "      <td>SBrkr</td>\n",
       "      <td>939</td>\n",
       "      <td>858</td>\n",
       "      <td>0</td>\n",
       "      <td>1797</td>\n",
       "      <td>0</td>\n",
       "      <td>0</td>\n",
       "      <td>2</td>\n",
       "      <td>1</td>\n",
       "      <td>3</td>\n",
       "      <td>1</td>\n",
       "      <td>Gd</td>\n",
       "      <td>8</td>\n",
       "      <td>Typ</td>\n",
       "      <td>0</td>\n",
       "      <td>NA</td>\n",
       "      <td>Attchd</td>\n",
       "      <td>2006.0</td>\n",
       "      <td>RFn</td>\n",
       "      <td>2</td>\n",
       "      <td>639</td>\n",
       "      <td>TA</td>\n",
       "      <td>TA</td>\n",
       "      <td>Y</td>\n",
       "      <td>144</td>\n",
       "      <td>53</td>\n",
       "      <td>0</td>\n",
       "      <td>0</td>\n",
       "      <td>0</td>\n",
       "      <td>0</td>\n",
       "      <td>NA</td>\n",
       "      <td>NA</td>\n",
       "      <td>0</td>\n",
       "      <td>4</td>\n",
       "      <td>2007</td>\n",
       "      <td>WD</td>\n",
       "      <td>Normal</td>\n",
       "      <td>213500</td>\n",
       "    </tr>\n",
       "    <tr>\n",
       "      <th>1187</th>\n",
       "      <td>1188</td>\n",
       "      <td>20</td>\n",
       "      <td>RL</td>\n",
       "      <td>89.000000</td>\n",
       "      <td>12461</td>\n",
       "      <td>Pave</td>\n",
       "      <td>NA</td>\n",
       "      <td>Reg</td>\n",
       "      <td>Lvl</td>\n",
       "      <td>AllPub</td>\n",
       "      <td>Corner</td>\n",
       "      <td>Gtl</td>\n",
       "      <td>NoRidge</td>\n",
       "      <td>Norm</td>\n",
       "      <td>Norm</td>\n",
       "      <td>1Fam</td>\n",
       "      <td>1Story</td>\n",
       "      <td>8</td>\n",
       "      <td>5</td>\n",
       "      <td>1994</td>\n",
       "      <td>1995</td>\n",
       "      <td>Gable</td>\n",
       "      <td>CompShg</td>\n",
       "      <td>ImStucc</td>\n",
       "      <td>ImStucc</td>\n",
       "      <td>NA</td>\n",
       "      <td>0.0</td>\n",
       "      <td>Gd</td>\n",
       "      <td>TA</td>\n",
       "      <td>PConc</td>\n",
       "      <td>Gd</td>\n",
       "      <td>TA</td>\n",
       "      <td>No</td>\n",
       "      <td>GLQ</td>\n",
       "      <td>1456</td>\n",
       "      <td>Unf</td>\n",
       "      <td>0</td>\n",
       "      <td>168</td>\n",
       "      <td>1624</td>\n",
       "      <td>GasA</td>\n",
       "      <td>Ex</td>\n",
       "      <td>Y</td>\n",
       "      <td>SBrkr</td>\n",
       "      <td>1624</td>\n",
       "      <td>0</td>\n",
       "      <td>0</td>\n",
       "      <td>1624</td>\n",
       "      <td>1</td>\n",
       "      <td>0</td>\n",
       "      <td>2</td>\n",
       "      <td>0</td>\n",
       "      <td>2</td>\n",
       "      <td>1</td>\n",
       "      <td>Gd</td>\n",
       "      <td>5</td>\n",
       "      <td>Typ</td>\n",
       "      <td>1</td>\n",
       "      <td>Fa</td>\n",
       "      <td>Attchd</td>\n",
       "      <td>1994.0</td>\n",
       "      <td>RFn</td>\n",
       "      <td>3</td>\n",
       "      <td>757</td>\n",
       "      <td>TA</td>\n",
       "      <td>TA</td>\n",
       "      <td>Y</td>\n",
       "      <td>0</td>\n",
       "      <td>114</td>\n",
       "      <td>192</td>\n",
       "      <td>0</td>\n",
       "      <td>0</td>\n",
       "      <td>0</td>\n",
       "      <td>GdPrv</td>\n",
       "      <td>NA</td>\n",
       "      <td>0</td>\n",
       "      <td>7</td>\n",
       "      <td>2006</td>\n",
       "      <td>WD</td>\n",
       "      <td>Normal</td>\n",
       "      <td>262000</td>\n",
       "    </tr>\n",
       "    <tr>\n",
       "      <th>764</th>\n",
       "      <td>765</td>\n",
       "      <td>120</td>\n",
       "      <td>RL</td>\n",
       "      <td>30.000000</td>\n",
       "      <td>9549</td>\n",
       "      <td>Pave</td>\n",
       "      <td>NA</td>\n",
       "      <td>IR1</td>\n",
       "      <td>Lvl</td>\n",
       "      <td>AllPub</td>\n",
       "      <td>CulDSac</td>\n",
       "      <td>Gtl</td>\n",
       "      <td>Veenker</td>\n",
       "      <td>Norm</td>\n",
       "      <td>Norm</td>\n",
       "      <td>TwnhsE</td>\n",
       "      <td>1Story</td>\n",
       "      <td>8</td>\n",
       "      <td>5</td>\n",
       "      <td>1995</td>\n",
       "      <td>1996</td>\n",
       "      <td>Hip</td>\n",
       "      <td>CompShg</td>\n",
       "      <td>BrkFace</td>\n",
       "      <td>BrkFace</td>\n",
       "      <td>NA</td>\n",
       "      <td>0.0</td>\n",
       "      <td>Gd</td>\n",
       "      <td>Gd</td>\n",
       "      <td>PConc</td>\n",
       "      <td>Gd</td>\n",
       "      <td>Gd</td>\n",
       "      <td>Av</td>\n",
       "      <td>LwQ</td>\n",
       "      <td>437</td>\n",
       "      <td>GLQ</td>\n",
       "      <td>1057</td>\n",
       "      <td>0</td>\n",
       "      <td>1494</td>\n",
       "      <td>GasA</td>\n",
       "      <td>Ex</td>\n",
       "      <td>Y</td>\n",
       "      <td>SBrkr</td>\n",
       "      <td>1494</td>\n",
       "      <td>0</td>\n",
       "      <td>0</td>\n",
       "      <td>1494</td>\n",
       "      <td>1</td>\n",
       "      <td>0</td>\n",
       "      <td>1</td>\n",
       "      <td>1</td>\n",
       "      <td>2</td>\n",
       "      <td>1</td>\n",
       "      <td>Ex</td>\n",
       "      <td>6</td>\n",
       "      <td>Typ</td>\n",
       "      <td>1</td>\n",
       "      <td>Gd</td>\n",
       "      <td>Attchd</td>\n",
       "      <td>1995.0</td>\n",
       "      <td>Fin</td>\n",
       "      <td>2</td>\n",
       "      <td>481</td>\n",
       "      <td>TA</td>\n",
       "      <td>TA</td>\n",
       "      <td>Y</td>\n",
       "      <td>0</td>\n",
       "      <td>30</td>\n",
       "      <td>0</td>\n",
       "      <td>0</td>\n",
       "      <td>216</td>\n",
       "      <td>0</td>\n",
       "      <td>NA</td>\n",
       "      <td>NA</td>\n",
       "      <td>0</td>\n",
       "      <td>4</td>\n",
       "      <td>2006</td>\n",
       "      <td>WD</td>\n",
       "      <td>Normal</td>\n",
       "      <td>270000</td>\n",
       "    </tr>\n",
       "    <tr>\n",
       "      <th>652</th>\n",
       "      <td>653</td>\n",
       "      <td>60</td>\n",
       "      <td>RL</td>\n",
       "      <td>70.000000</td>\n",
       "      <td>8750</td>\n",
       "      <td>Pave</td>\n",
       "      <td>NA</td>\n",
       "      <td>Reg</td>\n",
       "      <td>Lvl</td>\n",
       "      <td>AllPub</td>\n",
       "      <td>Inside</td>\n",
       "      <td>Gtl</td>\n",
       "      <td>CollgCr</td>\n",
       "      <td>Norm</td>\n",
       "      <td>Norm</td>\n",
       "      <td>1Fam</td>\n",
       "      <td>2Story</td>\n",
       "      <td>7</td>\n",
       "      <td>5</td>\n",
       "      <td>1996</td>\n",
       "      <td>1996</td>\n",
       "      <td>Gable</td>\n",
       "      <td>CompShg</td>\n",
       "      <td>VinylSd</td>\n",
       "      <td>VinylSd</td>\n",
       "      <td>NA</td>\n",
       "      <td>0.0</td>\n",
       "      <td>Gd</td>\n",
       "      <td>TA</td>\n",
       "      <td>PConc</td>\n",
       "      <td>Gd</td>\n",
       "      <td>TA</td>\n",
       "      <td>No</td>\n",
       "      <td>Unf</td>\n",
       "      <td>0</td>\n",
       "      <td>Unf</td>\n",
       "      <td>0</td>\n",
       "      <td>880</td>\n",
       "      <td>880</td>\n",
       "      <td>GasA</td>\n",
       "      <td>Ex</td>\n",
       "      <td>Y</td>\n",
       "      <td>SBrkr</td>\n",
       "      <td>909</td>\n",
       "      <td>807</td>\n",
       "      <td>0</td>\n",
       "      <td>1716</td>\n",
       "      <td>0</td>\n",
       "      <td>0</td>\n",
       "      <td>2</td>\n",
       "      <td>1</td>\n",
       "      <td>2</td>\n",
       "      <td>1</td>\n",
       "      <td>Gd</td>\n",
       "      <td>7</td>\n",
       "      <td>Typ</td>\n",
       "      <td>1</td>\n",
       "      <td>TA</td>\n",
       "      <td>Attchd</td>\n",
       "      <td>1996.0</td>\n",
       "      <td>RFn</td>\n",
       "      <td>2</td>\n",
       "      <td>512</td>\n",
       "      <td>TA</td>\n",
       "      <td>TA</td>\n",
       "      <td>Y</td>\n",
       "      <td>0</td>\n",
       "      <td>120</td>\n",
       "      <td>0</td>\n",
       "      <td>0</td>\n",
       "      <td>0</td>\n",
       "      <td>0</td>\n",
       "      <td>NA</td>\n",
       "      <td>NA</td>\n",
       "      <td>0</td>\n",
       "      <td>7</td>\n",
       "      <td>2009</td>\n",
       "      <td>WD</td>\n",
       "      <td>Normal</td>\n",
       "      <td>191000</td>\n",
       "    </tr>\n",
       "    <tr>\n",
       "      <th>584</th>\n",
       "      <td>585</td>\n",
       "      <td>50</td>\n",
       "      <td>RM</td>\n",
       "      <td>51.000000</td>\n",
       "      <td>6120</td>\n",
       "      <td>Pave</td>\n",
       "      <td>NA</td>\n",
       "      <td>Reg</td>\n",
       "      <td>Lvl</td>\n",
       "      <td>AllPub</td>\n",
       "      <td>Inside</td>\n",
       "      <td>Gtl</td>\n",
       "      <td>BrkSide</td>\n",
       "      <td>Norm</td>\n",
       "      <td>Norm</td>\n",
       "      <td>1Fam</td>\n",
       "      <td>1.5Fin</td>\n",
       "      <td>4</td>\n",
       "      <td>7</td>\n",
       "      <td>1935</td>\n",
       "      <td>1995</td>\n",
       "      <td>Gable</td>\n",
       "      <td>CompShg</td>\n",
       "      <td>AsbShng</td>\n",
       "      <td>AsbShng</td>\n",
       "      <td>NA</td>\n",
       "      <td>0.0</td>\n",
       "      <td>TA</td>\n",
       "      <td>TA</td>\n",
       "      <td>BrkTil</td>\n",
       "      <td>TA</td>\n",
       "      <td>TA</td>\n",
       "      <td>No</td>\n",
       "      <td>Unf</td>\n",
       "      <td>0</td>\n",
       "      <td>Unf</td>\n",
       "      <td>0</td>\n",
       "      <td>884</td>\n",
       "      <td>884</td>\n",
       "      <td>GasA</td>\n",
       "      <td>Ex</td>\n",
       "      <td>Y</td>\n",
       "      <td>SBrkr</td>\n",
       "      <td>989</td>\n",
       "      <td>584</td>\n",
       "      <td>0</td>\n",
       "      <td>1573</td>\n",
       "      <td>0</td>\n",
       "      <td>0</td>\n",
       "      <td>1</td>\n",
       "      <td>0</td>\n",
       "      <td>3</td>\n",
       "      <td>1</td>\n",
       "      <td>Gd</td>\n",
       "      <td>6</td>\n",
       "      <td>Typ</td>\n",
       "      <td>0</td>\n",
       "      <td>NA</td>\n",
       "      <td>Detchd</td>\n",
       "      <td>1935.0</td>\n",
       "      <td>Unf</td>\n",
       "      <td>1</td>\n",
       "      <td>240</td>\n",
       "      <td>TA</td>\n",
       "      <td>TA</td>\n",
       "      <td>Y</td>\n",
       "      <td>0</td>\n",
       "      <td>0</td>\n",
       "      <td>54</td>\n",
       "      <td>0</td>\n",
       "      <td>120</td>\n",
       "      <td>0</td>\n",
       "      <td>NA</td>\n",
       "      <td>NA</td>\n",
       "      <td>0</td>\n",
       "      <td>7</td>\n",
       "      <td>2009</td>\n",
       "      <td>WD</td>\n",
       "      <td>Normal</td>\n",
       "      <td>133000</td>\n",
       "    </tr>\n",
       "    <tr>\n",
       "      <th>300</th>\n",
       "      <td>301</td>\n",
       "      <td>190</td>\n",
       "      <td>RL</td>\n",
       "      <td>90.000000</td>\n",
       "      <td>15750</td>\n",
       "      <td>Pave</td>\n",
       "      <td>NA</td>\n",
       "      <td>Reg</td>\n",
       "      <td>Lvl</td>\n",
       "      <td>AllPub</td>\n",
       "      <td>Corner</td>\n",
       "      <td>Gtl</td>\n",
       "      <td>Crawfor</td>\n",
       "      <td>Norm</td>\n",
       "      <td>Norm</td>\n",
       "      <td>2fmCon</td>\n",
       "      <td>1Story</td>\n",
       "      <td>5</td>\n",
       "      <td>5</td>\n",
       "      <td>1953</td>\n",
       "      <td>1953</td>\n",
       "      <td>Hip</td>\n",
       "      <td>CompShg</td>\n",
       "      <td>MetalSd</td>\n",
       "      <td>MetalSd</td>\n",
       "      <td>BrkFace</td>\n",
       "      <td>56.0</td>\n",
       "      <td>TA</td>\n",
       "      <td>TA</td>\n",
       "      <td>CBlock</td>\n",
       "      <td>TA</td>\n",
       "      <td>TA</td>\n",
       "      <td>Mn</td>\n",
       "      <td>BLQ</td>\n",
       "      <td>841</td>\n",
       "      <td>Unf</td>\n",
       "      <td>0</td>\n",
       "      <td>324</td>\n",
       "      <td>1165</td>\n",
       "      <td>GasA</td>\n",
       "      <td>TA</td>\n",
       "      <td>Y</td>\n",
       "      <td>SBrkr</td>\n",
       "      <td>1336</td>\n",
       "      <td>0</td>\n",
       "      <td>0</td>\n",
       "      <td>1336</td>\n",
       "      <td>1</td>\n",
       "      <td>0</td>\n",
       "      <td>1</td>\n",
       "      <td>0</td>\n",
       "      <td>2</td>\n",
       "      <td>1</td>\n",
       "      <td>TA</td>\n",
       "      <td>5</td>\n",
       "      <td>Typ</td>\n",
       "      <td>2</td>\n",
       "      <td>Gd</td>\n",
       "      <td>Attchd</td>\n",
       "      <td>1953.0</td>\n",
       "      <td>Unf</td>\n",
       "      <td>1</td>\n",
       "      <td>375</td>\n",
       "      <td>TA</td>\n",
       "      <td>TA</td>\n",
       "      <td>Y</td>\n",
       "      <td>0</td>\n",
       "      <td>0</td>\n",
       "      <td>0</td>\n",
       "      <td>0</td>\n",
       "      <td>0</td>\n",
       "      <td>0</td>\n",
       "      <td>NA</td>\n",
       "      <td>NA</td>\n",
       "      <td>0</td>\n",
       "      <td>6</td>\n",
       "      <td>2006</td>\n",
       "      <td>WD</td>\n",
       "      <td>Normal</td>\n",
       "      <td>157000</td>\n",
       "    </tr>\n",
       "    <tr>\n",
       "      <th>893</th>\n",
       "      <td>894</td>\n",
       "      <td>20</td>\n",
       "      <td>RL</td>\n",
       "      <td>70.049958</td>\n",
       "      <td>13284</td>\n",
       "      <td>Pave</td>\n",
       "      <td>NA</td>\n",
       "      <td>Reg</td>\n",
       "      <td>Lvl</td>\n",
       "      <td>AllPub</td>\n",
       "      <td>Inside</td>\n",
       "      <td>Gtl</td>\n",
       "      <td>Sawyer</td>\n",
       "      <td>PosN</td>\n",
       "      <td>Norm</td>\n",
       "      <td>1Fam</td>\n",
       "      <td>1Story</td>\n",
       "      <td>5</td>\n",
       "      <td>5</td>\n",
       "      <td>1954</td>\n",
       "      <td>1954</td>\n",
       "      <td>Gable</td>\n",
       "      <td>CompShg</td>\n",
       "      <td>Wd Sdng</td>\n",
       "      <td>Plywood</td>\n",
       "      <td>NA</td>\n",
       "      <td>0.0</td>\n",
       "      <td>TA</td>\n",
       "      <td>TA</td>\n",
       "      <td>PConc</td>\n",
       "      <td>Gd</td>\n",
       "      <td>TA</td>\n",
       "      <td>Mn</td>\n",
       "      <td>BLQ</td>\n",
       "      <td>1064</td>\n",
       "      <td>Unf</td>\n",
       "      <td>0</td>\n",
       "      <td>319</td>\n",
       "      <td>1383</td>\n",
       "      <td>GasA</td>\n",
       "      <td>TA</td>\n",
       "      <td>Y</td>\n",
       "      <td>SBrkr</td>\n",
       "      <td>1383</td>\n",
       "      <td>0</td>\n",
       "      <td>0</td>\n",
       "      <td>1383</td>\n",
       "      <td>1</td>\n",
       "      <td>0</td>\n",
       "      <td>1</td>\n",
       "      <td>0</td>\n",
       "      <td>3</td>\n",
       "      <td>1</td>\n",
       "      <td>TA</td>\n",
       "      <td>6</td>\n",
       "      <td>Typ</td>\n",
       "      <td>1</td>\n",
       "      <td>Gd</td>\n",
       "      <td>Attchd</td>\n",
       "      <td>1954.0</td>\n",
       "      <td>Unf</td>\n",
       "      <td>1</td>\n",
       "      <td>354</td>\n",
       "      <td>TA</td>\n",
       "      <td>TA</td>\n",
       "      <td>Y</td>\n",
       "      <td>511</td>\n",
       "      <td>116</td>\n",
       "      <td>0</td>\n",
       "      <td>0</td>\n",
       "      <td>0</td>\n",
       "      <td>0</td>\n",
       "      <td>GdPrv</td>\n",
       "      <td>NA</td>\n",
       "      <td>0</td>\n",
       "      <td>6</td>\n",
       "      <td>2008</td>\n",
       "      <td>WD</td>\n",
       "      <td>Normal</td>\n",
       "      <td>165000</td>\n",
       "    </tr>\n",
       "  </tbody>\n",
       "</table>\n",
       "</div>"
      ],
      "text/plain": [
       "        Id  MSSubClass MSZoning  LotFrontage  LotArea Street Alley LotShape  \\\n",
       "1109  1110          20       RL   107.000000    11362   Pave    NA      IR1   \n",
       "422    423          20       RL   100.000000    21750   Pave    NA      Reg   \n",
       "126    127         120       RL    70.049958     4928   Pave    NA      IR1   \n",
       "382    383          60       RL    79.000000     9245   Pave    NA      IR1   \n",
       "1187  1188          20       RL    89.000000    12461   Pave    NA      Reg   \n",
       "764    765         120       RL    30.000000     9549   Pave    NA      IR1   \n",
       "652    653          60       RL    70.000000     8750   Pave    NA      Reg   \n",
       "584    585          50       RM    51.000000     6120   Pave    NA      Reg   \n",
       "300    301         190       RL    90.000000    15750   Pave    NA      Reg   \n",
       "893    894          20       RL    70.049958    13284   Pave    NA      Reg   \n",
       "\n",
       "     LandContour Utilities LotConfig LandSlope Neighborhood Condition1  \\\n",
       "1109         Lvl    AllPub    Inside       Gtl      NridgHt       Norm   \n",
       "422          HLS    AllPub    Inside       Mod      Mitchel     Artery   \n",
       "126          Lvl    AllPub    Inside       Gtl      NPkVill       Norm   \n",
       "382          Lvl    AllPub    Inside       Gtl      CollgCr       Norm   \n",
       "1187         Lvl    AllPub    Corner       Gtl      NoRidge       Norm   \n",
       "764          Lvl    AllPub   CulDSac       Gtl      Veenker       Norm   \n",
       "652          Lvl    AllPub    Inside       Gtl      CollgCr       Norm   \n",
       "584          Lvl    AllPub    Inside       Gtl      BrkSide       Norm   \n",
       "300          Lvl    AllPub    Corner       Gtl      Crawfor       Norm   \n",
       "893          Lvl    AllPub    Inside       Gtl       Sawyer       PosN   \n",
       "\n",
       "     Condition2 BldgType HouseStyle  OverallQual  OverallCond  YearBuilt  \\\n",
       "1109       Norm     1Fam     1Story            8            5       2004   \n",
       "422        Norm     1Fam     1Story            5            5       1954   \n",
       "126        Norm   TwnhsE     1Story            6            5       1976   \n",
       "382        Norm     1Fam     2Story            7            5       2006   \n",
       "1187       Norm     1Fam     1Story            8            5       1994   \n",
       "764        Norm   TwnhsE     1Story            8            5       1995   \n",
       "652        Norm     1Fam     2Story            7            5       1996   \n",
       "584        Norm     1Fam     1.5Fin            4            7       1935   \n",
       "300        Norm   2fmCon     1Story            5            5       1953   \n",
       "893        Norm     1Fam     1Story            5            5       1954   \n",
       "\n",
       "      YearRemodAdd RoofStyle RoofMatl Exterior1st Exterior2nd MasVnrType  \\\n",
       "1109          2005     Gable  CompShg     MetalSd     MetalSd      Stone   \n",
       "422           1954       Hip  CompShg     HdBoard     HdBoard         NA   \n",
       "126           1976     Gable  CompShg     Plywood     Plywood         NA   \n",
       "382           2006     Gable  CompShg     VinylSd     VinylSd         NA   \n",
       "1187          1995     Gable  CompShg     ImStucc     ImStucc         NA   \n",
       "764           1996       Hip  CompShg     BrkFace     BrkFace         NA   \n",
       "652           1996     Gable  CompShg     VinylSd     VinylSd         NA   \n",
       "584           1995     Gable  CompShg     AsbShng     AsbShng         NA   \n",
       "300           1953       Hip  CompShg     MetalSd     MetalSd    BrkFace   \n",
       "893           1954     Gable  CompShg     Wd Sdng     Plywood         NA   \n",
       "\n",
       "      MasVnrArea ExterQual ExterCond Foundation BsmtQual BsmtCond  \\\n",
       "1109        42.0        Gd        TA      PConc       Ex       TA   \n",
       "422          0.0        TA        TA     CBlock       TA       TA   \n",
       "126          0.0        TA        TA     CBlock       Gd       TA   \n",
       "382          0.0        Gd        TA      PConc       Gd       TA   \n",
       "1187         0.0        Gd        TA      PConc       Gd       TA   \n",
       "764          0.0        Gd        Gd      PConc       Gd       Gd   \n",
       "652          0.0        Gd        TA      PConc       Gd       TA   \n",
       "584          0.0        TA        TA     BrkTil       TA       TA   \n",
       "300         56.0        TA        TA     CBlock       TA       TA   \n",
       "893          0.0        TA        TA      PConc       Gd       TA   \n",
       "\n",
       "     BsmtExposure BsmtFinType1  BsmtFinSF1 BsmtFinType2  BsmtFinSF2  \\\n",
       "1109           Mn          GLQ        1039          Unf           0   \n",
       "422            No          Unf           0          Unf           0   \n",
       "126            No          ALQ         120          Unf           0   \n",
       "382            Av          Unf           0          Unf           0   \n",
       "1187           No          GLQ        1456          Unf           0   \n",
       "764            Av          LwQ         437          GLQ        1057   \n",
       "652            No          Unf           0          Unf           0   \n",
       "584            No          Unf           0          Unf           0   \n",
       "300            Mn          BLQ         841          Unf           0   \n",
       "893            Mn          BLQ        1064          Unf           0   \n",
       "\n",
       "      BsmtUnfSF  TotalBsmtSF Heating HeatingQC CentralAir Electrical  \\\n",
       "1109        797         1836    GasA        Ex          Y      SBrkr   \n",
       "422         988          988    GasA        Ex          Y      FuseA   \n",
       "126         958         1078    GasA        TA          Y      SBrkr   \n",
       "382         939          939    GasA        Ex          Y      SBrkr   \n",
       "1187        168         1624    GasA        Ex          Y      SBrkr   \n",
       "764           0         1494    GasA        Ex          Y      SBrkr   \n",
       "652         880          880    GasA        Ex          Y      SBrkr   \n",
       "584         884          884    GasA        Ex          Y      SBrkr   \n",
       "300         324         1165    GasA        TA          Y      SBrkr   \n",
       "893         319         1383    GasA        TA          Y      SBrkr   \n",
       "\n",
       "      1stFlrSF  2ndFlrSF  LowQualFinSF  GrLivArea  BsmtFullBath  BsmtHalfBath  \\\n",
       "1109      1836         0             0       1836             1             0   \n",
       "422        988         0             0        988             0             0   \n",
       "126        958         0             0        958             0             0   \n",
       "382        939       858             0       1797             0             0   \n",
       "1187      1624         0             0       1624             1             0   \n",
       "764       1494         0             0       1494             1             0   \n",
       "652        909       807             0       1716             0             0   \n",
       "584        989       584             0       1573             0             0   \n",
       "300       1336         0             0       1336             1             0   \n",
       "893       1383         0             0       1383             1             0   \n",
       "\n",
       "      FullBath  HalfBath  BedroomAbvGr  KitchenAbvGr KitchenQual  \\\n",
       "1109         2         0             3             1          Gd   \n",
       "422          1         0             2             1          TA   \n",
       "126          2         0             2             1          TA   \n",
       "382          2         1             3             1          Gd   \n",
       "1187         2         0             2             1          Gd   \n",
       "764          1         1             2             1          Ex   \n",
       "652          2         1             2             1          Gd   \n",
       "584          1         0             3             1          Gd   \n",
       "300          1         0             2             1          TA   \n",
       "893          1         0             3             1          TA   \n",
       "\n",
       "      TotRmsAbvGrd Functional  Fireplaces FireplaceQu GarageType  GarageYrBlt  \\\n",
       "1109             7        Typ           1          Gd     Attchd       2004.0   \n",
       "422              4        Typ           0          NA     Attchd       1954.0   \n",
       "126              5        Typ           1          TA     Attchd       1977.0   \n",
       "382              8        Typ           0          NA     Attchd       2006.0   \n",
       "1187             5        Typ           1          Fa     Attchd       1994.0   \n",
       "764              6        Typ           1          Gd     Attchd       1995.0   \n",
       "652              7        Typ           1          TA     Attchd       1996.0   \n",
       "584              6        Typ           0          NA     Detchd       1935.0   \n",
       "300              5        Typ           2          Gd     Attchd       1953.0   \n",
       "893              6        Typ           1          Gd     Attchd       1954.0   \n",
       "\n",
       "     GarageFinish  GarageCars  GarageArea GarageQual GarageCond PavedDrive  \\\n",
       "1109          Fin           3         862         TA         TA          Y   \n",
       "422           RFn           2         520         TA         TA          N   \n",
       "126           RFn           2         440         TA         TA          Y   \n",
       "382           RFn           2         639         TA         TA          Y   \n",
       "1187          RFn           3         757         TA         TA          Y   \n",
       "764           Fin           2         481         TA         TA          Y   \n",
       "652           RFn           2         512         TA         TA          Y   \n",
       "584           Unf           1         240         TA         TA          Y   \n",
       "300           Unf           1         375         TA         TA          Y   \n",
       "893           Unf           1         354         TA         TA          Y   \n",
       "\n",
       "      WoodDeckSF  OpenPorchSF  EnclosedPorch  3SsnPorch  ScreenPorch  \\\n",
       "1109         125          185              0          0            0   \n",
       "422            0            0              0          0            0   \n",
       "126            0          205              0          0            0   \n",
       "382          144           53              0          0            0   \n",
       "1187           0          114            192          0            0   \n",
       "764            0           30              0          0          216   \n",
       "652            0          120              0          0            0   \n",
       "584            0            0             54          0          120   \n",
       "300            0            0              0          0            0   \n",
       "893          511          116              0          0            0   \n",
       "\n",
       "      PoolArea  Fence MiscFeature  MiscVal  MoSold  YrSold SaleType  \\\n",
       "1109         0     NA          NA        0       3    2009       WD   \n",
       "422          0     NA          NA        0       2    2008       WD   \n",
       "126          0     NA          NA        0       2    2007       WD   \n",
       "382          0     NA          NA        0       4    2007       WD   \n",
       "1187         0  GdPrv          NA        0       7    2006       WD   \n",
       "764          0     NA          NA        0       4    2006       WD   \n",
       "652          0     NA          NA        0       7    2009       WD   \n",
       "584          0     NA          NA        0       7    2009       WD   \n",
       "300          0     NA          NA        0       6    2006       WD   \n",
       "893          0  GdPrv          NA        0       6    2008       WD   \n",
       "\n",
       "     SaleCondition  SalePrice  \n",
       "1109        Normal     280000  \n",
       "422         Normal     113000  \n",
       "126         Normal     128000  \n",
       "382         Normal     213500  \n",
       "1187        Normal     262000  \n",
       "764         Normal     270000  \n",
       "652         Normal     191000  \n",
       "584         Normal     133000  \n",
       "300         Normal     157000  \n",
       "893         Normal     165000  "
      ]
     },
     "execution_count": 245,
     "metadata": {},
     "output_type": "execute_result"
    }
   ],
   "source": [
    "train.sample(10)"
   ]
  },
  {
   "cell_type": "code",
   "execution_count": null,
   "id": "be52f46b-301c-4e6a-ab0f-8dc6e69aa295",
   "metadata": {},
   "outputs": [
    {
     "data": {
      "text/plain": [
       "<Axes: >"
      ]
     },
     "execution_count": 246,
     "metadata": {},
     "output_type": "execute_result"
    },
    {
     "data": {
      "image/png": "[encoded data removed]",
      "text/plain": [
       "<Figure size 640x480 with 1 Axes>"
      ]
     },
     "metadata": {},
     "output_type": "display_data"
    }
   ],
   "source": [
    "sns.boxplot(data=train['SalePrice'])"
   ]
  },
  {
   "cell_type": "code",
   "execution_count": null,
   "id": "2f118ba2-dc98-47cf-9db6-32a5db048144",
   "metadata": {},
   "outputs": [],
   "source": []
  },
  {
   "cell_type": "code",
   "execution_count": null,
   "id": "be78407a-bcad-46a1-ab92-3ac2f37aa5bb",
   "metadata": {},
   "outputs": [],
   "source": [
    "q3=train['SalePrice'].quantile(0.75)\n",
    "q1=train['SalePrice'].quantile(0.25)\n",
    "IQR=q3-q1\n",
    "upper=q3+1.5 *IQR\n",
    "lower=q1-1.5 * IQR\n",
    "train['SalePrice']=np.where(train['SalePrice'] > upper,upper,train['SalePrice'])\n",
    "train['SalePrice']=np.where(train['SalePrice'] < lower,lower,train['SalePrice'])"
   ]
  },
  {
   "cell_type": "code",
   "execution_count": null,
   "id": "e0825e74-8f76-47c0-a809-b86721c1d4ea",
   "metadata": {},
   "outputs": [],
   "source": []
  },
  {
   "cell_type": "code",
   "execution_count": null,
   "id": "be2cd9ca-c32c-4935-97f7-868164ea1456",
   "metadata": {},
   "outputs": [
    {
     "data": {
      "text/plain": [
       "<Axes: xlabel='SalePrice', ylabel='LotArea'>"
      ]
     },
     "execution_count": 248,
     "metadata": {},
     "output_type": "execute_result"
    },
    {
     "data": {
      "image/png": "[encoded data removed]",
      "text/plain": [
       "<Figure size 1000x500 with 1 Axes>"
      ]
     },
     "metadata": {},
     "output_type": "display_data"
    }
   ],
   "source": [
    "plt.figure(figsize=(10,5))\n",
    "# sns.scatterplot(data=train,x='SalePrice',y='LotArea',hue='YearBuilt')\n",
    "sns.regplot(data=train,x='SalePrice',y='LotArea')"
   ]
  },
  {
   "cell_type": "code",
   "execution_count": null,
   "id": "49486a33-1aa8-4d57-8f19-74b620aa7260",
   "metadata": {},
   "outputs": [],
   "source": [
    "# train[train['SalePrice']>700000][['LotArea','LotShape','YrSold','SaleType','GarageCars','SalePrice','YearBuilt','FullBath','GarageArea']]"
   ]
  },
  {
   "cell_type": "code",
   "execution_count": null,
   "id": "5d41957a-48f9-4cd5-95fd-73ba5a13805a",
   "metadata": {},
   "outputs": [
    {
     "data": {
      "application/vnd.plotly.v1+json": {
       "config": {
        "plotlyServerURL": "https://plot.ly"
       },
       "data": [
        {
         "customdata": [
          [
           2008
          ],
          [
           2007
          ],
          [
           2008
          ],
          [
           2006
          ],
          [
           2008
          ],
          [
           2009
          ],
          [
           2007
          ],
          [
           2009
          ],
          [
           2008
          ],
          [
           2008
          ],
          [
           2008
          ],
          [
           2006
          ],
          [
           2008
          ],
          [
           2007
          ],
          [
           2008
          ],
          [
           2007
          ],
          [
           2010
          ],
          [
           2006
          ],
          [
           2008
          ],
          [
           2009
          ],
          [
           2006
          ],
          [
           2007
          ],
          [
           2008
          ],
          [
           2007
          ],
          [
           2010
          ],
          [
           2009
          ],
          [
           2010
          ],
          [
           2010
          ],
          [
           2006
          ],
          [
           2008
          ],
          [
           2008
          ],
          [
           2008
          ],
          [
           2008
          ],
          [
           2010
          ],
          [
           2007
          ],
          [
           2006
          ],
          [
           2009
          ],
          [
           2009
          ],
          [
           2010
          ],
          [
           2008
          ],
          [
           2006
          ],
          [
           2007
          ],
          [
           2007
          ],
          [
           2008
          ],
          [
           2006
          ],
          [
           2010
          ],
          [
           2009
          ],
          [
           2007
          ],
          [
           2009
          ],
          [
           2007
          ],
          [
           2007
          ],
          [
           2006
          ],
          [
           2010
          ],
          [
           2006
          ],
          [
           2007
          ],
          [
           2008
          ],
          [
           2009
          ],
          [
           2006
          ],
          [
           2006
          ],
          [
           2008
          ],
          [
           2006
          ],
          [
           2007
          ],
          [
           2007
          ],
          [
           2010
          ],
          [
           2009
          ],
          [
           2007
          ],
          [
           2010
          ],
          [
           2007
          ],
          [
           2010
          ],
          [
           2006
          ],
          [
           2007
          ],
          [
           2007
          ],
          [
           2009
          ],
          [
           2010
          ],
          [
           2010
          ],
          [
           2009
          ],
          [
           2008
          ],
          [
           2008
          ],
          [
           2010
          ],
          [
           2009
          ],
          [
           2009
          ],
          [
           2006
          ],
          [
           2008
          ],
          [
           2007
          ],
          [
           2009
          ],
          [
           2006
          ],
          [
           2009
          ],
          [
           2009
          ],
          [
           2009
          ],
          [
           2007
          ],
          [
           2006
          ],
          [
           2006
          ],
          [
           2009
          ],
          [
           2007
          ],
          [
           2007
          ],
          [
           2009
          ],
          [
           2006
          ],
          [
           2007
          ],
          [
           2010
          ],
          [
           2010
          ],
          [
           2010
          ],
          [
           2010
          ],
          [
           2009
          ],
          [
           2010
          ],
          [
           2007
          ],
          [
           2008
          ],
          [
           2007
          ],
          [
           2008
          ],
          [
           2007
          ],
          [
           2010
          ],
          [
           2006
          ],
          [
           2010
          ],
          [
           2007
          ],
          [
           2007
          ],
          [
           2007
          ],
          [
           2007
          ],
          [
           2009
          ],
          [
           2007
          ],
          [
           2010
          ],
          [
           2006
          ],
          [
           2006
          ],
          [
           2007
          ],
          [
           2008
          ],
          [
           2008
          ],
          [
           2009
          ],
          [
           2006
          ],
          [
           2007
          ],
          [
           2007
          ],
          [
           2006
          ],
          [
           2006
          ],
          [
           2006
          ],
          [
           2009
          ],
          [
           2007
          ],
          [
           2009
          ],
          [
           2006
          ],
          [
           2008
          ],
          [
           2007
          ],
          [
           2006
          ],
          [
           2008
          ],
          [
           2009
          ],
          [
           2010
          ],
          [
           2006
          ],
          [
           2010
          ],
          [
           2009
          ],
          [
           2006
          ],
          [
           2006
          ],
          [
           2009
          ],
          [
           2010
          ],
          [
           2008
          ],
          [
           2006
          ],
          [
           2007
          ],
          [
           2008
          ],
          [
           2006
          ],
          [
           2008
          ],
          [
           2006
          ],
          [
           2008
          ],
          [
           2006
          ],
          [
           2010
          ],
          [
           2010
          ],
          [
           2006
          ],
          [
           2008
          ],
          [
           2008
          ],
          [
           2010
          ],
          [
           2007
          ],
          [
           2007
          ],
          [
           2008
          ],
          [
           2009
          ],
          [
           2007
          ],
          [
           2007
          ],
          [
           2006
          ],
          [
           2007
          ],
          [
           2010
          ],
          [
           2006
          ],
          [
           2008
          ],
          [
           2008
          ],
          [
           2007
          ],
          [
           2007
          ],
          [
           2006
          ],
          [
           2009
          ],
          [
           2007
          ],
          [
           2007
          ],
          [
           2006
          ],
          [
           2007
          ],
          [
           2008
          ],
          [
           2006
          ],
          [
           2006
          ],
          [
           2009
          ],
          [
           2009
          ],
          [
           2009
          ],
          [
           2008
          ],
          [
           2007
          ],
          [
           2007
          ],
          [
           2009
          ],
          [
           2006
          ],
          [
           2008
          ],
          [
           2009
          ],
          [
           2007
          ],
          [
           2006
          ],
          [
           2009
          ],
          [
           2009
          ],
          [
           2010
          ],
          [
           2008
          ],
          [
           2006
          ],
          [
           2008
          ],
          [
           2009
          ],
          [
           2009
          ],
          [
           2007
          ],
          [
           2008
          ],
          [
           2007
          ],
          [
           2008
          ],
          [
           2008
          ],
          [
           2010
          ],
          [
           2009
          ],
          [
           2006
          ],
          [
           2010
          ],
          [
           2006
          ],
          [
           2008
          ],
          [
           2006
          ],
          [
           2008
          ],
          [
           2006
          ],
          [
           2006
          ],
          [
           2009
          ],
          [
           2006
          ],
          [
           2009
          ],
          [
           2009
          ],
          [
           2009
          ],
          [
           2007
          ],
          [
           2008
          ],
          [
           2010
          ],
          [
           2009
          ],
          [
           2010
          ],
          [
           2009
          ],
          [
           2006
          ],
          [
           2010
          ],
          [
           2010
          ],
          [
           2008
          ],
          [
           2010
          ],
          [
           2010
          ],
          [
           2007
          ],
          [
           2010
          ],
          [
           2010
          ],
          [
           2007
          ],
          [
           2006
          ],
          [
           2009
          ],
          [
           2010
          ],
          [
           2006
          ],
          [
           2006
          ],
          [
           2006
          ],
          [
           2007
          ],
          [
           2007
          ],
          [
           2010
          ],
          [
           2007
          ],
          [
           2008
          ],
          [
           2007
          ],
          [
           2010
          ],
          [
           2006
          ],
          [
           2008
          ],
          [
           2009
          ],
          [
           2008
          ],
          [
           2008
          ],
          [
           2009
          ],
          [
           2007
          ],
          [
           2006
          ],
          [
           2010
          ],
          [
           2008
          ],
          [
           2008
          ],
          [
           2006
          ],
          [
           2008
          ],
          [
           2008
          ],
          [
           2007
          ],
          [
           2006
          ],
          [
           2008
          ],
          [
           2010
          ],
          [
           2009
          ],
          [
           2007
          ],
          [
           2009
          ],
          [
           2010
          ],
          [
           2010
          ],
          [
           2007
          ],
          [
           2008
          ],
          [
           2007
          ],
          [
           2006
          ],
          [
           2009
          ],
          [
           2009
          ],
          [
           2007
          ],
          [
           2007
          ],
          [
           2006
          ],
          [
           2006
          ],
          [
           2010
          ],
          [
           2007
          ],
          [
           2006
          ],
          [
           2008
          ],
          [
           2009
          ],
          [
           2006
          ],
          [
           2009
          ],
          [
           2006
          ],
          [
           2007
          ],
          [
           2007
          ],
          [
           2007
          ],
          [
           2009
          ],
          [
           2006
          ],
          [
           2007
          ],
          [
           2006
          ],
          [
           2006
          ],
          [
           2008
          ],
          [
           2007
          ],
          [
           2007
          ],
          [
           2008
          ],
          [
           2009
          ],
          [
           2006
          ],
          [
           2006
          ],
          [
           2009
          ],
          [
           2006
          ],
          [
           2009
          ],
          [
           2006
          ],
          [
           2009
          ],
          [
           2009
          ],
          [
           2007
          ],
          [
           2009
          ],
          [
           2009
          ],
          [
           2006
          ],
          [
           2007
          ],
          [
           2007
          ],
          [
           2006
          ],
          [
           2010
          ],
          [
           2007
          ],
          [
           2008
          ],
          [
           2006
          ],
          [
           2009
          ],
          [
           2009
          ],
          [
           2007
          ],
          [
           2007
          ],
          [
           2009
          ],
          [
           2008
          ],
          [
           2008
          ],
          [
           2008
          ],
          [
           2007
          ],
          [
           2008
          ],
          [
           2006
          ],
          [
           2009
          ],
          [
           2010
          ],
          [
           2009
          ],
          [
           2006
          ],
          [
           2008
          ],
          [
           2010
          ],
          [
           2006
          ],
          [
           2007
          ],
          [
           2009
          ],
          [
           2008
          ],
          [
           2006
          ],
          [
           2007
          ],
          [
           2006
          ],
          [
           2008
          ],
          [
           2010
          ],
          [
           2006
          ],
          [
           2007
          ],
          [
           2009
          ],
          [
           2007
          ],
          [
           2006
          ],
          [
           2006
          ],
          [
           2007
          ],
          [
           2008
          ],
          [
           2009
          ],
          [
           2009
          ],
          [
           2006
          ],
          [
           2009
          ],
          [
           2009
          ],
          [
           2008
          ],
          [
           2010
          ],
          [
           2010
          ],
          [
           2006
          ],
          [
           2008
          ],
          [
           2010
          ],
          [
           2009
          ],
          [
           2007
          ],
          [
           2009
          ],
          [
           2006
          ],
          [
           2007
          ],
          [
           2010
          ],
          [
           2009
          ],
          [
           2010
          ],
          [
           2006
          ],
          [
           2007
          ],
          [
           2009
          ],
          [
           2007
          ],
          [
           2010
          ],
          [
           2006
          ],
          [
           2009
          ],
          [
           2008
          ],
          [
           2008
          ],
          [
           2008
          ],
          [
           2009
          ],
          [
           2007
          ],
          [
           2006
          ],
          [
           2007
          ],
          [
           2010
          ],
          [
           2009
          ],
          [
           2007
          ],
          [
           2007
          ],
          [
           2009
          ],
          [
           2008
          ],
          [
           2006
          ],
          [
           2008
          ],
          [
           2006
          ],
          [
           2007
          ],
          [
           2009
          ],
          [
           2008
          ],
          [
           2008
          ],
          [
           2007
          ],
          [
           2008
          ],
          [
           2009
          ],
          [
           2006
          ],
          [
           2010
          ],
          [
           2010
          ],
          [
           2008
          ],
          [
           2007
          ],
          [
           2006
          ],
          [
           2007
          ],
          [
           2007
          ],
          [
           2010
          ],
          [
           2008
          ],
          [
           2009
          ],
          [
           2008
          ],
          [
           2008
          ],
          [
           2008
          ],
          [
           2009
          ],
          [
           2009
          ],
          [
           2008
          ],
          [
           2007
          ],
          [
           2009
          ],
          [
           2008
          ],
          [
           2008
          ],
          [
           2007
          ],
          [
           2008
          ],
          [
           2008
          ],
          [
           2009
          ],
          [
           2006
          ],
          [
           2009
          ],
          [
           2007
          ],
          [
           2009
          ],
          [
           2009
          ],
          [
           2008
          ],
          [
           2008
          ],
          [
           2007
          ],
          [
           2008
          ],
          [
           2009
          ],
          [
           2010
          ],
          [
           2006
          ],
          [
           2006
          ],
          [
           2007
          ],
          [
           2006
          ],
          [
           2006
          ],
          [
           2007
          ],
          [
           2009
          ],
          [
           2006
          ],
          [
           2007
          ],
          [
           2008
          ],
          [
           2008
          ],
          [
           2008
          ],
          [
           2009
          ],
          [
           2009
          ],
          [
           2009
          ],
          [
           2009
          ],
          [
           2008
          ],
          [
           2009
          ],
          [
           2006
          ],
          [
           2007
          ],
          [
           2007
          ],
          [
           2007
          ],
          [
           2008
          ],
          [
           2010
          ],
          [
           2007
          ],
          [
           2008
          ],
          [
           2007
          ],
          [
           2007
          ],
          [
           2007
          ],
          [
           2008
          ],
          [
           2007
          ],
          [
           2009
          ],
          [
           2007
          ],
          [
           2006
          ],
          [
           2006
          ],
          [
           2009
          ],
          [
           2006
          ],
          [
           2007
          ],
          [
           2009
          ],
          [
           2007
          ],
          [
           2007
          ],
          [
           2006
          ],
          [
           2009
          ],
          [
           2008
          ],
          [
           2006
          ],
          [
           2006
          ],
          [
           2008
          ],
          [
           2009
          ],
          [
           2009
          ],
          [
           2007
          ],
          [
           2008
          ],
          [
           2009
          ],
          [
           2007
          ],
          [
           2007
          ],
          [
           2008
          ],
          [
           2007
          ],
          [
           2010
          ],
          [
           2009
          ],
          [
           2009
          ],
          [
           2006
          ],
          [
           2009
          ],
          [
           2008
          ],
          [
           2009
          ],
          [
           2009
          ],
          [
           2006
          ],
          [
           2006
          ],
          [
           2007
          ],
          [
           2007
          ],
          [
           2009
          ],
          [
           2009
          ],
          [
           2009
          ],
          [
           2007
          ],
          [
           2009
          ],
          [
           2008
          ],
          [
           2007
          ],
          [
           2006
          ],
          [
           2007
          ],
          [
           2007
          ],
          [
           2006
          ],
          [
           2007
          ],
          [
           2008
          ],
          [
           2007
          ],
          [
           2007
          ],
          [
           2008
          ],
          [
           2008
          ],
          [
           2010
          ],
          [
           2007
          ],
          [
           2006
          ],
          [
           2008
          ],
          [
           2008
          ],
          [
           2008
          ],
          [
           2006
          ],
          [
           2010
          ],
          [
           2009
          ],
          [
           2007
          ],
          [
           2009
          ],
          [
           2007
          ],
          [
           2006
          ],
          [
           2006
          ],
          [
           2007
          ],
          [
           2007
          ],
          [
           2008
          ],
          [
           2009
          ],
          [
           2008
          ],
          [
           2008
          ],
          [
           2009
          ],
          [
           2009
          ],
          [
           2008
          ],
          [
           2006
          ],
          [
           2006
          ],
          [
           2006
          ],
          [
           2008
          ],
          [
           2006
          ],
          [
           2010
          ],
          [
           2006
          ],
          [
           2008
          ],
          [
           2008
          ],
          [
           2006
          ],
          [
           2010
          ],
          [
           2008
          ],
          [
           2010
          ],
          [
           2009
          ],
          [
           2006
          ],
          [
           2008
          ],
          [
           2006
          ],
          [
           2009
          ],
          [
           2007
          ],
          [
           2007
          ],
          [
           2008
          ],
          [
           2009
          ],
          [
           2006
          ],
          [
           2008
          ],
          [
           2008
          ],
          [
           2007
          ],
          [
           2009
          ],
          [
           2007
          ],
          [
           2008
          ],
          [
           2009
          ],
          [
           2006
          ],
          [
           2008
          ],
          [
           2009
          ],
          [
           2009
          ],
          [
           2008
          ],
          [
           2008
          ],
          [
           2009
          ],
          [
           2008
          ],
          [
           2009
          ],
          [
           2008
          ],
          [
           2006
          ],
          [
           2006
          ],
          [
           2007
          ],
          [
           2006
          ],
          [
           2008
          ],
          [
           2006
          ],
          [
           2007
          ],
          [
           2006
          ],
          [
           2010
          ],
          [
           2008
          ],
          [
           2009
          ],
          [
           2009
          ],
          [
           2006
          ],
          [
           2007
          ],
          [
           2007
          ],
          [
           2009
          ],
          [
           2007
          ],
          [
           2009
          ],
          [
           2007
          ],
          [
           2010
          ],
          [
           2010
          ],
          [
           2006
          ],
          [
           2008
          ],
          [
           2007
          ],
          [
           2008
          ],
          [
           2008
          ],
          [
           2008
          ],
          [
           2009
          ],
          [
           2007
          ],
          [
           2006
          ],
          [
           2010
          ],
          [
           2007
          ],
          [
           2010
          ],
          [
           2007
          ],
          [
           2008
          ],
          [
           2006
          ],
          [
           2007
          ],
          [
           2009
          ],
          [
           2007
          ],
          [
           2010
          ],
          [
           2007
          ],
          [
           2009
          ],
          [
           2009
          ],
          [
           2008
          ],
          [
           2006
          ],
          [
           2008
          ],
          [
           2007
          ],
          [
           2009
          ],
          [
           2007
          ],
          [
           2009
          ],
          [
           2007
          ],
          [
           2008
          ],
          [
           2008
          ],
          [
           2010
          ],
          [
           2007
          ],
          [
           2008
          ],
          [
           2009
          ],
          [
           2009
          ],
          [
           2008
          ],
          [
           2008
          ],
          [
           2010
          ],
          [
           2008
          ],
          [
           2008
          ],
          [
           2010
          ],
          [
           2009
          ],
          [
           2007
          ],
          [
           2009
          ],
          [
           2009
          ],
          [
           2008
          ],
          [
           2006
          ],
          [
           2006
          ],
          [
           2007
          ],
          [
           2008
          ],
          [
           2006
          ],
          [
           2006
          ],
          [
           2009
          ],
          [
           2009
          ],
          [
           2006
          ],
          [
           2007
          ],
          [
           2008
          ],
          [
           2009
          ],
          [
           2006
          ],
          [
           2009
          ],
          [
           2009
          ],
          [
           2007
          ],
          [
           2010
          ],
          [
           2009
          ],
          [
           2008
          ],
          [
           2007
          ],
          [
           2010
          ],
          [
           2007
          ],
          [
           2007
          ],
          [
           2007
          ],
          [
           2007
          ],
          [
           2007
          ],
          [
           2008
          ],
          [
           2007
          ],
          [
           2006
          ],
          [
           2006
          ],
          [
           2009
          ],
          [
           2006
          ],
          [
           2006
          ],
          [
           2006
          ],
          [
           2010
          ],
          [
           2008
          ],
          [
           2006
          ],
          [
           2006
          ],
          [
           2006
          ],
          [
           2010
          ],
          [
           2010
          ],
          [
           2010
          ],
          [
           2007
          ],
          [
           2009
          ],
          [
           2007
          ],
          [
           2008
          ],
          [
           2008
          ],
          [
           2010
          ],
          [
           2008
          ],
          [
           2006
          ],
          [
           2010
          ],
          [
           2009
          ],
          [
           2007
          ],
          [
           2008
          ],
          [
           2008
          ],
          [
           2006
          ],
          [
           2006
          ],
          [
           2010
          ],
          [
           2009
          ],
          [
           2008
          ],
          [
           2009
          ],
          [
           2009
          ],
          [
           2009
          ],
          [
           2009
          ],
          [
           2009
          ],
          [
           2009
          ],
          [
           2010
          ],
          [
           2007
          ],
          [
           2008
          ],
          [
           2009
          ],
          [
           2007
          ],
          [
           2006
          ],
          [
           2006
          ],
          [
           2006
          ],
          [
           2009
          ],
          [
           2009
          ],
          [
           2007
          ],
          [
           2008
          ],
          [
           2007
          ],
          [
           2009
          ],
          [
           2008
          ],
          [
           2008
          ],
          [
           2009
          ],
          [
           2009
          ],
          [
           2010
          ],
          [
           2009
          ],
          [
           2010
          ],
          [
           2007
          ],
          [
           2006
          ],
          [
           2006
          ],
          [
           2009
          ],
          [
           2009
          ],
          [
           2009
          ],
          [
           2010
          ],
          [
           2008
          ],
          [
           2007
          ],
          [
           2009
          ],
          [
           2009
          ],
          [
           2010
          ],
          [
           2009
          ],
          [
           2006
          ],
          [
           2008
          ],
          [
           2010
          ],
          [
           2008
          ],
          [
           2006
          ],
          [
           2010
          ],
          [
           2009
          ],
          [
           2006
          ],
          [
           2010
          ],
          [
           2007
          ],
          [
           2007
          ],
          [
           2009
          ],
          [
           2006
          ],
          [
           2006
          ],
          [
           2007
          ],
          [
           2006
          ],
          [
           2007
          ],
          [
           2006
          ],
          [
           2009
          ],
          [
           2009
          ],
          [
           2008
          ],
          [
           2009
          ],
          [
           2010
          ],
          [
           2010
          ],
          [
           2008
          ],
          [
           2007
          ],
          [
           2009
          ],
          [
           2007
          ],
          [
           2007
          ],
          [
           2007
          ],
          [
           2008
          ],
          [
           2010
          ],
          [
           2007
          ],
          [
           2008
          ],
          [
           2009
          ],
          [
           2007
          ],
          [
           2008
          ],
          [
           2007
          ],
          [
           2008
          ],
          [
           2009
          ],
          [
           2006
          ],
          [
           2008
          ],
          [
           2006
          ],
          [
           2009
          ],
          [
           2006
          ],
          [
           2009
          ],
          [
           2006
          ],
          [
           2008
          ],
          [
           2010
          ],
          [
           2007
          ],
          [
           2006
          ],
          [
           2010
          ],
          [
           2006
          ],
          [
           2008
          ],
          [
           2010
          ],
          [
           2010
          ],
          [
           2008
          ],
          [
           2009
          ],
          [
           2007
          ],
          [
           2009
          ],
          [
           2006
          ],
          [
           2008
          ],
          [
           2008
          ],
          [
           2009
          ],
          [
           2009
          ],
          [
           2006
          ],
          [
           2008
          ],
          [
           2006
          ],
          [
           2010
          ],
          [
           2009
          ],
          [
           2008
          ],
          [
           2010
          ],
          [
           2007
          ],
          [
           2008
          ],
          [
           2008
          ],
          [
           2008
          ],
          [
           2008
          ],
          [
           2008
          ],
          [
           2008
          ],
          [
           2007
          ],
          [
           2008
          ],
          [
           2007
          ],
          [
           2009
          ],
          [
           2009
          ],
          [
           2008
          ],
          [
           2007
          ],
          [
           2007
          ],
          [
           2006
          ],
          [
           2007
          ],
          [
           2009
          ],
          [
           2006
          ],
          [
           2010
          ],
          [
           2008
          ],
          [
           2009
          ],
          [
           2009
          ],
          [
           2006
          ],
          [
           2007
          ],
          [
           2010
          ],
          [
           2010
          ],
          [
           2009
          ],
          [
           2008
          ],
          [
           2009
          ],
          [
           2007
          ],
          [
           2007
          ],
          [
           2006
          ],
          [
           2010
          ],
          [
           2009
          ],
          [
           2010
          ],
          [
           2008
          ],
          [
           2009
          ],
          [
           2009
          ],
          [
           2007
          ],
          [
           2007
          ],
          [
           2009
          ],
          [
           2010
          ],
          [
           2009
          ],
          [
           2007
          ],
          [
           2007
          ],
          [
           2009
          ],
          [
           2006
          ],
          [
           2009
          ],
          [
           2008
          ],
          [
           2006
          ],
          [
           2008
          ],
          [
           2007
          ],
          [
           2009
          ],
          [
           2007
          ],
          [
           2009
          ],
          [
           2006
          ],
          [
           2008
          ],
          [
           2009
          ],
          [
           2008
          ],
          [
           2006
          ],
          [
           2009
          ],
          [
           2010
          ],
          [
           2006
          ],
          [
           2007
          ],
          [
           2009
          ],
          [
           2006
          ],
          [
           2006
          ],
          [
           2007
          ],
          [
           2010
          ],
          [
           2007
          ],
          [
           2006
          ],
          [
           2006
          ],
          [
           2009
          ],
          [
           2010
          ],
          [
           2009
          ],
          [
           2006
          ],
          [
           2007
          ],
          [
           2009
          ],
          [
           2007
          ],
          [
           2006
          ],
          [
           2009
          ],
          [
           2007
          ],
          [
           2008
          ],
          [
           2007
          ],
          [
           2008
          ],
          [
           2006
          ],
          [
           2008
          ],
          [
           2006
          ],
          [
           2008
          ],
          [
           2007
          ],
          [
           2008
          ],
          [
           2009
          ],
          [
           2006
          ],
          [
           2009
          ],
          [
           2009
          ],
          [
           2007
          ],
          [
           2009
          ],
          [
           2008
          ],
          [
           2006
          ],
          [
           2009
          ],
          [
           2009
          ],
          [
           2006
          ],
          [
           2010
          ],
          [
           2006
          ],
          [
           2009
          ],
          [
           2007
          ],
          [
           2007
          ],
          [
           2009
          ],
          [
           2009
          ],
          [
           2006
          ],
          [
           2007
          ],
          [
           2006
          ],
          [
           2010
          ],
          [
           2007
          ],
          [
           2006
          ],
          [
           2009
          ],
          [
           2008
          ],
          [
           2006
          ],
          [
           2007
          ],
          [
           2009
          ],
          [
           2007
          ],
          [
           2007
          ],
          [
           2010
          ],
          [
           2010
          ],
          [
           2008
          ],
          [
           2007
          ],
          [
           2009
          ],
          [
           2010
          ],
          [
           2007
          ],
          [
           2009
          ],
          [
           2008
          ],
          [
           2009
          ],
          [
           2006
          ],
          [
           2006
          ],
          [
           2009
          ],
          [
           2010
          ],
          [
           2008
          ],
          [
           2009
          ],
          [
           2006
          ],
          [
           2006
          ],
          [
           2007
          ],
          [
           2007
          ],
          [
           2009
          ],
          [
           2008
          ],
          [
           2009
          ],
          [
           2008
          ],
          [
           2008
          ],
          [
           2009
          ],
          [
           2008
          ],
          [
           2006
          ],
          [
           2010
          ],
          [
           2007
          ],
          [
           2006
          ],
          [
           2006
          ],
          [
           2009
          ],
          [
           2007
          ],
          [
           2006
          ],
          [
           2009
          ],
          [
           2006
          ],
          [
           2006
          ],
          [
           2009
          ],
          [
           2006
          ],
          [
           2010
          ],
          [
           2009
          ],
          [
           2007
          ],
          [
           2008
          ],
          [
           2007
          ],
          [
           2009
          ],
          [
           2008
          ],
          [
           2007
          ],
          [
           2009
          ],
          [
           2009
          ],
          [
           2006
          ],
          [
           2008
          ],
          [
           2010
          ],
          [
           2007
          ],
          [
           2009
          ],
          [
           2007
          ],
          [
           2009
          ],
          [
           2009
          ],
          [
           2009
          ],
          [
           2007
          ],
          [
           2006
          ],
          [
           2008
          ],
          [
           2006
          ],
          [
           2007
          ],
          [
           2008
          ],
          [
           2008
          ],
          [
           2007
          ],
          [
           2010
          ],
          [
           2008
          ],
          [
           2007
          ],
          [
           2006
          ],
          [
           2006
          ],
          [
           2009
          ],
          [
           2006
          ],
          [
           2006
          ],
          [
           2007
          ],
          [
           2009
          ],
          [
           2009
          ],
          [
           2008
          ],
          [
           2009
          ],
          [
           2009
          ],
          [
           2006
          ],
          [
           2008
          ],
          [
           2009
          ],
          [
           2008
          ],
          [
           2009
          ],
          [
           2009
          ],
          [
           2006
          ],
          [
           2008
          ],
          [
           2009
          ],
          [
           2010
          ],
          [
           2007
          ],
          [
           2007
          ],
          [
           2007
          ],
          [
           2010
          ],
          [
           2006
          ],
          [
           2008
          ],
          [
           2006
          ],
          [
           2009
          ],
          [
           2009
          ],
          [
           2007
          ],
          [
           2010
          ],
          [
           2008
          ],
          [
           2007
          ],
          [
           2006
          ],
          [
           2009
          ],
          [
           2010
          ],
          [
           2009
          ],
          [
           2008
          ],
          [
           2006
          ],
          [
           2007
          ],
          [
           2007
          ],
          [
           2009
          ],
          [
           2006
          ],
          [
           2009
          ],
          [
           2007
          ],
          [
           2007
          ],
          [
           2006
          ],
          [
           2006
          ],
          [
           2006
          ],
          [
           2007
          ],
          [
           2008
          ],
          [
           2010
          ],
          [
           2007
          ],
          [
           2006
          ],
          [
           2006
          ],
          [
           2010
          ],
          [
           2010
          ],
          [
           2009
          ],
          [
           2006
          ],
          [
           2006
          ],
          [
           2009
          ],
          [
           2008
          ],
          [
           2008
          ],
          [
           2006
          ],
          [
           2010
          ],
          [
           2007
          ],
          [
           2007
          ],
          [
           2007
          ],
          [
           2009
          ],
          [
           2009
          ],
          [
           2009
          ],
          [
           2007
          ],
          [
           2007
          ],
          [
           2006
          ],
          [
           2007
          ],
          [
           2010
          ],
          [
           2007
          ],
          [
           2006
          ],
          [
           2007
          ],
          [
           2009
          ],
          [
           2008
          ],
          [
           2008
          ],
          [
           2006
          ],
          [
           2007
          ],
          [
           2006
          ],
          [
           2007
          ],
          [
           2009
          ],
          [
           2008
          ],
          [
           2008
          ],
          [
           2006
          ],
          [
           2007
          ],
          [
           2006
          ],
          [
           2009
          ],
          [
           2009
          ],
          [
           2007
          ],
          [
           2009
          ],
          [
           2009
          ],
          [
           2007
          ],
          [
           2007
          ],
          [
           2007
          ],
          [
           2009
          ],
          [
           2007
          ],
          [
           2007
          ],
          [
           2009
          ],
          [
           2007
          ],
          [
           2007
          ],
          [
           2008
          ],
          [
           2010
          ],
          [
           2009
          ],
          [
           2007
          ],
          [
           2008
          ],
          [
           2009
          ],
          [
           2007
          ],
          [
           2008
          ],
          [
           2010
          ],
          [
           2006
          ],
          [
           2006
          ],
          [
           2009
          ],
          [
           2008
          ],
          [
           2009
          ],
          [
           2007
          ],
          [
           2006
          ],
          [
           2006
          ],
          [
           2008
          ],
          [
           2008
          ],
          [
           2007
          ],
          [
           2008
          ],
          [
           2009
          ],
          [
           2008
          ],
          [
           2008
          ],
          [
           2010
          ],
          [
           2008
          ],
          [
           2007
          ],
          [
           2008
          ],
          [
           2007
          ],
          [
           2009
          ],
          [
           2010
          ],
          [
           2006
          ],
          [
           2008
          ],
          [
           2006
          ],
          [
           2008
          ],
          [
           2008
          ],
          [
           2008
          ],
          [
           2007
          ],
          [
           2006
          ],
          [
           2007
          ],
          [
           2008
          ],
          [
           2009
          ],
          [
           2009
          ],
          [
           2006
          ],
          [
           2006
          ],
          [
           2008
          ],
          [
           2007
          ],
          [
           2006
          ],
          [
           2007
          ],
          [
           2006
          ],
          [
           2009
          ],
          [
           2006
          ],
          [
           2009
          ],
          [
           2010
          ],
          [
           2007
          ],
          [
           2007
          ],
          [
           2007
          ],
          [
           2009
          ],
          [
           2010
          ],
          [
           2008
          ],
          [
           2006
          ],
          [
           2006
          ],
          [
           2009
          ],
          [
           2006
          ],
          [
           2006
          ],
          [
           2009
          ],
          [
           2009
          ],
          [
           2009
          ],
          [
           2006
          ],
          [
           2009
          ],
          [
           2006
          ],
          [
           2006
          ],
          [
           2008
          ],
          [
           2006
          ],
          [
           2010
          ],
          [
           2010
          ],
          [
           2009
          ],
          [
           2006
          ],
          [
           2006
          ],
          [
           2007
          ],
          [
           2010
          ],
          [
           2009
          ],
          [
           2006
          ],
          [
           2006
          ],
          [
           2006
          ],
          [
           2008
          ],
          [
           2007
          ],
          [
           2006
          ],
          [
           2008
          ],
          [
           2007
          ],
          [
           2008
          ],
          [
           2008
          ],
          [
           2008
          ],
          [
           2008
          ],
          [
           2007
          ],
          [
           2006
          ],
          [
           2007
          ],
          [
           2010
          ],
          [
           2008
          ],
          [
           2006
          ],
          [
           2010
          ],
          [
           2006
          ],
          [
           2006
          ],
          [
           2007
          ],
          [
           2008
          ],
          [
           2007
          ],
          [
           2010
          ],
          [
           2006
          ],
          [
           2006
          ],
          [
           2007
          ],
          [
           2006
          ],
          [
           2010
          ],
          [
           2008
          ],
          [
           2007
          ],
          [
           2010
          ],
          [
           2006
          ],
          [
           2009
          ],
          [
           2007
          ],
          [
           2008
          ],
          [
           2007
          ],
          [
           2008
          ],
          [
           2009
          ],
          [
           2008
          ],
          [
           2008
          ],
          [
           2009
          ],
          [
           2009
          ],
          [
           2009
          ],
          [
           2007
          ],
          [
           2008
          ],
          [
           2006
          ],
          [
           2007
          ],
          [
           2010
          ],
          [
           2008
          ],
          [
           2007
          ],
          [
           2010
          ],
          [
           2009
          ],
          [
           2006
          ],
          [
           2008
          ],
          [
           2007
          ],
          [
           2007
          ],
          [
           2009
          ],
          [
           2009
          ],
          [
           2008
          ],
          [
           2010
          ],
          [
           2009
          ],
          [
           2006
          ],
          [
           2009
          ],
          [
           2010
          ],
          [
           2010
          ],
          [
           2009
          ],
          [
           2010
          ],
          [
           2006
          ],
          [
           2009
          ],
          [
           2006
          ],
          [
           2010
          ],
          [
           2009
          ],
          [
           2009
          ],
          [
           2006
          ],
          [
           2006
          ],
          [
           2006
          ],
          [
           2008
          ],
          [
           2006
          ],
          [
           2008
          ],
          [
           2010
          ],
          [
           2009
          ],
          [
           2009
          ],
          [
           2006
          ],
          [
           2006
          ],
          [
           2006
          ],
          [
           2009
          ],
          [
           2006
          ],
          [
           2009
          ],
          [
           2008
          ],
          [
           2008
          ],
          [
           2010
          ],
          [
           2007
          ],
          [
           2007
          ],
          [
           2010
          ],
          [
           2007
          ],
          [
           2008
          ],
          [
           2009
          ],
          [
           2007
          ],
          [
           2006
          ],
          [
           2007
          ],
          [
           2009
          ],
          [
           2008
          ],
          [
           2010
          ],
          [
           2009
          ],
          [
           2007
          ],
          [
           2008
          ],
          [
           2007
          ],
          [
           2008
          ],
          [
           2008
          ],
          [
           2006
          ],
          [
           2007
          ],
          [
           2006
          ],
          [
           2009
          ],
          [
           2006
          ],
          [
           2009
          ],
          [
           2009
          ],
          [
           2008
          ],
          [
           2006
          ],
          [
           2006
          ],
          [
           2006
          ],
          [
           2007
          ],
          [
           2008
          ],
          [
           2007
          ],
          [
           2009
          ],
          [
           2007
          ],
          [
           2007
          ],
          [
           2006
          ],
          [
           2007
          ],
          [
           2007
          ],
          [
           2008
          ],
          [
           2009
          ],
          [
           2008
          ],
          [
           2009
          ],
          [
           2010
          ],
          [
           2008
          ],
          [
           2006
          ],
          [
           2008
          ],
          [
           2010
          ],
          [
           2010
          ],
          [
           2006
          ],
          [
           2008
          ],
          [
           2009
          ],
          [
           2009
          ],
          [
           2007
          ],
          [
           2006
          ],
          [
           2010
          ],
          [
           2008
          ],
          [
           2006
          ],
          [
           2009
          ],
          [
           2010
          ],
          [
           2009
          ],
          [
           2008
          ],
          [
           2006
          ],
          [
           2007
          ],
          [
           2008
          ],
          [
           2007
          ],
          [
           2008
          ],
          [
           2009
          ],
          [
           2006
          ],
          [
           2008
          ],
          [
           2010
          ],
          [
           2008
          ],
          [
           2006
          ],
          [
           2007
          ],
          [
           2009
          ],
          [
           2010
          ],
          [
           2006
          ],
          [
           2007
          ],
          [
           2009
          ],
          [
           2007
          ],
          [
           2006
          ],
          [
           2009
          ],
          [
           2006
          ],
          [
           2008
          ],
          [
           2006
          ],
          [
           2007
          ],
          [
           2010
          ],
          [
           2007
          ],
          [
           2009
          ],
          [
           2009
          ],
          [
           2008
          ],
          [
           2008
          ],
          [
           2006
          ],
          [
           2007
          ],
          [
           2006
          ],
          [
           2008
          ],
          [
           2009
          ],
          [
           2009
          ],
          [
           2010
          ],
          [
           2008
          ],
          [
           2009
          ],
          [
           2009
          ],
          [
           2009
          ],
          [
           2009
          ],
          [
           2008
          ],
          [
           2009
          ],
          [
           2010
          ],
          [
           2009
          ],
          [
           2008
          ],
          [
           2006
          ],
          [
           2006
          ],
          [
           2010
          ],
          [
           2008
          ],
          [
           2006
          ],
          [
           2007
          ],
          [
           2008
          ],
          [
           2008
          ],
          [
           2008
          ],
          [
           2010
          ],
          [
           2007
          ],
          [
           2006
          ],
          [
           2009
          ],
          [
           2007
          ],
          [
           2008
          ],
          [
           2006
          ],
          [
           2008
          ],
          [
           2007
          ],
          [
           2008
          ],
          [
           2010
          ],
          [
           2007
          ],
          [
           2008
          ],
          [
           2008
          ],
          [
           2009
          ],
          [
           2009
          ],
          [
           2007
          ],
          [
           2007
          ],
          [
           2010
          ],
          [
           2007
          ],
          [
           2007
          ],
          [
           2006
          ],
          [
           2009
          ],
          [
           2009
          ],
          [
           2006
          ],
          [
           2006
          ],
          [
           2009
          ],
          [
           2007
          ],
          [
           2010
          ],
          [
           2010
          ],
          [
           2010
          ],
          [
           2008
          ]
         ],
         "hovertemplate": "SalePrice=%{x}<br>LotArea=%{y}<br>YrSold=%{customdata[0]}<br>YearBuilt=%{marker.color}<extra></extra>",
         "legendgroup": "",
         "marker": {
          "color": [
           2003,
           1976,
           2001,
           1915,
           2000,
           1993,
           2004,
           1973,
           1931,
           1939,
           1965,
           2005,
           1962,
           2006,
           1960,
           1929,
           1970,
           1967,
           2004,
           1958,
           2005,
           1930,
           2002,
           1976,
           1968,
           2007,
           1951,
           2007,
           1957,
           1927,
           1920,
           1966,
           2007,
           1959,
           2005,
           2004,
           1994,
           1954,
           1953,
           1955,
           1965,
           1959,
           1983,
           1975,
           1959,
           2005,
           2003,
           2006,
           1920,
           1966,
           1997,
           1934,
           1963,
           1981,
           1955,
           1964,
           1999,
           2004,
           2006,
           1972,
           2004,
           1920,
           2006,
           1921,
           1997,
           2004,
           1970,
           2003,
           1945,
           1953,
           1973,
           1982,
           1998,
           1954,
           1915,
           1973,
           1956,
           1948,
           1968,
           1910,
           1968,
           1998,
           2007,
           1960,
           1995,
           1991,
           2005,
           2009,
           1915,
           1994,
           1950,
           1961,
           1921,
           1910,
           1997,
           1993,
           1999,
           1965,
           1920,
           1959,
           1977,
           1985,
           1979,
           2009,
           1931,
           2003,
           1885,
           1948,
           1919,
           1977,
           1954,
           2000,
           2007,
           1953,
           1945,
           1999,
           1962,
           2006,
           1990,
           2005,
           1969,
           1939,
           1958,
           1993,
           1979,
           1935,
           1976,
           1930,
           1966,
           1958,
           1966,
           2000,
           1959,
           2001,
           1968,
           1970,
           1967,
           1988,
           1999,
           1997,
           1971,
           2005,
           1952,
           1999,
           1963,
           2004,
           1931,
           2001,
           2004,
           1936,
           1975,
           2007,
           1971,
           1960,
           1923,
           1924,
           1950,
           2009,
           2004,
           2005,
           1984,
           2003,
           2005,
           1956,
           1926,
           1940,
           1955,
           2007,
           2004,
           1981,
           1941,
           1960,
           1987,
           1961,
           1986,
           1950,
           1988,
           1958,
           2008,
           1923,
           2000,
           1920,
           1957,
           2003,
           1908,
           1892,
           1990,
           1916,
           1979,
           2001,
           1932,
           1972,
           1999,
           2004,
           1972,
           1976,
           2007,
           1918,
           1912,
           2004,
           2003,
           1977,
           1924,
           2004,
           1947,
           1990,
           1962,
           1960,
           1988,
           1964,
           1925,
           2009,
           2009,
           1995,
           1977,
           1957,
           2004,
           1925,
           1939,
           2005,
           2006,
           2002,
           1975,
           1971,
           2003,
           1971,
           1995,
           1970,
           1967,
           2005,
           1959,
           1995,
           1972,
           1976,
           2002,
           1971,
           2004,
           1993,
           2007,
           1945,
           2008,
           1945,
           1900,
           1980,
           1994,
           1988,
           1910,
           1954,
           2003,
           1958,
           1940,
           2006,
           2004,
           1964,
           1957,
           1999,
           2003,
           2006,
           2001,
           1956,
           1962,
           2007,
           1977,
           1929,
           1925,
           1981,
           1997,
           1939,
           1940,
           1976,
           2006,
           1954,
           1999,
           1958,
           1982,
           1925,
           2003,
           1951,
           2006,
           1977,
           1989,
           2006,
           2007,
           2008,
           1992,
           2006,
           1962,
           1971,
           1967,
           1915,
           2006,
           1912,
           1949,
           1977,
           1953,
           1984,
           1950,
           1997,
           1968,
           1950,
           1953,
           1998,
           2001,
           1972,
           1880,
           2004,
           1990,
           1920,
           1940,
           2003,
           1993,
           1948,
           1939,
           1965,
           1925,
           2004,
           1980,
           2006,
           1993,
           1980,
           2006,
           2004,
           1986,
           1955,
           1967,
           1941,
           1993,
           1960,
           1916,
           1920,
           1964,
           1958,
           2003,
           2004,
           1998,
           1965,
           2005,
           2002,
           1984,
           1958,
           2002,
           1950,
           1949,
           2005,
           1976,
           1939,
           1960,
           1960,
           2003,
           2005,
           2007,
           1986,
           1941,
           1928,
           1940,
           1995,
           1992,
           1976,
           1958,
           1998,
           1978,
           1940,
           2003,
           1972,
           1976,
           1920,
           1963,
           1962,
           1954,
           1959,
           2000,
           1959,
           1984,
           1953,
           2003,
           1922,
           1996,
           2004,
           2010,
           2000,
           1924,
           2006,
           2006,
           1928,
           1992,
           2004,
           1910,
           1976,
           1999,
           2007,
           1900,
           2001,
           1959,
           1941,
           1940,
           1956,
           1972,
           1962,
           1920,
           2006,
           1996,
           2005,
           1940,
           1998,
           1995,
           1976,
           1936,
           1915,
           2006,
           2007,
           1958,
           1955,
           2009,
           1927,
           1993,
           2007,
           1978,
           1918,
           1940,
           1968,
           1997,
           1977,
           1954,
           1998,
           1956,
           1946,
           1989,
           1957,
           2007,
           1988,
           1971,
           1920,
           1971,
           1997,
           1972,
           1996,
           1920,
           1926,
           1913,
           1920,
           2008,
           1955,
           1930,
           2006,
           1994,
           1956,
           1966,
           1998,
           1937,
           1948,
           1930,
           1975,
           1996,
           2008,
           1976,
           1973,
           1916,
           1954,
           1925,
           1950,
           2009,
           1936,
           1965,
           1934,
           1978,
           2004,
           1970,
           1942,
           2006,
           1993,
           1985,
           1977,
           2005,
           2006,
           2000,
           1963,
           1997,
           2006,
           2007,
           1937,
           2004,
           2003,
           1915,
           1998,
           1962,
           1950,
           1965,
           1971,
           1900,
           1970,
           1976,
           1941,
           2006,
           1960,
           1938,
           1920,
           1992,
           1925,
           1967,
           1958,
           1973,
           2005,
           1965,
           1959,
           1974,
           1952,
           1993,
           2009,
           1928,
           1959,
           1951,
           2005,
           1958,
           1983,
           1926,
           2009,
           1972,
           1996,
           1998,
           1926,
           1900,
           1957,
           1947,
           2007,
           1996,
           2005,
           1956,
           2008,
           1920,
           1957,
           1988,
           1920,
           1955,
           1946,
           2004,
           1910,
           1998,
           1972,
           1968,
           2001,
           2006,
           2000,
           1998,
           1998,
           2006,
           1988,
           1923,
           1970,
           1955,
           2003,
           1977,
           1957,
           2006,
           1949,
           2003,
           1922,
           1957,
           1920,
           1996,
           2003,
           1957,
           1974,
           1940,
           1918,
           1992,
           1915,
           2005,
           2004,
           1983,
           1979,
           1965,
           1959,
           2009,
           2000,
           1971,
           1947,
           1928,
           1966,
           2007,
           1954,
           1960,
           2008,
           1990,
           1893,
           1935,
           2005,
           1918,
           1982,
           1968,
           1930,
           2004,
           2008,
           1982,
           2003,
           1975,
           2005,
           1910,
           2006,
           1977,
           1980,
           2005,
           1937,
           1992,
           2004,
           2002,
           1965,
           1996,
           1948,
           1934,
           1961,
           2000,
           1978,
           2001,
           2007,
           1972,
           1963,
           2002,
           1954,
           2007,
           2003,
           1914,
           1974,
           1977,
           2000,
           1972,
           1962,
           1960,
           1955,
           1969,
           1964,
           1880,
           2006,
           1977,
           1954,
           1980,
           1914,
           1936,
           1954,
           1910,
           2006,
           2003,
           2001,
           1972,
           1969,
           2009,
           1971,
           1950,
           1953,
           1966,
           1970,
           2007,
           1940,
           1996,
           1906,
           1995,
           1971,
           1959,
           1931,
           1948,
           1964,
           1976,
           1994,
           1968,
           1972,
           2005,
           2000,
           1965,
           1994,
           1956,
           1922,
           2005,
           1925,
           1977,
           1957,
           1965,
           1978,
           1900,
           1924,
           2008,
           1961,
           1980,
           1932,
           1996,
           2002,
           1998,
           1984,
           2007,
           2004,
           2007,
           2005,
           2004,
           1994,
           1989,
           1921,
           1936,
           1987,
           1921,
           1952,
           1965,
           2004,
           2002,
           1969,
           2006,
           1900,
           2004,
           1930,
           1971,
           2006,
           2007,
           1966,
           1935,
           1900,
           1988,
           1970,
           1976,
           1974,
           1890,
           1973,
           1993,
           1969,
           1985,
           2004,
           1970,
           1954,
           2007,
           1970,
           1988,
           2007,
           1958,
           1925,
           1995,
           2003,
           1998,
           1961,
           1968,
           1914,
           1950,
           2005,
           1987,
           2004,
           1910,
           1961,
           2000,
           1963,
           1993,
           1976,
           2000,
           1880,
           1996,
           1945,
           1910,
           2003,
           1997,
           2005,
           1969,
           1999,
           2007,
           1978,
           1999,
           1995,
           1959,
           1924,
           2009,
           1999,
           1995,
           2008,
           1988,
           1940,
           2004,
           2003,
           1982,
           1951,
           1976,
           1958,
           2006,
           1998,
           2005,
           1974,
           1977,
           1977,
           1995,
           1992,
           2001,
           1978,
           1914,
           1967,
           1915,
           2004,
           1954,
           1966,
           2005,
           1976,
           1996,
           2007,
           1994,
           1980,
           1977,
           1953,
           2008,
           1937,
           1997,
           1916,
           2005,
           2008,
           1954,
           2008,
           1967,
           1923,
           1966,
           1898,
           1974,
           2004,
           1952,
           1958,
           1918,
           1998,
           1954,
           2002,
           1971,
           2009,
           2003,
           1953,
           2003,
           1940,
           2006,
           2007,
           1924,
           2001,
           1967,
           2005,
           1957,
           2005,
           2003,
           1964,
           1961,
           1950,
           1948,
           1973,
           1995,
           1946,
           1925,
           1904,
           1966,
           1961,
           1915,
           1975,
           1993,
           1972,
           1908,
           1976,
           2003,
           2003,
           1941,
           1964,
           1955,
           1962,
           1978,
           1994,
           1976,
           1968,
           1918,
           1965,
           1984,
           1959,
           2007,
           1970,
           2006,
           1961,
           1948,
           1993,
           1962,
           1998,
           1953,
           1949,
           1941,
           2007,
           1963,
           2004,
           1961,
           1978,
           2005,
           1990,
           1992,
           1912,
           1967,
           1999,
           1959,
           1955,
           1970,
           1953,
           1949,
           1978,
           1963,
           1954,
           1979,
           1963,
           1936,
           1979,
           2009,
           1961,
           1971,
           1957,
           2003,
           2006,
           1967,
           1954,
           2006,
           1936,
           1983,
           2005,
           1960,
           1977,
           1925,
           1949,
           2009,
           1970,
           1949,
           1956,
           1991,
           1958,
           1994,
           1900,
           2005,
           1993,
           1980,
           1977,
           2003,
           1968,
           2001,
           1997,
           2007,
           1965,
           2006,
           2004,
           1960,
           1926,
           2003,
           2005,
           2006,
           1940,
           1976,
           1999,
           1977,
           1967,
           1958,
           1890,
           1959,
           2002,
           2002,
           1972,
           1950,
           1965,
           1972,
           1969,
           1975,
           1946,
           1980,
           1962,
           2003,
           1999,
           1958,
           1977,
           1976,
           2007,
           2002,
           2005,
           1940,
           1955,
           1910,
           1958,
           1949,
           2003,
           1979,
           2007,
           1910,
           2000,
           1923,
           2006,
           1954,
           1963,
           1961,
           1998,
           2007,
           2002,
           1977,
           1950,
           1910,
           2009,
           1976,
           2006,
           1997,
           1882,
           1964,
           2005,
           2006,
           1946,
           1961,
           1970,
           1922,
           2006,
           1952,
           1920,
           2006,
           1976,
           2005,
           1977,
           1970,
           1970,
           2004,
           1926,
           1948,
           1965,
           1923,
           1910,
           1948,
           2001,
           1996,
           1984,
           1991,
           2005,
           2005,
           2006,
           1930,
           2005,
           1976,
           1972,
           1960,
           2007,
           1941,
           1972,
           1916,
           1920,
           1993,
           2002,
           1938,
           1957,
           2007,
           2001,
           1970,
           1970,
           1957,
           1966,
           2005,
           1990,
           1981,
           1955,
           2005,
           1994,
           1960,
           1946,
           2007,
           2007,
           1964,
           1957,
           2002,
           1976,
           2005,
           1994,
           2008,
           1932,
           2001,
           1935,
           1900,
           1925,
           1966,
           1996,
           1993,
           1964,
           1973,
           1949,
           1956,
           1968,
           1948,
           1977,
           2006,
           1940,
           1936,
           1969,
           2004,
           1994,
           1971,
           1963,
           2002,
           1964,
           1995,
           1992,
           1973,
           2005,
           2004,
           2005,
           1950,
           1999,
           1925,
           1965,
           1956,
           2006,
           1914,
           1986,
           1936,
           1978,
           1920,
           1971,
           1960,
           1959,
           1970,
           1994,
           1990,
           2006,
           2000,
           2004,
           1995,
           1976,
           1957,
           1953,
           1954,
           2007,
           2002,
           1967,
           1958,
           1959,
           1920,
           2005,
           1956,
           1947,
           1992,
           1955,
           2007,
           2004,
           2004,
           1980,
           1928,
           1991,
           1880,
           1995,
           1997,
           1926,
           1950,
           1875,
           1977,
           1920,
           1951,
           1976,
           2006,
           1959,
           1941,
           1928,
           1985,
           1941,
           1926,
           1920,
           1950,
           1959,
           1956,
           1930,
           1965,
           1976,
           1965,
           2007,
           2007,
           1974,
           1978,
           1954,
           1968,
           1969,
           1978,
           2009,
           2008,
           2000,
           1935,
           1995,
           1977,
           1958,
           2006,
           1946,
           1932,
           1992,
           1984,
           1926,
           1921,
           1954,
           1990,
           2008,
           1996,
           1920,
           1963,
           1924,
           1900,
           1994,
           2002,
           1999,
           1961,
           1999,
           1925,
           1999,
           1969,
           2005,
           2006,
           1916,
           2001,
           1963,
           1970,
           1998,
           1925,
           2000,
           1975,
           1990,
           1966,
           2003,
           1962,
           2006,
           1992,
           1988,
           1941,
           1965,
           1962,
           1966,
           1978,
           2009,
           1947,
           1971,
           1964,
           1968,
           1949,
           1951,
           2004,
           1958,
           2007,
           1965,
           2008,
           1960,
           1977,
           1962,
           1962,
           1959,
           1911,
           1914,
           2003,
           2004,
           2005,
           2006,
           2003,
           2007,
           1974,
           2006,
           1929,
           1984,
           2005,
           1976,
           1917,
           1950,
           1968,
           2003,
           1968,
           1974,
           2003,
           1931,
           1994,
           1922,
           2005,
           1969,
           1999,
           1956,
           1957,
           1919,
           1998,
           1999,
           1910,
           2008,
           1935,
           1958,
           1979,
           1968,
           1965,
           1959,
           1910,
           1948,
           1972,
           1967,
           2002,
           1920,
           2002,
           1990,
           1977,
           1971,
           1919,
           1939,
           1963,
           1964,
           2000,
           2006,
           1964,
           1972,
           1892,
           1976,
           1955,
           1968,
           1963,
           2005,
           2008,
           1959,
           1999,
           1942,
           1994,
           2005,
           2004,
           2006,
           2005,
           1994,
           1948,
           1991,
           1959,
           2005,
           1990,
           1999,
           1954,
           1969,
           2008,
           2006,
           2001,
           1954,
           1957,
           1949,
           1992,
           1940,
           2006,
           1922,
           1931,
           1982,
           1920,
           1998,
           2006,
           1976,
           1938,
           1938,
           1970,
           1977,
           1973,
           1941,
           2002,
           1972,
           1971,
           2003,
           2002,
           1928,
           2006,
           1920,
           1968,
           2006,
           1998,
           1872,
           1969,
           1962,
           1937,
           1995,
           2000,
           1968,
           1966,
           1971,
           2000,
           2004,
           1921,
           2005,
           1920,
           2006,
           2005,
           2000,
           1999,
           1977,
           2003,
           2003,
           1920,
           1955,
           1998,
           2001,
           2005,
           2007,
           1930,
           1941,
           1973,
           2006,
           1914,
           1970,
           1920,
           1918,
           1939,
           1922,
           1978,
           1916,
           2006,
           1941,
           2000,
           1967,
           1967,
           1905,
           2006,
           2005,
           1948,
           1920,
           1950,
           1925,
           1929,
           2004,
           2006,
           2007,
           1915,
           2004,
           1972,
           1985,
           1910,
           1986,
           2001,
           1950,
           1949,
           2005,
           1923,
           2007,
           1885,
           1998,
           1963,
           1969,
           1968,
           1977,
           2003,
           1966,
           1958,
           1959,
           1994,
           1945,
           1940,
           1981,
           2005,
           1976,
           1927,
           2000,
           1977,
           1962,
           1971,
           2008,
           1957,
           1979,
           1922,
           2004,
           2008,
           1916,
           2004,
           1966,
           1962,
           1995,
           1910,
           1970,
           1974,
           2008,
           2005,
           2006,
           2004,
           1999,
           1978,
           1941,
           1950,
           1965
          ],
          "coloraxis": "coloraxis",
          "symbol": "circle"
         },
         "mode": "markers",
         "name": "",
         "showlegend": false,
         "type": "scattergl",
         "x": [
          208500,
          181500,
          223500,
          140000,
          250000,
          143000,
          307000,
          200000,
          129900,
          118000,
          129500,
          340037.5,
          144000,
          279500,
          157000,
          132000,
          149000,
          90000,
          159000,
          139000,
          325300,
          139400,
          230000,
          129900,
          154000,
          256300,
          134800,
          306000,
          207500,
          68500,
          40000,
          149350,
          179900,
          165500,
          277500,
          309000,
          145000,
          153000,
          109000,
          82000,
          160000,
          170000,
          144000,
          130250,
          141000,
          319900,
          239686,
          249700,
          113000,
          127000,
          177000,
          114500,
          110000,
          340037.5,
          130000,
          180500,
          172500,
          196500,
          340037.5,
          124900,
          158000,
          101000,
          202500,
          140000,
          219500,
          317000,
          180000,
          226000,
          80000,
          225000,
          244000,
          129500,
          185000,
          144900,
          107400,
          91000,
          135750,
          127000,
          136500,
          110000,
          193500,
          153500,
          245000,
          126500,
          168500,
          260000,
          174000,
          164500,
          85000,
          123600,
          109900,
          98600,
          163500,
          133900,
          204750,
          185000,
          214000,
          94750,
          83000,
          128950,
          205000,
          178000,
          118964,
          198900,
          169500,
          250000,
          100000,
          115000,
          115000,
          190000,
          136900,
          180000,
          340037.5,
          217000,
          259500,
          176000,
          139000,
          155000,
          320000,
          163990,
          180000,
          100000,
          136000,
          153900,
          181000,
          84500,
          128000,
          87000,
          155000,
          150000,
          226000,
          244000,
          150750,
          220000,
          180000,
          174000,
          143000,
          171000,
          230000,
          231500,
          115000,
          260000,
          166000,
          204000,
          125000,
          130000,
          105000,
          222500,
          141000,
          115000,
          122000,
          340037.5,
          190000,
          235000,
          125000,
          79000,
          109500,
          269500,
          254900,
          320000,
          162500,
          340037.5,
          220000,
          103200,
          152000,
          127500,
          190000,
          325624,
          183500,
          228000,
          128500,
          215000,
          239000,
          163000,
          184000,
          243000,
          211000,
          172500,
          340037.5,
          100000,
          177000,
          200100,
          120000,
          200000,
          127000,
          340037.5,
          173000,
          135000,
          153337,
          286000,
          315000,
          184000,
          192000,
          130000,
          127000,
          148500,
          311872,
          235000,
          104000,
          274900,
          140000,
          171500,
          112000,
          149000,
          110000,
          180500,
          143900,
          141000,
          277000,
          145000,
          98000,
          186000,
          252678,
          156000,
          161750,
          134450,
          210000,
          107000,
          311500,
          167240,
          204900,
          200000,
          179900,
          97000,
          340037.5,
          112000,
          290000,
          106000,
          125000,
          192500,
          148000,
          340037.5,
          94500,
          128200,
          216500,
          89500,
          185500,
          194500,
          318000,
          113000,
          262500,
          110500,
          79000,
          120000,
          205000,
          241500,
          137000,
          140000,
          180000,
          277000,
          76500,
          235000,
          173000,
          158000,
          145000,
          230000,
          207500,
          220000,
          231500,
          97000,
          176000,
          276000,
          151000,
          130000,
          73000,
          175500,
          185000,
          179500,
          120500,
          148000,
          266000,
          241500,
          290000,
          139000,
          124500,
          205000,
          201000,
          141000,
          340037.5,
          192000,
          228500,
          185000,
          207500,
          244600,
          179200,
          164700,
          159000,
          88000,
          122000,
          153575,
          233230,
          135900,
          131000,
          235000,
          167000,
          142500,
          152000,
          239000,
          175000,
          158500,
          157000,
          267000,
          205000,
          149900,
          295000,
          305900,
          225000,
          89500,
          82500,
          340037.5,
          165600,
          132000,
          119900,
          340037.5,
          178000,
          188500,
          260000,
          270000,
          260000,
          187500,
          340037.5,
          340037.5,
          301000,
          126175,
          242000,
          87000,
          324000,
          145250,
          214500,
          78000,
          119000,
          139000,
          284000,
          207000,
          192000,
          228950,
          340037.5,
          214000,
          202500,
          155000,
          202900,
          82000,
          87500,
          266000,
          85000,
          140200,
          151500,
          157500,
          154000,
          340037.5,
          318061,
          190000,
          95000,
          105900,
          140000,
          177500,
          173000,
          134000,
          130000,
          280000,
          156000,
          145000,
          198500,
          118000,
          190000,
          147000,
          159000,
          165000,
          132000,
          162000,
          172400,
          134432,
          125000,
          123000,
          219500,
          61000,
          148000,
          340000,
          340037.5,
          179000,
          127000,
          187750,
          213500,
          76000,
          240000,
          192000,
          81000,
          125000,
          191000,
          340037.5,
          119000,
          215000,
          106500,
          100000,
          109000,
          129000,
          123000,
          169500,
          67000,
          241000,
          245500,
          164990,
          108000,
          258000,
          168000,
          150000,
          115000,
          177000,
          280000,
          339750,
          60000,
          145000,
          222000,
          115000,
          228000,
          181134,
          149500,
          239000,
          126000,
          142000,
          206300,
          215000,
          113000,
          315000,
          139000,
          135000,
          275000,
          109008,
          195400,
          175000,
          85400,
          79900,
          122500,
          181000,
          81000,
          212000,
          116000,
          119000,
          90350,
          110000,
          340037.5,
          118000,
          162900,
          172500,
          210000,
          127500,
          190000,
          199900,
          119500,
          120000,
          110000,
          280000,
          204000,
          210000,
          188000,
          175500,
          98000,
          256000,
          161000,
          110000,
          263435,
          155000,
          62383,
          188700,
          124000,
          178740,
          167000,
          146500,
          250000,
          187000,
          212000,
          190000,
          148000,
          340037.5,
          251000,
          132500,
          208900,
          340037.5,
          297000,
          89471,
          326000,
          340037.5,
          155000,
          164000,
          132500,
          147000,
          156000,
          175000,
          160000,
          86000,
          115000,
          133000,
          172785,
          155000,
          91300,
          34900,
          340037.5,
          184000,
          130000,
          120000,
          113000,
          226700,
          140000,
          289000,
          147000,
          124500,
          215000,
          208300,
          161000,
          124500,
          164900,
          202665,
          129900,
          134000,
          96500,
          340037.5,
          158000,
          265000,
          211000,
          234000,
          106250,
          150000,
          159000,
          184750,
          315750,
          176000,
          132000,
          340037.5,
          86000,
          200624,
          175000,
          128000,
          107500,
          39300,
          178000,
          107500,
          188000,
          111250,
          158000,
          272000,
          315000,
          248000,
          213250,
          133000,
          179665,
          229000,
          210000,
          129500,
          125000,
          263000,
          140000,
          112500,
          255500,
          108000,
          284000,
          113000,
          141000,
          108000,
          175000,
          234000,
          121500,
          170000,
          108000,
          185000,
          268000,
          128000,
          325000,
          214000,
          316600,
          135960,
          142600,
          120000,
          224500,
          170000,
          139000,
          118500,
          145000,
          164500,
          146000,
          131500,
          181900,
          253293,
          118500,
          325000,
          133000,
          340037.5,
          130000,
          137000,
          143000,
          79500,
          185900,
          340037.5,
          138000,
          140000,
          110000,
          319000,
          114504,
          194201,
          217500,
          151000,
          275000,
          141000,
          220000,
          151000,
          221000,
          205000,
          152000,
          225000,
          340037.5,
          118500,
          313000,
          148000,
          261500,
          147000,
          75500,
          137500,
          183200,
          105500,
          314813,
          305000,
          67000,
          240000,
          135000,
          168500,
          165150,
          160000,
          139900,
          153000,
          135000,
          168500,
          124000,
          209500,
          82500,
          139400,
          144000,
          200000,
          60000,
          93000,
          85000,
          264561,
          274000,
          226000,
          340037.5,
          152000,
          340037.5,
          143250,
          98300,
          155000,
          155000,
          84500,
          205950,
          108000,
          191000,
          135000,
          340037.5,
          88000,
          145500,
          149000,
          97500,
          167000,
          197900,
          340037.5,
          110000,
          137500,
          340037.5,
          230500,
          129000,
          193500,
          168000,
          137500,
          173500,
          103600,
          165000,
          257500,
          140000,
          148500,
          87000,
          109500,
          340037.5,
          128500,
          143000,
          159434,
          173000,
          285000,
          221000,
          207500,
          227875,
          148800,
          340037.5,
          194700,
          141000,
          340037.5,
          335000,
          108480,
          141500,
          176000,
          89000,
          123500,
          138500,
          196000,
          312500,
          140000,
          340037.5,
          140000,
          213000,
          55000,
          302000,
          254000,
          179540,
          109900,
          52000,
          102776,
          189000,
          129000,
          130500,
          165000,
          159500,
          157000,
          340037.5,
          128500,
          275000,
          143000,
          124500,
          135000,
          320000,
          120500,
          222000,
          194500,
          110000,
          103000,
          236500,
          187500,
          222500,
          131400,
          108000,
          163000,
          93500,
          239900,
          179000,
          190000,
          132000,
          142000,
          179000,
          175000,
          180000,
          299800,
          236000,
          265979,
          260400,
          98000,
          96500,
          162000,
          217000,
          275500,
          156000,
          172500,
          212000,
          158900,
          179400,
          290000,
          127500,
          100000,
          215200,
          337000,
          270000,
          264132,
          196500,
          160000,
          216837,
          340037.5,
          134900,
          102000,
          107000,
          114500,
          340037.5,
          162000,
          221500,
          142500,
          144000,
          135000,
          176000,
          175900,
          187100,
          165500,
          128000,
          161500,
          139000,
          233000,
          107900,
          187500,
          160200,
          146800,
          269790,
          225000,
          194500,
          171000,
          143500,
          110000,
          340037.5,
          175000,
          200000,
          109900,
          189000,
          340037.5,
          118000,
          227680,
          135500,
          223500,
          159950,
          106000,
          181000,
          144500,
          55993,
          157900,
          116000,
          224900,
          137000,
          271000,
          155000,
          224000,
          183000,
          93000,
          225000,
          139500,
          232600,
          340037.5,
          109500,
          189000,
          185000,
          147400,
          166000,
          151000,
          237000,
          167000,
          139950,
          128000,
          153500,
          100000,
          144000,
          130500,
          140000,
          157500,
          174900,
          141000,
          153900,
          171000,
          213000,
          133500,
          240000,
          187000,
          131500,
          215000,
          164000,
          158000,
          170000,
          127000,
          147000,
          174000,
          152000,
          250000,
          189950,
          131500,
          152000,
          132500,
          250580,
          148500,
          248900,
          129000,
          169000,
          236000,
          109500,
          200500,
          116000,
          133000,
          66500,
          303477,
          132250,
          340037.5,
          148000,
          136500,
          157000,
          187500,
          178000,
          118500,
          100000,
          328900,
          145000,
          135500,
          268000,
          149500,
          122900,
          172500,
          154500,
          165000,
          118858,
          140000,
          106500,
          142953,
          340037.5,
          135000,
          110000,
          153000,
          180000,
          240000,
          125500,
          128000,
          255000,
          250000,
          131000,
          174000,
          154300,
          143500,
          88000,
          145000,
          173733,
          75000,
          35311,
          135000,
          238000,
          176500,
          201000,
          145900,
          169990,
          193000,
          207500,
          175000,
          285000,
          176000,
          236500,
          222000,
          201000,
          117500,
          320000,
          190000,
          242000,
          79900,
          184900,
          253000,
          239799,
          244400,
          150900,
          214000,
          150000,
          143000,
          137500,
          124900,
          143000,
          270000,
          192500,
          197500,
          129000,
          119900,
          133900,
          172000,
          127500,
          145000,
          124000,
          132000,
          185000,
          155000,
          116500,
          272000,
          155000,
          239000,
          214900,
          178900,
          160000,
          135000,
          37900,
          140000,
          135000,
          173000,
          99500,
          182000,
          167500,
          165000,
          85500,
          199900,
          110000,
          139000,
          178400,
          336000,
          159895,
          255900,
          126000,
          125000,
          117000,
          340037.5,
          195000,
          197000,
          340037.5,
          168000,
          187000,
          173900,
          337500,
          121600,
          136500,
          185000,
          91000,
          206000,
          82000,
          86000,
          232000,
          136905,
          181000,
          149900,
          163500,
          88000,
          240000,
          102000,
          135000,
          100000,
          165000,
          85000,
          119200,
          227000,
          203000,
          187500,
          160000,
          213490,
          176000,
          194000,
          87000,
          191000,
          287000,
          112500,
          167500,
          293077,
          105000,
          118000,
          160000,
          197000,
          310000,
          230000,
          119750,
          84000,
          315500,
          287000,
          97000,
          80000,
          155000,
          173000,
          196000,
          262280,
          278000,
          139600,
          340037.5,
          145000,
          115000,
          84900,
          176485,
          200141,
          165000,
          144500,
          255000,
          180000,
          185850,
          248000,
          335000,
          220000,
          213500,
          81000,
          90000,
          110500,
          154000,
          328000,
          178000,
          167900,
          151400,
          135000,
          135000,
          154000,
          91500,
          159500,
          194000,
          219500,
          170000,
          138800,
          155900,
          126000,
          145000,
          133000,
          192000,
          160000,
          187500,
          147000,
          83500,
          252000,
          137500,
          197000,
          92900,
          160000,
          136500,
          146000,
          129000,
          176432,
          127000,
          170000,
          128000,
          157000,
          60000,
          119500,
          135000,
          159500,
          106000,
          325000,
          179900,
          274725,
          181000,
          280000,
          188000,
          205000,
          129900,
          134500,
          117000,
          318000,
          184100,
          130000,
          140000,
          133700,
          118400,
          212900,
          112000,
          118000,
          163900,
          115000,
          174000,
          259000,
          215000,
          140000,
          135000,
          93500,
          117500,
          239500,
          169000,
          102000,
          119000,
          94000,
          196000,
          144000,
          139000,
          197500,
          340037.5,
          80000,
          80000,
          149000,
          180000,
          174500,
          116900,
          143000,
          124000,
          149900,
          230000,
          120500,
          201800,
          218000,
          179900,
          230000,
          235128,
          185000,
          146000,
          224000,
          129000,
          108959,
          194000,
          233170,
          245350,
          173000,
          235000,
          340037.5,
          171000,
          163000,
          171900,
          200500,
          239000,
          285000,
          119500,
          115000,
          154900,
          93000,
          250000,
          340037.5,
          340037.5,
          120000,
          186700,
          104900,
          95000,
          262000,
          195000,
          189000,
          168000,
          174000,
          125000,
          165000,
          158000,
          176000,
          219210,
          144000,
          178000,
          148000,
          116050,
          197900,
          117000,
          213000,
          153500,
          271900,
          107000,
          200000,
          140000,
          290000,
          189000,
          164000,
          113000,
          145000,
          134500,
          125000,
          112000,
          229456,
          80500,
          91500,
          115000,
          134000,
          143000,
          137900,
          184000,
          145000,
          214000,
          147000,
          340037.5,
          127000,
          190000,
          132500,
          101800,
          142000,
          130000,
          138887,
          175500,
          195000,
          142500,
          265900,
          224900,
          248328,
          170000,
          340037.5,
          230000,
          178000,
          186500,
          169900,
          129500,
          119000,
          244000,
          171750,
          130000,
          294000,
          165400,
          127500,
          301500,
          99900,
          190000,
          151000,
          181000,
          128900,
          161500,
          180500,
          181000,
          183900,
          122000,
          340037.5,
          340037.5,
          144000,
          260000,
          185750,
          137000,
          177000,
          139000,
          137000,
          162000,
          197900,
          237000,
          68400,
          227000,
          180000,
          150500,
          139000,
          169000,
          132500,
          143000,
          190000,
          278000,
          281000,
          180500,
          119500,
          107500,
          162900,
          115000,
          138500,
          155000,
          140000,
          160000,
          154000,
          225000,
          177500,
          290000,
          232000,
          130000,
          325000,
          202500,
          138000,
          147000,
          179200,
          335000,
          203000,
          302000,
          333168,
          119000,
          206900,
          295493,
          208900,
          275000,
          111000,
          156500,
          72500,
          190000,
          82500,
          147000,
          55000,
          79000,
          130500,
          256000,
          176500,
          227000,
          132500,
          100000,
          125500,
          125000,
          167900,
          135000,
          52500,
          200000,
          128500,
          123000,
          155000,
          228500,
          177000,
          155835,
          108500,
          262500,
          283463,
          215000,
          122000,
          200000,
          171000,
          134900,
          340037.5,
          235000,
          170000,
          110000,
          149900,
          177500,
          315000,
          189000,
          260000,
          104900,
          156932,
          144152,
          216000,
          193000,
          127000,
          144000,
          232000,
          105000,
          165500,
          274300,
          340037.5,
          250000,
          239000,
          91000,
          117000,
          83000,
          167500,
          58500,
          237500,
          157000,
          112000,
          105000,
          125500,
          250000,
          136000,
          340037.5,
          131000,
          235000,
          124000,
          123000,
          163000,
          246578,
          281213,
          160000,
          137500,
          138000,
          137450,
          120000,
          193000,
          193879,
          282922,
          105000,
          275000,
          133000,
          112000,
          125500,
          215000,
          230000,
          140000,
          90000,
          257000,
          207000,
          175900,
          122500,
          340000,
          124000,
          223000,
          179900,
          127500,
          136500,
          274970,
          144000,
          142000,
          271000,
          140000,
          119000,
          182900,
          192140,
          143750,
          64500,
          186500,
          160000,
          174000,
          120500,
          340037.5,
          149700,
          197000,
          191000,
          149300,
          310000,
          121000,
          179600,
          129000,
          157900,
          240000,
          112000,
          92000,
          136000,
          287090,
          145000,
          84500,
          185000,
          175000,
          210000,
          266500,
          142125,
          147500
         ],
         "xaxis": "x",
         "y": [
          8450,
          9600,
          11250,
          9550,
          14260,
          14115,
          10084,
          10382,
          6120,
          7420,
          11200,
          11924,
          12968,
          10652,
          10920,
          6120,
          11241,
          10791,
          13695,
          7560,
          14215,
          7449,
          9742,
          4224,
          8246,
          14230,
          7200,
          11478,
          16321,
          6324,
          8500,
          8544,
          11049,
          10552,
          7313,
          13418,
          10859,
          8532,
          7922,
          6040,
          8658,
          16905,
          9180,
          9200,
          7945,
          7658,
          12822,
          11096,
          4456,
          7742,
          13869,
          6240,
          8472,
          50271,
          7134,
          10175,
          2645,
          11645,
          13682,
          7200,
          13072,
          7200,
          6442,
          10300,
          9375,
          9591,
          19900,
          10665,
          4608,
          15593,
          13651,
          7599,
          10141,
          10200,
          5790,
          1596,
          8475,
          8635,
          10778,
          10440,
          13000,
          4500,
          10206,
          8892,
          8530,
          16059,
          11911,
          3951,
          8470,
          8070,
          7200,
          8500,
          13360,
          7200,
          9337,
          9765,
          10264,
          10921,
          10625,
          9320,
          10603,
          9206,
          7018,
          10402,
          7758,
          9375,
          10800,
          6000,
          8500,
          11751,
          9525,
          7750,
          9965,
          21000,
          7259,
          3230,
          11616,
          8536,
          12376,
          8461,
          21453,
          6060,
          9464,
          7892,
          17043,
          6780,
          4928,
          4388,
          7590,
          8973,
          14200,
          12224,
          7388,
          6853,
          10335,
          10400,
          10355,
          11070,
          9066,
          15426,
          10500,
          11645,
          8520,
          10335,
          9100,
          2522,
          6120,
          9505,
          7500,
          6240,
          10356,
          13891,
          14803,
          13500,
          11340,
          9600,
          7200,
          12003,
          12552,
          19378,
          11120,
          13688,
          12182,
          5500,
          5400,
          10106,
          10708,
          10562,
          8244,
          16669,
          12358,
          31770,
          5306,
          10197,
          12416,
          12615,
          10029,
          13650,
          17423,
          8520,
          2117,
          7588,
          9060,
          11426,
          7438,
          22950,
          9947,
          10410,
          7018,
          4923,
          10570,
          7472,
          9017,
          2522,
          7180,
          2280,
          9416,
          25419,
          5520,
          9591,
          8546,
          10125,
          7000,
          4438,
          3500,
          11851,
          13673,
          12493,
          14364,
          8250,
          5604,
          10420,
          8640,
          13568,
          10900,
          10011,
          8450,
          9906,
          15660,
          3010,
          8990,
          8068,
          11475,
          10500,
          13472,
          1680,
          9950,
          1869,
          8521,
          3182,
          8760,
          15138,
          1680,
          10650,
          7851,
          1680,
          8773,
          9453,
          12030,
          8741,
          9000,
          3880,
          5000,
          10762,
          8880,
          10400,
          9142,
          11310,
          11317,
          159000,
          5350,
          4750,
          8366,
          9350,
          8400,
          8738,
          8791,
          8814,
          12435,
          12702,
          19296,
          9588,
          8471,
          5500,
          5232,
          12090,
          11207,
          8400,
          6900,
          7917,
          10728,
          39104,
          11764,
          9600,
          8314,
          7264,
          9196,
          19138,
          14450,
          10005,
          11287,
          7200,
          5063,
          9612,
          8012,
          4251,
          9786,
          8125,
          9819,
          8730,
          15611,
          5687,
          11409,
          16659,
          9600,
          7937,
          13710,
          7399,
          11700,
          14000,
          15750,
          16226,
          13704,
          9800,
          18386,
          10386,
          13474,
          7920,
          12342,
          12378,
          7685,
          8000,
          7800,
          215245,
          9600,
          7795,
          13005,
          9000,
          9900,
          14115,
          16259,
          12099,
          10380,
          5820,
          11275,
          5000,
          10846,
          11600,
          11888,
          6402,
          10624,
          8176,
          10655,
          8198,
          9042,
          164660,
          14157,
          9135,
          14145,
          12400,
          14191,
          8400,
          8544,
          8849,
          2592,
          6435,
          12772,
          17600,
          2448,
          20431,
          7820,
          5271,
          9084,
          8520,
          8400,
          11249,
          9248,
          4224,
          6930,
          12011,
          7540,
          9144,
          7301,
          1680,
          18800,
          10690,
          9500,
          9150,
          7800,
          9830,
          8121,
          17120,
          7175,
          10634,
          8200,
          10020,
          8846,
          11143,
          11394,
          8123,
          5000,
          7200,
          9245,
          9000,
          53107,
          3182,
          8410,
          7200,
          9382,
          12474,
          8405,
          12209,
          8339,
          7446,
          10134,
          9571,
          7200,
          7590,
          8967,
          8125,
          14963,
          8767,
          10200,
          12090,
          10364,
          9991,
          10480,
          15576,
          14154,
          10800,
          9571,
          34650,
          4403,
          8960,
          11228,
          8899,
          7844,
          22420,
          8160,
          8450,
          7060,
          16635,
          21750,
          9200,
          9000,
          3378,
          12800,
          8593,
          6762,
          11457,
          1680,
          5586,
          1920,
          10839,
          1890,
          10667,
          4400,
          6000,
          4280,
          12354,
          15431,
          12108,
          6240,
          3922,
          8750,
          9855,
          16492,
          11214,
          8600,
          6000,
          5684,
          70761,
          9303,
          9000,
          9297,
          9600,
          4571,
          53227,
          5100,
          7015,
          8004,
          7200,
          8281,
          11988,
          8430,
          3072,
          10628,
          9480,
          11428,
          9291,
          6820,
          11952,
          3675,
          14977,
          5330,
          8480,
          13125,
          13693,
          10637,
          5925,
          16033,
          11846,
          2500,
          4500,
          7758,
          9600,
          10289,
          12243,
          10800,
          1526,
          2665,
          9490,
          15578,
          7931,
          5784,
          7879,
          12692,
          9120,
          7800,
          7535,
          1890,
          9803,
          9170,
          15602,
          2308,
          7596,
          9554,
          7862,
          9600,
          9600,
          14559,
          6792,
          9100,
          9187,
          10594,
          12220,
          10448,
          10208,
          9531,
          10918,
          10800,
          11988,
          5000,
          40094,
          11787,
          7500,
          13300,
          14948,
          9098,
          32668,
          10200,
          6155,
          7200,
          5000,
          9056,
          7000,
          8924,
          12735,
          11553,
          11423,
          14601,
          11000,
          10140,
          4058,
          17104,
          13837,
          8737,
          7244,
          8235,
          9375,
          4043,
          6000,
          11146,
          8777,
          10625,
          6380,
          14850,
          11040,
          21872,
          3196,
          11341,
          10010,
          13907,
          21780,
          13346,
          6858,
          11198,
          10171,
          12327,
          7032,
          13101,
          7332,
          13159,
          9967,
          10500,
          8480,
          6292,
          11777,
          3604,
          12150,
          14585,
          12704,
          11841,
          13500,
          6120,
          11443,
          10267,
          8740,
          25095,
          9100,
          8320,
          13478,
          6600,
          4435,
          7990,
          11302,
          3600,
          3922,
          12984,
          1950,
          10927,
          9000,
          10041,
          3182,
          12803,
          13600,
          12464,
          7800,
          12168,
          7943,
          11050,
          10395,
          11885,
          8402,
          1491,
          8800,
          7861,
          7227,
          11694,
          12244,
          8248,
          10800,
          7064,
          2117,
          10400,
          10000,
          12342,
          9600,
          11606,
          9020,
          9000,
          4590,
          11900,
          9250,
          6979,
          10896,
          6120,
          6000,
          8777,
          3982,
          12677,
          7050,
          13860,
          10793,
          9187,
          10530,
          7200,
          10452,
          7700,
          1936,
          8125,
          9084,
          8750,
          10320,
          10437,
          1680,
          10007,
          7200,
          17503,
          9937,
          12384,
          46589,
          13560,
          10012,
          20896,
          11194,
          18450,
          8125,
          14175,
          11600,
          8633,
          6629,
          11250,
          14442,
          9200,
          2289,
          9600,
          9022,
          11844,
          9945,
          8012,
          4500,
          2887,
          11248,
          16770,
          5062,
          10207,
          5105,
          8089,
          7577,
          4426,
          21535,
          26178,
          5400,
          6120,
          13811,
          6000,
          6420,
          8450,
          4282,
          14331,
          9600,
          12438,
          7630,
          8400,
          5600,
          115149,
          6240,
          9018,
          7162,
          4130,
          8712,
          4671,
          9873,
          13517,
          10140,
          10800,
          10000,
          10542,
          9920,
          6563,
          4426,
          8120,
          8172,
          13286,
          6960,
          21695,
          7314,
          11475,
          6240,
          5389,
          9590,
          11404,
          10000,
          8978,
          10800,
          8544,
          10463,
          10800,
          9313,
          9600,
          6768,
          8450,
          12886,
          5395,
          8963,
          8795,
          11700,
          10593,
          8405,
          8800,
          7750,
          9236,
          10240,
          7930,
          3230,
          10769,
          11616,
          2280,
          12257,
          9100,
          6911,
          8640,
          9430,
          9549,
          14587,
          10421,
          12508,
          9100,
          53504,
          7252,
          8877,
          7819,
          10150,
          14226,
          4500,
          11210,
          13350,
          8400,
          10530,
          7875,
          7153,
          16285,
          9101,
          6300,
          9790,
          10800,
          10142,
          6000,
          12205,
          3182,
          11333,
          9920,
          9158,
          10832,
          8400,
          8197,
          7677,
          13518,
          7200,
          12798,
          4800,
          8199,
          13891,
          9000,
          12274,
          9750,
          21384,
          13400,
          8100,
          10140,
          4438,
          8712,
          9750,
          8248,
          12137,
          11425,
          13265,
          8816,
          6371,
          7226,
          6000,
          12394,
          9900,
          11216,
          14803,
          6130,
          8529,
          28698,
          2544,
          11900,
          3180,
          9548,
          10004,
          7875,
          9600,
          8100,
          1680,
          9525,
          11767,
          12155,
          10440,
          9020,
          8000,
          12665,
          16647,
          9317,
          15523,
          45600,
          9600,
          4435,
          3196,
          7128,
          12095,
          17920,
          6897,
          10970,
          8125,
          10400,
          11029,
          7642,
          11625,
          9672,
          7931,
          8640,
          8750,
          10656,
          6970,
          14762,
          9938,
          6600,
          8750,
          8892,
          12144,
          5720,
          9000,
          25286,
          8834,
          11782,
          7000,
          7024,
          13758,
          9636,
          6204,
          7150,
          5119,
          8393,
          16466,
          15865,
          12160,
          8064,
          11184,
          8414,
          13284,
          7018,
          7056,
          8765,
          7018,
          12919,
          6993,
          7340,
          8712,
          7875,
          14859,
          6173,
          9920,
          13501,
          11500,
          8885,
          12589,
          11600,
          9286,
          6120,
          6270,
          3000,
          2001,
          9000,
          17140,
          13125,
          11029,
          8462,
          8777,
          10237,
          8012,
          10240,
          15611,
          11999,
          9900,
          11838,
          13006,
          8925,
          9100,
          11670,
          8487,
          27650,
          5825,
          10083,
          9675,
          8760,
          24090,
          12640,
          8755,
          7711,
          25000,
          14375,
          8820,
          8163,
          14536,
          14006,
          9360,
          7200,
          7800,
          7200,
          11075,
          9400,
          7136,
          1300,
          7420,
          8450,
          2572,
          7207,
          12227,
          2308,
          11923,
          11316,
          10237,
          9600,
          7390,
          5925,
          10382,
          10800,
          2268,
          7892,
          11639,
          11414,
          2651,
          5900,
          4274,
          9450,
          8816,
          12122,
          12203,
          3182,
          11250,
          10125,
          10880,
          5310,
          10159,
          12046,
          8125,
          9452,
          17671,
          9760,
          8846,
          12456,
          4712,
          10659,
          11717,
          9786,
          6762,
          10206,
          5400,
          11957,
          11500,
          3182,
          8385,
          12155,
          2217,
          12118,
          6000,
          21286,
          9825,
          10592,
          7200,
          11664,
          8400,
          11883,
          5814,
          10784,
          3013,
          7024,
          7406,
          9439,
          3182,
          15498,
          7700,
          9300,
          9520,
          9492,
          1680,
          7082,
          15863,
          14541,
          8125,
          6305,
          11500,
          12898,
          9240,
          1533,
          1477,
          13125,
          9130,
          5381,
          11839,
          9600,
          13680,
          16056,
          9245,
          21750,
          11100,
          8993,
          11175,
          9500,
          8562,
          11367,
          11361,
          7052,
          29959,
          11308,
          11275,
          4920,
          18000,
          13600,
          6000,
          11000,
          14000,
          7837,
          9760,
          3964,
          9600,
          10152,
          11700,
          7585,
          7950,
          8556,
          13125,
          10800,
          15870,
          4435,
          8775,
          11040,
          7500,
          8749,
          8800,
          13031,
          9069,
          1974,
          10574,
          2522,
          3316,
          8544,
          2160,
          8400,
          9230,
          5868,
          9317,
          6882,
          3696,
          6000,
          11880,
          8400,
          9758,
          7000,
          8910,
          2016,
          12256,
          10357,
          23257,
          8063,
          11362,
          8000,
          10480,
          7100,
          8923,
          5400,
          12085,
          7750,
          9764,
          13825,
          7560,
          8263,
          10084,
          8926,
          9405,
          9125,
          10434,
          3684,
          14572,
          11796,
          7200,
          7804,
          10712,
          9900,
          9828,
          8773,
          6180,
          9600,
          6342,
          9819,
          8731,
          7350,
          10304,
          9965,
          9000,
          12180,
          6240,
          11200,
          12000,
          5700,
          9000,
          8280,
          17755,
          14115,
          5890,
          13700,
          10768,
          9350,
          5001,
          11932,
          9120,
          2280,
          14778,
          8724,
          12900,
          16157,
          9541,
          10475,
          10852,
          13728,
          35760,
          9880,
          9120,
          4017,
          18030,
          16560,
          10678,
          6951,
          3950,
          7681,
          8335,
          11170,
          5587,
          15623,
          10800,
          35133,
          9738,
          10615,
          12461,
          8935,
          7500,
          32463,
          2645,
          9600,
          4500,
          9364,
          8029,
          14054,
          8850,
          9100,
          11235,
          9353,
          10400,
          6000,
          9750,
          10140,
          14684,
          8900,
          9135,
          7763,
          10182,
          11218,
          12134,
          9340,
          10246,
          10205,
          7094,
          8930,
          8640,
          6240,
          1680,
          7800,
          8250,
          10496,
          10680,
          15384,
          10482,
          14598,
          8872,
          8769,
          7910,
          18890,
          7728,
          9842,
          12160,
          8525,
          13132,
          2628,
          12393,
          13072,
          9037,
          8158,
          9849,
          10625,
          13891,
          11435,
          12090,
          8125,
          12328,
          9600,
          7200,
          11160,
          3136,
          9858,
          17542,
          6931,
          6240,
          14303,
          4060,
          9587,
          9750,
          24682,
          9600,
          11250,
          13515,
          4060,
          3735,
          10120,
          13214,
          14100,
          11344,
          23595,
          9156,
          13526,
          11512,
          5362,
          11345,
          12936,
          17871,
          9473,
          7500,
          9808,
          8049,
          8800,
          9400,
          9638,
          6000,
          9790,
          36500,
          5664,
          11065,
          14112,
          1680,
          6600,
          10140,
          8172,
          8400,
          8700,
          3675,
          63887,
          7500,
          10762,
          7500,
          10120,
          8688,
          3363,
          13173,
          6955,
          8072,
          12000,
          7153,
          17500,
          8814,
          9572,
          14774,
          8190,
          11075,
          10226,
          4230,
          14781,
          10215,
          8400,
          6627,
          10186,
          5330,
          9986,
          3636,
          4270,
          6600,
          10440,
          9084,
          10000,
          10780,
          8877,
          7200,
          2368,
          9650,
          9246,
          4118,
          13450,
          9560,
          8294,
          13695,
          9375,
          7558,
          11103,
          6000,
          20781,
          15306,
          16196,
          5250,
          11643,
          9247,
          6000,
          14720,
          10316,
          10192,
          9477,
          12537,
          2117,
          16737,
          9842,
          16158,
          12513,
          8499,
          3180,
          7500,
          9179,
          2665,
          4435,
          10635,
          5400,
          9600,
          9750,
          11400,
          10625,
          10991,
          6292,
          10998,
          1953,
          9735,
          8212,
          12925,
          7200,
          25339,
          9060,
          5436,
          16692,
          8520,
          14892,
          6000,
          9100,
          8944,
          7838,
          10800,
          4045,
          12665,
          57200,
          6120,
          7200,
          6171,
          6000,
          7415,
          6762,
          15256,
          10410,
          3842,
          8445,
          8780,
          7740,
          20544,
          12420,
          9600,
          7200,
          10994,
          13053,
          3635,
          11340,
          16545,
          9204,
          16381,
          11700,
          4043,
          4435,
          19690,
          9503,
          10721,
          10944,
          10930,
          7200,
          12546,
          21930,
          4928,
          10800,
          10261,
          17400,
          8400,
          9000,
          12444,
          7407,
          11584,
          11526,
          4426,
          11003,
          8854,
          8500,
          8400,
          26142,
          10000,
          11767,
          1533,
          9000,
          9262,
          3675,
          17217,
          7500,
          7917,
          13175,
          9042,
          9717,
          9937
         ],
         "yaxis": "y"
        }
       ],
       "layout": {
        "autosize": true,
        "coloraxis": {
         "colorbar": {
          "title": {
           "text": "YearBuilt"
          }
         },
         "colorscale": [
          [
           0,
           "#0d0887"
          ],
          [
           0.1111111111111111,
           "#46039f"
          ],
          [
           0.2222222222222222,
           "#7201a8"
          ],
          [
           0.3333333333333333,
           "#9c179e"
          ],
          [
           0.4444444444444444,
           "#bd3786"
          ],
          [
           0.5555555555555556,
           "#d8576b"
          ],
          [
           0.6666666666666666,
           "#ed7953"
          ],
          [
           0.7777777777777778,
           "#fb9f3a"
          ],
          [
           0.8888888888888888,
           "#fdca26"
          ],
          [
           1,
           "#f0f921"
          ]
         ]
        },
        "legend": {
         "tracegroupgap": 0
        },
        "margin": {
         "t": 60
        },
        "template": {
         "data": {
          "bar": [
           {
            "error_x": {
             "color": "#2a3f5f"
            },
            "error_y": {
             "color": "#2a3f5f"
            },
            "marker": {
             "line": {
              "color": "#E5ECF6",
              "width": 0.5
             },
             "pattern": {
              "fillmode": "overlay",
              "size": 10,
              "solidity": 0.2
             }
            },
            "type": "bar"
           }
          ],
          "barpolar": [
           {
            "marker": {
             "line": {
              "color": "#E5ECF6",
              "width": 0.5
             },
             "pattern": {
              "fillmode": "overlay",
              "size": 10,
              "solidity": 0.2
             }
            },
            "type": "barpolar"
           }
          ],
          "carpet": [
           {
            "aaxis": {
             "endlinecolor": "#2a3f5f",
             "gridcolor": "white",
             "linecolor": "white",
             "minorgridcolor": "white",
             "startlinecolor": "#2a3f5f"
            },
            "baxis": {
             "endlinecolor": "#2a3f5f",
             "gridcolor": "white",
             "linecolor": "white",
             "minorgridcolor": "white",
             "startlinecolor": "#2a3f5f"
            },
            "type": "carpet"
           }
          ],
          "choropleth": [
           {
            "colorbar": {
             "outlinewidth": 0,
             "ticks": ""
            },
            "type": "choropleth"
           }
          ],
          "contour": [
           {
            "colorbar": {
             "outlinewidth": 0,
             "ticks": ""
            },
            "colorscale": [
             [
              0,
              "#0d0887"
             ],
             [
              0.1111111111111111,
              "#46039f"
             ],
             [
              0.2222222222222222,
              "#7201a8"
             ],
             [
              0.3333333333333333,
              "#9c179e"
             ],
             [
              0.4444444444444444,
              "#bd3786"
             ],
             [
              0.5555555555555556,
              "#d8576b"
             ],
             [
              0.6666666666666666,
              "#ed7953"
             ],
             [
              0.7777777777777778,
              "#fb9f3a"
             ],
             [
              0.8888888888888888,
              "#fdca26"
             ],
             [
              1,
              "#f0f921"
             ]
            ],
            "type": "contour"
           }
          ],
          "contourcarpet": [
           {
            "colorbar": {
             "outlinewidth": 0,
             "ticks": ""
            },
            "type": "contourcarpet"
           }
          ],
          "heatmap": [
           {
            "colorbar": {
             "outlinewidth": 0,
             "ticks": ""
            },
            "colorscale": [
             [
              0,
              "#0d0887"
             ],
             [
              0.1111111111111111,
              "#46039f"
             ],
             [
              0.2222222222222222,
              "#7201a8"
             ],
             [
              0.3333333333333333,
              "#9c179e"
             ],
             [
              0.4444444444444444,
              "#bd3786"
             ],
             [
              0.5555555555555556,
              "#d8576b"
             ],
             [
              0.6666666666666666,
              "#ed7953"
             ],
             [
              0.7777777777777778,
              "#fb9f3a"
             ],
             [
              0.8888888888888888,
              "#fdca26"
             ],
             [
              1,
              "#f0f921"
             ]
            ],
            "type": "heatmap"
           }
          ],
          "heatmapgl": [
           {
            "colorbar": {
             "outlinewidth": 0,
             "ticks": ""
            },
            "colorscale": [
             [
              0,
              "#0d0887"
             ],
             [
              0.1111111111111111,
              "#46039f"
             ],
             [
              0.2222222222222222,
              "#7201a8"
             ],
             [
              0.3333333333333333,
              "#9c179e"
             ],
             [
              0.4444444444444444,
              "#bd3786"
             ],
             [
              0.5555555555555556,
              "#d8576b"
             ],
             [
              0.6666666666666666,
              "#ed7953"
             ],
             [
              0.7777777777777778,
              "#fb9f3a"
             ],
             [
              0.8888888888888888,
              "#fdca26"
             ],
             [
              1,
              "#f0f921"
             ]
            ],
            "type": "heatmapgl"
           }
          ],
          "histogram": [
           {
            "marker": {
             "pattern": {
              "fillmode": "overlay",
              "size": 10,
              "solidity": 0.2
             }
            },
            "type": "histogram"
           }
          ],
          "histogram2d": [
           {
            "colorbar": {
             "outlinewidth": 0,
             "ticks": ""
            },
            "colorscale": [
             [
              0,
              "#0d0887"
             ],
             [
              0.1111111111111111,
              "#46039f"
             ],
             [
              0.2222222222222222,
              "#7201a8"
             ],
             [
              0.3333333333333333,
              "#9c179e"
             ],
             [
              0.4444444444444444,
              "#bd3786"
             ],
             [
              0.5555555555555556,
              "#d8576b"
             ],
             [
              0.6666666666666666,
              "#ed7953"
             ],
             [
              0.7777777777777778,
              "#fb9f3a"
             ],
             [
              0.8888888888888888,
              "#fdca26"
             ],
             [
              1,
              "#f0f921"
             ]
            ],
            "type": "histogram2d"
           }
          ],
          "histogram2dcontour": [
           {
            "colorbar": {
             "outlinewidth": 0,
             "ticks": ""
            },
            "colorscale": [
             [
              0,
              "#0d0887"
             ],
             [
              0.1111111111111111,
              "#46039f"
             ],
             [
              0.2222222222222222,
              "#7201a8"
             ],
             [
              0.3333333333333333,
              "#9c179e"
             ],
             [
              0.4444444444444444,
              "#bd3786"
             ],
             [
              0.5555555555555556,
              "#d8576b"
             ],
             [
              0.6666666666666666,
              "#ed7953"
             ],
             [
              0.7777777777777778,
              "#fb9f3a"
             ],
             [
              0.8888888888888888,
              "#fdca26"
             ],
             [
              1,
              "#f0f921"
             ]
            ],
            "type": "histogram2dcontour"
           }
          ],
          "mesh3d": [
           {
            "colorbar": {
             "outlinewidth": 0,
             "ticks": ""
            },
            "type": "mesh3d"
           }
          ],
          "parcoords": [
           {
            "line": {
             "colorbar": {
              "outlinewidth": 0,
              "ticks": ""
             }
            },
            "type": "parcoords"
           }
          ],
          "pie": [
           {
            "automargin": true,
            "type": "pie"
           }
          ],
          "scatter": [
           {
            "fillpattern": {
             "fillmode": "overlay",
             "size": 10,
             "solidity": 0.2
            },
            "type": "scatter"
           }
          ],
          "scatter3d": [
           {
            "line": {
             "colorbar": {
              "outlinewidth": 0,
              "ticks": ""
             }
            },
            "marker": {
             "colorbar": {
              "outlinewidth": 0,
              "ticks": ""
             }
            },
            "type": "scatter3d"
           }
          ],
          "scattercarpet": [
           {
            "marker": {
             "colorbar": {
              "outlinewidth": 0,
              "ticks": ""
             }
            },
            "type": "scattercarpet"
           }
          ],
          "scattergeo": [
           {
            "marker": {
             "colorbar": {
              "outlinewidth": 0,
              "ticks": ""
             }
            },
            "type": "scattergeo"
           }
          ],
          "scattergl": [
           {
            "marker": {
             "colorbar": {
              "outlinewidth": 0,
              "ticks": ""
             }
            },
            "type": "scattergl"
           }
          ],
          "scattermapbox": [
           {
            "marker": {
             "colorbar": {
              "outlinewidth": 0,
              "ticks": ""
             }
            },
            "type": "scattermapbox"
           }
          ],
          "scatterpolar": [
           {
            "marker": {
             "colorbar": {
              "outlinewidth": 0,
              "ticks": ""
             }
            },
            "type": "scatterpolar"
           }
          ],
          "scatterpolargl": [
           {
            "marker": {
             "colorbar": {
              "outlinewidth": 0,
              "ticks": ""
             }
            },
            "type": "scatterpolargl"
           }
          ],
          "scatterternary": [
           {
            "marker": {
             "colorbar": {
              "outlinewidth": 0,
              "ticks": ""
             }
            },
            "type": "scatterternary"
           }
          ],
          "surface": [
           {
            "colorbar": {
             "outlinewidth": 0,
             "ticks": ""
            },
            "colorscale": [
             [
              0,
              "#0d0887"
             ],
             [
              0.1111111111111111,
              "#46039f"
             ],
             [
              0.2222222222222222,
              "#7201a8"
             ],
             [
              0.3333333333333333,
              "#9c179e"
             ],
             [
              0.4444444444444444,
              "#bd3786"
             ],
             [
              0.5555555555555556,
              "#d8576b"
             ],
             [
              0.6666666666666666,
              "#ed7953"
             ],
             [
              0.7777777777777778,
              "#fb9f3a"
             ],
             [
              0.8888888888888888,
              "#fdca26"
             ],
             [
              1,
              "#f0f921"
             ]
            ],
            "type": "surface"
           }
          ],
          "table": [
           {
            "cells": {
             "fill": {
              "color": "#EBF0F8"
             },
             "line": {
              "color": "white"
             }
            },
            "header": {
             "fill": {
              "color": "#C8D4E3"
             },
             "line": {
              "color": "white"
             }
            },
            "type": "table"
           }
          ]
         },
         "layout": {
          "annotationdefaults": {
           "arrowcolor": "#2a3f5f",
           "arrowhead": 0,
           "arrowwidth": 1
          },
          "autotypenumbers": "strict",
          "coloraxis": {
           "colorbar": {
            "outlinewidth": 0,
            "ticks": ""
           }
          },
          "colorscale": {
           "diverging": [
            [
             0,
             "#8e0152"
            ],
            [
             0.1,
             "#c51b7d"
            ],
            [
             0.2,
             "#de77ae"
            ],
            [
             0.3,
             "#f1b6da"
            ],
            [
             0.4,
             "#fde0ef"
            ],
            [
             0.5,
             "#f7f7f7"
            ],
            [
             0.6,
             "#e6f5d0"
            ],
            [
             0.7,
             "#b8e186"
            ],
            [
             0.8,
             "#7fbc41"
            ],
            [
             0.9,
             "#4d9221"
            ],
            [
             1,
             "#276419"
            ]
           ],
           "sequential": [
            [
             0,
             "#0d0887"
            ],
            [
             0.1111111111111111,
             "#46039f"
            ],
            [
             0.2222222222222222,
             "#7201a8"
            ],
            [
             0.3333333333333333,
             "#9c179e"
            ],
            [
             0.4444444444444444,
             "#bd3786"
            ],
            [
             0.5555555555555556,
             "#d8576b"
            ],
            [
             0.6666666666666666,
             "#ed7953"
            ],
            [
             0.7777777777777778,
             "#fb9f3a"
            ],
            [
             0.8888888888888888,
             "#fdca26"
            ],
            [
             1,
             "#f0f921"
            ]
           ],
           "sequentialminus": [
            [
             0,
             "#0d0887"
            ],
            [
             0.1111111111111111,
             "#46039f"
            ],
            [
             0.2222222222222222,
             "#7201a8"
            ],
            [
             0.3333333333333333,
             "#9c179e"
            ],
            [
             0.4444444444444444,
             "#bd3786"
            ],
            [
             0.5555555555555556,
             "#d8576b"
            ],
            [
             0.6666666666666666,
             "#ed7953"
            ],
            [
             0.7777777777777778,
             "#fb9f3a"
            ],
            [
             0.8888888888888888,
             "#fdca26"
            ],
            [
             1,
             "#f0f921"
            ]
           ]
          },
          "colorway": [
           "#636efa",
           "#EF553B",
           "#00cc96",
           "#ab63fa",
           "#FFA15A",
           "#19d3f3",
           "#FF6692",
           "#B6E880",
           "#FF97FF",
           "#FECB52"
          ],
          "font": {
           "color": "#2a3f5f"
          },
          "geo": {
           "bgcolor": "white",
           "lakecolor": "white",
           "landcolor": "#E5ECF6",
           "showlakes": true,
           "showland": true,
           "subunitcolor": "white"
          },
          "hoverlabel": {
           "align": "left"
          },
          "hovermode": "closest",
          "mapbox": {
           "style": "light"
          },
          "paper_bgcolor": "white",
          "plot_bgcolor": "#E5ECF6",
          "polar": {
           "angularaxis": {
            "gridcolor": "white",
            "linecolor": "white",
            "ticks": ""
           },
           "bgcolor": "#E5ECF6",
           "radialaxis": {
            "gridcolor": "white",
            "linecolor": "white",
            "ticks": ""
           }
          },
          "scene": {
           "xaxis": {
            "backgroundcolor": "#E5ECF6",
            "gridcolor": "white",
            "gridwidth": 2,
            "linecolor": "white",
            "showbackground": true,
            "ticks": "",
            "zerolinecolor": "white"
           },
           "yaxis": {
            "backgroundcolor": "#E5ECF6",
            "gridcolor": "white",
            "gridwidth": 2,
            "linecolor": "white",
            "showbackground": true,
            "ticks": "",
            "zerolinecolor": "white"
           },
           "zaxis": {
            "backgroundcolor": "#E5ECF6",
            "gridcolor": "white",
            "gridwidth": 2,
            "linecolor": "white",
            "showbackground": true,
            "ticks": "",
            "zerolinecolor": "white"
           }
          },
          "shapedefaults": {
           "line": {
            "color": "#2a3f5f"
           }
          },
          "ternary": {
           "aaxis": {
            "gridcolor": "white",
            "linecolor": "white",
            "ticks": ""
           },
           "baxis": {
            "gridcolor": "white",
            "linecolor": "white",
            "ticks": ""
           },
           "bgcolor": "#E5ECF6",
           "caxis": {
            "gridcolor": "white",
            "linecolor": "white",
            "ticks": ""
           }
          },
          "title": {
           "x": 0.05
          },
          "xaxis": {
           "automargin": true,
           "gridcolor": "white",
           "linecolor": "white",
           "ticks": "",
           "title": {
            "standoff": 15
           },
           "zerolinecolor": "white",
           "zerolinewidth": 2
          },
          "yaxis": {
           "automargin": true,
           "gridcolor": "white",
           "linecolor": "white",
           "ticks": "",
           "title": {
            "standoff": 15
           },
           "zerolinecolor": "white",
           "zerolinewidth": 2
          }
         }
        },
        "xaxis": {
         "anchor": "y",
         "autorange": true,
         "domain": [
          0,
          1
         ],
         "range": [
          16381.180683918668,
          358556.31931608135
         ],
         "title": {
          "text": "SalePrice"
         },
         "type": "linear"
        },
        "yaxis": {
         "anchor": "x",
         "autorange": true,
         "domain": [
          0,
          1
         ],
         "range": [
          -15265.29527559055,
          231810.29527559056
         ],
         "title": {
          "text": "LotArea"
         },
         "type": "linear"
        }
       }
      },
      "image/png": "[encoded data removed]",
      "text/html": [
       "<div>                            <div id=\"46641bc2-4d98-45f7-a64a-21a7a8eb4ae1\" class=\"plotly-graph-div\" style=\"height:525px; width:100%;\"></div>            <script type=\"text/javascript\">                require([\"plotly\"], function(Plotly) {                    window.PLOTLYENV=window.PLOTLYENV || {};                                    if (document.getElementById(\"46641bc2-4d98-45f7-a64a-21a7a8eb4ae1\")) {                    Plotly.newPlot(                        \"46641bc2-4d98-45f7-a64a-21a7a8eb4ae1\",                        [{\"customdata\":[[2008],[2007],[2008],[2006],[2008],[2009],[2007],[2009],[2008],[2008],[2008],[2006],[2008],[2007],[2008],[2007],[2010],[2006],[2008],[2009],[2006],[2007],[2008],[2007],[2010],[2009],[2010],[2010],[2006],[2008],[2008],[2008],[2008],[2010],[2007],[2006],[2009],[2009],[2010],[2008],[2006],[2007],[2007],[2008],[2006],[2010],[2009],[2007],[2009],[2007],[2007],[2006],[2010],[2006],[2007],[2008],[2009],[2006],[2006],[2008],[2006],[2007],[2007],[2010],[2009],[2007],[2010],[2007],[2010],[2006],[2007],[2007],[2009],[2010],[2010],[2009],[2008],[2008],[2010],[2009],[2009],[2006],[2008],[2007],[2009],[2006],[2009],[2009],[2009],[2007],[2006],[2006],[2009],[2007],[2007],[2009],[2006],[2007],[2010],[2010],[2010],[2010],[2009],[2010],[2007],[2008],[2007],[2008],[2007],[2010],[2006],[2010],[2007],[2007],[2007],[2007],[2009],[2007],[2010],[2006],[2006],[2007],[2008],[2008],[2009],[2006],[2007],[2007],[2006],[2006],[2006],[2009],[2007],[2009],[2006],[2008],[2007],[2006],[2008],[2009],[2010],[2006],[2010],[2009],[2006],[2006],[2009],[2010],[2008],[2006],[2007],[2008],[2006],[2008],[2006],[2008],[2006],[2010],[2010],[2006],[2008],[2008],[2010],[2007],[2007],[2008],[2009],[2007],[2007],[2006],[2007],[2010],[2006],[2008],[2008],[2007],[2007],[2006],[2009],[2007],[2007],[2006],[2007],[2008],[2006],[2006],[2009],[2009],[2009],[2008],[2007],[2007],[2009],[2006],[2008],[2009],[2007],[2006],[2009],[2009],[2010],[2008],[2006],[2008],[2009],[2009],[2007],[2008],[2007],[2008],[2008],[2010],[2009],[2006],[2010],[2006],[2008],[2006],[2008],[2006],[2006],[2009],[2006],[2009],[2009],[2009],[2007],[2008],[2010],[2009],[2010],[2009],[2006],[2010],[2010],[2008],[2010],[2010],[2007],[2010],[2010],[2007],[2006],[2009],[2010],[2006],[2006],[2006],[2007],[2007],[2010],[2007],[2008],[2007],[2010],[2006],[2008],[2009],[2008],[2008],[2009],[2007],[2006],[2010],[2008],[2008],[2006],[2008],[2008],[2007],[2006],[2008],[2010],[2009],[2007],[2009],[2010],[2010],[2007],[2008],[2007],[2006],[2009],[2009],[2007],[2007],[2006],[2006],[2010],[2007],[2006],[2008],[2009],[2006],[2009],[2006],[2007],[2007],[2007],[2009],[2006],[2007],[2006],[2006],[2008],[2007],[2007],[2008],[2009],[2006],[2006],[2009],[2006],[2009],[2006],[2009],[2009],[2007],[2009],[2009],[2006],[2007],[2007],[2006],[2010],[2007],[2008],[2006],[2009],[2009],[2007],[2007],[2009],[2008],[2008],[2008],[2007],[2008],[2006],[2009],[2010],[2009],[2006],[2008],[2010],[2006],[2007],[2009],[2008],[2006],[2007],[2006],[2008],[2010],[2006],[2007],[2009],[2007],[2006],[2006],[2007],[2008],[2009],[2009],[2006],[2009],[2009],[2008],[2010],[2010],[2006],[2008],[2010],[2009],[2007],[2009],[2006],[2007],[2010],[2009],[2010],[2006],[2007],[2009],[2007],[2010],[2006],[2009],[2008],[2008],[2008],[2009],[2007],[2006],[2007],[2010],[2009],[2007],[2007],[2009],[2008],[2006],[2008],[2006],[2007],[2009],[2008],[2008],[2007],[2008],[2009],[2006],[2010],[2010],[2008],[2007],[2006],[2007],[2007],[2010],[2008],[2009],[2008],[2008],[2008],[2009],[2009],[2008],[2007],[2009],[2008],[2008],[2007],[2008],[2008],[2009],[2006],[2009],[2007],[2009],[2009],[2008],[2008],[2007],[2008],[2009],[2010],[2006],[2006],[2007],[2006],[2006],[2007],[2009],[2006],[2007],[2008],[2008],[2008],[2009],[2009],[2009],[2009],[2008],[2009],[2006],[2007],[2007],[2007],[2008],[2010],[2007],[2008],[2007],[2007],[2007],[2008],[2007],[2009],[2007],[2006],[2006],[2009],[2006],[2007],[2009],[2007],[2007],[2006],[2009],[2008],[2006],[2006],[2008],[2009],[2009],[2007],[2008],[2009],[2007],[2007],[2008],[2007],[2010],[2009],[2009],[2006],[2009],[2008],[2009],[2009],[2006],[2006],[2007],[2007],[2009],[2009],[2009],[2007],[2009],[2008],[2007],[2006],[2007],[2007],[2006],[2007],[2008],[2007],[2007],[2008],[2008],[2010],[2007],[2006],[2008],[2008],[2008],[2006],[2010],[2009],[2007],[2009],[2007],[2006],[2006],[2007],[2007],[2008],[2009],[2008],[2008],[2009],[2009],[2008],[2006],[2006],[2006],[2008],[2006],[2010],[2006],[2008],[2008],[2006],[2010],[2008],[2010],[2009],[2006],[2008],[2006],[2009],[2007],[2007],[2008],[2009],[2006],[2008],[2008],[2007],[2009],[2007],[2008],[2009],[2006],[2008],[2009],[2009],[2008],[2008],[2009],[2008],[2009],[2008],[2006],[2006],[2007],[2006],[2008],[2006],[2007],[2006],[2010],[2008],[2009],[2009],[2006],[2007],[2007],[2009],[2007],[2009],[2007],[2010],[2010],[2006],[2008],[2007],[2008],[2008],[2008],[2009],[2007],[2006],[2010],[2007],[2010],[2007],[2008],[2006],[2007],[2009],[2007],[2010],[2007],[2009],[2009],[2008],[2006],[2008],[2007],[2009],[2007],[2009],[2007],[2008],[2008],[2010],[2007],[2008],[2009],[2009],[2008],[2008],[2010],[2008],[2008],[2010],[2009],[2007],[2009],[2009],[2008],[2006],[2006],[2007],[2008],[2006],[2006],[2009],[2009],[2006],[2007],[2008],[2009],[2006],[2009],[2009],[2007],[2010],[2009],[2008],[2007],[2010],[2007],[2007],[2007],[2007],[2007],[2008],[2007],[2006],[2006],[2009],[2006],[2006],[2006],[2010],[2008],[2006],[2006],[2006],[2010],[2010],[2010],[2007],[2009],[2007],[2008],[2008],[2010],[2008],[2006],[2010],[2009],[2007],[2008],[2008],[2006],[2006],[2010],[2009],[2008],[2009],[2009],[2009],[2009],[2009],[2009],[2010],[2007],[2008],[2009],[2007],[2006],[2006],[2006],[2009],[2009],[2007],[2008],[2007],[2009],[2008],[2008],[2009],[2009],[2010],[2009],[2010],[2007],[2006],[2006],[2009],[2009],[2009],[2010],[2008],[2007],[2009],[2009],[2010],[2009],[2006],[2008],[2010],[2008],[2006],[2010],[2009],[2006],[2010],[2007],[2007],[2009],[2006],[2006],[2007],[2006],[2007],[2006],[2009],[2009],[2008],[2009],[2010],[2010],[2008],[2007],[2009],[2007],[2007],[2007],[2008],[2010],[2007],[2008],[2009],[2007],[2008],[2007],[2008],[2009],[2006],[2008],[2006],[2009],[2006],[2009],[2006],[2008],[2010],[2007],[2006],[2010],[2006],[2008],[2010],[2010],[2008],[2009],[2007],[2009],[2006],[2008],[2008],[2009],[2009],[2006],[2008],[2006],[2010],[2009],[2008],[2010],[2007],[2008],[2008],[2008],[2008],[2008],[2008],[2007],[2008],[2007],[2009],[2009],[2008],[2007],[2007],[2006],[2007],[2009],[2006],[2010],[2008],[2009],[2009],[2006],[2007],[2010],[2010],[2009],[2008],[2009],[2007],[2007],[2006],[2010],[2009],[2010],[2008],[2009],[2009],[2007],[2007],[2009],[2010],[2009],[2007],[2007],[2009],[2006],[2009],[2008],[2006],[2008],[2007],[2009],[2007],[2009],[2006],[2008],[2009],[2008],[2006],[2009],[2010],[2006],[2007],[2009],[2006],[2006],[2007],[2010],[2007],[2006],[2006],[2009],[2010],[2009],[2006],[2007],[2009],[2007],[2006],[2009],[2007],[2008],[2007],[2008],[2006],[2008],[2006],[2008],[2007],[2008],[2009],[2006],[2009],[2009],[2007],[2009],[2008],[2006],[2009],[2009],[2006],[2010],[2006],[2009],[2007],[2007],[2009],[2009],[2006],[2007],[2006],[2010],[2007],[2006],[2009],[2008],[2006],[2007],[2009],[2007],[2007],[2010],[2010],[2008],[2007],[2009],[2010],[2007],[2009],[2008],[2009],[2006],[2006],[2009],[2010],[2008],[2009],[2006],[2006],[2007],[2007],[2009],[2008],[2009],[2008],[2008],[2009],[2008],[2006],[2010],[2007],[2006],[2006],[2009],[2007],[2006],[2009],[2006],[2006],[2009],[2006],[2010],[2009],[2007],[2008],[2007],[2009],[2008],[2007],[2009],[2009],[2006],[2008],[2010],[2007],[2009],[2007],[2009],[2009],[2009],[2007],[2006],[2008],[2006],[2007],[2008],[2008],[2007],[2010],[2008],[2007],[2006],[2006],[2009],[2006],[2006],[2007],[2009],[2009],[2008],[2009],[2009],[2006],[2008],[2009],[2008],[2009],[2009],[2006],[2008],[2009],[2010],[2007],[2007],[2007],[2010],[2006],[2008],[2006],[2009],[2009],[2007],[2010],[2008],[2007],[2006],[2009],[2010],[2009],[2008],[2006],[2007],[2007],[2009],[2006],[2009],[2007],[2007],[2006],[2006],[2006],[2007],[2008],[2010],[2007],[2006],[2006],[2010],[2010],[2009],[2006],[2006],[2009],[2008],[2008],[2006],[2010],[2007],[2007],[2007],[2009],[2009],[2009],[2007],[2007],[2006],[2007],[2010],[2007],[2006],[2007],[2009],[2008],[2008],[2006],[2007],[2006],[2007],[2009],[2008],[2008],[2006],[2007],[2006],[2009],[2009],[2007],[2009],[2009],[2007],[2007],[2007],[2009],[2007],[2007],[2009],[2007],[2007],[2008],[2010],[2009],[2007],[2008],[2009],[2007],[2008],[2010],[2006],[2006],[2009],[2008],[2009],[2007],[2006],[2006],[2008],[2008],[2007],[2008],[2009],[2008],[2008],[2010],[2008],[2007],[2008],[2007],[2009],[2010],[2006],[2008],[2006],[2008],[2008],[2008],[2007],[2006],[2007],[2008],[2009],[2009],[2006],[2006],[2008],[2007],[2006],[2007],[2006],[2009],[2006],[2009],[2010],[2007],[2007],[2007],[2009],[2010],[2008],[2006],[2006],[2009],[2006],[2006],[2009],[2009],[2009],[2006],[2009],[2006],[2006],[2008],[2006],[2010],[2010],[2009],[2006],[2006],[2007],[2010],[2009],[2006],[2006],[2006],[2008],[2007],[2006],[2008],[2007],[2008],[2008],[2008],[2008],[2007],[2006],[2007],[2010],[2008],[2006],[2010],[2006],[2006],[2007],[2008],[2007],[2010],[2006],[2006],[2007],[2006],[2010],[2008],[2007],[2010],[2006],[2009],[2007],[2008],[2007],[2008],[2009],[2008],[2008],[2009],[2009],[2009],[2007],[2008],[2006],[2007],[2010],[2008],[2007],[2010],[2009],[2006],[2008],[2007],[2007],[2009],[2009],[2008],[2010],[2009],[2006],[2009],[2010],[2010],[2009],[2010],[2006],[2009],[2006],[2010],[2009],[2009],[2006],[2006],[2006],[2008],[2006],[2008],[2010],[2009],[2009],[2006],[2006],[2006],[2009],[2006],[2009],[2008],[2008],[2010],[2007],[2007],[2010],[2007],[2008],[2009],[2007],[2006],[2007],[2009],[2008],[2010],[2009],[2007],[2008],[2007],[2008],[2008],[2006],[2007],[2006],[2009],[2006],[2009],[2009],[2008],[2006],[2006],[2006],[2007],[2008],[2007],[2009],[2007],[2007],[2006],[2007],[2007],[2008],[2009],[2008],[2009],[2010],[2008],[2006],[2008],[2010],[2010],[2006],[2008],[2009],[2009],[2007],[2006],[2010],[2008],[2006],[2009],[2010],[2009],[2008],[2006],[2007],[2008],[2007],[2008],[2009],[2006],[2008],[2010],[2008],[2006],[2007],[2009],[2010],[2006],[2007],[2009],[2007],[2006],[2009],[2006],[2008],[2006],[2007],[2010],[2007],[2009],[2009],[2008],[2008],[2006],[2007],[2006],[2008],[2009],[2009],[2010],[2008],[2009],[2009],[2009],[2009],[2008],[2009],[2010],[2009],[2008],[2006],[2006],[2010],[2008],[2006],[2007],[2008],[2008],[2008],[2010],[2007],[2006],[2009],[2007],[2008],[2006],[2008],[2007],[2008],[2010],[2007],[2008],[2008],[2009],[2009],[2007],[2007],[2010],[2007],[2007],[2006],[2009],[2009],[2006],[2006],[2009],[2007],[2010],[2010],[2010],[2008]],\"hovertemplate\":\"SalePrice=%{x}<br>LotArea=%{y}<br>YrSold=%{customdata[0]}<br>YearBuilt=%{marker.color}<extra></extra>\",\"legendgroup\":\"\",\"marker\":{\"color\":[2003,1976,2001,1915,2000,1993,2004,1973,1931,1939,1965,2005,1962,2006,1960,1929,1970,1967,2004,1958,2005,1930,2002,1976,1968,2007,1951,2007,1957,1927,1920,1966,2007,1959,2005,2004,1994,1954,1953,1955,1965,1959,1983,1975,1959,2005,2003,2006,1920,1966,1997,1934,1963,1981,1955,1964,1999,2004,2006,1972,2004,1920,2006,1921,1997,2004,1970,2003,1945,1953,1973,1982,1998,1954,1915,1973,1956,1948,1968,1910,1968,1998,2007,1960,1995,1991,2005,2009,1915,1994,1950,1961,1921,1910,1997,1993,1999,1965,1920,1959,1977,1985,1979,2009,1931,2003,1885,1948,1919,1977,1954,2000,2007,1953,1945,1999,1962,2006,1990,2005,1969,1939,1958,1993,1979,1935,1976,1930,1966,1958,1966,2000,1959,2001,1968,1970,1967,1988,1999,1997,1971,2005,1952,1999,1963,2004,1931,2001,2004,1936,1975,2007,1971,1960,1923,1924,1950,2009,2004,2005,1984,2003,2005,1956,1926,1940,1955,2007,2004,1981,1941,1960,1987,1961,1986,1950,1988,1958,2008,1923,2000,1920,1957,2003,1908,1892,1990,1916,1979,2001,1932,1972,1999,2004,1972,1976,2007,1918,1912,2004,2003,1977,1924,2004,1947,1990,1962,1960,1988,1964,1925,2009,2009,1995,1977,1957,2004,1925,1939,2005,2006,2002,1975,1971,2003,1971,1995,1970,1967,2005,1959,1995,1972,1976,2002,1971,2004,1993,2007,1945,2008,1945,1900,1980,1994,1988,1910,1954,2003,1958,1940,2006,2004,1964,1957,1999,2003,2006,2001,1956,1962,2007,1977,1929,1925,1981,1997,1939,1940,1976,2006,1954,1999,1958,1982,1925,2003,1951,2006,1977,1989,2006,2007,2008,1992,2006,1962,1971,1967,1915,2006,1912,1949,1977,1953,1984,1950,1997,1968,1950,1953,1998,2001,1972,1880,2004,1990,1920,1940,2003,1993,1948,1939,1965,1925,2004,1980,2006,1993,1980,2006,2004,1986,1955,1967,1941,1993,1960,1916,1920,1964,1958,2003,2004,1998,1965,2005,2002,1984,1958,2002,1950,1949,2005,1976,1939,1960,1960,2003,2005,2007,1986,1941,1928,1940,1995,1992,1976,1958,1998,1978,1940,2003,1972,1976,1920,1963,1962,1954,1959,2000,1959,1984,1953,2003,1922,1996,2004,2010,2000,1924,2006,2006,1928,1992,2004,1910,1976,1999,2007,1900,2001,1959,1941,1940,1956,1972,1962,1920,2006,1996,2005,1940,1998,1995,1976,1936,1915,2006,2007,1958,1955,2009,1927,1993,2007,1978,1918,1940,1968,1997,1977,1954,1998,1956,1946,1989,1957,2007,1988,1971,1920,1971,1997,1972,1996,1920,1926,1913,1920,2008,1955,1930,2006,1994,1956,1966,1998,1937,1948,1930,1975,1996,2008,1976,1973,1916,1954,1925,1950,2009,1936,1965,1934,1978,2004,1970,1942,2006,1993,1985,1977,2005,2006,2000,1963,1997,2006,2007,1937,2004,2003,1915,1998,1962,1950,1965,1971,1900,1970,1976,1941,2006,1960,1938,1920,1992,1925,1967,1958,1973,2005,1965,1959,1974,1952,1993,2009,1928,1959,1951,2005,1958,1983,1926,2009,1972,1996,1998,1926,1900,1957,1947,2007,1996,2005,1956,2008,1920,1957,1988,1920,1955,1946,2004,1910,1998,1972,1968,2001,2006,2000,1998,1998,2006,1988,1923,1970,1955,2003,1977,1957,2006,1949,2003,1922,1957,1920,1996,2003,1957,1974,1940,1918,1992,1915,2005,2004,1983,1979,1965,1959,2009,2000,1971,1947,1928,1966,2007,1954,1960,2008,1990,1893,1935,2005,1918,1982,1968,1930,2004,2008,1982,2003,1975,2005,1910,2006,1977,1980,2005,1937,1992,2004,2002,1965,1996,1948,1934,1961,2000,1978,2001,2007,1972,1963,2002,1954,2007,2003,1914,1974,1977,2000,1972,1962,1960,1955,1969,1964,1880,2006,1977,1954,1980,1914,1936,1954,1910,2006,2003,2001,1972,1969,2009,1971,1950,1953,1966,1970,2007,1940,1996,1906,1995,1971,1959,1931,1948,1964,1976,1994,1968,1972,2005,2000,1965,1994,1956,1922,2005,1925,1977,1957,1965,1978,1900,1924,2008,1961,1980,1932,1996,2002,1998,1984,2007,2004,2007,2005,2004,1994,1989,1921,1936,1987,1921,1952,1965,2004,2002,1969,2006,1900,2004,1930,1971,2006,2007,1966,1935,1900,1988,1970,1976,1974,1890,1973,1993,1969,1985,2004,1970,1954,2007,1970,1988,2007,1958,1925,1995,2003,1998,1961,1968,1914,1950,2005,1987,2004,1910,1961,2000,1963,1993,1976,2000,1880,1996,1945,1910,2003,1997,2005,1969,1999,2007,1978,1999,1995,1959,1924,2009,1999,1995,2008,1988,1940,2004,2003,1982,1951,1976,1958,2006,1998,2005,1974,1977,1977,1995,1992,2001,1978,1914,1967,1915,2004,1954,1966,2005,1976,1996,2007,1994,1980,1977,1953,2008,1937,1997,1916,2005,2008,1954,2008,1967,1923,1966,1898,1974,2004,1952,1958,1918,1998,1954,2002,1971,2009,2003,1953,2003,1940,2006,2007,1924,2001,1967,2005,1957,2005,2003,1964,1961,1950,1948,1973,1995,1946,1925,1904,1966,1961,1915,1975,1993,1972,1908,1976,2003,2003,1941,1964,1955,1962,1978,1994,1976,1968,1918,1965,1984,1959,2007,1970,2006,1961,1948,1993,1962,1998,1953,1949,1941,2007,1963,2004,1961,1978,2005,1990,1992,1912,1967,1999,1959,1955,1970,1953,1949,1978,1963,1954,1979,1963,1936,1979,2009,1961,1971,1957,2003,2006,1967,1954,2006,1936,1983,2005,1960,1977,1925,1949,2009,1970,1949,1956,1991,1958,1994,1900,2005,1993,1980,1977,2003,1968,2001,1997,2007,1965,2006,2004,1960,1926,2003,2005,2006,1940,1976,1999,1977,1967,1958,1890,1959,2002,2002,1972,1950,1965,1972,1969,1975,1946,1980,1962,2003,1999,1958,1977,1976,2007,2002,2005,1940,1955,1910,1958,1949,2003,1979,2007,1910,2000,1923,2006,1954,1963,1961,1998,2007,2002,1977,1950,1910,2009,1976,2006,1997,1882,1964,2005,2006,1946,1961,1970,1922,2006,1952,1920,2006,1976,2005,1977,1970,1970,2004,1926,1948,1965,1923,1910,1948,2001,1996,1984,1991,2005,2005,2006,1930,2005,1976,1972,1960,2007,1941,1972,1916,1920,1993,2002,1938,1957,2007,2001,1970,1970,1957,1966,2005,1990,1981,1955,2005,1994,1960,1946,2007,2007,1964,1957,2002,1976,2005,1994,2008,1932,2001,1935,1900,1925,1966,1996,1993,1964,1973,1949,1956,1968,1948,1977,2006,1940,1936,1969,2004,1994,1971,1963,2002,1964,1995,1992,1973,2005,2004,2005,1950,1999,1925,1965,1956,2006,1914,1986,1936,1978,1920,1971,1960,1959,1970,1994,1990,2006,2000,2004,1995,1976,1957,1953,1954,2007,2002,1967,1958,1959,1920,2005,1956,1947,1992,1955,2007,2004,2004,1980,1928,1991,1880,1995,1997,1926,1950,1875,1977,1920,1951,1976,2006,1959,1941,1928,1985,1941,1926,1920,1950,1959,1956,1930,1965,1976,1965,2007,2007,1974,1978,1954,1968,1969,1978,2009,2008,2000,1935,1995,1977,1958,2006,1946,1932,1992,1984,1926,1921,1954,1990,2008,1996,1920,1963,1924,1900,1994,2002,1999,1961,1999,1925,1999,1969,2005,2006,1916,2001,1963,1970,1998,1925,2000,1975,1990,1966,2003,1962,2006,1992,1988,1941,1965,1962,1966,1978,2009,1947,1971,1964,1968,1949,1951,2004,1958,2007,1965,2008,1960,1977,1962,1962,1959,1911,1914,2003,2004,2005,2006,2003,2007,1974,2006,1929,1984,2005,1976,1917,1950,1968,2003,1968,1974,2003,1931,1994,1922,2005,1969,1999,1956,1957,1919,1998,1999,1910,2008,1935,1958,1979,1968,1965,1959,1910,1948,1972,1967,2002,1920,2002,1990,1977,1971,1919,1939,1963,1964,2000,2006,1964,1972,1892,1976,1955,1968,1963,2005,2008,1959,1999,1942,1994,2005,2004,2006,2005,1994,1948,1991,1959,2005,1990,1999,1954,1969,2008,2006,2001,1954,1957,1949,1992,1940,2006,1922,1931,1982,1920,1998,2006,1976,1938,1938,1970,1977,1973,1941,2002,1972,1971,2003,2002,1928,2006,1920,1968,2006,1998,1872,1969,1962,1937,1995,2000,1968,1966,1971,2000,2004,1921,2005,1920,2006,2005,2000,1999,1977,2003,2003,1920,1955,1998,2001,2005,2007,1930,1941,1973,2006,1914,1970,1920,1918,1939,1922,1978,1916,2006,1941,2000,1967,1967,1905,2006,2005,1948,1920,1950,1925,1929,2004,2006,2007,1915,2004,1972,1985,1910,1986,2001,1950,1949,2005,1923,2007,1885,1998,1963,1969,1968,1977,2003,1966,1958,1959,1994,1945,1940,1981,2005,1976,1927,2000,1977,1962,1971,2008,1957,1979,1922,2004,2008,1916,2004,1966,1962,1995,1910,1970,1974,2008,2005,2006,2004,1999,1978,1941,1950,1965],\"coloraxis\":\"coloraxis\",\"symbol\":\"circle\"},\"mode\":\"markers\",\"name\":\"\",\"showlegend\":false,\"x\":[208500.0,181500.0,223500.0,140000.0,250000.0,143000.0,307000.0,200000.0,129900.0,118000.0,129500.0,340037.5,144000.0,279500.0,157000.0,132000.0,149000.0,90000.0,159000.0,139000.0,325300.0,139400.0,230000.0,129900.0,154000.0,256300.0,134800.0,306000.0,207500.0,68500.0,40000.0,149350.0,179900.0,165500.0,277500.0,309000.0,145000.0,153000.0,109000.0,82000.0,160000.0,170000.0,144000.0,130250.0,141000.0,319900.0,239686.0,249700.0,113000.0,127000.0,177000.0,114500.0,110000.0,340037.5,130000.0,180500.0,172500.0,196500.0,340037.5,124900.0,158000.0,101000.0,202500.0,140000.0,219500.0,317000.0,180000.0,226000.0,80000.0,225000.0,244000.0,129500.0,185000.0,144900.0,107400.0,91000.0,135750.0,127000.0,136500.0,110000.0,193500.0,153500.0,245000.0,126500.0,168500.0,260000.0,174000.0,164500.0,85000.0,123600.0,109900.0,98600.0,163500.0,133900.0,204750.0,185000.0,214000.0,94750.0,83000.0,128950.0,205000.0,178000.0,118964.0,198900.0,169500.0,250000.0,100000.0,115000.0,115000.0,190000.0,136900.0,180000.0,340037.5,217000.0,259500.0,176000.0,139000.0,155000.0,320000.0,163990.0,180000.0,100000.0,136000.0,153900.0,181000.0,84500.0,128000.0,87000.0,155000.0,150000.0,226000.0,244000.0,150750.0,220000.0,180000.0,174000.0,143000.0,171000.0,230000.0,231500.0,115000.0,260000.0,166000.0,204000.0,125000.0,130000.0,105000.0,222500.0,141000.0,115000.0,122000.0,340037.5,190000.0,235000.0,125000.0,79000.0,109500.0,269500.0,254900.0,320000.0,162500.0,340037.5,220000.0,103200.0,152000.0,127500.0,190000.0,325624.0,183500.0,228000.0,128500.0,215000.0,239000.0,163000.0,184000.0,243000.0,211000.0,172500.0,340037.5,100000.0,177000.0,200100.0,120000.0,200000.0,127000.0,340037.5,173000.0,135000.0,153337.0,286000.0,315000.0,184000.0,192000.0,130000.0,127000.0,148500.0,311872.0,235000.0,104000.0,274900.0,140000.0,171500.0,112000.0,149000.0,110000.0,180500.0,143900.0,141000.0,277000.0,145000.0,98000.0,186000.0,252678.0,156000.0,161750.0,134450.0,210000.0,107000.0,311500.0,167240.0,204900.0,200000.0,179900.0,97000.0,340037.5,112000.0,290000.0,106000.0,125000.0,192500.0,148000.0,340037.5,94500.0,128200.0,216500.0,89500.0,185500.0,194500.0,318000.0,113000.0,262500.0,110500.0,79000.0,120000.0,205000.0,241500.0,137000.0,140000.0,180000.0,277000.0,76500.0,235000.0,173000.0,158000.0,145000.0,230000.0,207500.0,220000.0,231500.0,97000.0,176000.0,276000.0,151000.0,130000.0,73000.0,175500.0,185000.0,179500.0,120500.0,148000.0,266000.0,241500.0,290000.0,139000.0,124500.0,205000.0,201000.0,141000.0,340037.5,192000.0,228500.0,185000.0,207500.0,244600.0,179200.0,164700.0,159000.0,88000.0,122000.0,153575.0,233230.0,135900.0,131000.0,235000.0,167000.0,142500.0,152000.0,239000.0,175000.0,158500.0,157000.0,267000.0,205000.0,149900.0,295000.0,305900.0,225000.0,89500.0,82500.0,340037.5,165600.0,132000.0,119900.0,340037.5,178000.0,188500.0,260000.0,270000.0,260000.0,187500.0,340037.5,340037.5,301000.0,126175.0,242000.0,87000.0,324000.0,145250.0,214500.0,78000.0,119000.0,139000.0,284000.0,207000.0,192000.0,228950.0,340037.5,214000.0,202500.0,155000.0,202900.0,82000.0,87500.0,266000.0,85000.0,140200.0,151500.0,157500.0,154000.0,340037.5,318061.0,190000.0,95000.0,105900.0,140000.0,177500.0,173000.0,134000.0,130000.0,280000.0,156000.0,145000.0,198500.0,118000.0,190000.0,147000.0,159000.0,165000.0,132000.0,162000.0,172400.0,134432.0,125000.0,123000.0,219500.0,61000.0,148000.0,340000.0,340037.5,179000.0,127000.0,187750.0,213500.0,76000.0,240000.0,192000.0,81000.0,125000.0,191000.0,340037.5,119000.0,215000.0,106500.0,100000.0,109000.0,129000.0,123000.0,169500.0,67000.0,241000.0,245500.0,164990.0,108000.0,258000.0,168000.0,150000.0,115000.0,177000.0,280000.0,339750.0,60000.0,145000.0,222000.0,115000.0,228000.0,181134.0,149500.0,239000.0,126000.0,142000.0,206300.0,215000.0,113000.0,315000.0,139000.0,135000.0,275000.0,109008.0,195400.0,175000.0,85400.0,79900.0,122500.0,181000.0,81000.0,212000.0,116000.0,119000.0,90350.0,110000.0,340037.5,118000.0,162900.0,172500.0,210000.0,127500.0,190000.0,199900.0,119500.0,120000.0,110000.0,280000.0,204000.0,210000.0,188000.0,175500.0,98000.0,256000.0,161000.0,110000.0,263435.0,155000.0,62383.0,188700.0,124000.0,178740.0,167000.0,146500.0,250000.0,187000.0,212000.0,190000.0,148000.0,340037.5,251000.0,132500.0,208900.0,340037.5,297000.0,89471.0,326000.0,340037.5,155000.0,164000.0,132500.0,147000.0,156000.0,175000.0,160000.0,86000.0,115000.0,133000.0,172785.0,155000.0,91300.0,34900.0,340037.5,184000.0,130000.0,120000.0,113000.0,226700.0,140000.0,289000.0,147000.0,124500.0,215000.0,208300.0,161000.0,124500.0,164900.0,202665.0,129900.0,134000.0,96500.0,340037.5,158000.0,265000.0,211000.0,234000.0,106250.0,150000.0,159000.0,184750.0,315750.0,176000.0,132000.0,340037.5,86000.0,200624.0,175000.0,128000.0,107500.0,39300.0,178000.0,107500.0,188000.0,111250.0,158000.0,272000.0,315000.0,248000.0,213250.0,133000.0,179665.0,229000.0,210000.0,129500.0,125000.0,263000.0,140000.0,112500.0,255500.0,108000.0,284000.0,113000.0,141000.0,108000.0,175000.0,234000.0,121500.0,170000.0,108000.0,185000.0,268000.0,128000.0,325000.0,214000.0,316600.0,135960.0,142600.0,120000.0,224500.0,170000.0,139000.0,118500.0,145000.0,164500.0,146000.0,131500.0,181900.0,253293.0,118500.0,325000.0,133000.0,340037.5,130000.0,137000.0,143000.0,79500.0,185900.0,340037.5,138000.0,140000.0,110000.0,319000.0,114504.0,194201.0,217500.0,151000.0,275000.0,141000.0,220000.0,151000.0,221000.0,205000.0,152000.0,225000.0,340037.5,118500.0,313000.0,148000.0,261500.0,147000.0,75500.0,137500.0,183200.0,105500.0,314813.0,305000.0,67000.0,240000.0,135000.0,168500.0,165150.0,160000.0,139900.0,153000.0,135000.0,168500.0,124000.0,209500.0,82500.0,139400.0,144000.0,200000.0,60000.0,93000.0,85000.0,264561.0,274000.0,226000.0,340037.5,152000.0,340037.5,143250.0,98300.0,155000.0,155000.0,84500.0,205950.0,108000.0,191000.0,135000.0,340037.5,88000.0,145500.0,149000.0,97500.0,167000.0,197900.0,340037.5,110000.0,137500.0,340037.5,230500.0,129000.0,193500.0,168000.0,137500.0,173500.0,103600.0,165000.0,257500.0,140000.0,148500.0,87000.0,109500.0,340037.5,128500.0,143000.0,159434.0,173000.0,285000.0,221000.0,207500.0,227875.0,148800.0,340037.5,194700.0,141000.0,340037.5,335000.0,108480.0,141500.0,176000.0,89000.0,123500.0,138500.0,196000.0,312500.0,140000.0,340037.5,140000.0,213000.0,55000.0,302000.0,254000.0,179540.0,109900.0,52000.0,102776.0,189000.0,129000.0,130500.0,165000.0,159500.0,157000.0,340037.5,128500.0,275000.0,143000.0,124500.0,135000.0,320000.0,120500.0,222000.0,194500.0,110000.0,103000.0,236500.0,187500.0,222500.0,131400.0,108000.0,163000.0,93500.0,239900.0,179000.0,190000.0,132000.0,142000.0,179000.0,175000.0,180000.0,299800.0,236000.0,265979.0,260400.0,98000.0,96500.0,162000.0,217000.0,275500.0,156000.0,172500.0,212000.0,158900.0,179400.0,290000.0,127500.0,100000.0,215200.0,337000.0,270000.0,264132.0,196500.0,160000.0,216837.0,340037.5,134900.0,102000.0,107000.0,114500.0,340037.5,162000.0,221500.0,142500.0,144000.0,135000.0,176000.0,175900.0,187100.0,165500.0,128000.0,161500.0,139000.0,233000.0,107900.0,187500.0,160200.0,146800.0,269790.0,225000.0,194500.0,171000.0,143500.0,110000.0,340037.5,175000.0,200000.0,109900.0,189000.0,340037.5,118000.0,227680.0,135500.0,223500.0,159950.0,106000.0,181000.0,144500.0,55993.0,157900.0,116000.0,224900.0,137000.0,271000.0,155000.0,224000.0,183000.0,93000.0,225000.0,139500.0,232600.0,340037.5,109500.0,189000.0,185000.0,147400.0,166000.0,151000.0,237000.0,167000.0,139950.0,128000.0,153500.0,100000.0,144000.0,130500.0,140000.0,157500.0,174900.0,141000.0,153900.0,171000.0,213000.0,133500.0,240000.0,187000.0,131500.0,215000.0,164000.0,158000.0,170000.0,127000.0,147000.0,174000.0,152000.0,250000.0,189950.0,131500.0,152000.0,132500.0,250580.0,148500.0,248900.0,129000.0,169000.0,236000.0,109500.0,200500.0,116000.0,133000.0,66500.0,303477.0,132250.0,340037.5,148000.0,136500.0,157000.0,187500.0,178000.0,118500.0,100000.0,328900.0,145000.0,135500.0,268000.0,149500.0,122900.0,172500.0,154500.0,165000.0,118858.0,140000.0,106500.0,142953.0,340037.5,135000.0,110000.0,153000.0,180000.0,240000.0,125500.0,128000.0,255000.0,250000.0,131000.0,174000.0,154300.0,143500.0,88000.0,145000.0,173733.0,75000.0,35311.0,135000.0,238000.0,176500.0,201000.0,145900.0,169990.0,193000.0,207500.0,175000.0,285000.0,176000.0,236500.0,222000.0,201000.0,117500.0,320000.0,190000.0,242000.0,79900.0,184900.0,253000.0,239799.0,244400.0,150900.0,214000.0,150000.0,143000.0,137500.0,124900.0,143000.0,270000.0,192500.0,197500.0,129000.0,119900.0,133900.0,172000.0,127500.0,145000.0,124000.0,132000.0,185000.0,155000.0,116500.0,272000.0,155000.0,239000.0,214900.0,178900.0,160000.0,135000.0,37900.0,140000.0,135000.0,173000.0,99500.0,182000.0,167500.0,165000.0,85500.0,199900.0,110000.0,139000.0,178400.0,336000.0,159895.0,255900.0,126000.0,125000.0,117000.0,340037.5,195000.0,197000.0,340037.5,168000.0,187000.0,173900.0,337500.0,121600.0,136500.0,185000.0,91000.0,206000.0,82000.0,86000.0,232000.0,136905.0,181000.0,149900.0,163500.0,88000.0,240000.0,102000.0,135000.0,100000.0,165000.0,85000.0,119200.0,227000.0,203000.0,187500.0,160000.0,213490.0,176000.0,194000.0,87000.0,191000.0,287000.0,112500.0,167500.0,293077.0,105000.0,118000.0,160000.0,197000.0,310000.0,230000.0,119750.0,84000.0,315500.0,287000.0,97000.0,80000.0,155000.0,173000.0,196000.0,262280.0,278000.0,139600.0,340037.5,145000.0,115000.0,84900.0,176485.0,200141.0,165000.0,144500.0,255000.0,180000.0,185850.0,248000.0,335000.0,220000.0,213500.0,81000.0,90000.0,110500.0,154000.0,328000.0,178000.0,167900.0,151400.0,135000.0,135000.0,154000.0,91500.0,159500.0,194000.0,219500.0,170000.0,138800.0,155900.0,126000.0,145000.0,133000.0,192000.0,160000.0,187500.0,147000.0,83500.0,252000.0,137500.0,197000.0,92900.0,160000.0,136500.0,146000.0,129000.0,176432.0,127000.0,170000.0,128000.0,157000.0,60000.0,119500.0,135000.0,159500.0,106000.0,325000.0,179900.0,274725.0,181000.0,280000.0,188000.0,205000.0,129900.0,134500.0,117000.0,318000.0,184100.0,130000.0,140000.0,133700.0,118400.0,212900.0,112000.0,118000.0,163900.0,115000.0,174000.0,259000.0,215000.0,140000.0,135000.0,93500.0,117500.0,239500.0,169000.0,102000.0,119000.0,94000.0,196000.0,144000.0,139000.0,197500.0,340037.5,80000.0,80000.0,149000.0,180000.0,174500.0,116900.0,143000.0,124000.0,149900.0,230000.0,120500.0,201800.0,218000.0,179900.0,230000.0,235128.0,185000.0,146000.0,224000.0,129000.0,108959.0,194000.0,233170.0,245350.0,173000.0,235000.0,340037.5,171000.0,163000.0,171900.0,200500.0,239000.0,285000.0,119500.0,115000.0,154900.0,93000.0,250000.0,340037.5,340037.5,120000.0,186700.0,104900.0,95000.0,262000.0,195000.0,189000.0,168000.0,174000.0,125000.0,165000.0,158000.0,176000.0,219210.0,144000.0,178000.0,148000.0,116050.0,197900.0,117000.0,213000.0,153500.0,271900.0,107000.0,200000.0,140000.0,290000.0,189000.0,164000.0,113000.0,145000.0,134500.0,125000.0,112000.0,229456.0,80500.0,91500.0,115000.0,134000.0,143000.0,137900.0,184000.0,145000.0,214000.0,147000.0,340037.5,127000.0,190000.0,132500.0,101800.0,142000.0,130000.0,138887.0,175500.0,195000.0,142500.0,265900.0,224900.0,248328.0,170000.0,340037.5,230000.0,178000.0,186500.0,169900.0,129500.0,119000.0,244000.0,171750.0,130000.0,294000.0,165400.0,127500.0,301500.0,99900.0,190000.0,151000.0,181000.0,128900.0,161500.0,180500.0,181000.0,183900.0,122000.0,340037.5,340037.5,144000.0,260000.0,185750.0,137000.0,177000.0,139000.0,137000.0,162000.0,197900.0,237000.0,68400.0,227000.0,180000.0,150500.0,139000.0,169000.0,132500.0,143000.0,190000.0,278000.0,281000.0,180500.0,119500.0,107500.0,162900.0,115000.0,138500.0,155000.0,140000.0,160000.0,154000.0,225000.0,177500.0,290000.0,232000.0,130000.0,325000.0,202500.0,138000.0,147000.0,179200.0,335000.0,203000.0,302000.0,333168.0,119000.0,206900.0,295493.0,208900.0,275000.0,111000.0,156500.0,72500.0,190000.0,82500.0,147000.0,55000.0,79000.0,130500.0,256000.0,176500.0,227000.0,132500.0,100000.0,125500.0,125000.0,167900.0,135000.0,52500.0,200000.0,128500.0,123000.0,155000.0,228500.0,177000.0,155835.0,108500.0,262500.0,283463.0,215000.0,122000.0,200000.0,171000.0,134900.0,340037.5,235000.0,170000.0,110000.0,149900.0,177500.0,315000.0,189000.0,260000.0,104900.0,156932.0,144152.0,216000.0,193000.0,127000.0,144000.0,232000.0,105000.0,165500.0,274300.0,340037.5,250000.0,239000.0,91000.0,117000.0,83000.0,167500.0,58500.0,237500.0,157000.0,112000.0,105000.0,125500.0,250000.0,136000.0,340037.5,131000.0,235000.0,124000.0,123000.0,163000.0,246578.0,281213.0,160000.0,137500.0,138000.0,137450.0,120000.0,193000.0,193879.0,282922.0,105000.0,275000.0,133000.0,112000.0,125500.0,215000.0,230000.0,140000.0,90000.0,257000.0,207000.0,175900.0,122500.0,340000.0,124000.0,223000.0,179900.0,127500.0,136500.0,274970.0,144000.0,142000.0,271000.0,140000.0,119000.0,182900.0,192140.0,143750.0,64500.0,186500.0,160000.0,174000.0,120500.0,340037.5,149700.0,197000.0,191000.0,149300.0,310000.0,121000.0,179600.0,129000.0,157900.0,240000.0,112000.0,92000.0,136000.0,287090.0,145000.0,84500.0,185000.0,175000.0,210000.0,266500.0,142125.0,147500.0],\"xaxis\":\"x\",\"y\":[8450,9600,11250,9550,14260,14115,10084,10382,6120,7420,11200,11924,12968,10652,10920,6120,11241,10791,13695,7560,14215,7449,9742,4224,8246,14230,7200,11478,16321,6324,8500,8544,11049,10552,7313,13418,10859,8532,7922,6040,8658,16905,9180,9200,7945,7658,12822,11096,4456,7742,13869,6240,8472,50271,7134,10175,2645,11645,13682,7200,13072,7200,6442,10300,9375,9591,19900,10665,4608,15593,13651,7599,10141,10200,5790,1596,8475,8635,10778,10440,13000,4500,10206,8892,8530,16059,11911,3951,8470,8070,7200,8500,13360,7200,9337,9765,10264,10921,10625,9320,10603,9206,7018,10402,7758,9375,10800,6000,8500,11751,9525,7750,9965,21000,7259,3230,11616,8536,12376,8461,21453,6060,9464,7892,17043,6780,4928,4388,7590,8973,14200,12224,7388,6853,10335,10400,10355,11070,9066,15426,10500,11645,8520,10335,9100,2522,6120,9505,7500,6240,10356,13891,14803,13500,11340,9600,7200,12003,12552,19378,11120,13688,12182,5500,5400,10106,10708,10562,8244,16669,12358,31770,5306,10197,12416,12615,10029,13650,17423,8520,2117,7588,9060,11426,7438,22950,9947,10410,7018,4923,10570,7472,9017,2522,7180,2280,9416,25419,5520,9591,8546,10125,7000,4438,3500,11851,13673,12493,14364,8250,5604,10420,8640,13568,10900,10011,8450,9906,15660,3010,8990,8068,11475,10500,13472,1680,9950,1869,8521,3182,8760,15138,1680,10650,7851,1680,8773,9453,12030,8741,9000,3880,5000,10762,8880,10400,9142,11310,11317,159000,5350,4750,8366,9350,8400,8738,8791,8814,12435,12702,19296,9588,8471,5500,5232,12090,11207,8400,6900,7917,10728,39104,11764,9600,8314,7264,9196,19138,14450,10005,11287,7200,5063,9612,8012,4251,9786,8125,9819,8730,15611,5687,11409,16659,9600,7937,13710,7399,11700,14000,15750,16226,13704,9800,18386,10386,13474,7920,12342,12378,7685,8000,7800,215245,9600,7795,13005,9000,9900,14115,16259,12099,10380,5820,11275,5000,10846,11600,11888,6402,10624,8176,10655,8198,9042,164660,14157,9135,14145,12400,14191,8400,8544,8849,2592,6435,12772,17600,2448,20431,7820,5271,9084,8520,8400,11249,9248,4224,6930,12011,7540,9144,7301,1680,18800,10690,9500,9150,7800,9830,8121,17120,7175,10634,8200,10020,8846,11143,11394,8123,5000,7200,9245,9000,53107,3182,8410,7200,9382,12474,8405,12209,8339,7446,10134,9571,7200,7590,8967,8125,14963,8767,10200,12090,10364,9991,10480,15576,14154,10800,9571,34650,4403,8960,11228,8899,7844,22420,8160,8450,7060,16635,21750,9200,9000,3378,12800,8593,6762,11457,1680,5586,1920,10839,1890,10667,4400,6000,4280,12354,15431,12108,6240,3922,8750,9855,16492,11214,8600,6000,5684,70761,9303,9000,9297,9600,4571,53227,5100,7015,8004,7200,8281,11988,8430,3072,10628,9480,11428,9291,6820,11952,3675,14977,5330,8480,13125,13693,10637,5925,16033,11846,2500,4500,7758,9600,10289,12243,10800,1526,2665,9490,15578,7931,5784,7879,12692,9120,7800,7535,1890,9803,9170,15602,2308,7596,9554,7862,9600,9600,14559,6792,9100,9187,10594,12220,10448,10208,9531,10918,10800,11988,5000,40094,11787,7500,13300,14948,9098,32668,10200,6155,7200,5000,9056,7000,8924,12735,11553,11423,14601,11000,10140,4058,17104,13837,8737,7244,8235,9375,4043,6000,11146,8777,10625,6380,14850,11040,21872,3196,11341,10010,13907,21780,13346,6858,11198,10171,12327,7032,13101,7332,13159,9967,10500,8480,6292,11777,3604,12150,14585,12704,11841,13500,6120,11443,10267,8740,25095,9100,8320,13478,6600,4435,7990,11302,3600,3922,12984,1950,10927,9000,10041,3182,12803,13600,12464,7800,12168,7943,11050,10395,11885,8402,1491,8800,7861,7227,11694,12244,8248,10800,7064,2117,10400,10000,12342,9600,11606,9020,9000,4590,11900,9250,6979,10896,6120,6000,8777,3982,12677,7050,13860,10793,9187,10530,7200,10452,7700,1936,8125,9084,8750,10320,10437,1680,10007,7200,17503,9937,12384,46589,13560,10012,20896,11194,18450,8125,14175,11600,8633,6629,11250,14442,9200,2289,9600,9022,11844,9945,8012,4500,2887,11248,16770,5062,10207,5105,8089,7577,4426,21535,26178,5400,6120,13811,6000,6420,8450,4282,14331,9600,12438,7630,8400,5600,115149,6240,9018,7162,4130,8712,4671,9873,13517,10140,10800,10000,10542,9920,6563,4426,8120,8172,13286,6960,21695,7314,11475,6240,5389,9590,11404,10000,8978,10800,8544,10463,10800,9313,9600,6768,8450,12886,5395,8963,8795,11700,10593,8405,8800,7750,9236,10240,7930,3230,10769,11616,2280,12257,9100,6911,8640,9430,9549,14587,10421,12508,9100,53504,7252,8877,7819,10150,14226,4500,11210,13350,8400,10530,7875,7153,16285,9101,6300,9790,10800,10142,6000,12205,3182,11333,9920,9158,10832,8400,8197,7677,13518,7200,12798,4800,8199,13891,9000,12274,9750,21384,13400,8100,10140,4438,8712,9750,8248,12137,11425,13265,8816,6371,7226,6000,12394,9900,11216,14803,6130,8529,28698,2544,11900,3180,9548,10004,7875,9600,8100,1680,9525,11767,12155,10440,9020,8000,12665,16647,9317,15523,45600,9600,4435,3196,7128,12095,17920,6897,10970,8125,10400,11029,7642,11625,9672,7931,8640,8750,10656,6970,14762,9938,6600,8750,8892,12144,5720,9000,25286,8834,11782,7000,7024,13758,9636,6204,7150,5119,8393,16466,15865,12160,8064,11184,8414,13284,7018,7056,8765,7018,12919,6993,7340,8712,7875,14859,6173,9920,13501,11500,8885,12589,11600,9286,6120,6270,3000,2001,9000,17140,13125,11029,8462,8777,10237,8012,10240,15611,11999,9900,11838,13006,8925,9100,11670,8487,27650,5825,10083,9675,8760,24090,12640,8755,7711,25000,14375,8820,8163,14536,14006,9360,7200,7800,7200,11075,9400,7136,1300,7420,8450,2572,7207,12227,2308,11923,11316,10237,9600,7390,5925,10382,10800,2268,7892,11639,11414,2651,5900,4274,9450,8816,12122,12203,3182,11250,10125,10880,5310,10159,12046,8125,9452,17671,9760,8846,12456,4712,10659,11717,9786,6762,10206,5400,11957,11500,3182,8385,12155,2217,12118,6000,21286,9825,10592,7200,11664,8400,11883,5814,10784,3013,7024,7406,9439,3182,15498,7700,9300,9520,9492,1680,7082,15863,14541,8125,6305,11500,12898,9240,1533,1477,13125,9130,5381,11839,9600,13680,16056,9245,21750,11100,8993,11175,9500,8562,11367,11361,7052,29959,11308,11275,4920,18000,13600,6000,11000,14000,7837,9760,3964,9600,10152,11700,7585,7950,8556,13125,10800,15870,4435,8775,11040,7500,8749,8800,13031,9069,1974,10574,2522,3316,8544,2160,8400,9230,5868,9317,6882,3696,6000,11880,8400,9758,7000,8910,2016,12256,10357,23257,8063,11362,8000,10480,7100,8923,5400,12085,7750,9764,13825,7560,8263,10084,8926,9405,9125,10434,3684,14572,11796,7200,7804,10712,9900,9828,8773,6180,9600,6342,9819,8731,7350,10304,9965,9000,12180,6240,11200,12000,5700,9000,8280,17755,14115,5890,13700,10768,9350,5001,11932,9120,2280,14778,8724,12900,16157,9541,10475,10852,13728,35760,9880,9120,4017,18030,16560,10678,6951,3950,7681,8335,11170,5587,15623,10800,35133,9738,10615,12461,8935,7500,32463,2645,9600,4500,9364,8029,14054,8850,9100,11235,9353,10400,6000,9750,10140,14684,8900,9135,7763,10182,11218,12134,9340,10246,10205,7094,8930,8640,6240,1680,7800,8250,10496,10680,15384,10482,14598,8872,8769,7910,18890,7728,9842,12160,8525,13132,2628,12393,13072,9037,8158,9849,10625,13891,11435,12090,8125,12328,9600,7200,11160,3136,9858,17542,6931,6240,14303,4060,9587,9750,24682,9600,11250,13515,4060,3735,10120,13214,14100,11344,23595,9156,13526,11512,5362,11345,12936,17871,9473,7500,9808,8049,8800,9400,9638,6000,9790,36500,5664,11065,14112,1680,6600,10140,8172,8400,8700,3675,63887,7500,10762,7500,10120,8688,3363,13173,6955,8072,12000,7153,17500,8814,9572,14774,8190,11075,10226,4230,14781,10215,8400,6627,10186,5330,9986,3636,4270,6600,10440,9084,10000,10780,8877,7200,2368,9650,9246,4118,13450,9560,8294,13695,9375,7558,11103,6000,20781,15306,16196,5250,11643,9247,6000,14720,10316,10192,9477,12537,2117,16737,9842,16158,12513,8499,3180,7500,9179,2665,4435,10635,5400,9600,9750,11400,10625,10991,6292,10998,1953,9735,8212,12925,7200,25339,9060,5436,16692,8520,14892,6000,9100,8944,7838,10800,4045,12665,57200,6120,7200,6171,6000,7415,6762,15256,10410,3842,8445,8780,7740,20544,12420,9600,7200,10994,13053,3635,11340,16545,9204,16381,11700,4043,4435,19690,9503,10721,10944,10930,7200,12546,21930,4928,10800,10261,17400,8400,9000,12444,7407,11584,11526,4426,11003,8854,8500,8400,26142,10000,11767,1533,9000,9262,3675,17217,7500,7917,13175,9042,9717,9937],\"yaxis\":\"y\",\"type\":\"scattergl\"}],                        {\"template\":{\"data\":{\"histogram2dcontour\":[{\"type\":\"histogram2dcontour\",\"colorbar\":{\"outlinewidth\":0,\"ticks\":\"\"},\"colorscale\":[[0.0,\"#0d0887\"],[0.1111111111111111,\"#46039f\"],[0.2222222222222222,\"#7201a8\"],[0.3333333333333333,\"#9c179e\"],[0.4444444444444444,\"#bd3786\"],[0.5555555555555556,\"#d8576b\"],[0.6666666666666666,\"#ed7953\"],[0.7777777777777778,\"#fb9f3a\"],[0.8888888888888888,\"#fdca26\"],[1.0,\"#f0f921\"]]}],\"choropleth\":[{\"type\":\"choropleth\",\"colorbar\":{\"outlinewidth\":0,\"ticks\":\"\"}}],\"histogram2d\":[{\"type\":\"histogram2d\",\"colorbar\":{\"outlinewidth\":0,\"ticks\":\"\"},\"colorscale\":[[0.0,\"#0d0887\"],[0.1111111111111111,\"#46039f\"],[0.2222222222222222,\"#7201a8\"],[0.3333333333333333,\"#9c179e\"],[0.4444444444444444,\"#bd3786\"],[0.5555555555555556,\"#d8576b\"],[0.6666666666666666,\"#ed7953\"],[0.7777777777777778,\"#fb9f3a\"],[0.8888888888888888,\"#fdca26\"],[1.0,\"#f0f921\"]]}],\"heatmap\":[{\"type\":\"heatmap\",\"colorbar\":{\"outlinewidth\":0,\"ticks\":\"\"},\"colorscale\":[[0.0,\"#0d0887\"],[0.1111111111111111,\"#46039f\"],[0.2222222222222222,\"#7201a8\"],[0.3333333333333333,\"#9c179e\"],[0.4444444444444444,\"#bd3786\"],[0.5555555555555556,\"#d8576b\"],[0.6666666666666666,\"#ed7953\"],[0.7777777777777778,\"#fb9f3a\"],[0.8888888888888888,\"#fdca26\"],[1.0,\"#f0f921\"]]}],\"heatmapgl\":[{\"type\":\"heatmapgl\",\"colorbar\":{\"outlinewidth\":0,\"ticks\":\"\"},\"colorscale\":[[0.0,\"#0d0887\"],[0.1111111111111111,\"#46039f\"],[0.2222222222222222,\"#7201a8\"],[0.3333333333333333,\"#9c179e\"],[0.4444444444444444,\"#bd3786\"],[0.5555555555555556,\"#d8576b\"],[0.6666666666666666,\"#ed7953\"],[0.7777777777777778,\"#fb9f3a\"],[0.8888888888888888,\"#fdca26\"],[1.0,\"#f0f921\"]]}],\"contourcarpet\":[{\"type\":\"contourcarpet\",\"colorbar\":{\"outlinewidth\":0,\"ticks\":\"\"}}],\"contour\":[{\"type\":\"contour\",\"colorbar\":{\"outlinewidth\":0,\"ticks\":\"\"},\"colorscale\":[[0.0,\"#0d0887\"],[0.1111111111111111,\"#46039f\"],[0.2222222222222222,\"#7201a8\"],[0.3333333333333333,\"#9c179e\"],[0.4444444444444444,\"#bd3786\"],[0.5555555555555556,\"#d8576b\"],[0.6666666666666666,\"#ed7953\"],[0.7777777777777778,\"#fb9f3a\"],[0.8888888888888888,\"#fdca26\"],[1.0,\"#f0f921\"]]}],\"surface\":[{\"type\":\"surface\",\"colorbar\":{\"outlinewidth\":0,\"ticks\":\"\"},\"colorscale\":[[0.0,\"#0d0887\"],[0.1111111111111111,\"#46039f\"],[0.2222222222222222,\"#7201a8\"],[0.3333333333333333,\"#9c179e\"],[0.4444444444444444,\"#bd3786\"],[0.5555555555555556,\"#d8576b\"],[0.6666666666666666,\"#ed7953\"],[0.7777777777777778,\"#fb9f3a\"],[0.8888888888888888,\"#fdca26\"],[1.0,\"#f0f921\"]]}],\"mesh3d\":[{\"type\":\"mesh3d\",\"colorbar\":{\"outlinewidth\":0,\"ticks\":\"\"}}],\"scatter\":[{\"fillpattern\":{\"fillmode\":\"overlay\",\"size\":10,\"solidity\":0.2},\"type\":\"scatter\"}],\"parcoords\":[{\"type\":\"parcoords\",\"line\":{\"colorbar\":{\"outlinewidth\":0,\"ticks\":\"\"}}}],\"scatterpolargl\":[{\"type\":\"scatterpolargl\",\"marker\":{\"colorbar\":{\"outlinewidth\":0,\"ticks\":\"\"}}}],\"bar\":[{\"error_x\":{\"color\":\"#2a3f5f\"},\"error_y\":{\"color\":\"#2a3f5f\"},\"marker\":{\"line\":{\"color\":\"#E5ECF6\",\"width\":0.5},\"pattern\":{\"fillmode\":\"overlay\",\"size\":10,\"solidity\":0.2}},\"type\":\"bar\"}],\"scattergeo\":[{\"type\":\"scattergeo\",\"marker\":{\"colorbar\":{\"outlinewidth\":0,\"ticks\":\"\"}}}],\"scatterpolar\":[{\"type\":\"scatterpolar\",\"marker\":{\"colorbar\":{\"outlinewidth\":0,\"ticks\":\"\"}}}],\"histogram\":[{\"marker\":{\"pattern\":{\"fillmode\":\"overlay\",\"size\":10,\"solidity\":0.2}},\"type\":\"histogram\"}],\"scattergl\":[{\"type\":\"scattergl\",\"marker\":{\"colorbar\":{\"outlinewidth\":0,\"ticks\":\"\"}}}],\"scatter3d\":[{\"type\":\"scatter3d\",\"line\":{\"colorbar\":{\"outlinewidth\":0,\"ticks\":\"\"}},\"marker\":{\"colorbar\":{\"outlinewidth\":0,\"ticks\":\"\"}}}],\"scattermapbox\":[{\"type\":\"scattermapbox\",\"marker\":{\"colorbar\":{\"outlinewidth\":0,\"ticks\":\"\"}}}],\"scatterternary\":[{\"type\":\"scatterternary\",\"marker\":{\"colorbar\":{\"outlinewidth\":0,\"ticks\":\"\"}}}],\"scattercarpet\":[{\"type\":\"scattercarpet\",\"marker\":{\"colorbar\":{\"outlinewidth\":0,\"ticks\":\"\"}}}],\"carpet\":[{\"aaxis\":{\"endlinecolor\":\"#2a3f5f\",\"gridcolor\":\"white\",\"linecolor\":\"white\",\"minorgridcolor\":\"white\",\"startlinecolor\":\"#2a3f5f\"},\"baxis\":{\"endlinecolor\":\"#2a3f5f\",\"gridcolor\":\"white\",\"linecolor\":\"white\",\"minorgridcolor\":\"white\",\"startlinecolor\":\"#2a3f5f\"},\"type\":\"carpet\"}],\"table\":[{\"cells\":{\"fill\":{\"color\":\"#EBF0F8\"},\"line\":{\"color\":\"white\"}},\"header\":{\"fill\":{\"color\":\"#C8D4E3\"},\"line\":{\"color\":\"white\"}},\"type\":\"table\"}],\"barpolar\":[{\"marker\":{\"line\":{\"color\":\"#E5ECF6\",\"width\":0.5},\"pattern\":{\"fillmode\":\"overlay\",\"size\":10,\"solidity\":0.2}},\"type\":\"barpolar\"}],\"pie\":[{\"automargin\":true,\"type\":\"pie\"}]},\"layout\":{\"autotypenumbers\":\"strict\",\"colorway\":[\"#636efa\",\"#EF553B\",\"#00cc96\",\"#ab63fa\",\"#FFA15A\",\"#19d3f3\",\"#FF6692\",\"#B6E880\",\"#FF97FF\",\"#FECB52\"],\"font\":{\"color\":\"#2a3f5f\"},\"hovermode\":\"closest\",\"hoverlabel\":{\"align\":\"left\"},\"paper_bgcolor\":\"white\",\"plot_bgcolor\":\"#E5ECF6\",\"polar\":{\"bgcolor\":\"#E5ECF6\",\"angularaxis\":{\"gridcolor\":\"white\",\"linecolor\":\"white\",\"ticks\":\"\"},\"radialaxis\":{\"gridcolor\":\"white\",\"linecolor\":\"white\",\"ticks\":\"\"}},\"ternary\":{\"bgcolor\":\"#E5ECF6\",\"aaxis\":{\"gridcolor\":\"white\",\"linecolor\":\"white\",\"ticks\":\"\"},\"baxis\":{\"gridcolor\":\"white\",\"linecolor\":\"white\",\"ticks\":\"\"},\"caxis\":{\"gridcolor\":\"white\",\"linecolor\":\"white\",\"ticks\":\"\"}},\"coloraxis\":{\"colorbar\":{\"outlinewidth\":0,\"ticks\":\"\"}},\"colorscale\":{\"sequential\":[[0.0,\"#0d0887\"],[0.1111111111111111,\"#46039f\"],[0.2222222222222222,\"#7201a8\"],[0.3333333333333333,\"#9c179e\"],[0.4444444444444444,\"#bd3786\"],[0.5555555555555556,\"#d8576b\"],[0.6666666666666666,\"#ed7953\"],[0.7777777777777778,\"#fb9f3a\"],[0.8888888888888888,\"#fdca26\"],[1.0,\"#f0f921\"]],\"sequentialminus\":[[0.0,\"#0d0887\"],[0.1111111111111111,\"#46039f\"],[0.2222222222222222,\"#7201a8\"],[0.3333333333333333,\"#9c179e\"],[0.4444444444444444,\"#bd3786\"],[0.5555555555555556,\"#d8576b\"],[0.6666666666666666,\"#ed7953\"],[0.7777777777777778,\"#fb9f3a\"],[0.8888888888888888,\"#fdca26\"],[1.0,\"#f0f921\"]],\"diverging\":[[0,\"#8e0152\"],[0.1,\"#c51b7d\"],[0.2,\"#de77ae\"],[0.3,\"#f1b6da\"],[0.4,\"#fde0ef\"],[0.5,\"#f7f7f7\"],[0.6,\"#e6f5d0\"],[0.7,\"#b8e186\"],[0.8,\"#7fbc41\"],[0.9,\"#4d9221\"],[1,\"#276419\"]]},\"xaxis\":{\"gridcolor\":\"white\",\"linecolor\":\"white\",\"ticks\":\"\",\"title\":{\"standoff\":15},\"zerolinecolor\":\"white\",\"automargin\":true,\"zerolinewidth\":2},\"yaxis\":{\"gridcolor\":\"white\",\"linecolor\":\"white\",\"ticks\":\"\",\"title\":{\"standoff\":15},\"zerolinecolor\":\"white\",\"automargin\":true,\"zerolinewidth\":2},\"scene\":{\"xaxis\":{\"backgroundcolor\":\"#E5ECF6\",\"gridcolor\":\"white\",\"linecolor\":\"white\",\"showbackground\":true,\"ticks\":\"\",\"zerolinecolor\":\"white\",\"gridwidth\":2},\"yaxis\":{\"backgroundcolor\":\"#E5ECF6\",\"gridcolor\":\"white\",\"linecolor\":\"white\",\"showbackground\":true,\"ticks\":\"\",\"zerolinecolor\":\"white\",\"gridwidth\":2},\"zaxis\":{\"backgroundcolor\":\"#E5ECF6\",\"gridcolor\":\"white\",\"linecolor\":\"white\",\"showbackground\":true,\"ticks\":\"\",\"zerolinecolor\":\"white\",\"gridwidth\":2}},\"shapedefaults\":{\"line\":{\"color\":\"#2a3f5f\"}},\"annotationdefaults\":{\"arrowcolor\":\"#2a3f5f\",\"arrowhead\":0,\"arrowwidth\":1},\"geo\":{\"bgcolor\":\"white\",\"landcolor\":\"#E5ECF6\",\"subunitcolor\":\"white\",\"showland\":true,\"showlakes\":true,\"lakecolor\":\"white\"},\"title\":{\"x\":0.05},\"mapbox\":{\"style\":\"light\"}}},\"xaxis\":{\"anchor\":\"y\",\"domain\":[0.0,1.0],\"title\":{\"text\":\"SalePrice\"}},\"yaxis\":{\"anchor\":\"x\",\"domain\":[0.0,1.0],\"title\":{\"text\":\"LotArea\"}},\"coloraxis\":{\"colorbar\":{\"title\":{\"text\":\"YearBuilt\"}},\"colorscale\":[[0.0,\"#0d0887\"],[0.1111111111111111,\"#46039f\"],[0.2222222222222222,\"#7201a8\"],[0.3333333333333333,\"#9c179e\"],[0.4444444444444444,\"#bd3786\"],[0.5555555555555556,\"#d8576b\"],[0.6666666666666666,\"#ed7953\"],[0.7777777777777778,\"#fb9f3a\"],[0.8888888888888888,\"#fdca26\"],[1.0,\"#f0f921\"]]},\"legend\":{\"tracegroupgap\":0},\"margin\":{\"t\":60}},                        {\"responsive\": true}                    ).then(function(){\n",
       "                            \n",
       "var gd = document.getElementById('46641bc2-4d98-45f7-a64a-21a7a8eb4ae1');\n",
       "var x = new MutationObserver(function (mutations, observer) {{\n",
       "        var display = window.getComputedStyle(gd).display;\n",
       "        if (!display || display === 'none') {{\n",
       "            console.log([gd, 'removed!']);\n",
       "            Plotly.purge(gd);\n",
       "            observer.disconnect();\n",
       "        }}\n",
       "}});\n",
       "\n",
       "// Listen for the removal of the full notebook cells\n",
       "var notebookContainer = gd.closest('#notebook-container');\n",
       "if (notebookContainer) {{\n",
       "    x.observe(notebookContainer, {childList: true});\n",
       "}}\n",
       "\n",
       "// Listen for the clearing of the current output cell\n",
       "var outputEl = gd.closest('.output');\n",
       "if (outputEl) {{\n",
       "    x.observe(outputEl, {childList: true});\n",
       "}}\n",
       "\n",
       "                        })                };                });            </script>        </div>"
      ]
     },
     "metadata": {},
     "output_type": "display_data"
    }
   ],
   "source": [
    "px.scatter(data_frame=train,x='SalePrice',y='LotArea',color='YearBuilt',hover_data=['YrSold'])"
   ]
  },
  {
   "cell_type": "code",
   "execution_count": null,
   "id": "c55eef0f-02d0-4339-89e9-6e2f9deef04f",
   "metadata": {},
   "outputs": [
    {
     "data": {
      "text/html": [
       "<div>\n",
       "<style scoped>\n",
       "    .dataframe tbody tr th:only-of-type {\n",
       "        vertical-align: middle;\n",
       "    }\n",
       "\n",
       "    .dataframe tbody tr th {\n",
       "        vertical-align: top;\n",
       "    }\n",
       "\n",
       "    .dataframe thead th {\n",
       "        text-align: right;\n",
       "    }\n",
       "</style>\n",
       "<table border=\"1\" class=\"dataframe\">\n",
       "  <thead>\n",
       "    <tr style=\"text-align: right;\">\n",
       "      <th></th>\n",
       "      <th>LotArea</th>\n",
       "      <th>LotShape</th>\n",
       "      <th>YrSold</th>\n",
       "      <th>SaleType</th>\n",
       "      <th>GarageCars</th>\n",
       "      <th>SalePrice</th>\n",
       "      <th>YearBuilt</th>\n",
       "      <th>FullBath</th>\n",
       "      <th>GarageArea</th>\n",
       "    </tr>\n",
       "  </thead>\n",
       "  <tbody>\n",
       "    <tr>\n",
       "      <th>0</th>\n",
       "      <td>8450</td>\n",
       "      <td>Reg</td>\n",
       "      <td>2008</td>\n",
       "      <td>WD</td>\n",
       "      <td>2</td>\n",
       "      <td>208500.0</td>\n",
       "      <td>2003</td>\n",
       "      <td>2</td>\n",
       "      <td>548</td>\n",
       "    </tr>\n",
       "    <tr>\n",
       "      <th>1</th>\n",
       "      <td>9600</td>\n",
       "      <td>Reg</td>\n",
       "      <td>2007</td>\n",
       "      <td>WD</td>\n",
       "      <td>2</td>\n",
       "      <td>181500.0</td>\n",
       "      <td>1976</td>\n",
       "      <td>2</td>\n",
       "      <td>460</td>\n",
       "    </tr>\n",
       "    <tr>\n",
       "      <th>2</th>\n",
       "      <td>11250</td>\n",
       "      <td>IR1</td>\n",
       "      <td>2008</td>\n",
       "      <td>WD</td>\n",
       "      <td>2</td>\n",
       "      <td>223500.0</td>\n",
       "      <td>2001</td>\n",
       "      <td>2</td>\n",
       "      <td>608</td>\n",
       "    </tr>\n",
       "    <tr>\n",
       "      <th>3</th>\n",
       "      <td>9550</td>\n",
       "      <td>IR1</td>\n",
       "      <td>2006</td>\n",
       "      <td>WD</td>\n",
       "      <td>3</td>\n",
       "      <td>140000.0</td>\n",
       "      <td>1915</td>\n",
       "      <td>1</td>\n",
       "      <td>642</td>\n",
       "    </tr>\n",
       "    <tr>\n",
       "      <th>4</th>\n",
       "      <td>14260</td>\n",
       "      <td>IR1</td>\n",
       "      <td>2008</td>\n",
       "      <td>WD</td>\n",
       "      <td>3</td>\n",
       "      <td>250000.0</td>\n",
       "      <td>2000</td>\n",
       "      <td>2</td>\n",
       "      <td>836</td>\n",
       "    </tr>\n",
       "    <tr>\n",
       "      <th>...</th>\n",
       "      <td>...</td>\n",
       "      <td>...</td>\n",
       "      <td>...</td>\n",
       "      <td>...</td>\n",
       "      <td>...</td>\n",
       "      <td>...</td>\n",
       "      <td>...</td>\n",
       "      <td>...</td>\n",
       "      <td>...</td>\n",
       "    </tr>\n",
       "    <tr>\n",
       "      <th>1455</th>\n",
       "      <td>7917</td>\n",
       "      <td>Reg</td>\n",
       "      <td>2007</td>\n",
       "      <td>WD</td>\n",
       "      <td>2</td>\n",
       "      <td>175000.0</td>\n",
       "      <td>1999</td>\n",
       "      <td>2</td>\n",
       "      <td>460</td>\n",
       "    </tr>\n",
       "    <tr>\n",
       "      <th>1456</th>\n",
       "      <td>13175</td>\n",
       "      <td>Reg</td>\n",
       "      <td>2010</td>\n",
       "      <td>WD</td>\n",
       "      <td>2</td>\n",
       "      <td>210000.0</td>\n",
       "      <td>1978</td>\n",
       "      <td>2</td>\n",
       "      <td>500</td>\n",
       "    </tr>\n",
       "    <tr>\n",
       "      <th>1457</th>\n",
       "      <td>9042</td>\n",
       "      <td>Reg</td>\n",
       "      <td>2010</td>\n",
       "      <td>WD</td>\n",
       "      <td>1</td>\n",
       "      <td>266500.0</td>\n",
       "      <td>1941</td>\n",
       "      <td>2</td>\n",
       "      <td>252</td>\n",
       "    </tr>\n",
       "    <tr>\n",
       "      <th>1458</th>\n",
       "      <td>9717</td>\n",
       "      <td>Reg</td>\n",
       "      <td>2010</td>\n",
       "      <td>WD</td>\n",
       "      <td>1</td>\n",
       "      <td>142125.0</td>\n",
       "      <td>1950</td>\n",
       "      <td>1</td>\n",
       "      <td>240</td>\n",
       "    </tr>\n",
       "    <tr>\n",
       "      <th>1459</th>\n",
       "      <td>9937</td>\n",
       "      <td>Reg</td>\n",
       "      <td>2008</td>\n",
       "      <td>WD</td>\n",
       "      <td>1</td>\n",
       "      <td>147500.0</td>\n",
       "      <td>1965</td>\n",
       "      <td>1</td>\n",
       "      <td>276</td>\n",
       "    </tr>\n",
       "  </tbody>\n",
       "</table>\n",
       "<p>1449 rows × 9 columns</p>\n",
       "</div>"
      ],
      "text/plain": [
       "      LotArea LotShape  YrSold SaleType  GarageCars  SalePrice  YearBuilt  \\\n",
       "0        8450      Reg    2008       WD           2   208500.0       2003   \n",
       "1        9600      Reg    2007       WD           2   181500.0       1976   \n",
       "2       11250      IR1    2008       WD           2   223500.0       2001   \n",
       "3        9550      IR1    2006       WD           3   140000.0       1915   \n",
       "4       14260      IR1    2008       WD           3   250000.0       2000   \n",
       "...       ...      ...     ...      ...         ...        ...        ...   \n",
       "1455     7917      Reg    2007       WD           2   175000.0       1999   \n",
       "1456    13175      Reg    2010       WD           2   210000.0       1978   \n",
       "1457     9042      Reg    2010       WD           1   266500.0       1941   \n",
       "1458     9717      Reg    2010       WD           1   142125.0       1950   \n",
       "1459     9937      Reg    2008       WD           1   147500.0       1965   \n",
       "\n",
       "      FullBath  GarageArea  \n",
       "0            2         548  \n",
       "1            2         460  \n",
       "2            2         608  \n",
       "3            1         642  \n",
       "4            2         836  \n",
       "...        ...         ...  \n",
       "1455         2         460  \n",
       "1456         2         500  \n",
       "1457         2         252  \n",
       "1458         1         240  \n",
       "1459         1         276  \n",
       "\n",
       "[1449 rows x 9 columns]"
      ]
     },
     "execution_count": 251,
     "metadata": {},
     "output_type": "execute_result"
    }
   ],
   "source": [
    "train[train['LotArea']< 50000][['LotArea','LotShape','YrSold','SaleType','GarageCars','SalePrice','YearBuilt','FullBath','GarageArea']]"
   ]
  },
  {
   "cell_type": "code",
   "execution_count": null,
   "id": "2f13d796-d677-4e72-bc70-b13479699c41",
   "metadata": {},
   "outputs": [],
   "source": [
    "train_pivot=pd.pivot_table(data=train,columns='YearBuilt',index='YrSold',values='SalePrice')"
   ]
  },
  {
   "cell_type": "code",
   "execution_count": null,
   "id": "fea25068-d039-43bd-a40e-c29fe343a321",
   "metadata": {},
   "outputs": [
    {
     "data": {
      "text/plain": [
       "<Axes: xlabel='YearBuilt', ylabel='YrSold'>"
      ]
     },
     "execution_count": 253,
     "metadata": {},
     "output_type": "execute_result"
    },
    {
     "data": {
      "image/png": "[encoded data removed]",
      "text/plain": [
       "<Figure size 640x480 with 2 Axes>"
      ]
     },
     "metadata": {},
     "output_type": "display_data"
    }
   ],
   "source": [
    "sns.heatmap(data=train_pivot)"
   ]
  },
  {
   "cell_type": "code",
   "execution_count": null,
   "id": "833bfa96-793c-4de6-b08a-2dd9cf9d8f75",
   "metadata": {},
   "outputs": [
    {
     "data": {
      "text/plain": [
       "<Axes: xlabel='YrSold', ylabel='size'>"
      ]
     },
     "execution_count": 254,
     "metadata": {},
     "output_type": "execute_result"
    },
    {
     "data": {
      "image/png": "[encoded data removed]",
      "text/plain": [
       "<Figure size 640x480 with 1 Axes>"
      ]
     },
     "metadata": {},
     "output_type": "display_data"
    }
   ],
   "source": [
    "group_for_barplot=train.groupby('YrSold')['SalePrice'].size().reset_index(name='size')\n",
    "group_for_barplot\n",
    "sns.barplot(data=group_for_barplot,x='YrSold',y='size')"
   ]
  },
  {
   "cell_type": "code",
   "execution_count": null,
   "id": "649863d3-302e-4807-9bb5-89a0ca447727",
   "metadata": {},
   "outputs": [
    {
     "data": {
      "application/vnd.plotly.v1+json": {
       "config": {
        "plotlyServerURL": "https://plot.ly"
       },
       "data": [
        {
         "branchvalues": "total",
         "domain": {
          "x": [
           0,
           1
          ],
          "y": [
           0,
           1
          ]
         },
         "hovertemplate": "labels=%{label}<br>SalePrice=%{value}<br>parent=%{parent}<br>id=%{id}<extra></extra>",
         "ids": [
          "2008/1872",
          "2010/1875",
          "2006/1880",
          "2007/1880",
          "2008/1880",
          "2009/1880",
          "2009/1882",
          "2007/1885",
          "2010/1885",
          "2007/1890",
          "2009/1890",
          "2006/1892",
          "2009/1892",
          "2008/1893",
          "2009/1898",
          "2006/1900",
          "2007/1900",
          "2008/1900",
          "2009/1900",
          "2010/1900",
          "2008/1904",
          "2008/1905",
          "2008/1906",
          "2006/1908",
          "2008/1908",
          "2006/1910",
          "2007/1910",
          "2008/1910",
          "2009/1910",
          "2010/1910",
          "2008/1911",
          "2006/1912",
          "2008/1912",
          "2009/1912",
          "2007/1913",
          "2006/1914",
          "2007/1914",
          "2008/1914",
          "2010/1914",
          "2006/1915",
          "2007/1915",
          "2008/1915",
          "2009/1915",
          "2010/1915",
          "2006/1916",
          "2007/1916",
          "2008/1916",
          "2009/1916",
          "2008/1917",
          "2006/1918",
          "2007/1918",
          "2008/1918",
          "2007/1919",
          "2010/1919",
          "2006/1920",
          "2007/1920",
          "2008/1920",
          "2009/1920",
          "2010/1920",
          "2006/1921",
          "2008/1921",
          "2009/1921",
          "2010/1921",
          "2006/1922",
          "2008/1922",
          "2009/1922",
          "2010/1922",
          "2006/1923",
          "2007/1923",
          "2008/1923",
          "2009/1923",
          "2006/1924",
          "2008/1924",
          "2009/1924",
          "2010/1924",
          "2006/1925",
          "2007/1925",
          "2008/1925",
          "2009/1925",
          "2006/1926",
          "2007/1926",
          "2008/1926",
          "2009/1926",
          "2007/1927",
          "2008/1927",
          "2010/1927",
          "2006/1928",
          "2008/1928",
          "2009/1928",
          "2010/1928",
          "2006/1929",
          "2007/1929",
          "2008/1929",
          "2010/1929",
          "2006/1930",
          "2007/1930",
          "2008/1930",
          "2010/1930",
          "2007/1931",
          "2008/1931",
          "2009/1931",
          "2006/1932",
          "2007/1932",
          "2009/1932",
          "2006/1934",
          "2007/1934",
          "2008/1934",
          "2006/1935",
          "2008/1935",
          "2009/1935",
          "2006/1936",
          "2008/1936",
          "2009/1936",
          "2006/1937",
          "2007/1937",
          "2009/1937",
          "2006/1938",
          "2007/1938",
          "2009/1938",
          "2006/1939",
          "2007/1939",
          "2008/1939",
          "2009/1939",
          "2006/1940",
          "2007/1940",
          "2008/1940",
          "2009/1940",
          "2010/1940",
          "2006/1941",
          "2007/1941",
          "2008/1941",
          "2009/1941",
          "2010/1941",
          "2007/1942",
          "2009/1942",
          "2007/1945",
          "2008/1945",
          "2009/1945",
          "2010/1945",
          "2006/1946",
          "2007/1946",
          "2008/1946",
          "2009/1946",
          "2010/1946",
          "2006/1947",
          "2008/1947",
          "2009/1947",
          "2006/1948",
          "2007/1948",
          "2008/1948",
          "2009/1948",
          "2010/1948",
          "2006/1949",
          "2007/1949",
          "2008/1949",
          "2009/1949",
          "2006/1950",
          "2007/1950",
          "2008/1950",
          "2009/1950",
          "2010/1950",
          "2006/1951",
          "2008/1951",
          "2009/1951",
          "2010/1951",
          "2006/1952",
          "2009/1952",
          "2010/1952",
          "2006/1953",
          "2007/1953",
          "2008/1953",
          "2009/1953",
          "2010/1953",
          "2006/1954",
          "2007/1954",
          "2008/1954",
          "2009/1954",
          "2010/1954",
          "2006/1955",
          "2007/1955",
          "2008/1955",
          "2009/1955",
          "2010/1955",
          "2006/1956",
          "2007/1956",
          "2008/1956",
          "2009/1956",
          "2010/1956",
          "2006/1957",
          "2007/1957",
          "2008/1957",
          "2009/1957",
          "2010/1957",
          "2006/1958",
          "2007/1958",
          "2008/1958",
          "2009/1958",
          "2010/1958",
          "2006/1959",
          "2007/1959",
          "2008/1959",
          "2009/1959",
          "2010/1959",
          "2006/1960",
          "2007/1960",
          "2008/1960",
          "2009/1960",
          "2010/1960",
          "2006/1961",
          "2007/1961",
          "2008/1961",
          "2009/1961",
          "2010/1961",
          "2006/1962",
          "2007/1962",
          "2008/1962",
          "2009/1962",
          "2010/1962",
          "2006/1963",
          "2007/1963",
          "2008/1963",
          "2009/1963",
          "2010/1963",
          "2006/1964",
          "2007/1964",
          "2008/1964",
          "2009/1964",
          "2010/1964",
          "2006/1965",
          "2007/1965",
          "2008/1965",
          "2009/1965",
          "2010/1965",
          "2006/1966",
          "2007/1966",
          "2008/1966",
          "2009/1966",
          "2010/1966",
          "2006/1967",
          "2007/1967",
          "2008/1967",
          "2009/1967",
          "2010/1967",
          "2006/1968",
          "2007/1968",
          "2008/1968",
          "2009/1968",
          "2010/1968",
          "2006/1969",
          "2007/1969",
          "2008/1969",
          "2009/1969",
          "2010/1969",
          "2006/1970",
          "2007/1970",
          "2008/1970",
          "2009/1970",
          "2010/1970",
          "2006/1971",
          "2007/1971",
          "2008/1971",
          "2009/1971",
          "2010/1971",
          "2006/1972",
          "2007/1972",
          "2008/1972",
          "2009/1972",
          "2010/1972",
          "2006/1973",
          "2007/1973",
          "2008/1973",
          "2009/1973",
          "2010/1973",
          "2006/1974",
          "2007/1974",
          "2008/1974",
          "2009/1974",
          "2010/1974",
          "2006/1975",
          "2007/1975",
          "2008/1975",
          "2006/1976",
          "2007/1976",
          "2008/1976",
          "2009/1976",
          "2010/1976",
          "2006/1977",
          "2007/1977",
          "2008/1977",
          "2009/1977",
          "2010/1977",
          "2006/1978",
          "2007/1978",
          "2008/1978",
          "2009/1978",
          "2010/1978",
          "2006/1979",
          "2007/1979",
          "2009/1979",
          "2010/1979",
          "2006/1980",
          "2007/1980",
          "2008/1980",
          "2009/1980",
          "2010/1980",
          "2006/1981",
          "2007/1981",
          "2008/1981",
          "2009/1981",
          "2007/1982",
          "2008/1982",
          "2009/1982",
          "2006/1983",
          "2007/1983",
          "2009/1983",
          "2006/1984",
          "2007/1984",
          "2008/1984",
          "2009/1984",
          "2010/1984",
          "2006/1985",
          "2009/1985",
          "2010/1985",
          "2006/1986",
          "2007/1986",
          "2008/1986",
          "2006/1987",
          "2009/1987",
          "2006/1988",
          "2007/1988",
          "2008/1988",
          "2009/1988",
          "2010/1988",
          "2006/1989",
          "2007/1989",
          "2009/1989",
          "2006/1990",
          "2007/1990",
          "2008/1990",
          "2009/1990",
          "2010/1990",
          "2006/1991",
          "2007/1991",
          "2008/1991",
          "2006/1992",
          "2007/1992",
          "2009/1992",
          "2010/1992",
          "2006/1993",
          "2008/1993",
          "2009/1993",
          "2010/1993",
          "2006/1994",
          "2007/1994",
          "2008/1994",
          "2009/1994",
          "2010/1994",
          "2006/1995",
          "2007/1995",
          "2008/1995",
          "2009/1995",
          "2010/1995",
          "2006/1996",
          "2007/1996",
          "2008/1996",
          "2009/1996",
          "2010/1996",
          "2006/1997",
          "2007/1997",
          "2008/1997",
          "2009/1997",
          "2006/1998",
          "2007/1998",
          "2008/1998",
          "2009/1998",
          "2010/1998",
          "2006/1999",
          "2007/1999",
          "2008/1999",
          "2009/1999",
          "2010/1999",
          "2006/2000",
          "2007/2000",
          "2008/2000",
          "2009/2000",
          "2010/2000",
          "2006/2001",
          "2007/2001",
          "2008/2001",
          "2009/2001",
          "2010/2001",
          "2006/2002",
          "2007/2002",
          "2008/2002",
          "2009/2002",
          "2010/2002",
          "2006/2003",
          "2007/2003",
          "2008/2003",
          "2009/2003",
          "2010/2003",
          "2006/2004",
          "2007/2004",
          "2008/2004",
          "2009/2004",
          "2010/2004",
          "2006/2005",
          "2007/2005",
          "2008/2005",
          "2009/2005",
          "2010/2005",
          "2006/2006",
          "2007/2006",
          "2008/2006",
          "2009/2006",
          "2010/2006",
          "2007/2007",
          "2008/2007",
          "2009/2007",
          "2010/2007",
          "2008/2008",
          "2009/2008",
          "2010/2008",
          "2009/2009",
          "2010/2009",
          "2010/2010",
          "2006",
          "2007",
          "2008",
          "2009",
          "2010"
         ],
         "labels": [
          "1872",
          "1875",
          "1880",
          "1880",
          "1880",
          "1880",
          "1882",
          "1885",
          "1885",
          "1890",
          "1890",
          "1892",
          "1892",
          "1893",
          "1898",
          "1900",
          "1900",
          "1900",
          "1900",
          "1900",
          "1904",
          "1905",
          "1906",
          "1908",
          "1908",
          "1910",
          "1910",
          "1910",
          "1910",
          "1910",
          "1911",
          "1912",
          "1912",
          "1912",
          "1913",
          "1914",
          "1914",
          "1914",
          "1914",
          "1915",
          "1915",
          "1915",
          "1915",
          "1915",
          "1916",
          "1916",
          "1916",
          "1916",
          "1917",
          "1918",
          "1918",
          "1918",
          "1919",
          "1919",
          "1920",
          "1920",
          "1920",
          "1920",
          "1920",
          "1921",
          "1921",
          "1921",
          "1921",
          "1922",
          "1922",
          "1922",
          "1922",
          "1923",
          "1923",
          "1923",
          "1923",
          "1924",
          "1924",
          "1924",
          "1924",
          "1925",
          "1925",
          "1925",
          "1925",
          "1926",
          "1926",
          "1926",
          "1926",
          "1927",
          "1927",
          "1927",
          "1928",
          "1928",
          "1928",
          "1928",
          "1929",
          "1929",
          "1929",
          "1929",
          "1930",
          "1930",
          "1930",
          "1930",
          "1931",
          "1931",
          "1931",
          "1932",
          "1932",
          "1932",
          "1934",
          "1934",
          "1934",
          "1935",
          "1935",
          "1935",
          "1936",
          "1936",
          "1936",
          "1937",
          "1937",
          "1937",
          "1938",
          "1938",
          "1938",
          "1939",
          "1939",
          "1939",
          "1939",
          "1940",
          "1940",
          "1940",
          "1940",
          "1940",
          "1941",
          "1941",
          "1941",
          "1941",
          "1941",
          "1942",
          "1942",
          "1945",
          "1945",
          "1945",
          "1945",
          "1946",
          "1946",
          "1946",
          "1946",
          "1946",
          "1947",
          "1947",
          "1947",
          "1948",
          "1948",
          "1948",
          "1948",
          "1948",
          "1949",
          "1949",
          "1949",
          "1949",
          "1950",
          "1950",
          "1950",
          "1950",
          "1950",
          "1951",
          "1951",
          "1951",
          "1951",
          "1952",
          "1952",
          "1952",
          "1953",
          "1953",
          "1953",
          "1953",
          "1953",
          "1954",
          "1954",
          "1954",
          "1954",
          "1954",
          "1955",
          "1955",
          "1955",
          "1955",
          "1955",
          "1956",
          "1956",
          "1956",
          "1956",
          "1956",
          "1957",
          "1957",
          "1957",
          "1957",
          "1957",
          "1958",
          "1958",
          "1958",
          "1958",
          "1958",
          "1959",
          "1959",
          "1959",
          "1959",
          "1959",
          "1960",
          "1960",
          "1960",
          "1960",
          "1960",
          "1961",
          "1961",
          "1961",
          "1961",
          "1961",
          "1962",
          "1962",
          "1962",
          "1962",
          "1962",
          "1963",
          "1963",
          "1963",
          "1963",
          "1963",
          "1964",
          "1964",
          "1964",
          "1964",
          "1964",
          "1965",
          "1965",
          "1965",
          "1965",
          "1965",
          "1966",
          "1966",
          "1966",
          "1966",
          "1966",
          "1967",
          "1967",
          "1967",
          "1967",
          "1967",
          "1968",
          "1968",
          "1968",
          "1968",
          "1968",
          "1969",
          "1969",
          "1969",
          "1969",
          "1969",
          "1970",
          "1970",
          "1970",
          "1970",
          "1970",
          "1971",
          "1971",
          "1971",
          "1971",
          "1971",
          "1972",
          "1972",
          "1972",
          "1972",
          "1972",
          "1973",
          "1973",
          "1973",
          "1973",
          "1973",
          "1974",
          "1974",
          "1974",
          "1974",
          "1974",
          "1975",
          "1975",
          "1975",
          "1976",
          "1976",
          "1976",
          "1976",
          "1976",
          "1977",
          "1977",
          "1977",
          "1977",
          "1977",
          "1978",
          "1978",
          "1978",
          "1978",
          "1978",
          "1979",
          "1979",
          "1979",
          "1979",
          "1980",
          "1980",
          "1980",
          "1980",
          "1980",
          "1981",
          "1981",
          "1981",
          "1981",
          "1982",
          "1982",
          "1982",
          "1983",
          "1983",
          "1983",
          "1984",
          "1984",
          "1984",
          "1984",
          "1984",
          "1985",
          "1985",
          "1985",
          "1986",
          "1986",
          "1986",
          "1987",
          "1987",
          "1988",
          "1988",
          "1988",
          "1988",
          "1988",
          "1989",
          "1989",
          "1989",
          "1990",
          "1990",
          "1990",
          "1990",
          "1990",
          "1991",
          "1991",
          "1991",
          "1992",
          "1992",
          "1992",
          "1992",
          "1993",
          "1993",
          "1993",
          "1993",
          "1994",
          "1994",
          "1994",
          "1994",
          "1994",
          "1995",
          "1995",
          "1995",
          "1995",
          "1995",
          "1996",
          "1996",
          "1996",
          "1996",
          "1996",
          "1997",
          "1997",
          "1997",
          "1997",
          "1998",
          "1998",
          "1998",
          "1998",
          "1998",
          "1999",
          "1999",
          "1999",
          "1999",
          "1999",
          "2000",
          "2000",
          "2000",
          "2000",
          "2000",
          "2001",
          "2001",
          "2001",
          "2001",
          "2001",
          "2002",
          "2002",
          "2002",
          "2002",
          "2002",
          "2003",
          "2003",
          "2003",
          "2003",
          "2003",
          "2004",
          "2004",
          "2004",
          "2004",
          "2004",
          "2005",
          "2005",
          "2005",
          "2005",
          "2005",
          "2006",
          "2006",
          "2006",
          "2006",
          "2006",
          "2007",
          "2007",
          "2007",
          "2007",
          "2008",
          "2008",
          "2008",
          "2009",
          "2009",
          "2010",
          "2006",
          "2007",
          "2008",
          "2009",
          "2010"
         ],
         "name": "",
         "parents": [
          "2008",
          "2010",
          "2006",
          "2007",
          "2008",
          "2009",
          "2009",
          "2007",
          "2010",
          "2007",
          "2009",
          "2006",
          "2009",
          "2008",
          "2009",
          "2006",
          "2007",
          "2008",
          "2009",
          "2010",
          "2008",
          "2008",
          "2008",
          "2006",
          "2008",
          "2006",
          "2007",
          "2008",
          "2009",
          "2010",
          "2008",
          "2006",
          "2008",
          "2009",
          "2007",
          "2006",
          "2007",
          "2008",
          "2010",
          "2006",
          "2007",
          "2008",
          "2009",
          "2010",
          "2006",
          "2007",
          "2008",
          "2009",
          "2008",
          "2006",
          "2007",
          "2008",
          "2007",
          "2010",
          "2006",
          "2007",
          "2008",
          "2009",
          "2010",
          "2006",
          "2008",
          "2009",
          "2010",
          "2006",
          "2008",
          "2009",
          "2010",
          "2006",
          "2007",
          "2008",
          "2009",
          "2006",
          "2008",
          "2009",
          "2010",
          "2006",
          "2007",
          "2008",
          "2009",
          "2006",
          "2007",
          "2008",
          "2009",
          "2007",
          "2008",
          "2010",
          "2006",
          "2008",
          "2009",
          "2010",
          "2006",
          "2007",
          "2008",
          "2010",
          "2006",
          "2007",
          "2008",
          "2010",
          "2007",
          "2008",
          "2009",
          "2006",
          "2007",
          "2009",
          "2006",
          "2007",
          "2008",
          "2006",
          "2008",
          "2009",
          "2006",
          "2008",
          "2009",
          "2006",
          "2007",
          "2009",
          "2006",
          "2007",
          "2009",
          "2006",
          "2007",
          "2008",
          "2009",
          "2006",
          "2007",
          "2008",
          "2009",
          "2010",
          "2006",
          "2007",
          "2008",
          "2009",
          "2010",
          "2007",
          "2009",
          "2007",
          "2008",
          "2009",
          "2010",
          "2006",
          "2007",
          "2008",
          "2009",
          "2010",
          "2006",
          "2008",
          "2009",
          "2006",
          "2007",
          "2008",
          "2009",
          "2010",
          "2006",
          "2007",
          "2008",
          "2009",
          "2006",
          "2007",
          "2008",
          "2009",
          "2010",
          "2006",
          "2008",
          "2009",
          "2010",
          "2006",
          "2009",
          "2010",
          "2006",
          "2007",
          "2008",
          "2009",
          "2010",
          "2006",
          "2007",
          "2008",
          "2009",
          "2010",
          "2006",
          "2007",
          "2008",
          "2009",
          "2010",
          "2006",
          "2007",
          "2008",
          "2009",
          "2010",
          "2006",
          "2007",
          "2008",
          "2009",
          "2010",
          "2006",
          "2007",
          "2008",
          "2009",
          "2010",
          "2006",
          "2007",
          "2008",
          "2009",
          "2010",
          "2006",
          "2007",
          "2008",
          "2009",
          "2010",
          "2006",
          "2007",
          "2008",
          "2009",
          "2010",
          "2006",
          "2007",
          "2008",
          "2009",
          "2010",
          "2006",
          "2007",
          "2008",
          "2009",
          "2010",
          "2006",
          "2007",
          "2008",
          "2009",
          "2010",
          "2006",
          "2007",
          "2008",
          "2009",
          "2010",
          "2006",
          "2007",
          "2008",
          "2009",
          "2010",
          "2006",
          "2007",
          "2008",
          "2009",
          "2010",
          "2006",
          "2007",
          "2008",
          "2009",
          "2010",
          "2006",
          "2007",
          "2008",
          "2009",
          "2010",
          "2006",
          "2007",
          "2008",
          "2009",
          "2010",
          "2006",
          "2007",
          "2008",
          "2009",
          "2010",
          "2006",
          "2007",
          "2008",
          "2009",
          "2010",
          "2006",
          "2007",
          "2008",
          "2009",
          "2010",
          "2006",
          "2007",
          "2008",
          "2009",
          "2010",
          "2006",
          "2007",
          "2008",
          "2006",
          "2007",
          "2008",
          "2009",
          "2010",
          "2006",
          "2007",
          "2008",
          "2009",
          "2010",
          "2006",
          "2007",
          "2008",
          "2009",
          "2010",
          "2006",
          "2007",
          "2009",
          "2010",
          "2006",
          "2007",
          "2008",
          "2009",
          "2010",
          "2006",
          "2007",
          "2008",
          "2009",
          "2007",
          "2008",
          "2009",
          "2006",
          "2007",
          "2009",
          "2006",
          "2007",
          "2008",
          "2009",
          "2010",
          "2006",
          "2009",
          "2010",
          "2006",
          "2007",
          "2008",
          "2006",
          "2009",
          "2006",
          "2007",
          "2008",
          "2009",
          "2010",
          "2006",
          "2007",
          "2009",
          "2006",
          "2007",
          "2008",
          "2009",
          "2010",
          "2006",
          "2007",
          "2008",
          "2006",
          "2007",
          "2009",
          "2010",
          "2006",
          "2008",
          "2009",
          "2010",
          "2006",
          "2007",
          "2008",
          "2009",
          "2010",
          "2006",
          "2007",
          "2008",
          "2009",
          "2010",
          "2006",
          "2007",
          "2008",
          "2009",
          "2010",
          "2006",
          "2007",
          "2008",
          "2009",
          "2006",
          "2007",
          "2008",
          "2009",
          "2010",
          "2006",
          "2007",
          "2008",
          "2009",
          "2010",
          "2006",
          "2007",
          "2008",
          "2009",
          "2010",
          "2006",
          "2007",
          "2008",
          "2009",
          "2010",
          "2006",
          "2007",
          "2008",
          "2009",
          "2010",
          "2006",
          "2007",
          "2008",
          "2009",
          "2010",
          "2006",
          "2007",
          "2008",
          "2009",
          "2010",
          "2006",
          "2007",
          "2008",
          "2009",
          "2010",
          "2006",
          "2007",
          "2008",
          "2009",
          "2010",
          "2007",
          "2008",
          "2009",
          "2010",
          "2008",
          "2009",
          "2010",
          "2009",
          "2010",
          "2010",
          "",
          "",
          "",
          "",
          ""
         ],
         "type": "treemap",
         "values": [
          122000,
          94000,
          124000,
          117500,
          295000,
          265979,
          168000,
          100000,
          122500,
          159500,
          124900,
          340037.5,
          107500,
          325000,
          106000,
          326000,
          90000,
          371150,
          95000,
          242776,
          157500,
          163000,
          135000,
          127000,
          240000,
          449504,
          638900,
          192500,
          400400,
          222000,
          130000,
          118500,
          135900,
          104000,
          90350,
          301887,
          327000,
          195000,
          58500,
          245000,
          153575,
          330900,
          240000,
          374400,
          304000,
          245900,
          98000,
          470500,
          129500,
          351000,
          540950,
          315000,
          295500,
          169000,
          701100,
          848400,
          593400,
          1092800,
          151400,
          197480,
          189000,
          318400,
          140000,
          341500,
          246000,
          160900,
          125500,
          210500,
          475000,
          207000,
          223500,
          216900,
          188500,
          209500,
          127000,
          483500,
          125000,
          792500,
          666050,
          181900,
          350500,
          116900,
          468000,
          64500,
          68500,
          115000,
          149000,
          161000,
          533000,
          105900,
          230000,
          132000,
          120000,
          130000,
          110000,
          313400,
          453900,
          55000,
          376000,
          278900,
          105000,
          239000,
          535000,
          159434,
          114500,
          340037.5,
          188700,
          84500,
          708037.5,
          133000,
          641500,
          115000,
          484500,
          119500,
          405471,
          134900,
          125500,
          119750,
          191300,
          260100,
          100000,
          609000,
          237500,
          140000,
          454500,
          769000,
          572500,
          439900,
          285500,
          615500,
          95000,
          471000,
          346500,
          146500,
          177500,
          370000,
          140000,
          98000,
          193000,
          121600,
          384800,
          130500,
          135000,
          84900,
          239500,
          118500,
          228000,
          485500,
          529700,
          524000,
          132000,
          257500,
          257811,
          545900,
          72500,
          462000,
          312900,
          767000,
          342300,
          868400,
          270125,
          239900,
          139000,
          164900,
          275800,
          123500,
          206500,
          221993,
          382000,
          351500,
          381000,
          532500,
          109000,
          741900,
          479400,
          1479400,
          246000,
          404900,
          556175,
          130000,
          761000,
          444600,
          260500,
          398000,
          370200,
          371750,
          503400,
          258000,
          767850,
          728124,
          387508,
          555000,
          560700,
          722400,
          1241400,
          615500,
          740500,
          116500,
          992100,
          427250,
          678932,
          384500,
          1524450,
          145250,
          734800,
          1057000,
          272500,
          536800,
          370100,
          685000,
          623350,
          131400,
          148000,
          426000,
          679700,
          794000,
          424500,
          444900,
          427500,
          451450,
          419000,
          473000,
          523500,
          465000,
          629000,
          661900,
          492000,
          180500,
          707900,
          519750,
          1317250,
          724920.5,
          370000,
          1087420,
          568500,
          717150,
          154000,
          345000,
          348500,
          411500,
          130000,
          898400,
          489000,
          1338900,
          412000,
          310000,
          916250,
          676500,
          810300,
          287000,
          638859,
          356000,
          158000,
          337050,
          993500,
          517500,
          1054500,
          329000,
          369500,
          1354750,
          319900,
          209000,
          646900,
          656050,
          296500,
          581650,
          1420937.5,
          273000,
          234400,
          532500,
          392000,
          291000,
          83500,
          493500,
          294000,
          425000,
          448000,
          170000,
          740900,
          293000,
          240250,
          824300,
          1958005,
          1086800,
          916750,
          620600,
          1190500,
          817500,
          1271400,
          1375900,
          684250,
          399500,
          498000,
          147000,
          904000,
          626900,
          135960,
          197000,
          715112,
          359500,
          207500,
          140000,
          151000,
          691500,
          458000,
          568037.5,
          182900,
          175500,
          278000,
          254000,
          268500,
          271900,
          131000,
          278000,
          316600,
          345000,
          385500,
          282000,
          187500,
          277000,
          455000,
          112000,
          390000,
          190000,
          471000,
          399000,
          415000,
          179000,
          641500,
          488000,
          364000,
          397000,
          360500,
          335000,
          228500,
          275000,
          430000,
          1012900,
          262280,
          625400,
          320000,
          260000,
          491500,
          179200,
          663900,
          1208137.5,
          351000,
          526000,
          690600,
          1605937.5,
          979000,
          430500,
          552000,
          790637.5,
          1315500,
          1045037.5,
          530000,
          953537.5,
          1341500,
          672037.5,
          748037.5,
          576537.5,
          148000,
          1129577.5,
          593500,
          1023000,
          588400,
          964037.5,
          789750,
          796200,
          451000,
          1506200,
          826000,
          1098500,
          1434150,
          646400,
          627900,
          525000,
          1282300,
          1863000,
          967168,
          975900,
          1374500,
          671500,
          1463000,
          573500,
          480000,
          566037.5,
          1028000,
          1944100,
          708000,
          1373200,
          975500,
          1428900,
          806100,
          634300,
          1680825,
          1801500,
          3087837.5,
          1967123.5,
          1325537.5,
          2756477,
          2595837.5,
          2507700,
          1888437.5,
          1586400,
          7647594.5,
          1632350.5,
          2137700,
          2273200,
          539900,
          5747332,
          7415550.5,
          571400,
          2288037.5,
          206000,
          5653497,
          3471392.5,
          2822700,
          306000,
          2011962,
          3975701,
          847887.5,
          2429847,
          1995675,
          340037.5,
          56114115.5,
          59657138,
          53389533.5,
          59386904.5,
          30356337
         ]
        }
       ],
       "layout": {
        "autosize": true,
        "legend": {
         "tracegroupgap": 0
        },
        "margin": {
         "t": 60
        },
        "template": {
         "data": {
          "bar": [
           {
            "error_x": {
             "color": "#2a3f5f"
            },
            "error_y": {
             "color": "#2a3f5f"
            },
            "marker": {
             "line": {
              "color": "#E5ECF6",
              "width": 0.5
             },
             "pattern": {
              "fillmode": "overlay",
              "size": 10,
              "solidity": 0.2
             }
            },
            "type": "bar"
           }
          ],
          "barpolar": [
           {
            "marker": {
             "line": {
              "color": "#E5ECF6",
              "width": 0.5
             },
             "pattern": {
              "fillmode": "overlay",
              "size": 10,
              "solidity": 0.2
             }
            },
            "type": "barpolar"
           }
          ],
          "carpet": [
           {
            "aaxis": {
             "endlinecolor": "#2a3f5f",
             "gridcolor": "white",
             "linecolor": "white",
             "minorgridcolor": "white",
             "startlinecolor": "#2a3f5f"
            },
            "baxis": {
             "endlinecolor": "#2a3f5f",
             "gridcolor": "white",
             "linecolor": "white",
             "minorgridcolor": "white",
             "startlinecolor": "#2a3f5f"
            },
            "type": "carpet"
           }
          ],
          "choropleth": [
           {
            "colorbar": {
             "outlinewidth": 0,
             "ticks": ""
            },
            "type": "choropleth"
           }
          ],
          "contour": [
           {
            "colorbar": {
             "outlinewidth": 0,
             "ticks": ""
            },
            "colorscale": [
             [
              0,
              "#0d0887"
             ],
             [
              0.1111111111111111,
              "#46039f"
             ],
             [
              0.2222222222222222,
              "#7201a8"
             ],
             [
              0.3333333333333333,
              "#9c179e"
             ],
             [
              0.4444444444444444,
              "#bd3786"
             ],
             [
              0.5555555555555556,
              "#d8576b"
             ],
             [
              0.6666666666666666,
              "#ed7953"
             ],
             [
              0.7777777777777778,
              "#fb9f3a"
             ],
             [
              0.8888888888888888,
              "#fdca26"
             ],
             [
              1,
              "#f0f921"
             ]
            ],
            "type": "contour"
           }
          ],
          "contourcarpet": [
           {
            "colorbar": {
             "outlinewidth": 0,
             "ticks": ""
            },
            "type": "contourcarpet"
           }
          ],
          "heatmap": [
           {
            "colorbar": {
             "outlinewidth": 0,
             "ticks": ""
            },
            "colorscale": [
             [
              0,
              "#0d0887"
             ],
             [
              0.1111111111111111,
              "#46039f"
             ],
             [
              0.2222222222222222,
              "#7201a8"
             ],
             [
              0.3333333333333333,
              "#9c179e"
             ],
             [
              0.4444444444444444,
              "#bd3786"
             ],
             [
              0.5555555555555556,
              "#d8576b"
             ],
             [
              0.6666666666666666,
              "#ed7953"
             ],
             [
              0.7777777777777778,
              "#fb9f3a"
             ],
             [
              0.8888888888888888,
              "#fdca26"
             ],
             [
              1,
              "#f0f921"
             ]
            ],
            "type": "heatmap"
           }
          ],
          "heatmapgl": [
           {
            "colorbar": {
             "outlinewidth": 0,
             "ticks": ""
            },
            "colorscale": [
             [
              0,
              "#0d0887"
             ],
             [
              0.1111111111111111,
              "#46039f"
             ],
             [
              0.2222222222222222,
              "#7201a8"
             ],
             [
              0.3333333333333333,
              "#9c179e"
             ],
             [
              0.4444444444444444,
              "#bd3786"
             ],
             [
              0.5555555555555556,
              "#d8576b"
             ],
             [
              0.6666666666666666,
              "#ed7953"
             ],
             [
              0.7777777777777778,
              "#fb9f3a"
             ],
             [
              0.8888888888888888,
              "#fdca26"
             ],
             [
              1,
              "#f0f921"
             ]
            ],
            "type": "heatmapgl"
           }
          ],
          "histogram": [
           {
            "marker": {
             "pattern": {
              "fillmode": "overlay",
              "size": 10,
              "solidity": 0.2
             }
            },
            "type": "histogram"
           }
          ],
          "histogram2d": [
           {
            "colorbar": {
             "outlinewidth": 0,
             "ticks": ""
            },
            "colorscale": [
             [
              0,
              "#0d0887"
             ],
             [
              0.1111111111111111,
              "#46039f"
             ],
             [
              0.2222222222222222,
              "#7201a8"
             ],
             [
              0.3333333333333333,
              "#9c179e"
             ],
             [
              0.4444444444444444,
              "#bd3786"
             ],
             [
              0.5555555555555556,
              "#d8576b"
             ],
             [
              0.6666666666666666,
              "#ed7953"
             ],
             [
              0.7777777777777778,
              "#fb9f3a"
             ],
             [
              0.8888888888888888,
              "#fdca26"
             ],
             [
              1,
              "#f0f921"
             ]
            ],
            "type": "histogram2d"
           }
          ],
          "histogram2dcontour": [
           {
            "colorbar": {
             "outlinewidth": 0,
             "ticks": ""
            },
            "colorscale": [
             [
              0,
              "#0d0887"
             ],
             [
              0.1111111111111111,
              "#46039f"
             ],
             [
              0.2222222222222222,
              "#7201a8"
             ],
             [
              0.3333333333333333,
              "#9c179e"
             ],
             [
              0.4444444444444444,
              "#bd3786"
             ],
             [
              0.5555555555555556,
              "#d8576b"
             ],
             [
              0.6666666666666666,
              "#ed7953"
             ],
             [
              0.7777777777777778,
              "#fb9f3a"
             ],
             [
              0.8888888888888888,
              "#fdca26"
             ],
             [
              1,
              "#f0f921"
             ]
            ],
            "type": "histogram2dcontour"
           }
          ],
          "mesh3d": [
           {
            "colorbar": {
             "outlinewidth": 0,
             "ticks": ""
            },
            "type": "mesh3d"
           }
          ],
          "parcoords": [
           {
            "line": {
             "colorbar": {
              "outlinewidth": 0,
              "ticks": ""
             }
            },
            "type": "parcoords"
           }
          ],
          "pie": [
           {
            "automargin": true,
            "type": "pie"
           }
          ],
          "scatter": [
           {
            "fillpattern": {
             "fillmode": "overlay",
             "size": 10,
             "solidity": 0.2
            },
            "type": "scatter"
           }
          ],
          "scatter3d": [
           {
            "line": {
             "colorbar": {
              "outlinewidth": 0,
              "ticks": ""
             }
            },
            "marker": {
             "colorbar": {
              "outlinewidth": 0,
              "ticks": ""
             }
            },
            "type": "scatter3d"
           }
          ],
          "scattercarpet": [
           {
            "marker": {
             "colorbar": {
              "outlinewidth": 0,
              "ticks": ""
             }
            },
            "type": "scattercarpet"
           }
          ],
          "scattergeo": [
           {
            "marker": {
             "colorbar": {
              "outlinewidth": 0,
              "ticks": ""
             }
            },
            "type": "scattergeo"
           }
          ],
          "scattergl": [
           {
            "marker": {
             "colorbar": {
              "outlinewidth": 0,
              "ticks": ""
             }
            },
            "type": "scattergl"
           }
          ],
          "scattermapbox": [
           {
            "marker": {
             "colorbar": {
              "outlinewidth": 0,
              "ticks": ""
             }
            },
            "type": "scattermapbox"
           }
          ],
          "scatterpolar": [
           {
            "marker": {
             "colorbar": {
              "outlinewidth": 0,
              "ticks": ""
             }
            },
            "type": "scatterpolar"
           }
          ],
          "scatterpolargl": [
           {
            "marker": {
             "colorbar": {
              "outlinewidth": 0,
              "ticks": ""
             }
            },
            "type": "scatterpolargl"
           }
          ],
          "scatterternary": [
           {
            "marker": {
             "colorbar": {
              "outlinewidth": 0,
              "ticks": ""
             }
            },
            "type": "scatterternary"
           }
          ],
          "surface": [
           {
            "colorbar": {
             "outlinewidth": 0,
             "ticks": ""
            },
            "colorscale": [
             [
              0,
              "#0d0887"
             ],
             [
              0.1111111111111111,
              "#46039f"
             ],
             [
              0.2222222222222222,
              "#7201a8"
             ],
             [
              0.3333333333333333,
              "#9c179e"
             ],
             [
              0.4444444444444444,
              "#bd3786"
             ],
             [
              0.5555555555555556,
              "#d8576b"
             ],
             [
              0.6666666666666666,
              "#ed7953"
             ],
             [
              0.7777777777777778,
              "#fb9f3a"
             ],
             [
              0.8888888888888888,
              "#fdca26"
             ],
             [
              1,
              "#f0f921"
             ]
            ],
            "type": "surface"
           }
          ],
          "table": [
           {
            "cells": {
             "fill": {
              "color": "#EBF0F8"
             },
             "line": {
              "color": "white"
             }
            },
            "header": {
             "fill": {
              "color": "#C8D4E3"
             },
             "line": {
              "color": "white"
             }
            },
            "type": "table"
           }
          ]
         },
         "layout": {
          "annotationdefaults": {
           "arrowcolor": "#2a3f5f",
           "arrowhead": 0,
           "arrowwidth": 1
          },
          "autotypenumbers": "strict",
          "coloraxis": {
           "colorbar": {
            "outlinewidth": 0,
            "ticks": ""
           }
          },
          "colorscale": {
           "diverging": [
            [
             0,
             "#8e0152"
            ],
            [
             0.1,
             "#c51b7d"
            ],
            [
             0.2,
             "#de77ae"
            ],
            [
             0.3,
             "#f1b6da"
            ],
            [
             0.4,
             "#fde0ef"
            ],
            [
             0.5,
             "#f7f7f7"
            ],
            [
             0.6,
             "#e6f5d0"
            ],
            [
             0.7,
             "#b8e186"
            ],
            [
             0.8,
             "#7fbc41"
            ],
            [
             0.9,
             "#4d9221"
            ],
            [
             1,
             "#276419"
            ]
           ],
           "sequential": [
            [
             0,
             "#0d0887"
            ],
            [
             0.1111111111111111,
             "#46039f"
            ],
            [
             0.2222222222222222,
             "#7201a8"
            ],
            [
             0.3333333333333333,
             "#9c179e"
            ],
            [
             0.4444444444444444,
             "#bd3786"
            ],
            [
             0.5555555555555556,
             "#d8576b"
            ],
            [
             0.6666666666666666,
             "#ed7953"
            ],
            [
             0.7777777777777778,
             "#fb9f3a"
            ],
            [
             0.8888888888888888,
             "#fdca26"
            ],
            [
             1,
             "#f0f921"
            ]
           ],
           "sequentialminus": [
            [
             0,
             "#0d0887"
            ],
            [
             0.1111111111111111,
             "#46039f"
            ],
            [
             0.2222222222222222,
             "#7201a8"
            ],
            [
             0.3333333333333333,
             "#9c179e"
            ],
            [
             0.4444444444444444,
             "#bd3786"
            ],
            [
             0.5555555555555556,
             "#d8576b"
            ],
            [
             0.6666666666666666,
             "#ed7953"
            ],
            [
             0.7777777777777778,
             "#fb9f3a"
            ],
            [
             0.8888888888888888,
             "#fdca26"
            ],
            [
             1,
             "#f0f921"
            ]
           ]
          },
          "colorway": [
           "#636efa",
           "#EF553B",
           "#00cc96",
           "#ab63fa",
           "#FFA15A",
           "#19d3f3",
           "#FF6692",
           "#B6E880",
           "#FF97FF",
           "#FECB52"
          ],
          "font": {
           "color": "#2a3f5f"
          },
          "geo": {
           "bgcolor": "white",
           "lakecolor": "white",
           "landcolor": "#E5ECF6",
           "showlakes": true,
           "showland": true,
           "subunitcolor": "white"
          },
          "hoverlabel": {
           "align": "left"
          },
          "hovermode": "closest",
          "mapbox": {
           "style": "light"
          },
          "paper_bgcolor": "white",
          "plot_bgcolor": "#E5ECF6",
          "polar": {
           "angularaxis": {
            "gridcolor": "white",
            "linecolor": "white",
            "ticks": ""
           },
           "bgcolor": "#E5ECF6",
           "radialaxis": {
            "gridcolor": "white",
            "linecolor": "white",
            "ticks": ""
           }
          },
          "scene": {
           "xaxis": {
            "backgroundcolor": "#E5ECF6",
            "gridcolor": "white",
            "gridwidth": 2,
            "linecolor": "white",
            "showbackground": true,
            "ticks": "",
            "zerolinecolor": "white"
           },
           "yaxis": {
            "backgroundcolor": "#E5ECF6",
            "gridcolor": "white",
            "gridwidth": 2,
            "linecolor": "white",
            "showbackground": true,
            "ticks": "",
            "zerolinecolor": "white"
           },
           "zaxis": {
            "backgroundcolor": "#E5ECF6",
            "gridcolor": "white",
            "gridwidth": 2,
            "linecolor": "white",
            "showbackground": true,
            "ticks": "",
            "zerolinecolor": "white"
           }
          },
          "shapedefaults": {
           "line": {
            "color": "#2a3f5f"
           }
          },
          "ternary": {
           "aaxis": {
            "gridcolor": "white",
            "linecolor": "white",
            "ticks": ""
           },
           "baxis": {
            "gridcolor": "white",
            "linecolor": "white",
            "ticks": ""
           },
           "bgcolor": "#E5ECF6",
           "caxis": {
            "gridcolor": "white",
            "linecolor": "white",
            "ticks": ""
           }
          },
          "title": {
           "x": 0.05
          },
          "xaxis": {
           "automargin": true,
           "gridcolor": "white",
           "linecolor": "white",
           "ticks": "",
           "title": {
            "standoff": 15
           },
           "zerolinecolor": "white",
           "zerolinewidth": 2
          },
          "yaxis": {
           "automargin": true,
           "gridcolor": "white",
           "linecolor": "white",
           "ticks": "",
           "title": {
            "standoff": 15
           },
           "zerolinecolor": "white",
           "zerolinewidth": 2
          }
         }
        }
       }
      },
      "image/png": "[encoded data removed]",
      "text/html": [
       "<div>                            <div id=\"e8e51aa0-446d-4a45-a1fe-d5aec99df0c2\" class=\"plotly-graph-div\" style=\"height:525px; width:100%;\"></div>            <script type=\"text/javascript\">                require([\"plotly\"], function(Plotly) {                    window.PLOTLYENV=window.PLOTLYENV || {};                                    if (document.getElementById(\"e8e51aa0-446d-4a45-a1fe-d5aec99df0c2\")) {                    Plotly.newPlot(                        \"e8e51aa0-446d-4a45-a1fe-d5aec99df0c2\",                        [{\"branchvalues\":\"total\",\"domain\":{\"x\":[0.0,1.0],\"y\":[0.0,1.0]},\"hovertemplate\":\"labels=%{label}<br>SalePrice=%{value}<br>parent=%{parent}<br>id=%{id}<extra></extra>\",\"ids\":[\"2008/1872\",\"2010/1875\",\"2006/1880\",\"2007/1880\",\"2008/1880\",\"2009/1880\",\"2009/1882\",\"2007/1885\",\"2010/1885\",\"2007/1890\",\"2009/1890\",\"2006/1892\",\"2009/1892\",\"2008/1893\",\"2009/1898\",\"2006/1900\",\"2007/1900\",\"2008/1900\",\"2009/1900\",\"2010/1900\",\"2008/1904\",\"2008/1905\",\"2008/1906\",\"2006/1908\",\"2008/1908\",\"2006/1910\",\"2007/1910\",\"2008/1910\",\"2009/1910\",\"2010/1910\",\"2008/1911\",\"2006/1912\",\"2008/1912\",\"2009/1912\",\"2007/1913\",\"2006/1914\",\"2007/1914\",\"2008/1914\",\"2010/1914\",\"2006/1915\",\"2007/1915\",\"2008/1915\",\"2009/1915\",\"2010/1915\",\"2006/1916\",\"2007/1916\",\"2008/1916\",\"2009/1916\",\"2008/1917\",\"2006/1918\",\"2007/1918\",\"2008/1918\",\"2007/1919\",\"2010/1919\",\"2006/1920\",\"2007/1920\",\"2008/1920\",\"2009/1920\",\"2010/1920\",\"2006/1921\",\"2008/1921\",\"2009/1921\",\"2010/1921\",\"2006/1922\",\"2008/1922\",\"2009/1922\",\"2010/1922\",\"2006/1923\",\"2007/1923\",\"2008/1923\",\"2009/1923\",\"2006/1924\",\"2008/1924\",\"2009/1924\",\"2010/1924\",\"2006/1925\",\"2007/1925\",\"2008/1925\",\"2009/1925\",\"2006/1926\",\"2007/1926\",\"2008/1926\",\"2009/1926\",\"2007/1927\",\"2008/1927\",\"2010/1927\",\"2006/1928\",\"2008/1928\",\"2009/1928\",\"2010/1928\",\"2006/1929\",\"2007/1929\",\"2008/1929\",\"2010/1929\",\"2006/1930\",\"2007/1930\",\"2008/1930\",\"2010/1930\",\"2007/1931\",\"2008/1931\",\"2009/1931\",\"2006/1932\",\"2007/1932\",\"2009/1932\",\"2006/1934\",\"2007/1934\",\"2008/1934\",\"2006/1935\",\"2008/1935\",\"2009/1935\",\"2006/1936\",\"2008/1936\",\"2009/1936\",\"2006/1937\",\"2007/1937\",\"2009/1937\",\"2006/1938\",\"2007/1938\",\"2009/1938\",\"2006/1939\",\"2007/1939\",\"2008/1939\",\"2009/1939\",\"2006/1940\",\"2007/1940\",\"2008/1940\",\"2009/1940\",\"2010/1940\",\"2006/1941\",\"2007/1941\",\"2008/1941\",\"2009/1941\",\"2010/1941\",\"2007/1942\",\"2009/1942\",\"2007/1945\",\"2008/1945\",\"2009/1945\",\"2010/1945\",\"2006/1946\",\"2007/1946\",\"2008/1946\",\"2009/1946\",\"2010/1946\",\"2006/1947\",\"2008/1947\",\"2009/1947\",\"2006/1948\",\"2007/1948\",\"2008/1948\",\"2009/1948\",\"2010/1948\",\"2006/1949\",\"2007/1949\",\"2008/1949\",\"2009/1949\",\"2006/1950\",\"2007/1950\",\"2008/1950\",\"2009/1950\",\"2010/1950\",\"2006/1951\",\"2008/1951\",\"2009/1951\",\"2010/1951\",\"2006/1952\",\"2009/1952\",\"2010/1952\",\"2006/1953\",\"2007/1953\",\"2008/1953\",\"2009/1953\",\"2010/1953\",\"2006/1954\",\"2007/1954\",\"2008/1954\",\"2009/1954\",\"2010/1954\",\"2006/1955\",\"2007/1955\",\"2008/1955\",\"2009/1955\",\"2010/1955\",\"2006/1956\",\"2007/1956\",\"2008/1956\",\"2009/1956\",\"2010/1956\",\"2006/1957\",\"2007/1957\",\"2008/1957\",\"2009/1957\",\"2010/1957\",\"2006/1958\",\"2007/1958\",\"2008/1958\",\"2009/1958\",\"2010/1958\",\"2006/1959\",\"2007/1959\",\"2008/1959\",\"2009/1959\",\"2010/1959\",\"2006/1960\",\"2007/1960\",\"2008/1960\",\"2009/1960\",\"2010/1960\",\"2006/1961\",\"2007/1961\",\"2008/1961\",\"2009/1961\",\"2010/1961\",\"2006/1962\",\"2007/1962\",\"2008/1962\",\"2009/1962\",\"2010/1962\",\"2006/1963\",\"2007/1963\",\"2008/1963\",\"2009/1963\",\"2010/1963\",\"2006/1964\",\"2007/1964\",\"2008/1964\",\"2009/1964\",\"2010/1964\",\"2006/1965\",\"2007/1965\",\"2008/1965\",\"2009/1965\",\"2010/1965\",\"2006/1966\",\"2007/1966\",\"2008/1966\",\"2009/1966\",\"2010/1966\",\"2006/1967\",\"2007/1967\",\"2008/1967\",\"2009/1967\",\"2010/1967\",\"2006/1968\",\"2007/1968\",\"2008/1968\",\"2009/1968\",\"2010/1968\",\"2006/1969\",\"2007/1969\",\"2008/1969\",\"2009/1969\",\"2010/1969\",\"2006/1970\",\"2007/1970\",\"2008/1970\",\"2009/1970\",\"2010/1970\",\"2006/1971\",\"2007/1971\",\"2008/1971\",\"2009/1971\",\"2010/1971\",\"2006/1972\",\"2007/1972\",\"2008/1972\",\"2009/1972\",\"2010/1972\",\"2006/1973\",\"2007/1973\",\"2008/1973\",\"2009/1973\",\"2010/1973\",\"2006/1974\",\"2007/1974\",\"2008/1974\",\"2009/1974\",\"2010/1974\",\"2006/1975\",\"2007/1975\",\"2008/1975\",\"2006/1976\",\"2007/1976\",\"2008/1976\",\"2009/1976\",\"2010/1976\",\"2006/1977\",\"2007/1977\",\"2008/1977\",\"2009/1977\",\"2010/1977\",\"2006/1978\",\"2007/1978\",\"2008/1978\",\"2009/1978\",\"2010/1978\",\"2006/1979\",\"2007/1979\",\"2009/1979\",\"2010/1979\",\"2006/1980\",\"2007/1980\",\"2008/1980\",\"2009/1980\",\"2010/1980\",\"2006/1981\",\"2007/1981\",\"2008/1981\",\"2009/1981\",\"2007/1982\",\"2008/1982\",\"2009/1982\",\"2006/1983\",\"2007/1983\",\"2009/1983\",\"2006/1984\",\"2007/1984\",\"2008/1984\",\"2009/1984\",\"2010/1984\",\"2006/1985\",\"2009/1985\",\"2010/1985\",\"2006/1986\",\"2007/1986\",\"2008/1986\",\"2006/1987\",\"2009/1987\",\"2006/1988\",\"2007/1988\",\"2008/1988\",\"2009/1988\",\"2010/1988\",\"2006/1989\",\"2007/1989\",\"2009/1989\",\"2006/1990\",\"2007/1990\",\"2008/1990\",\"2009/1990\",\"2010/1990\",\"2006/1991\",\"2007/1991\",\"2008/1991\",\"2006/1992\",\"2007/1992\",\"2009/1992\",\"2010/1992\",\"2006/1993\",\"2008/1993\",\"2009/1993\",\"2010/1993\",\"2006/1994\",\"2007/1994\",\"2008/1994\",\"2009/1994\",\"2010/1994\",\"2006/1995\",\"2007/1995\",\"2008/1995\",\"2009/1995\",\"2010/1995\",\"2006/1996\",\"2007/1996\",\"2008/1996\",\"2009/1996\",\"2010/1996\",\"2006/1997\",\"2007/1997\",\"2008/1997\",\"2009/1997\",\"2006/1998\",\"2007/1998\",\"2008/1998\",\"2009/1998\",\"2010/1998\",\"2006/1999\",\"2007/1999\",\"2008/1999\",\"2009/1999\",\"2010/1999\",\"2006/2000\",\"2007/2000\",\"2008/2000\",\"2009/2000\",\"2010/2000\",\"2006/2001\",\"2007/2001\",\"2008/2001\",\"2009/2001\",\"2010/2001\",\"2006/2002\",\"2007/2002\",\"2008/2002\",\"2009/2002\",\"2010/2002\",\"2006/2003\",\"2007/2003\",\"2008/2003\",\"2009/2003\",\"2010/2003\",\"2006/2004\",\"2007/2004\",\"2008/2004\",\"2009/2004\",\"2010/2004\",\"2006/2005\",\"2007/2005\",\"2008/2005\",\"2009/2005\",\"2010/2005\",\"2006/2006\",\"2007/2006\",\"2008/2006\",\"2009/2006\",\"2010/2006\",\"2007/2007\",\"2008/2007\",\"2009/2007\",\"2010/2007\",\"2008/2008\",\"2009/2008\",\"2010/2008\",\"2009/2009\",\"2010/2009\",\"2010/2010\",\"2006\",\"2007\",\"2008\",\"2009\",\"2010\"],\"labels\":[\"1872\",\"1875\",\"1880\",\"1880\",\"1880\",\"1880\",\"1882\",\"1885\",\"1885\",\"1890\",\"1890\",\"1892\",\"1892\",\"1893\",\"1898\",\"1900\",\"1900\",\"1900\",\"1900\",\"1900\",\"1904\",\"1905\",\"1906\",\"1908\",\"1908\",\"1910\",\"1910\",\"1910\",\"1910\",\"1910\",\"1911\",\"1912\",\"1912\",\"1912\",\"1913\",\"1914\",\"1914\",\"1914\",\"1914\",\"1915\",\"1915\",\"1915\",\"1915\",\"1915\",\"1916\",\"1916\",\"1916\",\"1916\",\"1917\",\"1918\",\"1918\",\"1918\",\"1919\",\"1919\",\"1920\",\"1920\",\"1920\",\"1920\",\"1920\",\"1921\",\"1921\",\"1921\",\"1921\",\"1922\",\"1922\",\"1922\",\"1922\",\"1923\",\"1923\",\"1923\",\"1923\",\"1924\",\"1924\",\"1924\",\"1924\",\"1925\",\"1925\",\"1925\",\"1925\",\"1926\",\"1926\",\"1926\",\"1926\",\"1927\",\"1927\",\"1927\",\"1928\",\"1928\",\"1928\",\"1928\",\"1929\",\"1929\",\"1929\",\"1929\",\"1930\",\"1930\",\"1930\",\"1930\",\"1931\",\"1931\",\"1931\",\"1932\",\"1932\",\"1932\",\"1934\",\"1934\",\"1934\",\"1935\",\"1935\",\"1935\",\"1936\",\"1936\",\"1936\",\"1937\",\"1937\",\"1937\",\"1938\",\"1938\",\"1938\",\"1939\",\"1939\",\"1939\",\"1939\",\"1940\",\"1940\",\"1940\",\"1940\",\"1940\",\"1941\",\"1941\",\"1941\",\"1941\",\"1941\",\"1942\",\"1942\",\"1945\",\"1945\",\"1945\",\"1945\",\"1946\",\"1946\",\"1946\",\"1946\",\"1946\",\"1947\",\"1947\",\"1947\",\"1948\",\"1948\",\"1948\",\"1948\",\"1948\",\"1949\",\"1949\",\"1949\",\"1949\",\"1950\",\"1950\",\"1950\",\"1950\",\"1950\",\"1951\",\"1951\",\"1951\",\"1951\",\"1952\",\"1952\",\"1952\",\"1953\",\"1953\",\"1953\",\"1953\",\"1953\",\"1954\",\"1954\",\"1954\",\"1954\",\"1954\",\"1955\",\"1955\",\"1955\",\"1955\",\"1955\",\"1956\",\"1956\",\"1956\",\"1956\",\"1956\",\"1957\",\"1957\",\"1957\",\"1957\",\"1957\",\"1958\",\"1958\",\"1958\",\"1958\",\"1958\",\"1959\",\"1959\",\"1959\",\"1959\",\"1959\",\"1960\",\"1960\",\"1960\",\"1960\",\"1960\",\"1961\",\"1961\",\"1961\",\"1961\",\"1961\",\"1962\",\"1962\",\"1962\",\"1962\",\"1962\",\"1963\",\"1963\",\"1963\",\"1963\",\"1963\",\"1964\",\"1964\",\"1964\",\"1964\",\"1964\",\"1965\",\"1965\",\"1965\",\"1965\",\"1965\",\"1966\",\"1966\",\"1966\",\"1966\",\"1966\",\"1967\",\"1967\",\"1967\",\"1967\",\"1967\",\"1968\",\"1968\",\"1968\",\"1968\",\"1968\",\"1969\",\"1969\",\"1969\",\"1969\",\"1969\",\"1970\",\"1970\",\"1970\",\"1970\",\"1970\",\"1971\",\"1971\",\"1971\",\"1971\",\"1971\",\"1972\",\"1972\",\"1972\",\"1972\",\"1972\",\"1973\",\"1973\",\"1973\",\"1973\",\"1973\",\"1974\",\"1974\",\"1974\",\"1974\",\"1974\",\"1975\",\"1975\",\"1975\",\"1976\",\"1976\",\"1976\",\"1976\",\"1976\",\"1977\",\"1977\",\"1977\",\"1977\",\"1977\",\"1978\",\"1978\",\"1978\",\"1978\",\"1978\",\"1979\",\"1979\",\"1979\",\"1979\",\"1980\",\"1980\",\"1980\",\"1980\",\"1980\",\"1981\",\"1981\",\"1981\",\"1981\",\"1982\",\"1982\",\"1982\",\"1983\",\"1983\",\"1983\",\"1984\",\"1984\",\"1984\",\"1984\",\"1984\",\"1985\",\"1985\",\"1985\",\"1986\",\"1986\",\"1986\",\"1987\",\"1987\",\"1988\",\"1988\",\"1988\",\"1988\",\"1988\",\"1989\",\"1989\",\"1989\",\"1990\",\"1990\",\"1990\",\"1990\",\"1990\",\"1991\",\"1991\",\"1991\",\"1992\",\"1992\",\"1992\",\"1992\",\"1993\",\"1993\",\"1993\",\"1993\",\"1994\",\"1994\",\"1994\",\"1994\",\"1994\",\"1995\",\"1995\",\"1995\",\"1995\",\"1995\",\"1996\",\"1996\",\"1996\",\"1996\",\"1996\",\"1997\",\"1997\",\"1997\",\"1997\",\"1998\",\"1998\",\"1998\",\"1998\",\"1998\",\"1999\",\"1999\",\"1999\",\"1999\",\"1999\",\"2000\",\"2000\",\"2000\",\"2000\",\"2000\",\"2001\",\"2001\",\"2001\",\"2001\",\"2001\",\"2002\",\"2002\",\"2002\",\"2002\",\"2002\",\"2003\",\"2003\",\"2003\",\"2003\",\"2003\",\"2004\",\"2004\",\"2004\",\"2004\",\"2004\",\"2005\",\"2005\",\"2005\",\"2005\",\"2005\",\"2006\",\"2006\",\"2006\",\"2006\",\"2006\",\"2007\",\"2007\",\"2007\",\"2007\",\"2008\",\"2008\",\"2008\",\"2009\",\"2009\",\"2010\",\"2006\",\"2007\",\"2008\",\"2009\",\"2010\"],\"name\":\"\",\"parents\":[\"2008\",\"2010\",\"2006\",\"2007\",\"2008\",\"2009\",\"2009\",\"2007\",\"2010\",\"2007\",\"2009\",\"2006\",\"2009\",\"2008\",\"2009\",\"2006\",\"2007\",\"2008\",\"2009\",\"2010\",\"2008\",\"2008\",\"2008\",\"2006\",\"2008\",\"2006\",\"2007\",\"2008\",\"2009\",\"2010\",\"2008\",\"2006\",\"2008\",\"2009\",\"2007\",\"2006\",\"2007\",\"2008\",\"2010\",\"2006\",\"2007\",\"2008\",\"2009\",\"2010\",\"2006\",\"2007\",\"2008\",\"2009\",\"2008\",\"2006\",\"2007\",\"2008\",\"2007\",\"2010\",\"2006\",\"2007\",\"2008\",\"2009\",\"2010\",\"2006\",\"2008\",\"2009\",\"2010\",\"2006\",\"2008\",\"2009\",\"2010\",\"2006\",\"2007\",\"2008\",\"2009\",\"2006\",\"2008\",\"2009\",\"2010\",\"2006\",\"2007\",\"2008\",\"2009\",\"2006\",\"2007\",\"2008\",\"2009\",\"2007\",\"2008\",\"2010\",\"2006\",\"2008\",\"2009\",\"2010\",\"2006\",\"2007\",\"2008\",\"2010\",\"2006\",\"2007\",\"2008\",\"2010\",\"2007\",\"2008\",\"2009\",\"2006\",\"2007\",\"2009\",\"2006\",\"2007\",\"2008\",\"2006\",\"2008\",\"2009\",\"2006\",\"2008\",\"2009\",\"2006\",\"2007\",\"2009\",\"2006\",\"2007\",\"2009\",\"2006\",\"2007\",\"2008\",\"2009\",\"2006\",\"2007\",\"2008\",\"2009\",\"2010\",\"2006\",\"2007\",\"2008\",\"2009\",\"2010\",\"2007\",\"2009\",\"2007\",\"2008\",\"2009\",\"2010\",\"2006\",\"2007\",\"2008\",\"2009\",\"2010\",\"2006\",\"2008\",\"2009\",\"2006\",\"2007\",\"2008\",\"2009\",\"2010\",\"2006\",\"2007\",\"2008\",\"2009\",\"2006\",\"2007\",\"2008\",\"2009\",\"2010\",\"2006\",\"2008\",\"2009\",\"2010\",\"2006\",\"2009\",\"2010\",\"2006\",\"2007\",\"2008\",\"2009\",\"2010\",\"2006\",\"2007\",\"2008\",\"2009\",\"2010\",\"2006\",\"2007\",\"2008\",\"2009\",\"2010\",\"2006\",\"2007\",\"2008\",\"2009\",\"2010\",\"2006\",\"2007\",\"2008\",\"2009\",\"2010\",\"2006\",\"2007\",\"2008\",\"2009\",\"2010\",\"2006\",\"2007\",\"2008\",\"2009\",\"2010\",\"2006\",\"2007\",\"2008\",\"2009\",\"2010\",\"2006\",\"2007\",\"2008\",\"2009\",\"2010\",\"2006\",\"2007\",\"2008\",\"2009\",\"2010\",\"2006\",\"2007\",\"2008\",\"2009\",\"2010\",\"2006\",\"2007\",\"2008\",\"2009\",\"2010\",\"2006\",\"2007\",\"2008\",\"2009\",\"2010\",\"2006\",\"2007\",\"2008\",\"2009\",\"2010\",\"2006\",\"2007\",\"2008\",\"2009\",\"2010\",\"2006\",\"2007\",\"2008\",\"2009\",\"2010\",\"2006\",\"2007\",\"2008\",\"2009\",\"2010\",\"2006\",\"2007\",\"2008\",\"2009\",\"2010\",\"2006\",\"2007\",\"2008\",\"2009\",\"2010\",\"2006\",\"2007\",\"2008\",\"2009\",\"2010\",\"2006\",\"2007\",\"2008\",\"2009\",\"2010\",\"2006\",\"2007\",\"2008\",\"2009\",\"2010\",\"2006\",\"2007\",\"2008\",\"2006\",\"2007\",\"2008\",\"2009\",\"2010\",\"2006\",\"2007\",\"2008\",\"2009\",\"2010\",\"2006\",\"2007\",\"2008\",\"2009\",\"2010\",\"2006\",\"2007\",\"2009\",\"2010\",\"2006\",\"2007\",\"2008\",\"2009\",\"2010\",\"2006\",\"2007\",\"2008\",\"2009\",\"2007\",\"2008\",\"2009\",\"2006\",\"2007\",\"2009\",\"2006\",\"2007\",\"2008\",\"2009\",\"2010\",\"2006\",\"2009\",\"2010\",\"2006\",\"2007\",\"2008\",\"2006\",\"2009\",\"2006\",\"2007\",\"2008\",\"2009\",\"2010\",\"2006\",\"2007\",\"2009\",\"2006\",\"2007\",\"2008\",\"2009\",\"2010\",\"2006\",\"2007\",\"2008\",\"2006\",\"2007\",\"2009\",\"2010\",\"2006\",\"2008\",\"2009\",\"2010\",\"2006\",\"2007\",\"2008\",\"2009\",\"2010\",\"2006\",\"2007\",\"2008\",\"2009\",\"2010\",\"2006\",\"2007\",\"2008\",\"2009\",\"2010\",\"2006\",\"2007\",\"2008\",\"2009\",\"2006\",\"2007\",\"2008\",\"2009\",\"2010\",\"2006\",\"2007\",\"2008\",\"2009\",\"2010\",\"2006\",\"2007\",\"2008\",\"2009\",\"2010\",\"2006\",\"2007\",\"2008\",\"2009\",\"2010\",\"2006\",\"2007\",\"2008\",\"2009\",\"2010\",\"2006\",\"2007\",\"2008\",\"2009\",\"2010\",\"2006\",\"2007\",\"2008\",\"2009\",\"2010\",\"2006\",\"2007\",\"2008\",\"2009\",\"2010\",\"2006\",\"2007\",\"2008\",\"2009\",\"2010\",\"2007\",\"2008\",\"2009\",\"2010\",\"2008\",\"2009\",\"2010\",\"2009\",\"2010\",\"2010\",\"\",\"\",\"\",\"\",\"\"],\"values\":[122000.0,94000.0,124000.0,117500.0,295000.0,265979.0,168000.0,100000.0,122500.0,159500.0,124900.0,340037.5,107500.0,325000.0,106000.0,326000.0,90000.0,371150.0,95000.0,242776.0,157500.0,163000.0,135000.0,127000.0,240000.0,449504.0,638900.0,192500.0,400400.0,222000.0,130000.0,118500.0,135900.0,104000.0,90350.0,301887.0,327000.0,195000.0,58500.0,245000.0,153575.0,330900.0,240000.0,374400.0,304000.0,245900.0,98000.0,470500.0,129500.0,351000.0,540950.0,315000.0,295500.0,169000.0,701100.0,848400.0,593400.0,1092800.0,151400.0,197480.0,189000.0,318400.0,140000.0,341500.0,246000.0,160900.0,125500.0,210500.0,475000.0,207000.0,223500.0,216900.0,188500.0,209500.0,127000.0,483500.0,125000.0,792500.0,666050.0,181900.0,350500.0,116900.0,468000.0,64500.0,68500.0,115000.0,149000.0,161000.0,533000.0,105900.0,230000.0,132000.0,120000.0,130000.0,110000.0,313400.0,453900.0,55000.0,376000.0,278900.0,105000.0,239000.0,535000.0,159434.0,114500.0,340037.5,188700.0,84500.0,708037.5,133000.0,641500.0,115000.0,484500.0,119500.0,405471.0,134900.0,125500.0,119750.0,191300.0,260100.0,100000.0,609000.0,237500.0,140000.0,454500.0,769000.0,572500.0,439900.0,285500.0,615500.0,95000.0,471000.0,346500.0,146500.0,177500.0,370000.0,140000.0,98000.0,193000.0,121600.0,384800.0,130500.0,135000.0,84900.0,239500.0,118500.0,228000.0,485500.0,529700.0,524000.0,132000.0,257500.0,257811.0,545900.0,72500.0,462000.0,312900.0,767000.0,342300.0,868400.0,270125.0,239900.0,139000.0,164900.0,275800.0,123500.0,206500.0,221993.0,382000.0,351500.0,381000.0,532500.0,109000.0,741900.0,479400.0,1479400.0,246000.0,404900.0,556175.0,130000.0,761000.0,444600.0,260500.0,398000.0,370200.0,371750.0,503400.0,258000.0,767850.0,728124.0,387508.0,555000.0,560700.0,722400.0,1241400.0,615500.0,740500.0,116500.0,992100.0,427250.0,678932.0,384500.0,1524450.0,145250.0,734800.0,1057000.0,272500.0,536800.0,370100.0,685000.0,623350.0,131400.0,148000.0,426000.0,679700.0,794000.0,424500.0,444900.0,427500.0,451450.0,419000.0,473000.0,523500.0,465000.0,629000.0,661900.0,492000.0,180500.0,707900.0,519750.0,1317250.0,724920.5,370000.0,1087420.0,568500.0,717150.0,154000.0,345000.0,348500.0,411500.0,130000.0,898400.0,489000.0,1338900.0,412000.0,310000.0,916250.0,676500.0,810300.0,287000.0,638859.0,356000.0,158000.0,337050.0,993500.0,517500.0,1054500.0,329000.0,369500.0,1354750.0,319900.0,209000.0,646900.0,656050.0,296500.0,581650.0,1420937.5,273000.0,234400.0,532500.0,392000.0,291000.0,83500.0,493500.0,294000.0,425000.0,448000.0,170000.0,740900.0,293000.0,240250.0,824300.0,1958005.0,1086800.0,916750.0,620600.0,1190500.0,817500.0,1271400.0,1375900.0,684250.0,399500.0,498000.0,147000.0,904000.0,626900.0,135960.0,197000.0,715112.0,359500.0,207500.0,140000.0,151000.0,691500.0,458000.0,568037.5,182900.0,175500.0,278000.0,254000.0,268500.0,271900.0,131000.0,278000.0,316600.0,345000.0,385500.0,282000.0,187500.0,277000.0,455000.0,112000.0,390000.0,190000.0,471000.0,399000.0,415000.0,179000.0,641500.0,488000.0,364000.0,397000.0,360500.0,335000.0,228500.0,275000.0,430000.0,1012900.0,262280.0,625400.0,320000.0,260000.0,491500.0,179200.0,663900.0,1208137.5,351000.0,526000.0,690600.0,1605937.5,979000.0,430500.0,552000.0,790637.5,1315500.0,1045037.5,530000.0,953537.5,1341500.0,672037.5,748037.5,576537.5,148000.0,1129577.5,593500.0,1023000.0,588400.0,964037.5,789750.0,796200.0,451000.0,1506200.0,826000.0,1098500.0,1434150.0,646400.0,627900.0,525000.0,1282300.0,1863000.0,967168.0,975900.0,1374500.0,671500.0,1463000.0,573500.0,480000.0,566037.5,1028000.0,1944100.0,708000.0,1373200.0,975500.0,1428900.0,806100.0,634300.0,1680825.0,1801500.0,3087837.5,1967123.5,1325537.5,2756477.0,2595837.5,2507700.0,1888437.5,1586400.0,7647594.5,1632350.5,2137700.0,2273200.0,539900.0,5747332.0,7415550.5,571400.0,2288037.5,206000.0,5653497.0,3471392.5,2822700.0,306000.0,2011962.0,3975701.0,847887.5,2429847.0,1995675.0,340037.5,56114115.5,59657138.0,53389533.5,59386904.5,30356337.0],\"type\":\"treemap\"}],                        {\"template\":{\"data\":{\"histogram2dcontour\":[{\"type\":\"histogram2dcontour\",\"colorbar\":{\"outlinewidth\":0,\"ticks\":\"\"},\"colorscale\":[[0.0,\"#0d0887\"],[0.1111111111111111,\"#46039f\"],[0.2222222222222222,\"#7201a8\"],[0.3333333333333333,\"#9c179e\"],[0.4444444444444444,\"#bd3786\"],[0.5555555555555556,\"#d8576b\"],[0.6666666666666666,\"#ed7953\"],[0.7777777777777778,\"#fb9f3a\"],[0.8888888888888888,\"#fdca26\"],[1.0,\"#f0f921\"]]}],\"choropleth\":[{\"type\":\"choropleth\",\"colorbar\":{\"outlinewidth\":0,\"ticks\":\"\"}}],\"histogram2d\":[{\"type\":\"histogram2d\",\"colorbar\":{\"outlinewidth\":0,\"ticks\":\"\"},\"colorscale\":[[0.0,\"#0d0887\"],[0.1111111111111111,\"#46039f\"],[0.2222222222222222,\"#7201a8\"],[0.3333333333333333,\"#9c179e\"],[0.4444444444444444,\"#bd3786\"],[0.5555555555555556,\"#d8576b\"],[0.6666666666666666,\"#ed7953\"],[0.7777777777777778,\"#fb9f3a\"],[0.8888888888888888,\"#fdca26\"],[1.0,\"#f0f921\"]]}],\"heatmap\":[{\"type\":\"heatmap\",\"colorbar\":{\"outlinewidth\":0,\"ticks\":\"\"},\"colorscale\":[[0.0,\"#0d0887\"],[0.1111111111111111,\"#46039f\"],[0.2222222222222222,\"#7201a8\"],[0.3333333333333333,\"#9c179e\"],[0.4444444444444444,\"#bd3786\"],[0.5555555555555556,\"#d8576b\"],[0.6666666666666666,\"#ed7953\"],[0.7777777777777778,\"#fb9f3a\"],[0.8888888888888888,\"#fdca26\"],[1.0,\"#f0f921\"]]}],\"heatmapgl\":[{\"type\":\"heatmapgl\",\"colorbar\":{\"outlinewidth\":0,\"ticks\":\"\"},\"colorscale\":[[0.0,\"#0d0887\"],[0.1111111111111111,\"#46039f\"],[0.2222222222222222,\"#7201a8\"],[0.3333333333333333,\"#9c179e\"],[0.4444444444444444,\"#bd3786\"],[0.5555555555555556,\"#d8576b\"],[0.6666666666666666,\"#ed7953\"],[0.7777777777777778,\"#fb9f3a\"],[0.8888888888888888,\"#fdca26\"],[1.0,\"#f0f921\"]]}],\"contourcarpet\":[{\"type\":\"contourcarpet\",\"colorbar\":{\"outlinewidth\":0,\"ticks\":\"\"}}],\"contour\":[{\"type\":\"contour\",\"colorbar\":{\"outlinewidth\":0,\"ticks\":\"\"},\"colorscale\":[[0.0,\"#0d0887\"],[0.1111111111111111,\"#46039f\"],[0.2222222222222222,\"#7201a8\"],[0.3333333333333333,\"#9c179e\"],[0.4444444444444444,\"#bd3786\"],[0.5555555555555556,\"#d8576b\"],[0.6666666666666666,\"#ed7953\"],[0.7777777777777778,\"#fb9f3a\"],[0.8888888888888888,\"#fdca26\"],[1.0,\"#f0f921\"]]}],\"surface\":[{\"type\":\"surface\",\"colorbar\":{\"outlinewidth\":0,\"ticks\":\"\"},\"colorscale\":[[0.0,\"#0d0887\"],[0.1111111111111111,\"#46039f\"],[0.2222222222222222,\"#7201a8\"],[0.3333333333333333,\"#9c179e\"],[0.4444444444444444,\"#bd3786\"],[0.5555555555555556,\"#d8576b\"],[0.6666666666666666,\"#ed7953\"],[0.7777777777777778,\"#fb9f3a\"],[0.8888888888888888,\"#fdca26\"],[1.0,\"#f0f921\"]]}],\"mesh3d\":[{\"type\":\"mesh3d\",\"colorbar\":{\"outlinewidth\":0,\"ticks\":\"\"}}],\"scatter\":[{\"fillpattern\":{\"fillmode\":\"overlay\",\"size\":10,\"solidity\":0.2},\"type\":\"scatter\"}],\"parcoords\":[{\"type\":\"parcoords\",\"line\":{\"colorbar\":{\"outlinewidth\":0,\"ticks\":\"\"}}}],\"scatterpolargl\":[{\"type\":\"scatterpolargl\",\"marker\":{\"colorbar\":{\"outlinewidth\":0,\"ticks\":\"\"}}}],\"bar\":[{\"error_x\":{\"color\":\"#2a3f5f\"},\"error_y\":{\"color\":\"#2a3f5f\"},\"marker\":{\"line\":{\"color\":\"#E5ECF6\",\"width\":0.5},\"pattern\":{\"fillmode\":\"overlay\",\"size\":10,\"solidity\":0.2}},\"type\":\"bar\"}],\"scattergeo\":[{\"type\":\"scattergeo\",\"marker\":{\"colorbar\":{\"outlinewidth\":0,\"ticks\":\"\"}}}],\"scatterpolar\":[{\"type\":\"scatterpolar\",\"marker\":{\"colorbar\":{\"outlinewidth\":0,\"ticks\":\"\"}}}],\"histogram\":[{\"marker\":{\"pattern\":{\"fillmode\":\"overlay\",\"size\":10,\"solidity\":0.2}},\"type\":\"histogram\"}],\"scattergl\":[{\"type\":\"scattergl\",\"marker\":{\"colorbar\":{\"outlinewidth\":0,\"ticks\":\"\"}}}],\"scatter3d\":[{\"type\":\"scatter3d\",\"line\":{\"colorbar\":{\"outlinewidth\":0,\"ticks\":\"\"}},\"marker\":{\"colorbar\":{\"outlinewidth\":0,\"ticks\":\"\"}}}],\"scattermapbox\":[{\"type\":\"scattermapbox\",\"marker\":{\"colorbar\":{\"outlinewidth\":0,\"ticks\":\"\"}}}],\"scatterternary\":[{\"type\":\"scatterternary\",\"marker\":{\"colorbar\":{\"outlinewidth\":0,\"ticks\":\"\"}}}],\"scattercarpet\":[{\"type\":\"scattercarpet\",\"marker\":{\"colorbar\":{\"outlinewidth\":0,\"ticks\":\"\"}}}],\"carpet\":[{\"aaxis\":{\"endlinecolor\":\"#2a3f5f\",\"gridcolor\":\"white\",\"linecolor\":\"white\",\"minorgridcolor\":\"white\",\"startlinecolor\":\"#2a3f5f\"},\"baxis\":{\"endlinecolor\":\"#2a3f5f\",\"gridcolor\":\"white\",\"linecolor\":\"white\",\"minorgridcolor\":\"white\",\"startlinecolor\":\"#2a3f5f\"},\"type\":\"carpet\"}],\"table\":[{\"cells\":{\"fill\":{\"color\":\"#EBF0F8\"},\"line\":{\"color\":\"white\"}},\"header\":{\"fill\":{\"color\":\"#C8D4E3\"},\"line\":{\"color\":\"white\"}},\"type\":\"table\"}],\"barpolar\":[{\"marker\":{\"line\":{\"color\":\"#E5ECF6\",\"width\":0.5},\"pattern\":{\"fillmode\":\"overlay\",\"size\":10,\"solidity\":0.2}},\"type\":\"barpolar\"}],\"pie\":[{\"automargin\":true,\"type\":\"pie\"}]},\"layout\":{\"autotypenumbers\":\"strict\",\"colorway\":[\"#636efa\",\"#EF553B\",\"#00cc96\",\"#ab63fa\",\"#FFA15A\",\"#19d3f3\",\"#FF6692\",\"#B6E880\",\"#FF97FF\",\"#FECB52\"],\"font\":{\"color\":\"#2a3f5f\"},\"hovermode\":\"closest\",\"hoverlabel\":{\"align\":\"left\"},\"paper_bgcolor\":\"white\",\"plot_bgcolor\":\"#E5ECF6\",\"polar\":{\"bgcolor\":\"#E5ECF6\",\"angularaxis\":{\"gridcolor\":\"white\",\"linecolor\":\"white\",\"ticks\":\"\"},\"radialaxis\":{\"gridcolor\":\"white\",\"linecolor\":\"white\",\"ticks\":\"\"}},\"ternary\":{\"bgcolor\":\"#E5ECF6\",\"aaxis\":{\"gridcolor\":\"white\",\"linecolor\":\"white\",\"ticks\":\"\"},\"baxis\":{\"gridcolor\":\"white\",\"linecolor\":\"white\",\"ticks\":\"\"},\"caxis\":{\"gridcolor\":\"white\",\"linecolor\":\"white\",\"ticks\":\"\"}},\"coloraxis\":{\"colorbar\":{\"outlinewidth\":0,\"ticks\":\"\"}},\"colorscale\":{\"sequential\":[[0.0,\"#0d0887\"],[0.1111111111111111,\"#46039f\"],[0.2222222222222222,\"#7201a8\"],[0.3333333333333333,\"#9c179e\"],[0.4444444444444444,\"#bd3786\"],[0.5555555555555556,\"#d8576b\"],[0.6666666666666666,\"#ed7953\"],[0.7777777777777778,\"#fb9f3a\"],[0.8888888888888888,\"#fdca26\"],[1.0,\"#f0f921\"]],\"sequentialminus\":[[0.0,\"#0d0887\"],[0.1111111111111111,\"#46039f\"],[0.2222222222222222,\"#7201a8\"],[0.3333333333333333,\"#9c179e\"],[0.4444444444444444,\"#bd3786\"],[0.5555555555555556,\"#d8576b\"],[0.6666666666666666,\"#ed7953\"],[0.7777777777777778,\"#fb9f3a\"],[0.8888888888888888,\"#fdca26\"],[1.0,\"#f0f921\"]],\"diverging\":[[0,\"#8e0152\"],[0.1,\"#c51b7d\"],[0.2,\"#de77ae\"],[0.3,\"#f1b6da\"],[0.4,\"#fde0ef\"],[0.5,\"#f7f7f7\"],[0.6,\"#e6f5d0\"],[0.7,\"#b8e186\"],[0.8,\"#7fbc41\"],[0.9,\"#4d9221\"],[1,\"#276419\"]]},\"xaxis\":{\"gridcolor\":\"white\",\"linecolor\":\"white\",\"ticks\":\"\",\"title\":{\"standoff\":15},\"zerolinecolor\":\"white\",\"automargin\":true,\"zerolinewidth\":2},\"yaxis\":{\"gridcolor\":\"white\",\"linecolor\":\"white\",\"ticks\":\"\",\"title\":{\"standoff\":15},\"zerolinecolor\":\"white\",\"automargin\":true,\"zerolinewidth\":2},\"scene\":{\"xaxis\":{\"backgroundcolor\":\"#E5ECF6\",\"gridcolor\":\"white\",\"linecolor\":\"white\",\"showbackground\":true,\"ticks\":\"\",\"zerolinecolor\":\"white\",\"gridwidth\":2},\"yaxis\":{\"backgroundcolor\":\"#E5ECF6\",\"gridcolor\":\"white\",\"linecolor\":\"white\",\"showbackground\":true,\"ticks\":\"\",\"zerolinecolor\":\"white\",\"gridwidth\":2},\"zaxis\":{\"backgroundcolor\":\"#E5ECF6\",\"gridcolor\":\"white\",\"linecolor\":\"white\",\"showbackground\":true,\"ticks\":\"\",\"zerolinecolor\":\"white\",\"gridwidth\":2}},\"shapedefaults\":{\"line\":{\"color\":\"#2a3f5f\"}},\"annotationdefaults\":{\"arrowcolor\":\"#2a3f5f\",\"arrowhead\":0,\"arrowwidth\":1},\"geo\":{\"bgcolor\":\"white\",\"landcolor\":\"#E5ECF6\",\"subunitcolor\":\"white\",\"showland\":true,\"showlakes\":true,\"lakecolor\":\"white\"},\"title\":{\"x\":0.05},\"mapbox\":{\"style\":\"light\"}}},\"legend\":{\"tracegroupgap\":0},\"margin\":{\"t\":60}},                        {\"responsive\": true}                    ).then(function(){\n",
       "                            \n",
       "var gd = document.getElementById('e8e51aa0-446d-4a45-a1fe-d5aec99df0c2');\n",
       "var x = new MutationObserver(function (mutations, observer) {{\n",
       "        var display = window.getComputedStyle(gd).display;\n",
       "        if (!display || display === 'none') {{\n",
       "            console.log([gd, 'removed!']);\n",
       "            Plotly.purge(gd);\n",
       "            observer.disconnect();\n",
       "        }}\n",
       "}});\n",
       "\n",
       "// Listen for the removal of the full notebook cells\n",
       "var notebookContainer = gd.closest('#notebook-container');\n",
       "if (notebookContainer) {{\n",
       "    x.observe(notebookContainer, {childList: true});\n",
       "}}\n",
       "\n",
       "// Listen for the clearing of the current output cell\n",
       "var outputEl = gd.closest('.output');\n",
       "if (outputEl) {{\n",
       "    x.observe(outputEl, {childList: true});\n",
       "}}\n",
       "\n",
       "                        })                };                });            </script>        </div>"
      ]
     },
     "metadata": {},
     "output_type": "display_data"
    }
   ],
   "source": [
    "\n",
    "fig = px.treemap(train, path=[\"YrSold\", \"YearBuilt\"], values=\"SalePrice\")\n",
    "fig.show()"
   ]
  },
  {
   "cell_type": "code",
   "execution_count": null,
   "id": "5e73fc26-f38a-4f03-9c47-488aa923d318",
   "metadata": {},
   "outputs": [],
   "source": []
  },
  {
   "cell_type": "code",
   "execution_count": null,
   "id": "966a1a5b-11c8-4b8f-a6b7-342abc617de8",
   "metadata": {},
   "outputs": [],
   "source": []
  }
 ],
 "metadata": {
  "kernelspec": {
   "display_name": "base",
   "language": "python",
   "name": "python3"
  },
  "language_info": {
   "codemirror_mode": {
    "name": "ipython",
    "version": 3
   },
   "file_extension": ".py",
   "mimetype": "text/x-python",
   "name": "python",
   "nbconvert_exporter": "python",
   "pygments_lexer": "ipython3",
   "version": "3.11.7"
  }
 },
 "nbformat": 4,
 "nbformat_minor": 5
}
